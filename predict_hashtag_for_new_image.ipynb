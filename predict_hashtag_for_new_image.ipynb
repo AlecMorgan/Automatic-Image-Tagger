{
 "cells": [
  {
   "cell_type": "code",
   "execution_count": 1,
   "metadata": {},
   "outputs": [],
   "source": [
    "#!pip install 'numpy<1.17'"
   ]
  },
  {
   "cell_type": "code",
   "execution_count": 2,
   "metadata": {},
   "outputs": [],
   "source": [
    "%load_ext autoreload\n",
    "%autoreload 2"
   ]
  },
  {
   "cell_type": "code",
   "execution_count": 3,
   "metadata": {},
   "outputs": [],
   "source": [
    "import numpy as np\n",
    "import pandas as pd\n",
    "import matplotlib.pyplot as plt\n",
    "from random import shuffle\n",
    "%matplotlib inline\n",
    "import tensorflow as tf\n",
    "from tensorflow.keras.applications import MobileNetV2\n",
    "import os\n",
    "from functools import reduce\n",
    "from functions import fetch_image_from_s3_to_array, prepare_image\n",
    "from pyspark.ml.recommendation import ALSModel\n",
    "from scipy.spatial.distance import cdist, cosine"
   ]
  },
  {
   "cell_type": "code",
   "execution_count": 4,
   "metadata": {},
   "outputs": [],
   "source": [
    "img_size = 160 # All images will be resized to 160x160\n",
    "img_shape = (160, 160, 3)\n",
    "\n",
    "# Create the base model from the pre-trained model MobileNet V2\n",
    "base_model = MobileNetV2(input_shape=img_shape, include_top=False, weights='imagenet')\n",
    "\n",
    "global_average_layer = tf.keras.layers.GlobalAveragePooling2D()\n",
    "\n",
    "neural_network = tf.keras.Sequential([\n",
    "  base_model,\n",
    "  global_average_layer,\n",
    "])"
   ]
  },
  {
   "cell_type": "code",
   "execution_count": 6,
   "metadata": {},
   "outputs": [],
   "source": [
    "# Initialize Pyspark\n",
    "import pyspark\n",
    "spark = (pyspark.sql\n",
    "                .SparkSession\n",
    "                .builder\n",
    "                .master(\"local[*]\")\n",
    "                .getOrCreate())"
   ]
  },
  {
   "cell_type": "code",
   "execution_count": null,
   "metadata": {},
   "outputs": [],
   "source": [
    "#Load ALS model\n",
    "als_model = ALSModel.load('als')"
   ]
  },
  {
   "cell_type": "code",
   "execution_count": 8,
   "metadata": {},
   "outputs": [],
   "source": [
    "img_features = als_model.userFactors.toPandas()\n",
    "hashtag_features = als_model.itemFactors.toPandas()"
   ]
  },
  {
   "cell_type": "code",
   "execution_count": 9,
   "metadata": {},
   "outputs": [
    {
     "data": {
      "text/html": [
       "<div>\n",
       "<style scoped>\n",
       "    .dataframe tbody tr th:only-of-type {\n",
       "        vertical-align: middle;\n",
       "    }\n",
       "\n",
       "    .dataframe tbody tr th {\n",
       "        vertical-align: top;\n",
       "    }\n",
       "\n",
       "    .dataframe thead th {\n",
       "        text-align: right;\n",
       "    }\n",
       "</style>\n",
       "<table border=\"1\" class=\"dataframe\">\n",
       "  <thead>\n",
       "    <tr style=\"text-align: right;\">\n",
       "      <th></th>\n",
       "      <th>id</th>\n",
       "      <th>features</th>\n",
       "    </tr>\n",
       "  </thead>\n",
       "  <tbody>\n",
       "    <tr>\n",
       "      <th>0</th>\n",
       "      <td>5</td>\n",
       "      <td>[-0.4633004665374756, 0.2045188844203949, 0.04...</td>\n",
       "    </tr>\n",
       "    <tr>\n",
       "      <th>1</th>\n",
       "      <td>15</td>\n",
       "      <td>[-0.26573067903518677, -0.2782086730003357, 0....</td>\n",
       "    </tr>\n",
       "    <tr>\n",
       "      <th>2</th>\n",
       "      <td>25</td>\n",
       "      <td>[-0.12432768940925598, 0.043011318892240524, 0...</td>\n",
       "    </tr>\n",
       "    <tr>\n",
       "      <th>3</th>\n",
       "      <td>35</td>\n",
       "      <td>[0.09362601488828659, -0.31278151273727417, 0....</td>\n",
       "    </tr>\n",
       "    <tr>\n",
       "      <th>4</th>\n",
       "      <td>45</td>\n",
       "      <td>[-0.6471619606018066, 0.31757891178131104, 0.3...</td>\n",
       "    </tr>\n",
       "  </tbody>\n",
       "</table>\n",
       "</div>"
      ],
      "text/plain": [
       "   id                                           features\n",
       "0   5  [-0.4633004665374756, 0.2045188844203949, 0.04...\n",
       "1  15  [-0.26573067903518677, -0.2782086730003357, 0....\n",
       "2  25  [-0.12432768940925598, 0.043011318892240524, 0...\n",
       "3  35  [0.09362601488828659, -0.31278151273727417, 0....\n",
       "4  45  [-0.6471619606018066, 0.31757891178131104, 0.3..."
      ]
     },
     "execution_count": 9,
     "metadata": {},
     "output_type": "execute_result"
    }
   ],
   "source": [
    "img_features.head()"
   ]
  },
  {
   "cell_type": "code",
   "execution_count": null,
   "metadata": {},
   "outputs": [],
   "source": [
    "#Load deep features\n",
    "deep_features = pd.read_pickle(\"pkl_files/df_deep_features.pkl\")\n",
    "deep_features.index = deep_features['name']"
   ]
  },
  {
   "cell_type": "code",
   "execution_count": 13,
   "metadata": {},
   "outputs": [
    {
     "data": {
      "text/html": [
       "<div>\n",
       "<style scoped>\n",
       "    .dataframe tbody tr th:only-of-type {\n",
       "        vertical-align: middle;\n",
       "    }\n",
       "\n",
       "    .dataframe tbody tr th {\n",
       "        vertical-align: top;\n",
       "    }\n",
       "\n",
       "    .dataframe thead th {\n",
       "        text-align: right;\n",
       "    }\n",
       "</style>\n",
       "<table border=\"1\" class=\"dataframe\">\n",
       "  <thead>\n",
       "    <tr style=\"text-align: right;\">\n",
       "      <th></th>\n",
       "      <th>deep_features</th>\n",
       "      <th>hashtag</th>\n",
       "      <th>name</th>\n",
       "      <th>pic</th>\n",
       "    </tr>\n",
       "    <tr>\n",
       "      <th>name</th>\n",
       "      <th></th>\n",
       "      <th></th>\n",
       "      <th></th>\n",
       "      <th></th>\n",
       "    </tr>\n",
       "  </thead>\n",
       "  <tbody>\n",
       "    <tr>\n",
       "      <th>c7859ea9-d0d4-491e-af91-d91e9a8c122b.jpg</th>\n",
       "      <td>[0.09537401, 0.0, 0.0, 1.3010054, 0.06189001, ...</td>\n",
       "      <td>babies</td>\n",
       "      <td>c7859ea9-d0d4-491e-af91-d91e9a8c122b.jpg</td>\n",
       "      <td>(((tf.Tensor(-0.3705882, shape=(), dtype=float...</td>\n",
       "    </tr>\n",
       "    <tr>\n",
       "      <th>45d6c48c-c25e-42fc-854f-df71bf6de43e.jpg</th>\n",
       "      <td>[0.0, 0.08503536, 0.9841172, 0.79477465, 2.028...</td>\n",
       "      <td>animals</td>\n",
       "      <td>45d6c48c-c25e-42fc-854f-df71bf6de43e.jpg</td>\n",
       "      <td>(((tf.Tensor(0.627451, shape=(), dtype=float32...</td>\n",
       "    </tr>\n",
       "    <tr>\n",
       "      <th>0b51899b-dc3c-4f30-9230-3f5223cf79a6.jpg</th>\n",
       "      <td>[0.0, 0.1421825, 0.29680955, 0.461614, 0.10577...</td>\n",
       "      <td>architecture</td>\n",
       "      <td>0b51899b-dc3c-4f30-9230-3f5223cf79a6.jpg</td>\n",
       "      <td>(((tf.Tensor(0.52156866, shape=(), dtype=float...</td>\n",
       "    </tr>\n",
       "    <tr>\n",
       "      <th>6ca3e818-6023-43d8-bf47-e958a52f0530.jpg</th>\n",
       "      <td>[0.2723638, 0.07413437, 1.3867798, 0.0, 0.3256...</td>\n",
       "      <td>animals</td>\n",
       "      <td>6ca3e818-6023-43d8-bf47-e958a52f0530.jpg</td>\n",
       "      <td>(((tf.Tensor(0.3921569, shape=(), dtype=float3...</td>\n",
       "    </tr>\n",
       "    <tr>\n",
       "      <th>b1d7803e-68cc-4bed-9d7c-ed0590899403.jpg</th>\n",
       "      <td>[0.0, 0.0, 0.4716914, 0.0, 0.0, 2.7325175, 0.8...</td>\n",
       "      <td>animals</td>\n",
       "      <td>b1d7803e-68cc-4bed-9d7c-ed0590899403.jpg</td>\n",
       "      <td>(((tf.Tensor(-0.1607843, shape=(), dtype=float...</td>\n",
       "    </tr>\n",
       "  </tbody>\n",
       "</table>\n",
       "</div>"
      ],
      "text/plain": [
       "                                                                              deep_features  \\\n",
       "name                                                                                          \n",
       "c7859ea9-d0d4-491e-af91-d91e9a8c122b.jpg  [0.09537401, 0.0, 0.0, 1.3010054, 0.06189001, ...   \n",
       "45d6c48c-c25e-42fc-854f-df71bf6de43e.jpg  [0.0, 0.08503536, 0.9841172, 0.79477465, 2.028...   \n",
       "0b51899b-dc3c-4f30-9230-3f5223cf79a6.jpg  [0.0, 0.1421825, 0.29680955, 0.461614, 0.10577...   \n",
       "6ca3e818-6023-43d8-bf47-e958a52f0530.jpg  [0.2723638, 0.07413437, 1.3867798, 0.0, 0.3256...   \n",
       "b1d7803e-68cc-4bed-9d7c-ed0590899403.jpg  [0.0, 0.0, 0.4716914, 0.0, 0.0, 2.7325175, 0.8...   \n",
       "\n",
       "                                               hashtag  \\\n",
       "name                                                     \n",
       "c7859ea9-d0d4-491e-af91-d91e9a8c122b.jpg        babies   \n",
       "45d6c48c-c25e-42fc-854f-df71bf6de43e.jpg       animals   \n",
       "0b51899b-dc3c-4f30-9230-3f5223cf79a6.jpg  architecture   \n",
       "6ca3e818-6023-43d8-bf47-e958a52f0530.jpg       animals   \n",
       "b1d7803e-68cc-4bed-9d7c-ed0590899403.jpg       animals   \n",
       "\n",
       "                                                                              name  \\\n",
       "name                                                                                 \n",
       "c7859ea9-d0d4-491e-af91-d91e9a8c122b.jpg  c7859ea9-d0d4-491e-af91-d91e9a8c122b.jpg   \n",
       "45d6c48c-c25e-42fc-854f-df71bf6de43e.jpg  45d6c48c-c25e-42fc-854f-df71bf6de43e.jpg   \n",
       "0b51899b-dc3c-4f30-9230-3f5223cf79a6.jpg  0b51899b-dc3c-4f30-9230-3f5223cf79a6.jpg   \n",
       "6ca3e818-6023-43d8-bf47-e958a52f0530.jpg  6ca3e818-6023-43d8-bf47-e958a52f0530.jpg   \n",
       "b1d7803e-68cc-4bed-9d7c-ed0590899403.jpg  b1d7803e-68cc-4bed-9d7c-ed0590899403.jpg   \n",
       "\n",
       "                                                                                        pic  \n",
       "name                                                                                         \n",
       "c7859ea9-d0d4-491e-af91-d91e9a8c122b.jpg  (((tf.Tensor(-0.3705882, shape=(), dtype=float...  \n",
       "45d6c48c-c25e-42fc-854f-df71bf6de43e.jpg  (((tf.Tensor(0.627451, shape=(), dtype=float32...  \n",
       "0b51899b-dc3c-4f30-9230-3f5223cf79a6.jpg  (((tf.Tensor(0.52156866, shape=(), dtype=float...  \n",
       "6ca3e818-6023-43d8-bf47-e958a52f0530.jpg  (((tf.Tensor(0.3921569, shape=(), dtype=float3...  \n",
       "b1d7803e-68cc-4bed-9d7c-ed0590899403.jpg  (((tf.Tensor(-0.1607843, shape=(), dtype=float...  "
      ]
     },
     "execution_count": 13,
     "metadata": {},
     "output_type": "execute_result"
    }
   ],
   "source": [
    "deep_features.head()"
   ]
  },
  {
   "cell_type": "code",
   "execution_count": 14,
   "metadata": {},
   "outputs": [
    {
     "data": {
      "text/plain": [
       "array([0.09537401, 0.        , 0.        , ..., 0.29116523, 0.18538919,\n",
       "       0.20294176], dtype=float32)"
      ]
     },
     "execution_count": 14,
     "metadata": {},
     "output_type": "execute_result"
    }
   ],
   "source": [
    "deep_features.iloc[0, 0]"
   ]
  },
  {
   "cell_type": "code",
   "execution_count": 15,
   "metadata": {},
   "outputs": [],
   "source": [
    "# Extract recs dataframe\n",
    "recs = pd.read_pickle('pkl_files/recs.pkl')"
   ]
  },
  {
   "cell_type": "code",
   "execution_count": 16,
   "metadata": {},
   "outputs": [
    {
     "data": {
      "text/html": [
       "<div>\n",
       "<style scoped>\n",
       "    .dataframe tbody tr th:only-of-type {\n",
       "        vertical-align: middle;\n",
       "    }\n",
       "\n",
       "    .dataframe tbody tr th {\n",
       "        vertical-align: top;\n",
       "    }\n",
       "\n",
       "    .dataframe thead th {\n",
       "        text-align: right;\n",
       "    }\n",
       "</style>\n",
       "<table border=\"1\" class=\"dataframe\">\n",
       "  <thead>\n",
       "    <tr style=\"text-align: right;\">\n",
       "      <th></th>\n",
       "      <th>recommendations</th>\n",
       "      <th>recommended_hashtags</th>\n",
       "      <th>hashtags</th>\n",
       "      <th>image_local_name</th>\n",
       "      <th>search_hashtag</th>\n",
       "    </tr>\n",
       "    <tr>\n",
       "      <th>image_id</th>\n",
       "      <th></th>\n",
       "      <th></th>\n",
       "      <th></th>\n",
       "      <th></th>\n",
       "      <th></th>\n",
       "    </tr>\n",
       "  </thead>\n",
       "  <tbody>\n",
       "    <tr>\n",
       "      <th>1580</th>\n",
       "      <td>[(5249, 1.1879390478134155), (6758, 1.06600213...</td>\n",
       "      <td>[#luxury, #car, #lifestyle, #cars, #luxurylife...</td>\n",
       "      <td>[#checkeredflag, #atv, #flagmanracing, #dirtbi...</td>\n",
       "      <td>88039d35-d189-4db3-926e-a120d88a3efc.jpg</td>\n",
       "      <td>cars</td>\n",
       "    </tr>\n",
       "    <tr>\n",
       "      <th>471</th>\n",
       "      <td>[(5728, 1.1468442678451538), (1048, 1.14258015...</td>\n",
       "      <td>[#selfie, #amazing, #fashion, #black, #photo, ...</td>\n",
       "      <td>[#followme, #fashiondaily, #summer, #food, #ma...</td>\n",
       "      <td>fdc6c8d4-5a13-4330-9098-07e09e4858d2.jpg</td>\n",
       "      <td>selfie</td>\n",
       "    </tr>\n",
       "    <tr>\n",
       "      <th>1591</th>\n",
       "      <td>[(15043, 0.8404358625411987), (6758, 0.6228702...</td>\n",
       "      <td>[#cars, #car, #bmw, #trucks, #amazing, #carpor...</td>\n",
       "      <td>[#bidlemanchevrolet, #suvs, #cars, #cardeals, ...</td>\n",
       "      <td>1b7a8fbc-1797-4418-b8b2-c65500e2bc6f.jpg</td>\n",
       "      <td>cars</td>\n",
       "    </tr>\n",
       "    <tr>\n",
       "      <th>463</th>\n",
       "      <td>[(5728, 0.781302809715271), (7432, 0.773969054...</td>\n",
       "      <td>[#selfie, #beauty, #smile, #style, #fashion, #...</td>\n",
       "      <td>[#followme, #hotguy, #instaboy, #gay, #instaga...</td>\n",
       "      <td>a78d0e30-6afa-436a-a953-633ef3f64325.jpg</td>\n",
       "      <td>selfie</td>\n",
       "    </tr>\n",
       "    <tr>\n",
       "      <th>833</th>\n",
       "      <td>[(2932, 1.0711742639541626), (11435, 0.8931126...</td>\n",
       "      <td>[#explore, #art, #nature, #photography, #archi...</td>\n",
       "      <td>[#arte, #interiordesign, #archilovers, #argent...</td>\n",
       "      <td>535bc893-ebbe-46aa-9ae9-d2cd5f4dd426.jpg</td>\n",
       "      <td>travel</td>\n",
       "    </tr>\n",
       "  </tbody>\n",
       "</table>\n",
       "</div>"
      ],
      "text/plain": [
       "                                            recommendations  \\\n",
       "image_id                                                      \n",
       "1580      [(5249, 1.1879390478134155), (6758, 1.06600213...   \n",
       "471       [(5728, 1.1468442678451538), (1048, 1.14258015...   \n",
       "1591      [(15043, 0.8404358625411987), (6758, 0.6228702...   \n",
       "463       [(5728, 0.781302809715271), (7432, 0.773969054...   \n",
       "833       [(2932, 1.0711742639541626), (11435, 0.8931126...   \n",
       "\n",
       "                                       recommended_hashtags  \\\n",
       "image_id                                                      \n",
       "1580      [#luxury, #car, #lifestyle, #cars, #luxurylife...   \n",
       "471       [#selfie, #amazing, #fashion, #black, #photo, ...   \n",
       "1591      [#cars, #car, #bmw, #trucks, #amazing, #carpor...   \n",
       "463       [#selfie, #beauty, #smile, #style, #fashion, #...   \n",
       "833       [#explore, #art, #nature, #photography, #archi...   \n",
       "\n",
       "                                                   hashtags  \\\n",
       "image_id                                                      \n",
       "1580      [#checkeredflag, #atv, #flagmanracing, #dirtbi...   \n",
       "471       [#followme, #fashiondaily, #summer, #food, #ma...   \n",
       "1591      [#bidlemanchevrolet, #suvs, #cars, #cardeals, ...   \n",
       "463       [#followme, #hotguy, #instaboy, #gay, #instaga...   \n",
       "833       [#arte, #interiordesign, #archilovers, #argent...   \n",
       "\n",
       "                                  image_local_name search_hashtag  \n",
       "image_id                                                           \n",
       "1580      88039d35-d189-4db3-926e-a120d88a3efc.jpg           cars  \n",
       "471       fdc6c8d4-5a13-4330-9098-07e09e4858d2.jpg         selfie  \n",
       "1591      1b7a8fbc-1797-4418-b8b2-c65500e2bc6f.jpg           cars  \n",
       "463       a78d0e30-6afa-436a-a953-633ef3f64325.jpg         selfie  \n",
       "833       535bc893-ebbe-46aa-9ae9-d2cd5f4dd426.jpg         travel  "
      ]
     },
     "execution_count": 16,
     "metadata": {},
     "output_type": "execute_result"
    }
   ],
   "source": [
    "recs.head()"
   ]
  },
  {
   "cell_type": "code",
   "execution_count": 17,
   "metadata": {},
   "outputs": [],
   "source": [
    "# Add deep features information to recs dataframe\n",
    "recs_deep = recs.join(deep_features, on='image_local_name', how='inner')"
   ]
  },
  {
   "cell_type": "code",
   "execution_count": 18,
   "metadata": {},
   "outputs": [
    {
     "data": {
      "text/html": [
       "<div>\n",
       "<style scoped>\n",
       "    .dataframe tbody tr th:only-of-type {\n",
       "        vertical-align: middle;\n",
       "    }\n",
       "\n",
       "    .dataframe tbody tr th {\n",
       "        vertical-align: top;\n",
       "    }\n",
       "\n",
       "    .dataframe thead th {\n",
       "        text-align: right;\n",
       "    }\n",
       "</style>\n",
       "<table border=\"1\" class=\"dataframe\">\n",
       "  <thead>\n",
       "    <tr style=\"text-align: right;\">\n",
       "      <th></th>\n",
       "      <th>recommendations</th>\n",
       "      <th>recommended_hashtags</th>\n",
       "      <th>hashtags</th>\n",
       "      <th>image_local_name</th>\n",
       "      <th>search_hashtag</th>\n",
       "      <th>deep_features</th>\n",
       "      <th>hashtag</th>\n",
       "      <th>name</th>\n",
       "      <th>pic</th>\n",
       "    </tr>\n",
       "    <tr>\n",
       "      <th>image_id</th>\n",
       "      <th></th>\n",
       "      <th></th>\n",
       "      <th></th>\n",
       "      <th></th>\n",
       "      <th></th>\n",
       "      <th></th>\n",
       "      <th></th>\n",
       "      <th></th>\n",
       "      <th></th>\n",
       "    </tr>\n",
       "  </thead>\n",
       "  <tbody>\n",
       "    <tr>\n",
       "      <th>833</th>\n",
       "      <td>[(2932, 1.0711742639541626), (11435, 0.8931126...</td>\n",
       "      <td>[#explore, #art, #nature, #photography, #archi...</td>\n",
       "      <td>[#arte, #interiordesign, #archilovers, #argent...</td>\n",
       "      <td>535bc893-ebbe-46aa-9ae9-d2cd5f4dd426.jpg</td>\n",
       "      <td>travel</td>\n",
       "      <td>[0.40182838, 0.0, 0.028864231, 0.0, 0.13101286...</td>\n",
       "      <td>travel</td>\n",
       "      <td>535bc893-ebbe-46aa-9ae9-d2cd5f4dd426.jpg</td>\n",
       "      <td>(((tf.Tensor(0.99215686, shape=(), dtype=float...</td>\n",
       "    </tr>\n",
       "    <tr>\n",
       "      <th>1829</th>\n",
       "      <td>[(8334, 0.6680111885070801), (7957, 0.56452876...</td>\n",
       "      <td>[#food, #fitness, #instafood, #foodporn, #nyc,...</td>\n",
       "      <td>[#bhcidadecriativadagastronomia, #prato, #come...</td>\n",
       "      <td>56018a9a-8def-48d1-9a7d-03136314b0d9.jpg</td>\n",
       "      <td>food</td>\n",
       "      <td>[0.0, 0.0, 0.0, 2.0659437, 0.06043254, 0.03285...</td>\n",
       "      <td>food</td>\n",
       "      <td>56018a9a-8def-48d1-9a7d-03136314b0d9.jpg</td>\n",
       "      <td>(((tf.Tensor(0.7882353, shape=(), dtype=float3...</td>\n",
       "    </tr>\n",
       "    <tr>\n",
       "      <th>1959</th>\n",
       "      <td>[(7436, 1.0163105726242065), (8334, 0.96548527...</td>\n",
       "      <td>[#instafood, #food, #foodporn, #foodie, #yummy...</td>\n",
       "      <td>[#hagerstownmd, #washingtoncountymd, #hswhmdbu...</td>\n",
       "      <td>2b98b605-8df1-4fcb-addf-887751caaaaa.jpg</td>\n",
       "      <td>food</td>\n",
       "      <td>[0.2551278, 0.6026027, 0.0, 0.0, 0.2649013, 0....</td>\n",
       "      <td>food</td>\n",
       "      <td>2b98b605-8df1-4fcb-addf-887751caaaaa.jpg</td>\n",
       "      <td>(((tf.Tensor(-1.0, shape=(), dtype=float32), t...</td>\n",
       "    </tr>\n",
       "    <tr>\n",
       "      <th>2659</th>\n",
       "      <td>[(15161, 0.9028208255767822), (11773, 0.811946...</td>\n",
       "      <td>[#animals, #pets, #animal, #dogs, #dogstagram,...</td>\n",
       "      <td>[#sportdogminsk, #dogminsk, #labrador, #labrad...</td>\n",
       "      <td>c62f34b0-da93-485c-94a0-d56be4b72018.jpg</td>\n",
       "      <td>animals</td>\n",
       "      <td>[0.0, 1.7648926, 0.0, 0.014228077, 0.114186764...</td>\n",
       "      <td>animals</td>\n",
       "      <td>c62f34b0-da93-485c-94a0-d56be4b72018.jpg</td>\n",
       "      <td>(((tf.Tensor(0.07843143, shape=(), dtype=float...</td>\n",
       "    </tr>\n",
       "    <tr>\n",
       "      <th>1990</th>\n",
       "      <td>[(2753, 1.0034533739089966), (12956, 0.9917454...</td>\n",
       "      <td>[#follow, #like, #followme, #likeforlike, #ins...</td>\n",
       "      <td>[#follow, #photooftheday, #love, #instalike, #...</td>\n",
       "      <td>7263d6f8-422f-4484-a306-cf9984bfa8bc.jpg</td>\n",
       "      <td>food</td>\n",
       "      <td>[0.0, 0.0, 0.24697302, 0.0, 0.0, 0.025176601, ...</td>\n",
       "      <td>food</td>\n",
       "      <td>7263d6f8-422f-4484-a306-cf9984bfa8bc.jpg</td>\n",
       "      <td>(((tf.Tensor(-0.9079044, shape=(), dtype=float...</td>\n",
       "    </tr>\n",
       "  </tbody>\n",
       "</table>\n",
       "</div>"
      ],
      "text/plain": [
       "                                            recommendations  \\\n",
       "image_id                                                      \n",
       "833       [(2932, 1.0711742639541626), (11435, 0.8931126...   \n",
       "1829      [(8334, 0.6680111885070801), (7957, 0.56452876...   \n",
       "1959      [(7436, 1.0163105726242065), (8334, 0.96548527...   \n",
       "2659      [(15161, 0.9028208255767822), (11773, 0.811946...   \n",
       "1990      [(2753, 1.0034533739089966), (12956, 0.9917454...   \n",
       "\n",
       "                                       recommended_hashtags  \\\n",
       "image_id                                                      \n",
       "833       [#explore, #art, #nature, #photography, #archi...   \n",
       "1829      [#food, #fitness, #instafood, #foodporn, #nyc,...   \n",
       "1959      [#instafood, #food, #foodporn, #foodie, #yummy...   \n",
       "2659      [#animals, #pets, #animal, #dogs, #dogstagram,...   \n",
       "1990      [#follow, #like, #followme, #likeforlike, #ins...   \n",
       "\n",
       "                                                   hashtags  \\\n",
       "image_id                                                      \n",
       "833       [#arte, #interiordesign, #archilovers, #argent...   \n",
       "1829      [#bhcidadecriativadagastronomia, #prato, #come...   \n",
       "1959      [#hagerstownmd, #washingtoncountymd, #hswhmdbu...   \n",
       "2659      [#sportdogminsk, #dogminsk, #labrador, #labrad...   \n",
       "1990      [#follow, #photooftheday, #love, #instalike, #...   \n",
       "\n",
       "                                  image_local_name search_hashtag  \\\n",
       "image_id                                                            \n",
       "833       535bc893-ebbe-46aa-9ae9-d2cd5f4dd426.jpg         travel   \n",
       "1829      56018a9a-8def-48d1-9a7d-03136314b0d9.jpg           food   \n",
       "1959      2b98b605-8df1-4fcb-addf-887751caaaaa.jpg           food   \n",
       "2659      c62f34b0-da93-485c-94a0-d56be4b72018.jpg        animals   \n",
       "1990      7263d6f8-422f-4484-a306-cf9984bfa8bc.jpg           food   \n",
       "\n",
       "                                              deep_features  hashtag  \\\n",
       "image_id                                                               \n",
       "833       [0.40182838, 0.0, 0.028864231, 0.0, 0.13101286...   travel   \n",
       "1829      [0.0, 0.0, 0.0, 2.0659437, 0.06043254, 0.03285...     food   \n",
       "1959      [0.2551278, 0.6026027, 0.0, 0.0, 0.2649013, 0....     food   \n",
       "2659      [0.0, 1.7648926, 0.0, 0.014228077, 0.114186764...  animals   \n",
       "1990      [0.0, 0.0, 0.24697302, 0.0, 0.0, 0.025176601, ...     food   \n",
       "\n",
       "                                              name  \\\n",
       "image_id                                             \n",
       "833       535bc893-ebbe-46aa-9ae9-d2cd5f4dd426.jpg   \n",
       "1829      56018a9a-8def-48d1-9a7d-03136314b0d9.jpg   \n",
       "1959      2b98b605-8df1-4fcb-addf-887751caaaaa.jpg   \n",
       "2659      c62f34b0-da93-485c-94a0-d56be4b72018.jpg   \n",
       "1990      7263d6f8-422f-4484-a306-cf9984bfa8bc.jpg   \n",
       "\n",
       "                                                        pic  \n",
       "image_id                                                     \n",
       "833       (((tf.Tensor(0.99215686, shape=(), dtype=float...  \n",
       "1829      (((tf.Tensor(0.7882353, shape=(), dtype=float3...  \n",
       "1959      (((tf.Tensor(-1.0, shape=(), dtype=float32), t...  \n",
       "2659      (((tf.Tensor(0.07843143, shape=(), dtype=float...  \n",
       "1990      (((tf.Tensor(-0.9079044, shape=(), dtype=float...  "
      ]
     },
     "execution_count": 18,
     "metadata": {},
     "output_type": "execute_result"
    }
   ],
   "source": [
    "recs_deep.head()"
   ]
  },
  {
   "cell_type": "code",
   "execution_count": null,
   "metadata": {},
   "outputs": [],
   "source": [
    "# Only use certain columns\n",
    "recs_deep_clean = recs_deep[['image_local_name', 'hashtags', 'deep_features']]\n",
    "\n",
    "img_features.index = img_features['id']\n",
    "img_features.drop(['id'], axis=1)\n",
    "\n",
    "# Add image feature into dataframe\n",
    "recommender_df = recs_deep_clean.join(img_features, how='inner')\n",
    "\n",
    "recommender_df.head()"
   ]
  },
  {
   "cell_type": "code",
   "execution_count": 25,
   "metadata": {},
   "outputs": [],
   "source": [
    "#code used for testing purposes\n",
    "\n",
    "from imp import reload\n",
    "import functions\n",
    "reload(functions)\n",
    "prepare_image = functions.prepare_image"
   ]
  },
  {
   "cell_type": "code",
   "execution_count": 26,
   "metadata": {},
   "outputs": [],
   "source": [
    "# Function that finds k nearest neighbors by cosine similarity\n",
    "\n",
    "def find_neighbor_vectors(image_path, k=5, recommender_df=recommender_df):\n",
    "    \"\"\"Find image features (user vectors) for similar images.\"\"\"\n",
    "    prep_image = functions.prepare_image(image_path, where='local')\n",
    "    deep_features = functions.extract_features_for_one_image(prep_image, neural_network)\n",
    "    rdf = recommender_df.copy()\n",
    "    rdf['dist'] = rdf['deep_features'].apply(lambda x: cosine(x, deep_features))\n",
    "    rdf = rdf.sort_values(by='dist')\n",
    "    #return rdf.head(k)['features']\n",
    "    return rdf.head(k)\n",
    "    "
   ]
  },
  {
   "cell_type": "code",
   "execution_count": 27,
   "metadata": {},
   "outputs": [],
   "source": [
    "#test the function on a local image\n",
    "\n",
    "fnv = find_neighbor_vectors('test_wedding.jpg', \n",
    "                k=5, recommender_df=recommender_df)"
   ]
  },
  {
   "cell_type": "code",
   "execution_count": 28,
   "metadata": {},
   "outputs": [
    {
     "data": {
      "text/html": [
       "<div>\n",
       "<style scoped>\n",
       "    .dataframe tbody tr th:only-of-type {\n",
       "        vertical-align: middle;\n",
       "    }\n",
       "\n",
       "    .dataframe tbody tr th {\n",
       "        vertical-align: top;\n",
       "    }\n",
       "\n",
       "    .dataframe thead th {\n",
       "        text-align: right;\n",
       "    }\n",
       "</style>\n",
       "<table border=\"1\" class=\"dataframe\">\n",
       "  <thead>\n",
       "    <tr style=\"text-align: right;\">\n",
       "      <th></th>\n",
       "      <th>image_local_name</th>\n",
       "      <th>hashtags</th>\n",
       "      <th>deep_features</th>\n",
       "      <th>id</th>\n",
       "      <th>features</th>\n",
       "      <th>dist</th>\n",
       "    </tr>\n",
       "  </thead>\n",
       "  <tbody>\n",
       "    <tr>\n",
       "      <th>763</th>\n",
       "      <td>edf9daee-f603-46b5-bf4a-ae9974bb89ad.jpg</td>\n",
       "      <td>[#wanderlust, #toddlers, #woods, #forest, #nc,...</td>\n",
       "      <td>[0.74691504, 1.2644943, 0.0, 0.23730093, 2.684...</td>\n",
       "      <td>763</td>\n",
       "      <td>[0.4171702265739441, -0.017076052725315094, -0...</td>\n",
       "      <td>0.420474</td>\n",
       "    </tr>\n",
       "    <tr>\n",
       "      <th>882</th>\n",
       "      <td>c3b7232e-ea7c-4766-91e3-99207f7d8d8b.jpg</td>\n",
       "      <td>[#photooftheday, #hasekio, #bs, #travel, #phot...</td>\n",
       "      <td>[0.7826781, 1.8151407, 0.3264235, 0.4332988, 1...</td>\n",
       "      <td>882</td>\n",
       "      <td>[-0.2053070217370987, -0.8706239461898804, 0.3...</td>\n",
       "      <td>0.437234</td>\n",
       "    </tr>\n",
       "    <tr>\n",
       "      <th>682</th>\n",
       "      <td>e1626e8a-eaa8-4812-917b-4a4aeadeb10f.jpg</td>\n",
       "      <td>[#follow, #repost, #photooftheday, #love, #fas...</td>\n",
       "      <td>[0.17159231, 0.4535152, 0.023434391, 0.1585964...</td>\n",
       "      <td>682</td>\n",
       "      <td>[0.07097786664962769, -0.32791000604629517, 0....</td>\n",
       "      <td>0.456072</td>\n",
       "    </tr>\n",
       "    <tr>\n",
       "      <th>773</th>\n",
       "      <td>72569f9f-ebea-4b5a-b238-c2b15e9b288d.jpg</td>\n",
       "      <td>[#musician, #newmusic, #producer, #futuremusic...</td>\n",
       "      <td>[0.019124918, 1.6645181, 0.0, 0.0, 2.546588, 0...</td>\n",
       "      <td>773</td>\n",
       "      <td>[0.1564265638589859, 0.18779335916042328, 0.08...</td>\n",
       "      <td>0.461755</td>\n",
       "    </tr>\n",
       "    <tr>\n",
       "      <th>737</th>\n",
       "      <td>f2a6f5f1-64c2-4ee3-9609-d409e28fa816.jpg</td>\n",
       "      <td>[#honolulu, #hawaii, #dream, #travel, #hoomalu...</td>\n",
       "      <td>[0.13907114, 0.9570846, 0.052211534, 0.0, 1.52...</td>\n",
       "      <td>737</td>\n",
       "      <td>[0.1638672947883606, 0.05539854243397713, 0.13...</td>\n",
       "      <td>0.470721</td>\n",
       "    </tr>\n",
       "  </tbody>\n",
       "</table>\n",
       "</div>"
      ],
      "text/plain": [
       "                             image_local_name  \\\n",
       "763  edf9daee-f603-46b5-bf4a-ae9974bb89ad.jpg   \n",
       "882  c3b7232e-ea7c-4766-91e3-99207f7d8d8b.jpg   \n",
       "682  e1626e8a-eaa8-4812-917b-4a4aeadeb10f.jpg   \n",
       "773  72569f9f-ebea-4b5a-b238-c2b15e9b288d.jpg   \n",
       "737  f2a6f5f1-64c2-4ee3-9609-d409e28fa816.jpg   \n",
       "\n",
       "                                              hashtags  \\\n",
       "763  [#wanderlust, #toddlers, #woods, #forest, #nc,...   \n",
       "882  [#photooftheday, #hasekio, #bs, #travel, #phot...   \n",
       "682  [#follow, #repost, #photooftheday, #love, #fas...   \n",
       "773  [#musician, #newmusic, #producer, #futuremusic...   \n",
       "737  [#honolulu, #hawaii, #dream, #travel, #hoomalu...   \n",
       "\n",
       "                                         deep_features   id  \\\n",
       "763  [0.74691504, 1.2644943, 0.0, 0.23730093, 2.684...  763   \n",
       "882  [0.7826781, 1.8151407, 0.3264235, 0.4332988, 1...  882   \n",
       "682  [0.17159231, 0.4535152, 0.023434391, 0.1585964...  682   \n",
       "773  [0.019124918, 1.6645181, 0.0, 0.0, 2.546588, 0...  773   \n",
       "737  [0.13907114, 0.9570846, 0.052211534, 0.0, 1.52...  737   \n",
       "\n",
       "                                              features      dist  \n",
       "763  [0.4171702265739441, -0.017076052725315094, -0...  0.420474  \n",
       "882  [-0.2053070217370987, -0.8706239461898804, 0.3...  0.437234  \n",
       "682  [0.07097786664962769, -0.32791000604629517, 0....  0.456072  \n",
       "773  [0.1564265638589859, 0.18779335916042328, 0.08...  0.461755  \n",
       "737  [0.1638672947883606, 0.05539854243397713, 0.13...  0.470721  "
      ]
     },
     "execution_count": 28,
     "metadata": {},
     "output_type": "execute_result"
    }
   ],
   "source": [
    "fnv"
   ]
  },
  {
   "cell_type": "markdown",
   "metadata": {},
   "source": [
    "### Next step to do: after identifying 5 nearest neighbors, look at ALS's image features (user features), get the average for 5. Then compute dot product with every hashtag features vector (item features). Take hashtags woth the highest reasult as recommendations."
   ]
  },
  {
   "cell_type": "code",
   "execution_count": 29,
   "metadata": {},
   "outputs": [
    {
     "data": {
      "text/plain": [
       "10"
      ]
     },
     "execution_count": 29,
     "metadata": {},
     "output_type": "execute_result"
    }
   ],
   "source": [
    "#check length of the user features\n",
    "len(fnv.iloc[3, 4])"
   ]
  },
  {
   "cell_type": "markdown",
   "metadata": {},
   "source": [
    "## Find the average of the 5 user features found based on cosine similarity."
   ]
  },
  {
   "cell_type": "code",
   "execution_count": 30,
   "metadata": {},
   "outputs": [],
   "source": [
    "# extract features from dataframe\n",
    "\n",
    "features = []\n",
    "for item in fnv.features.values:\n",
    "    features.append(item)"
   ]
  },
  {
   "cell_type": "code",
   "execution_count": 31,
   "metadata": {},
   "outputs": [],
   "source": [
    "avg_features = np.mean(np.asarray(features), axis=0)"
   ]
  },
  {
   "cell_type": "markdown",
   "metadata": {},
   "source": [
    "## Find the dot product with each hashtag features"
   ]
  },
  {
   "cell_type": "code",
   "execution_count": 32,
   "metadata": {},
   "outputs": [
    {
     "data": {
      "text/html": [
       "<div>\n",
       "<style scoped>\n",
       "    .dataframe tbody tr th:only-of-type {\n",
       "        vertical-align: middle;\n",
       "    }\n",
       "\n",
       "    .dataframe tbody tr th {\n",
       "        vertical-align: top;\n",
       "    }\n",
       "\n",
       "    .dataframe thead th {\n",
       "        text-align: right;\n",
       "    }\n",
       "</style>\n",
       "<table border=\"1\" class=\"dataframe\">\n",
       "  <thead>\n",
       "    <tr style=\"text-align: right;\">\n",
       "      <th></th>\n",
       "      <th>id</th>\n",
       "      <th>features</th>\n",
       "    </tr>\n",
       "  </thead>\n",
       "  <tbody>\n",
       "    <tr>\n",
       "      <th>0</th>\n",
       "      <td>1</td>\n",
       "      <td>[0.0744522213935852, 0.0064070881344377995, 0....</td>\n",
       "    </tr>\n",
       "    <tr>\n",
       "      <th>1</th>\n",
       "      <td>11</td>\n",
       "      <td>[0.054107919335365295, 0.08664730191230774, 0....</td>\n",
       "    </tr>\n",
       "    <tr>\n",
       "      <th>2</th>\n",
       "      <td>21</td>\n",
       "      <td>[-0.04549521207809448, -0.06504690647125244, -...</td>\n",
       "    </tr>\n",
       "    <tr>\n",
       "      <th>3</th>\n",
       "      <td>31</td>\n",
       "      <td>[0.05305836722254753, 0.07028129696846008, -0....</td>\n",
       "    </tr>\n",
       "    <tr>\n",
       "      <th>4</th>\n",
       "      <td>41</td>\n",
       "      <td>[-0.03151167184114456, 0.029394743964076042, 0...</td>\n",
       "    </tr>\n",
       "  </tbody>\n",
       "</table>\n",
       "</div>"
      ],
      "text/plain": [
       "   id                                           features\n",
       "0   1  [0.0744522213935852, 0.0064070881344377995, 0....\n",
       "1  11  [0.054107919335365295, 0.08664730191230774, 0....\n",
       "2  21  [-0.04549521207809448, -0.06504690647125244, -...\n",
       "3  31  [0.05305836722254753, 0.07028129696846008, -0....\n",
       "4  41  [-0.03151167184114456, 0.029394743964076042, 0..."
      ]
     },
     "execution_count": 32,
     "metadata": {},
     "output_type": "execute_result"
    }
   ],
   "source": [
    "# take a look at the hashtag features extracted from ALS model\n",
    "\n",
    "hashtag_features.head()"
   ]
  },
  {
   "cell_type": "code",
   "execution_count": 33,
   "metadata": {},
   "outputs": [],
   "source": [
    "# add new column to the hashtag features which will be the dot product with the average image(user) features\n",
    "\n",
    "hashtag_features['dot_product'] = hashtag_features['features'].apply(lambda x: np.asarray(x).dot(avg_features))"
   ]
  },
  {
   "cell_type": "code",
   "execution_count": 34,
   "metadata": {},
   "outputs": [],
   "source": [
    "# get 10 ids with the highest dot product\n",
    "\n",
    "df_ten_highest = hashtag_features.sort_values(by='dot_product', ascending=False).head(10)"
   ]
  },
  {
   "cell_type": "code",
   "execution_count": 35,
   "metadata": {},
   "outputs": [],
   "source": [
    "rec_hashtag_ids = df_ten_highest.id.values"
   ]
  },
  {
   "cell_type": "markdown",
   "metadata": {},
   "source": [
    "## Find hashtags that correspond to the ids"
   ]
  },
  {
   "cell_type": "code",
   "execution_count": 36,
   "metadata": {},
   "outputs": [],
   "source": [
    "# Unpickle hashtag data\n",
    "\n",
    "hashtags_df = pd.read_pickle(\"pkl_files/hashtags_df.pkl\")"
   ]
  },
  {
   "cell_type": "code",
   "execution_count": 37,
   "metadata": {},
   "outputs": [
    {
     "data": {
      "text/html": [
       "<div>\n",
       "<style scoped>\n",
       "    .dataframe tbody tr th:only-of-type {\n",
       "        vertical-align: middle;\n",
       "    }\n",
       "\n",
       "    .dataframe tbody tr th {\n",
       "        vertical-align: top;\n",
       "    }\n",
       "\n",
       "    .dataframe thead th {\n",
       "        text-align: right;\n",
       "    }\n",
       "</style>\n",
       "<table border=\"1\" class=\"dataframe\">\n",
       "  <thead>\n",
       "    <tr style=\"text-align: right;\">\n",
       "      <th></th>\n",
       "      <th>hashtag</th>\n",
       "    </tr>\n",
       "    <tr>\n",
       "      <th>id</th>\n",
       "      <th></th>\n",
       "    </tr>\n",
       "  </thead>\n",
       "  <tbody>\n",
       "    <tr>\n",
       "      <th>0</th>\n",
       "      <td>#sushiemcasa</td>\n",
       "    </tr>\n",
       "    <tr>\n",
       "      <th>1</th>\n",
       "      <td>#retarded</td>\n",
       "    </tr>\n",
       "    <tr>\n",
       "      <th>2</th>\n",
       "      <td>#weddingflowersdecor</td>\n",
       "    </tr>\n",
       "    <tr>\n",
       "      <th>3</th>\n",
       "      <td>#booster</td>\n",
       "    </tr>\n",
       "    <tr>\n",
       "      <th>4</th>\n",
       "      <td>#kumas</td>\n",
       "    </tr>\n",
       "  </tbody>\n",
       "</table>\n",
       "</div>"
      ],
      "text/plain": [
       "                 hashtag\n",
       "id                      \n",
       "0           #sushiemcasa\n",
       "1              #retarded\n",
       "2   #weddingflowersdecor\n",
       "3               #booster\n",
       "4                 #kumas"
      ]
     },
     "execution_count": 37,
     "metadata": {},
     "output_type": "execute_result"
    }
   ],
   "source": [
    "hashtags_df.head()"
   ]
  },
  {
   "cell_type": "code",
   "execution_count": 38,
   "metadata": {},
   "outputs": [
    {
     "name": "stdout",
     "output_type": "stream",
     "text": [
      "id\n",
      "14094    #travel\n",
      "Name: hashtag, dtype: object\n",
      "id\n",
      "4515    #photography\n",
      "Name: hashtag, dtype: object\n",
      "id\n",
      "2638    #nature\n",
      "Name: hashtag, dtype: object\n",
      "id\n",
      "4556    #love\n",
      "Name: hashtag, dtype: object\n",
      "id\n",
      "305    #photooftheday\n",
      "Name: hashtag, dtype: object\n",
      "id\n",
      "14520    #instagood\n",
      "Name: hashtag, dtype: object\n",
      "id\n",
      "3319    #picoftheday\n",
      "Name: hashtag, dtype: object\n",
      "id\n",
      "775    #beautiful\n",
      "Name: hashtag, dtype: object\n",
      "id\n",
      "9326    #summer\n",
      "Name: hashtag, dtype: object\n",
      "id\n",
      "6746    #instagram\n",
      "Name: hashtag, dtype: object\n"
     ]
    }
   ],
   "source": [
    "for i in rec_hashtag_ids:\n",
    "    print(hashtags_df.loc[hashtags_df.index==i]['hashtag'])"
   ]
  },
  {
   "cell_type": "code",
   "execution_count": null,
   "metadata": {},
   "outputs": [],
   "source": []
  },
  {
   "cell_type": "code",
   "execution_count": null,
   "metadata": {},
   "outputs": [],
   "source": []
  }
 ],
 "metadata": {
  "kernelspec": {
   "display_name": "Python 3",
   "language": "python",
   "name": "python3"
  },
  "language_info": {
   "codemirror_mode": {
    "name": "ipython",
    "version": 3
   },
   "file_extension": ".py",
   "mimetype": "text/x-python",
   "name": "python",
   "nbconvert_exporter": "python",
   "pygments_lexer": "ipython3",
   "version": "3.7.1"
  }
 },
 "nbformat": 4,
 "nbformat_minor": 2
}
