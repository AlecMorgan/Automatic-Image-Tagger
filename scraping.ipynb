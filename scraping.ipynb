{
 "cells": [
  {
   "cell_type": "code",
   "execution_count": 1,
   "metadata": {},
   "outputs": [],
   "source": [
    "import pandas as pd\n",
    "import re\n",
    "import urllib.request\n",
    "from collections import Counter\n",
    "from insta_scrape import insta_details, find_hashtags, get_full_info, get_posts, get_hashtags\n",
    "from selenium.webdriver import Chrome, Firefox\n",
    "import json"
   ]
  },
  {
   "cell_type": "markdown",
   "metadata": {},
   "source": [
    "### Hashtags to scrape: \n",
    "1. travel (Anna)\n",
    "2. food\n",
    "3. animals\n",
    "4. selfie\n",
    "5. cars\n",
    "6. fitness\n",
    "7. babies\n",
    "8. wedding\n",
    "9. nature\n",
    "10. architecture"
   ]
  },
  {
   "cell_type": "code",
   "execution_count": 10,
   "metadata": {},
   "outputs": [
    {
     "name": "stdout",
     "output_type": "stream",
     "text": [
      "300 300\n"
     ]
    }
   ],
   "source": [
    "# scrape info for hashtag 'travel'\n",
    "\n",
    "travel = get_full_info('travel', 300)"
   ]
  },
  {
   "cell_type": "code",
   "execution_count": 24,
   "metadata": {},
   "outputs": [
    {
     "data": {
      "text/html": [
       "<div>\n",
       "<style scoped>\n",
       "    .dataframe tbody tr th:only-of-type {\n",
       "        vertical-align: middle;\n",
       "    }\n",
       "\n",
       "    .dataframe tbody tr th {\n",
       "        vertical-align: top;\n",
       "    }\n",
       "\n",
       "    .dataframe thead th {\n",
       "        text-align: right;\n",
       "    }\n",
       "</style>\n",
       "<table border=\"1\" class=\"dataframe\">\n",
       "  <thead>\n",
       "    <tr style=\"text-align: right;\">\n",
       "      <th></th>\n",
       "      <th>hashtags</th>\n",
       "      <th>image</th>\n",
       "      <th>image_local_name</th>\n",
       "      <th>post_link</th>\n",
       "      <th>search_hashtag</th>\n",
       "    </tr>\n",
       "  </thead>\n",
       "  <tbody>\n",
       "    <tr>\n",
       "      <th>0</th>\n",
       "      <td>[#teleport, #photoshoot, #instafashion, #trave...</td>\n",
       "      <td>https://scontent-lga3-1.cdninstagram.com/vp/28...</td>\n",
       "      <td>e66420a7-1fc1-49a7-a649-5c591f1d60b8.jpg</td>\n",
       "      <td>https://www.instagram.com/p/By3HaZNgmnE/</td>\n",
       "      <td>travel</td>\n",
       "    </tr>\n",
       "    <tr>\n",
       "      <th>1</th>\n",
       "      <td>[#lagodibraies, #mountains, #lacs, #travel, #l...</td>\n",
       "      <td>https://scontent-lga3-1.cdninstagram.com/vp/33...</td>\n",
       "      <td>b6316377-299c-4f5a-b17e-c7879dce5220.jpg</td>\n",
       "      <td>https://www.instagram.com/p/By3G3bpi15L/</td>\n",
       "      <td>travel</td>\n",
       "    </tr>\n",
       "    <tr>\n",
       "      <th>2</th>\n",
       "      <td>[]</td>\n",
       "      <td>https://scontent-lga3-1.cdninstagram.com/vp/52...</td>\n",
       "      <td>5f25e1a8-ad7f-4d8b-b0b4-ca7ff3930720.jpg</td>\n",
       "      <td>https://www.instagram.com/p/By3HdV1F6zI/</td>\n",
       "      <td>travel</td>\n",
       "    </tr>\n",
       "    <tr>\n",
       "      <th>3</th>\n",
       "      <td>[#wanderlust, #mallorca, #balearicislands, #am...</td>\n",
       "      <td>https://scontent-lga3-1.cdninstagram.com/vp/cb...</td>\n",
       "      <td>c0077760-c457-46f0-951a-9a1d8b941030.jpg</td>\n",
       "      <td>https://www.instagram.com/p/By3IE3An3x2/</td>\n",
       "      <td>travel</td>\n",
       "    </tr>\n",
       "    <tr>\n",
       "      <th>4</th>\n",
       "      <td>[#eros, #nikon, #photooftheday, #instalike, #i...</td>\n",
       "      <td>https://scontent-lga3-1.cdninstagram.com/vp/4b...</td>\n",
       "      <td>1e1293dc-7033-4c67-aca2-f00397aa96f2.jpg</td>\n",
       "      <td>https://www.instagram.com/p/By3KDrwnjM6/</td>\n",
       "      <td>travel</td>\n",
       "    </tr>\n",
       "  </tbody>\n",
       "</table>\n",
       "</div>"
      ],
      "text/plain": [
       "                                            hashtags  \\\n",
       "0  [#teleport, #photoshoot, #instafashion, #trave...   \n",
       "1  [#lagodibraies, #mountains, #lacs, #travel, #l...   \n",
       "2                                                 []   \n",
       "3  [#wanderlust, #mallorca, #balearicislands, #am...   \n",
       "4  [#eros, #nikon, #photooftheday, #instalike, #i...   \n",
       "\n",
       "                                               image  \\\n",
       "0  https://scontent-lga3-1.cdninstagram.com/vp/28...   \n",
       "1  https://scontent-lga3-1.cdninstagram.com/vp/33...   \n",
       "2  https://scontent-lga3-1.cdninstagram.com/vp/52...   \n",
       "3  https://scontent-lga3-1.cdninstagram.com/vp/cb...   \n",
       "4  https://scontent-lga3-1.cdninstagram.com/vp/4b...   \n",
       "\n",
       "                           image_local_name  \\\n",
       "0  e66420a7-1fc1-49a7-a649-5c591f1d60b8.jpg   \n",
       "1  b6316377-299c-4f5a-b17e-c7879dce5220.jpg   \n",
       "2  5f25e1a8-ad7f-4d8b-b0b4-ca7ff3930720.jpg   \n",
       "3  c0077760-c457-46f0-951a-9a1d8b941030.jpg   \n",
       "4  1e1293dc-7033-4c67-aca2-f00397aa96f2.jpg   \n",
       "\n",
       "                                  post_link search_hashtag  \n",
       "0  https://www.instagram.com/p/By3HaZNgmnE/         travel  \n",
       "1  https://www.instagram.com/p/By3G3bpi15L/         travel  \n",
       "2  https://www.instagram.com/p/By3HdV1F6zI/         travel  \n",
       "3  https://www.instagram.com/p/By3IE3An3x2/         travel  \n",
       "4  https://www.instagram.com/p/By3KDrwnjM6/         travel  "
      ]
     },
     "execution_count": 24,
     "metadata": {},
     "output_type": "execute_result"
    }
   ],
   "source": [
    "#cast to dataframe\n",
    "\n",
    "df_travel = pd.DataFrame(travel)\n",
    "df_travel.head()"
   ]
  },
  {
   "cell_type": "code",
   "execution_count": 25,
   "metadata": {},
   "outputs": [],
   "source": [
    "#export in a json file\n",
    "\n",
    "with open('json_files/travel.json', 'w') as fp:\n",
    "    json.dump(travel, fp)"
   ]
  },
  {
   "cell_type": "code",
   "execution_count": null,
   "metadata": {},
   "outputs": [],
   "source": []
  }
 ],
 "metadata": {
  "kernelspec": {
   "display_name": "Python [conda env:root]",
   "language": "python",
   "name": "conda-root-py"
  },
  "language_info": {
   "codemirror_mode": {
    "name": "ipython",
    "version": 3
   },
   "file_extension": ".py",
   "mimetype": "text/x-python",
   "name": "python",
   "nbconvert_exporter": "python",
   "pygments_lexer": "ipython3",
   "version": "3.7.1"
  }
 },
 "nbformat": 4,
 "nbformat_minor": 2
}
