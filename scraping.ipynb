{
 "cells": [
  {
   "cell_type": "code",
   "execution_count": 3,
   "metadata": {},
   "outputs": [],
   "source": [
    "import pandas as pd\n",
    "import re\n",
    "import json\n",
    "from selenium.webdriver import Chrome\n",
    "from collections import Counter\n",
    "import urllib.request\n",
    "from functions import get_posts, get_hashtags, get_image, get_full_info\n",
    "import boto3\n",
    "from io import BytesIO\n",
    "from os import walk"
   ]
  },
  {
   "cell_type": "markdown",
   "metadata": {},
   "source": [
    "### Hashtags to scrape: \n",
    "1. travel (Anna)\n",
    "2. food (Anna)\n",
    "3. animals (Anna)\n",
    "4. selfie (Andy)\n",
    "5. cars (Andy)\n",
    "6. fitness (Andy)\n",
    "7. babies (Alec)\n",
    "8. wedding (Alec)\n",
    "9. nature (Alec)\n",
    "10. architecture"
   ]
  },
  {
   "cell_type": "markdown",
   "metadata": {},
   "source": [
    "### Scraping:\n",
    "Hashtags (from comments), Image Link, Image Name, Post Link, and Input Hashtag.  Then exporting the data to .json files, stored in a seperate folder.\n",
    "\n",
    "*get_full_info* function also retrieves and downloads the actual image, which are stored locally to optimize possible space constraints."
   ]
  },
  {
   "cell_type": "code",
   "execution_count": 4,
   "metadata": {},
   "outputs": [],
   "source": [
    "# hashtags = ['travel', 'food', 'animals']\n",
    "# hashtags = ['selfie', 'cars', 'fitness']\n",
    "# hashtags = ['babies', 'wedding', 'nature', 'architecture']\n",
    "hashtags = ['wedding']"
   ]
  },
  {
   "cell_type": "code",
   "execution_count": 7,
   "metadata": {},
   "outputs": [],
   "source": [
    "for hashtag in hashtags:\n",
    "    hashtag_data = get_full_info(hashtag, 300)\n",
    "\n",
    "    with open(f'json_files/{hashtag}.json', 'w') as f:\n",
    "        json.dump(hashtag_data, f)"
   ]
  },
  {
   "cell_type": "markdown",
   "metadata": {},
   "source": [
    "### Import JSON files back into pandas dataframe"
   ]
  },
  {
   "cell_type": "code",
   "execution_count": null,
   "metadata": {},
   "outputs": [],
   "source": [
    "travel_df = pd.read_json('json_files/travel.json')\n",
    "travel_df.head()"
   ]
  },
  {
   "cell_type": "markdown",
   "metadata": {},
   "source": [
    "### Upload images from common folder to S3 bucket folders by hashtag (Anna)\n",
    "Scraped images were all in one folder independently of the category. Had to separate them by hashtag"
   ]
  },
  {
   "cell_type": "code",
   "execution_count": null,
   "metadata": {},
   "outputs": [],
   "source": [
    "#hashtags to separate\n",
    "h_list = ['travel', 'food', 'animals']\n",
    "\n",
    "#import json files\n",
    "data = []\n",
    "for h in h_list:    \n",
    "    with open(f'json_files/{h}.json', 'r') as f:\n",
    "        for line in f:\n",
    "            data.append(json.loads(line))"
   ]
  },
  {
   "cell_type": "code",
   "execution_count": null,
   "metadata": {},
   "outputs": [],
   "source": [
    "#combine json files for all 3 hashtags\n",
    "data_full = data[0] + data[1] + data[2]\n",
    "len(data_full)"
   ]
  },
  {
   "cell_type": "code",
   "execution_count": null,
   "metadata": {},
   "outputs": [],
   "source": [
    "#access s3 with boto3 and upload images\n",
    "s3 = boto3.resource('s3')\n",
    "\n",
    "for h in h_list:\n",
    "    for i in data_full:\n",
    "        if i['search_hashtag'] == h:\n",
    "            source = 'data/'+ i['image_local_name']\n",
    "            bucket = 'instagram-images-mod4'\n",
    "            destination = i['search_hashtag'] + '/' + i['image_local_name']\n",
    "            s3.meta.client.upload_file(source, bucket, destination)"
   ]
  },
  {
   "cell_type": "code",
   "execution_count": null,
   "metadata": {},
   "outputs": [],
   "source": []
  }
 ],
 "metadata": {
  "kernelspec": {
   "display_name": "Python 3",
   "language": "python",
   "name": "python3"
  },
  "language_info": {
   "codemirror_mode": {
    "name": "ipython",
    "version": 3
   },
   "file_extension": ".py",
   "mimetype": "text/x-python",
   "name": "python",
   "nbconvert_exporter": "python",
   "pygments_lexer": "ipython3",
   "version": "3.6.6"
  }
 },
 "nbformat": 4,
 "nbformat_minor": 2
}
