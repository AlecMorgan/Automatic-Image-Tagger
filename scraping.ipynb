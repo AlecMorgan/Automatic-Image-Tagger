{
 "cells": [
  {
   "cell_type": "code",
   "execution_count": null,
   "metadata": {},
   "outputs": [],
   "source": [
    "import pandas as pd\n",
    "import re\n",
    "import urllib.request\n",
    "from collections import Counter\n",
    "from insta_scrape import get_posts, get_hashtags, get_image, get_full_info\n",
    "from selenium.webdriver import Chrome\n",
    "import json"
   ]
  },
  {
   "cell_type": "markdown",
   "metadata": {},
   "source": [
    "### Hashtags to scrape: \n",
    "1. travel (Anna)\n",
    "2. food (Anna)\n",
    "3. animals (Anna)\n",
    "4. selfie (Andy)\n",
    "5. cars (Andy)\n",
    "6. fitness (Andy)\n",
    "7. babies (Alec)\n",
    "8. wedding (Alec)\n",
    "9. nature (Alec)\n",
    "10. architecture"
   ]
  },
  {
   "cell_type": "markdown",
   "metadata": {},
   "source": [
    "### Scraping:\n",
    "Hashtags (from comments), Image Link, Image Name, Post Link, and Input Hashtag.  Then exporting the data to .json files, stored in a seperate folder.\n",
    "\n",
    "*get_full_info* function also retrieves and downloads the actual image, which are stored locally to optimize possible space constraints."
   ]
  },
  {
   "cell_type": "code",
   "execution_count": null,
   "metadata": {},
   "outputs": [],
   "source": [
    "# hashtags = ['travel', 'food', 'animals']\n",
    "# hashtags = ['selfie', 'cars', 'fitness']\n",
    "hashtags = ['babies', 'wedding', 'nature', 'architecture']"
   ]
  },
  {
   "cell_type": "code",
   "execution_count": null,
   "metadata": {},
   "outputs": [],
   "source": [
    "for hashtag in hashtags:\n",
    "    hashtag_data = get_full_info(hashtag, 300)\n",
    "\n",
    "    with open(f'json_files/{hashtag}.json', 'w') as f:\n",
    "        json.dump(hashtag_data, f)"
   ]
  },
  {
   "cell_type": "markdown",
   "metadata": {},
   "source": [
    "### Import JSON files back into pandas dataframe"
   ]
  },
  {
   "cell_type": "code",
   "execution_count": null,
   "metadata": {},
   "outputs": [],
   "source": [
    "travel_df = pd.read_json('json_files/travel.json')\n",
    "travel_df.head()"
   ]
  },
  {
   "cell_type": "code",
   "execution_count": null,
   "metadata": {},
   "outputs": [],
   "source": []
  }
 ],
 "metadata": {
  "kernelspec": {
   "display_name": "Python 3",
   "language": "python",
   "name": "python3"
  },
  "language_info": {
   "codemirror_mode": {
    "name": "ipython",
    "version": 3
   },
   "file_extension": ".py",
   "mimetype": "text/x-python",
   "name": "python",
   "nbconvert_exporter": "python",
   "pygments_lexer": "ipython3",
   "version": "3.7.1"
  }
 },
 "nbformat": 4,
 "nbformat_minor": 2
}
