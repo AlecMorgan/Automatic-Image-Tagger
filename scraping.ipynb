{
 "cells": [
  {
   "cell_type": "code",
   "execution_count": 5,
   "metadata": {},
   "outputs": [],
   "source": [
    "import pandas as pd\n",
    "import re\n",
    "import urllib.request\n",
    "from collections import Counter\n",
    "from insta_scrape import get_posts, get_hashtags, get_image, get_full_info\n",
    "from selenium.webdriver import Chrome\n",
    "import json\n",
    "import boto3\n",
    "import os"
   ]
  },
  {
   "cell_type": "markdown",
   "metadata": {},
   "source": [
    "### Hashtags to scrape: \n",
    "1. travel (Anna)\n",
    "2. food (Anna)\n",
    "3. animals (Anna)\n",
    "4. selfie (Andy)\n",
    "5. cars (Andy)\n",
    "6. fitness (Andy)\n",
    "7. babies (Alec)\n",
    "8. wedding (Alec)\n",
    "9. nature (Alec)\n",
    "10. architecture"
   ]
  },
  {
   "cell_type": "markdown",
   "metadata": {},
   "source": [
    "### Scraping:\n",
    "Hashtags (from comments), Image Link, Image Name, Post Link, and Input Hashtag.  Then exporting the data to .json files, stored in a seperate folder.\n",
    "\n",
    "*get_full_info* function also retrieves and downloads the actual image, which are stored locally to optimize possible space constraints."
   ]
  },
  {
   "cell_type": "code",
   "execution_count": null,
   "metadata": {},
   "outputs": [],
   "source": [
    "# hashtags = ['travel', 'food', 'animals']\n",
    "# hashtags = ['selfie', 'cars', 'fitness']\n",
    "hashtags = ['babies', 'wedding', 'nature', 'architecture']"
   ]
  },
  {
   "cell_type": "code",
   "execution_count": null,
   "metadata": {},
   "outputs": [],
   "source": [
    "for hashtag in hashtags:\n",
    "    hashtag_data = get_full_info(hashtag, 300)\n",
    "\n",
    "    with open(f'json_files/{hashtag}.json', 'w') as f:\n",
    "        json.dump(hashtag_data, f)"
   ]
  },
  {
   "cell_type": "markdown",
   "metadata": {},
   "source": [
    "### Import JSON files back into pandas dataframe"
   ]
  },
  {
   "cell_type": "code",
   "execution_count": null,
   "metadata": {},
   "outputs": [],
   "source": [
    "travel_df = pd.read_json('json_files/travel.json')\n",
    "travel_df.head()"
   ]
  },
  {
   "cell_type": "markdown",
   "metadata": {},
   "source": [
    "### Upload images from common folder to S3 bucket folders by hashtag (Anna)\n",
    "Scraped images were all in one folder independently of the category. Had to separate them by hashtag"
   ]
  },
  {
   "cell_type": "code",
   "execution_count": null,
   "metadata": {},
   "outputs": [],
   "source": [
    "import json\n",
    "\n",
    "#hashtags to separate\n",
    "h_list = ['travel', 'food', 'animals']\n",
    "\n",
    "#import json files\n",
    "data = []\n",
    "for h in h_list:    \n",
    "    with open(f'json_files/{h}.json', 'r') as f:\n",
    "        for line in f:\n",
    "            data.append(json.loads(line))"
   ]
  },
  {
   "cell_type": "code",
   "execution_count": null,
   "metadata": {},
   "outputs": [],
   "source": [
    "#combine json files for all 3 hashtags\n",
    "data_full = data[0] + data[1] + data[2]\n",
    "len(data_full)"
   ]
  },
  {
   "cell_type": "code",
   "execution_count": null,
   "metadata": {},
   "outputs": [],
   "source": [
    "#access s3 with boto3 and upload images\n",
    "\n",
    "\n",
    "s3 = boto3.resource('s3')\n",
    "\n",
    "for h in h_list:\n",
    "    for i in data_full:\n",
    "        if i['search_hashtag'] == h:\n",
    "            source = 'data/'+ i['image_local_name']\n",
    "            bucket = 'instagram-images-mod4'\n",
    "            destination = i['search_hashtag'] + '/' + i['image_local_name']\n",
    "            s3.meta.client.upload_file(source, bucket, destination)"
   ]
  },
  {
   "cell_type": "code",
   "execution_count": null,
   "metadata": {},
   "outputs": [],
   "source": [
    "from os import walk\n",
    "\n",
    "f = []\n",
    "for (dirpath, dirnames, filenames) in walk('data'):\n",
    "    f.append(filenames)\n",
    "    break"
   ]
  },
  {
   "cell_type": "code",
   "execution_count": 2,
   "metadata": {},
   "outputs": [],
   "source": [
    "from io import BytesIO"
   ]
  },
  {
   "cell_type": "code",
   "execution_count": 26,
   "metadata": {},
   "outputs": [],
   "source": [
    "bucket=\"instagram-images-mod4\"\n",
    "key=\"travel/02c15b10-cf2c-4eaf-b3e5-cbbde14757c7.jpg\"\n",
    "\n",
    "#!pip install pillow\n",
    "\n",
    "import numpy as np\n",
    "from PIL import Image\n",
    "\n",
    "def fetch_image_from_s3(bucket, key):\n",
    "    \"\"\"Fetches an image from S3 and returns a numpy array.\"\"\"\n",
    "    s3 = boto3.client('s3')\n",
    "    response = s3.get_object(Bucket=bucket, Key=key)\n",
    "    body = response['Body']\n",
    "    data = body.read()    \n",
    "    f = BytesIO(data)\n",
    "    image = Image.open(f)   \n",
    "    image_data = np.asarray(image)\n",
    "    return image_data"
   ]
  },
  {
   "cell_type": "code",
   "execution_count": 29,
   "metadata": {},
   "outputs": [
    {
     "data": {
      "text/plain": [
       "(640, 640, 3)"
      ]
     },
     "execution_count": 29,
     "metadata": {},
     "output_type": "execute_result"
    }
   ],
   "source": [
    "fetch_image_from_s3(bucket, key).shape"
   ]
  },
  {
   "cell_type": "code",
   "execution_count": null,
   "metadata": {},
   "outputs": [],
   "source": []
  }
 ],
 "metadata": {
  "kernelspec": {
   "display_name": "Python 3",
   "language": "python",
   "name": "python3"
  },
  "language_info": {
   "codemirror_mode": {
    "name": "ipython",
    "version": 3
   },
   "file_extension": ".py",
   "mimetype": "text/x-python",
   "name": "python",
   "nbconvert_exporter": "python",
   "pygments_lexer": "ipython3",
   "version": "3.6.6"
  }
 },
 "nbformat": 4,
 "nbformat_minor": 2
}
