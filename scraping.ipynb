{
 "cells": [
  {
   "cell_type": "code",
   "execution_count": 1,
   "metadata": {},
   "outputs": [],
   "source": [
    "# NumPy versions below 1.17 may be incompatible with some other \n",
    "# packages, so you may need to replace your current version with \n",
    "# an earlier one in order to run this notebook as-is. \n",
    "# !pip uninstall numpy --yes\n",
    "# !pip install \"numpy<1.17\""
   ]
  },
  {
   "cell_type": "code",
   "execution_count": 2,
   "metadata": {},
   "outputs": [],
   "source": [
    "import numpy as np\n",
    "import pandas as pd\n",
    "import json\n",
    "from selenium.webdriver import Chrome, Firefox\n",
    "from functions import get_posts, get_hashtags, get_image, get_full_info\n",
    "import boto3\n",
    "import os"
   ]
  },
  {
   "cell_type": "markdown",
   "metadata": {},
   "source": [
    "## Hashtags to scrape: \n",
    "1. travel\n",
    "2. food\n",
    "3. animals\n",
    "4. selfie\n",
    "5. cars\n",
    "6. fitness\n",
    "7. babies\n",
    "8. wedding\n",
    "9. nature\n",
    "10. architecture"
   ]
  },
  {
   "cell_type": "markdown",
   "metadata": {},
   "source": [
    "## Scraping:\n",
    "\n",
    "### Hashtags (from comments), Image Link, Image Name, Post Link, and Input Hashtag.  Then exporting the data to .json files, stored in a seperate folder.\n",
    "\n",
    "### *get_full_info* function also retrieves and downloads the actual image, which are stored locally to optimize possible space constraints.\n",
    "\n",
    "### **If you want to scrape your own hashtags,** simply add them to the list and run the remaining cells. "
   ]
  },
  {
   "cell_type": "code",
   "execution_count": 3,
   "metadata": {},
   "outputs": [],
   "source": [
    "# EXAMPLE:\n",
    "# hashtags = [\"travel\", \"food\", \"animals\", \"selfie\", \"cars\", \"fitness\", \"babies\", \"wedding\", \"nature\", \"architecture\"]\n",
    "\n",
    "# Your own hashtags here:\n",
    "hashtags = []"
   ]
  },
  {
   "cell_type": "code",
   "execution_count": 4,
   "metadata": {},
   "outputs": [
    {
     "name": "stdout",
     "output_type": "stream",
     "text": [
      "Folder 'data' already exists.\n",
      "Folder 'metadata' already exists.\n"
     ]
    }
   ],
   "source": [
    "folder_names = [\"data\", \"metadata\"]\n",
    "for folder_name in folder_names:\n",
    "    try:\n",
    "        os.mkdir(folder_name)\n",
    "    except OSError:\n",
    "        print(f\"Folder '{folder_name}' already exists.\")"
   ]
  },
  {
   "cell_type": "code",
   "execution_count": 5,
   "metadata": {},
   "outputs": [],
   "source": [
    "for hashtag in hashtags:\n",
    "    hashtag_data = get_full_info(hashtag, 10)\n",
    "\n",
    "    with open(f\"metadata/{hashtag}.json\", \"w\") as f:\n",
    "        json.dump(hashtag_data, f)"
   ]
  },
  {
   "cell_type": "markdown",
   "metadata": {},
   "source": [
    "### You can use `pd.read_json` to import hashtag data again. "
   ]
  },
  {
   "cell_type": "code",
   "execution_count": 6,
   "metadata": {},
   "outputs": [],
   "source": [
    "# travel_df = pd.read_json(\"metadata/travel.json\")\n",
    "# travel_df.head()"
   ]
  },
  {
   "cell_type": "markdown",
   "metadata": {},
   "source": [
    "### Optionally you can also use this scaffolding for uploading scraped images to an S3 bucket, although you will of course need to set up your own S3 bucket."
   ]
  },
  {
   "cell_type": "code",
   "execution_count": 7,
   "metadata": {},
   "outputs": [],
   "source": [
    "# s3 = boto3.resource(\"s3\")\n",
    "\n",
    "# hashtags_to_upload = [\"foo\", \"bar\"]\n",
    "# for hashtag in hashtags_to_upload:\n",
    "#     for img in hashtag: \n",
    "#         source = f\"data/{img[\"image_local_name\"]}\"\n",
    "#         bucket = f\"instagram-images-mod4\"\n",
    "#         destination = f\"{img[\"search_hashtag\"]}/{img[\"image_local_name\"]}\"\n",
    "#         s3.meta.client.upload_file(source, bucket, destination)"
   ]
  },
  {
   "cell_type": "code",
   "execution_count": null,
   "metadata": {},
   "outputs": [],
   "source": []
  }
 ],
 "metadata": {
  "kernelspec": {
   "display_name": "Python 3",
   "language": "python",
   "name": "python3"
  },
  "language_info": {
   "codemirror_mode": {
    "name": "ipython",
    "version": 3
   },
   "file_extension": ".py",
   "mimetype": "text/x-python",
   "name": "python",
   "nbconvert_exporter": "python",
   "pygments_lexer": "ipython3",
   "version": "3.7.1"
  }
 },
 "nbformat": 4,
 "nbformat_minor": 2
}
