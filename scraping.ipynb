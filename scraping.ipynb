{
 "cells": [
  {
   "cell_type": "code",
   "execution_count": 2,
   "metadata": {},
   "outputs": [
    {
     "name": "stdout",
     "output_type": "stream",
     "text": [
      "Uninstalling numpy-1.17.0:\n",
      "  Successfully uninstalled numpy-1.17.0\n"
     ]
    }
   ],
   "source": [
    "# Had numpy version error. Uninstalled it and installed it back.\n",
    "# !pip uninstall numpy --yes"
   ]
  },
  {
   "cell_type": "code",
   "execution_count": 3,
   "metadata": {},
   "outputs": [
    {
     "name": "stdout",
     "output_type": "stream",
     "text": [
      "Collecting numpy<1.17\n",
      "\u001b[?25l  Downloading https://files.pythonhosted.org/packages/6b/be/608b7f72b851472388eafc010a5d46dae5d41610d0ac5df4c98c2ed1b865/numpy-1.16.4-cp37-cp37m-macosx_10_6_intel.macosx_10_9_intel.macosx_10_9_x86_64.macosx_10_10_intel.macosx_10_10_x86_64.whl (13.9MB)\n",
      "\u001b[K    100% |████████████████████████████████| 13.9MB 890kB/s ta 0:00:01\n",
      "\u001b[?25hInstalling collected packages: numpy\n",
      "Successfully installed numpy-1.16.4\n"
     ]
    }
   ],
   "source": [
    "# Version 1.17 is not compatible with some other packages\n",
    "# !pip install \"numpy<1.17\""
   ]
  },
  {
   "cell_type": "code",
   "execution_count": 4,
   "metadata": {},
   "outputs": [],
   "source": [
    "import numpy as np\n",
    "import pandas as pd\n",
    "import re\n",
    "import json\n",
    "from selenium.webdriver import Chrome, Firefox\n",
    "from collections import Counter\n",
    "import urllib.request\n",
    "from functions import get_posts, get_hashtags, get_image, get_full_info\n",
    "import boto3\n",
    "from io import BytesIO\n",
    "from os import walk"
   ]
  },
  {
   "cell_type": "markdown",
   "metadata": {},
   "source": [
    "### Hashtags to scrape: \n",
    "1. travel\n",
    "2. food\n",
    "3. animals\n",
    "4. selfie\n",
    "5. cars\n",
    "6. fitness\n",
    "7. babies\n",
    "8. wedding\n",
    "9. nature\n",
    "10. architecture"
   ]
  },
  {
   "cell_type": "markdown",
   "metadata": {},
   "source": [
    "## Scraping:\n",
    "\n",
    "### Hashtags (from comments), Image Link, Image Name, Post Link, and Input Hashtag.  Then exporting the data to .json files, stored in a seperate folder.\n",
    "\n",
    "### *get_full_info* function also retrieves and downloads the actual image, which are stored locally to optimize possible space constraints.\n",
    "\n",
    "### **If you want to scrape your own hashtags,** simply add them to the list and run the remaining cells. "
   ]
  },
  {
   "cell_type": "code",
   "execution_count": 5,
   "metadata": {},
   "outputs": [],
   "source": [
    "# EXAMPLE:\n",
    "# hashtags = ['travel', 'food', 'animals', 'selfie', 'cars', 'fitness', 'babies', 'wedding', 'nature', 'architecture']\n",
    "\n",
    "# Your own hashtags here:\n",
    "hashtags = []"
   ]
  },
  {
   "cell_type": "code",
   "execution_count": 6,
   "metadata": {},
   "outputs": [],
   "source": [
    "for hashtag in hashtags:\n",
    "    hashtag_data = get_full_info(hashtag, 300)\n",
    "\n",
    "    with open(f'json_files/{hashtag}.json', 'w') as f:\n",
    "        json.dump(hashtag_data, f)"
   ]
  },
  {
   "cell_type": "markdown",
   "metadata": {},
   "source": [
    "### Import JSON files back into pandas dataframe"
   ]
  },
  {
   "cell_type": "code",
   "execution_count": null,
   "metadata": {},
   "outputs": [],
   "source": [
    "travel_df = pd.read_json('json_files/travel.json')\n",
    "travel_df.head()"
   ]
  },
  {
   "cell_type": "markdown",
   "metadata": {},
   "source": [
    "### Upload images from common folder to S3 bucket folders by hashtag (Anna)\n",
    "Scraped images were all in one folder independently of the category. Had to separate them by hashtag"
   ]
  },
  {
   "cell_type": "code",
   "execution_count": null,
   "metadata": {},
   "outputs": [],
   "source": [
    "#hashtags to separate\n",
    "h_list = ['travel', 'food', 'animals']\n",
    "\n",
    "#import json files\n",
    "data = []\n",
    "for h in h_list:    \n",
    "    with open(f'json_files/{h}.json', 'r') as f:\n",
    "        for line in f:\n",
    "            data.append(json.loads(line))"
   ]
  },
  {
   "cell_type": "code",
   "execution_count": null,
   "metadata": {},
   "outputs": [],
   "source": [
    "#combine json files for all 3 hashtags\n",
    "data_full = data[0] + data[1] + data[2]\n",
    "len(data_full)"
   ]
  },
  {
   "cell_type": "code",
   "execution_count": null,
   "metadata": {},
   "outputs": [],
   "source": [
    "#access s3 with boto3 and upload images\n",
    "s3 = boto3.resource('s3')\n",
    "\n",
    "for h in h_list:\n",
    "    for i in data_full:\n",
    "        if i['search_hashtag'] == h:\n",
    "            source = 'data/'+ i['image_local_name']\n",
    "            bucket = 'instagram-images-mod4'\n",
    "            destination = i['search_hashtag'] + '/' + i['image_local_name']\n",
    "            s3.meta.client.upload_file(source, bucket, destination)"
   ]
  },
  {
   "cell_type": "code",
   "execution_count": null,
   "metadata": {},
   "outputs": [],
   "source": []
  }
 ],
 "metadata": {
  "kernelspec": {
   "display_name": "Python 3",
   "language": "python",
   "name": "python3"
  },
  "language_info": {
   "codemirror_mode": {
    "name": "ipython",
    "version": 3
   },
   "file_extension": ".py",
   "mimetype": "text/x-python",
   "name": "python",
   "nbconvert_exporter": "python",
   "pygments_lexer": "ipython3",
   "version": "3.7.1"
  }
 },
 "nbformat": 4,
 "nbformat_minor": 2
}
