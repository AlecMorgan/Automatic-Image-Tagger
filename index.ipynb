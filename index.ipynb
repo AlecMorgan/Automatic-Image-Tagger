{
 "cells": [
  {
   "cell_type": "markdown",
   "metadata": {},
   "source": [
    "# Building our models: ALS recommender + Deep Neural Network\n",
    "\n",
    "### In this notebook we build and test our models: an ALS recommendation system for generating additional hashtags, and a deep neural network for classifying new images to solve the cold start problem. \n",
    "\n",
    "### If you wish to reproduce the training steps taken here, you will of course need the dataset. Sadly the 1,500 pictures we used exceed Git's file storage allowances, so you will need to scrape your own images (and of course their associated hashtags). Please refer to scraping.ipynb which features a fully automated pipeline for doing this. "
   ]
  },
  {
   "cell_type": "code",
   "execution_count": 2,
   "metadata": {},
   "outputs": [],
   "source": [
    "# TensorFlow 2.0.0 is required for this code to work.\n",
    "# Uncomment and run the following line to install the CPU version.\n",
    "# !pip install tensorflow==2.0.0-beta0 --ignore-installed"
   ]
  },
  {
   "cell_type": "code",
   "execution_count": 1,
   "metadata": {},
   "outputs": [],
   "source": [
    "%load_ext autoreload\n",
    "%autoreload 2"
   ]
  },
  {
   "cell_type": "markdown",
   "metadata": {},
   "source": [
    "### Import necessary modules:"
   ]
  },
  {
   "cell_type": "code",
   "execution_count": 3,
   "metadata": {},
   "outputs": [],
   "source": [
    "import numpy as np\n",
    "import pandas as pd\n",
    "import matplotlib.pyplot as plt\n",
    "%matplotlib inline\n",
    "from random import shuffle\n",
    "import tensorflow as tf\n",
    "from tensorflow.keras.applications import MobileNetV2\n",
    "from pyspark.sql import SparkSession\n",
    "from pyspark.ml.evaluation import RegressionEvaluator\n",
    "from pyspark.ml.recommendation import ALS, ALSModel\n",
    "from sklearn.model_selection import train_test_split\n",
    "from functools import reduce\n",
    "from functions import prepare_image, extract_features\n",
    "import os\n",
    "import json\n",
    "from PIL import Image"
   ]
  },
  {
   "cell_type": "markdown",
   "metadata": {},
   "source": [
    "### Get a list of all hashtags"
   ]
  },
  {
   "cell_type": "code",
   "execution_count": 4,
   "metadata": {},
   "outputs": [],
   "source": [
    "json_file_names = os.listdir('json_files')\n",
    "# Remove the 5 char .json file ending to isolate hashtag name\n",
    "hashtags = [hashtag[:-5] for hashtag in json_file_names]"
   ]
  },
  {
   "cell_type": "code",
   "execution_count": 5,
   "metadata": {},
   "outputs": [
    {
     "data": {
      "text/plain": [
       "['fitness',\n",
       " 'selfie',\n",
       " 'travel',\n",
       " 'nature',\n",
       " 'babies',\n",
       " 'cars',\n",
       " 'food',\n",
       " 'architecture',\n",
       " 'animals',\n",
       " 'wedding']"
      ]
     },
     "execution_count": 5,
     "metadata": {},
     "output_type": "execute_result"
    }
   ],
   "source": [
    "# remove '.DS_', '.ipynb_checkp'\n",
    "non_hashtags = ['.DS_', '.ipynb_checkp']\n",
    "for non_hashtag in non_hashtags:\n",
    "    try:\n",
    "        hashtags.remove(non_hashtag)\n",
    "    except:\n",
    "        pass # If we can't remove it, it's already gone\n",
    "    \n",
    "hashtags"
   ]
  },
  {
   "cell_type": "code",
   "execution_count": 6,
   "metadata": {},
   "outputs": [],
   "source": [
    "hashtag_dfs = []\n",
    "for hashtag in hashtags: \n",
    "    hashtag_dfs.append(pd.read_json(f'json_files/{hashtag}.json'))\n",
    "df = reduce(lambda x, y: pd.concat([x, y]), hashtag_dfs)"
   ]
  },
  {
   "cell_type": "code",
   "execution_count": 7,
   "metadata": {
    "scrolled": true
   },
   "outputs": [],
   "source": [
    "full_list = pd.DataFrame.reset_index(df, drop=True)"
   ]
  },
  {
   "cell_type": "code",
   "execution_count": 8,
   "metadata": {
    "scrolled": false
   },
   "outputs": [
    {
     "data": {
      "text/html": [
       "<div>\n",
       "<style scoped>\n",
       "    .dataframe tbody tr th:only-of-type {\n",
       "        vertical-align: middle;\n",
       "    }\n",
       "\n",
       "    .dataframe tbody tr th {\n",
       "        vertical-align: top;\n",
       "    }\n",
       "\n",
       "    .dataframe thead th {\n",
       "        text-align: right;\n",
       "    }\n",
       "</style>\n",
       "<table border=\"1\" class=\"dataframe\">\n",
       "  <thead>\n",
       "    <tr style=\"text-align: right;\">\n",
       "      <th></th>\n",
       "      <th>hashtags</th>\n",
       "      <th>image</th>\n",
       "      <th>image_local_name</th>\n",
       "      <th>post_link</th>\n",
       "      <th>search_hashtag</th>\n",
       "    </tr>\n",
       "  </thead>\n",
       "  <tbody>\n",
       "    <tr>\n",
       "      <th>2995</th>\n",
       "      <td>[#Wedding, #ido, #ianandwendytietheknot, #wedd...</td>\n",
       "      <td>https://scontent-sea1-1.cdninstagram.com/vp/29...</td>\n",
       "      <td>905a1d9c-b29d-44c7-ab5c-408c0b5d91ac.jpg</td>\n",
       "      <td>https://www.instagram.com/p/B0dcq0FBPQ3/</td>\n",
       "      <td>wedding</td>\n",
       "    </tr>\n",
       "    <tr>\n",
       "      <th>2996</th>\n",
       "      <td>[#wedding, #mariages, #celebrantecuritiba, #ce...</td>\n",
       "      <td>https://scontent-sea1-1.cdninstagram.com/vp/bb...</td>\n",
       "      <td>6e424f02-d10e-42db-a233-9ce2724fb8a9.jpg</td>\n",
       "      <td>https://www.instagram.com/p/BwXbu7MgCTZ/</td>\n",
       "      <td>wedding</td>\n",
       "    </tr>\n",
       "    <tr>\n",
       "      <th>2997</th>\n",
       "      <td>[#weddingring, #wedding, #shoes, #nancy, #sigm...</td>\n",
       "      <td>https://scontent-sea1-1.cdninstagram.com/vp/25...</td>\n",
       "      <td>ae49d2bb-95f7-4d16-9ee5-1603e97e6dd8.jpg</td>\n",
       "      <td>https://www.instagram.com/p/B0gwuc2icKv/</td>\n",
       "      <td>wedding</td>\n",
       "    </tr>\n",
       "    <tr>\n",
       "      <th>2998</th>\n",
       "      <td>[#wedding, #standesamtgoetheallee, #retroweddi...</td>\n",
       "      <td>https://scontent-sea1-1.cdninstagram.com/vp/21...</td>\n",
       "      <td>9152a6d4-abda-4adf-87a4-7988dc4bb3ac.jpg</td>\n",
       "      <td>https://www.instagram.com/p/B0gwufzImAz/</td>\n",
       "      <td>wedding</td>\n",
       "    </tr>\n",
       "    <tr>\n",
       "      <th>2999</th>\n",
       "      <td>[#kinalik, #gelinlik, #bursad, #wedding, #dama...</td>\n",
       "      <td>https://scontent-sea1-1.cdninstagram.com/vp/15...</td>\n",
       "      <td>09aaa471-2ed6-4ead-84db-e4aa6b0ece8f.jpg</td>\n",
       "      <td>https://www.instagram.com/p/B0gwubDhu6M/</td>\n",
       "      <td>wedding</td>\n",
       "    </tr>\n",
       "  </tbody>\n",
       "</table>\n",
       "</div>"
      ],
      "text/plain": [
       "                                               hashtags  \\\n",
       "2995  [#Wedding, #ido, #ianandwendytietheknot, #wedd...   \n",
       "2996  [#wedding, #mariages, #celebrantecuritiba, #ce...   \n",
       "2997  [#weddingring, #wedding, #shoes, #nancy, #sigm...   \n",
       "2998  [#wedding, #standesamtgoetheallee, #retroweddi...   \n",
       "2999  [#kinalik, #gelinlik, #bursad, #wedding, #dama...   \n",
       "\n",
       "                                                  image  \\\n",
       "2995  https://scontent-sea1-1.cdninstagram.com/vp/29...   \n",
       "2996  https://scontent-sea1-1.cdninstagram.com/vp/bb...   \n",
       "2997  https://scontent-sea1-1.cdninstagram.com/vp/25...   \n",
       "2998  https://scontent-sea1-1.cdninstagram.com/vp/21...   \n",
       "2999  https://scontent-sea1-1.cdninstagram.com/vp/15...   \n",
       "\n",
       "                              image_local_name  \\\n",
       "2995  905a1d9c-b29d-44c7-ab5c-408c0b5d91ac.jpg   \n",
       "2996  6e424f02-d10e-42db-a233-9ce2724fb8a9.jpg   \n",
       "2997  ae49d2bb-95f7-4d16-9ee5-1603e97e6dd8.jpg   \n",
       "2998  9152a6d4-abda-4adf-87a4-7988dc4bb3ac.jpg   \n",
       "2999  09aaa471-2ed6-4ead-84db-e4aa6b0ece8f.jpg   \n",
       "\n",
       "                                     post_link search_hashtag  \n",
       "2995  https://www.instagram.com/p/B0dcq0FBPQ3/        wedding  \n",
       "2996  https://www.instagram.com/p/BwXbu7MgCTZ/        wedding  \n",
       "2997  https://www.instagram.com/p/B0gwuc2icKv/        wedding  \n",
       "2998  https://www.instagram.com/p/B0gwufzImAz/        wedding  \n",
       "2999  https://www.instagram.com/p/B0gwubDhu6M/        wedding  "
      ]
     },
     "execution_count": 8,
     "metadata": {},
     "output_type": "execute_result"
    }
   ],
   "source": [
    "full_list.tail()"
   ]
  },
  {
   "cell_type": "markdown",
   "metadata": {},
   "source": [
    "### Resizing image to be used in tensorflow framework for Deep Feature Extraction"
   ]
  },
  {
   "cell_type": "code",
   "execution_count": 9,
   "metadata": {},
   "outputs": [],
   "source": [
    "pics = []\n",
    "for i, row in full_list.iterrows():\n",
    "    name = row['image_local_name']\n",
    "    hashtag = row['search_hashtag']\n",
    "    img_path = f'data/{hashtag}/{name}'\n",
    "    try:\n",
    "        img = prepare_image(img_path, where='local')\n",
    "        pics.append({'pic': img, 'hashtag': hashtag, 'name': name})\n",
    "    except:\n",
    "        # If a file in the list isn't in \n",
    "        # storage, skip it and continue\n",
    "        pass"
   ]
  },
  {
   "cell_type": "code",
   "execution_count": 10,
   "metadata": {},
   "outputs": [
    {
     "data": {
      "text/plain": [
       "tensorflow.python.framework.ops.EagerTensor"
      ]
     },
     "execution_count": 10,
     "metadata": {},
     "output_type": "execute_result"
    }
   ],
   "source": [
    "type(pics[64]['pic'])"
   ]
  },
  {
   "cell_type": "code",
   "execution_count": 11,
   "metadata": {
    "scrolled": true
   },
   "outputs": [
    {
     "name": "stderr",
     "output_type": "stream",
     "text": [
      "WARNING: Logging before flag parsing goes to stderr.\n",
      "W0829 17:04:07.344176 4694390208 image.py:656] Clipping input data to the valid range for imshow with RGB data ([0..1] for floats or [0..255] for integers).\n"
     ]
    },
    {
     "data": {
      "image/png": "[encoded data removed]",
      "text/plain": [
       "<Figure size 432x288 with 1 Axes>"
      ]
     },
     "metadata": {
      "needs_background": "light"
     },
     "output_type": "display_data"
    }
   ],
   "source": [
    "plt.imshow(pics[64]['pic']);"
   ]
  },
  {
   "cell_type": "code",
   "execution_count": 12,
   "metadata": {},
   "outputs": [],
   "source": [
    "# Add extracted deep features information to pics, make it a list of dictionaries\n",
    "deep_features = list(map(extract_features, pics))"
   ]
  },
  {
   "cell_type": "code",
   "execution_count": 15,
   "metadata": {},
   "outputs": [
    {
     "data": {
      "text/plain": [
       "dict_keys(['pic', 'hashtag', 'name', 'deep_features'])"
      ]
     },
     "execution_count": 15,
     "metadata": {},
     "output_type": "execute_result"
    }
   ],
   "source": [
    "# Check the first element of the train set\n",
    "pic = train[0]\n",
    "pic.keys()"
   ]
  },
  {
   "cell_type": "code",
   "execution_count": 16,
   "metadata": {},
   "outputs": [
    {
     "name": "stderr",
     "output_type": "stream",
     "text": [
      "W0829 17:05:21.783342 4694390208 image.py:656] Clipping input data to the valid range for imshow with RGB data ([0..1] for floats or [0..255] for integers).\n"
     ]
    },
    {
     "data": {
      "image/png": "[encoded data removed]",
      "text/plain": [
       "<Figure size 432x288 with 1 Axes>"
      ]
     },
     "metadata": {
      "needs_background": "light"
     },
     "output_type": "display_data"
    }
   ],
   "source": [
    "plt.imshow(pic['pic']);"
   ]
  },
  {
   "cell_type": "code",
   "execution_count": 17,
   "metadata": {},
   "outputs": [
    {
     "data": {
      "text/plain": [
       "('babies', (1280,), TensorShape([160, 160, 3]))"
      ]
     },
     "execution_count": 17,
     "metadata": {},
     "output_type": "execute_result"
    }
   ],
   "source": [
    "pic['hashtag'], pic['deep_features'].shape, pic['pic'].shape"
   ]
  },
  {
   "cell_type": "code",
   "execution_count": 53,
   "metadata": {},
   "outputs": [
    {
     "data": {
      "text/html": [
       "<div>\n",
       "<style scoped>\n",
       "    .dataframe tbody tr th:only-of-type {\n",
       "        vertical-align: middle;\n",
       "    }\n",
       "\n",
       "    .dataframe tbody tr th {\n",
       "        vertical-align: top;\n",
       "    }\n",
       "\n",
       "    .dataframe thead th {\n",
       "        text-align: right;\n",
       "    }\n",
       "</style>\n",
       "<table border=\"1\" class=\"dataframe\">\n",
       "  <thead>\n",
       "    <tr style=\"text-align: right;\">\n",
       "      <th></th>\n",
       "      <th>deep_features</th>\n",
       "      <th>hashtag</th>\n",
       "      <th>name</th>\n",
       "      <th>pic</th>\n",
       "    </tr>\n",
       "  </thead>\n",
       "  <tbody>\n",
       "    <tr>\n",
       "      <th>0</th>\n",
       "      <td>[0.09537401, 0.0, 0.0, 1.3010054, 0.06189001, ...</td>\n",
       "      <td>babies</td>\n",
       "      <td>c7859ea9-d0d4-491e-af91-d91e9a8c122b.jpg</td>\n",
       "      <td>(((tf.Tensor(-0.3705882, shape=(), dtype=float...</td>\n",
       "    </tr>\n",
       "    <tr>\n",
       "      <th>1</th>\n",
       "      <td>[0.0, 0.08503536, 0.9841172, 0.79477465, 2.028...</td>\n",
       "      <td>animals</td>\n",
       "      <td>45d6c48c-c25e-42fc-854f-df71bf6de43e.jpg</td>\n",
       "      <td>(((tf.Tensor(0.627451, shape=(), dtype=float32...</td>\n",
       "    </tr>\n",
       "    <tr>\n",
       "      <th>2</th>\n",
       "      <td>[0.0, 0.1421825, 0.29680955, 0.461614, 0.10577...</td>\n",
       "      <td>architecture</td>\n",
       "      <td>0b51899b-dc3c-4f30-9230-3f5223cf79a6.jpg</td>\n",
       "      <td>(((tf.Tensor(0.52156866, shape=(), dtype=float...</td>\n",
       "    </tr>\n",
       "    <tr>\n",
       "      <th>3</th>\n",
       "      <td>[0.2723638, 0.07413437, 1.3867798, 0.0, 0.3256...</td>\n",
       "      <td>animals</td>\n",
       "      <td>6ca3e818-6023-43d8-bf47-e958a52f0530.jpg</td>\n",
       "      <td>(((tf.Tensor(0.3921569, shape=(), dtype=float3...</td>\n",
       "    </tr>\n",
       "    <tr>\n",
       "      <th>4</th>\n",
       "      <td>[0.0, 0.0, 0.4716914, 0.0, 0.0, 2.7325175, 0.8...</td>\n",
       "      <td>animals</td>\n",
       "      <td>b1d7803e-68cc-4bed-9d7c-ed0590899403.jpg</td>\n",
       "      <td>(((tf.Tensor(-0.1607843, shape=(), dtype=float...</td>\n",
       "    </tr>\n",
       "  </tbody>\n",
       "</table>\n",
       "</div>"
      ],
      "text/plain": [
       "                                       deep_features       hashtag  \\\n",
       "0  [0.09537401, 0.0, 0.0, 1.3010054, 0.06189001, ...        babies   \n",
       "1  [0.0, 0.08503536, 0.9841172, 0.79477465, 2.028...       animals   \n",
       "2  [0.0, 0.1421825, 0.29680955, 0.461614, 0.10577...  architecture   \n",
       "3  [0.2723638, 0.07413437, 1.3867798, 0.0, 0.3256...       animals   \n",
       "4  [0.0, 0.0, 0.4716914, 0.0, 0.0, 2.7325175, 0.8...       animals   \n",
       "\n",
       "                                       name  \\\n",
       "0  c7859ea9-d0d4-491e-af91-d91e9a8c122b.jpg   \n",
       "1  45d6c48c-c25e-42fc-854f-df71bf6de43e.jpg   \n",
       "2  0b51899b-dc3c-4f30-9230-3f5223cf79a6.jpg   \n",
       "3  6ca3e818-6023-43d8-bf47-e958a52f0530.jpg   \n",
       "4  b1d7803e-68cc-4bed-9d7c-ed0590899403.jpg   \n",
       "\n",
       "                                                 pic  \n",
       "0  (((tf.Tensor(-0.3705882, shape=(), dtype=float...  \n",
       "1  (((tf.Tensor(0.627451, shape=(), dtype=float32...  \n",
       "2  (((tf.Tensor(0.52156866, shape=(), dtype=float...  \n",
       "3  (((tf.Tensor(0.3921569, shape=(), dtype=float3...  \n",
       "4  (((tf.Tensor(-0.1607843, shape=(), dtype=float...  "
      ]
     },
     "execution_count": 53,
     "metadata": {},
     "output_type": "execute_result"
    }
   ],
   "source": [
    "df = pd.DataFrame(deep_features)\n",
    "df.head()"
   ]
  },
  {
   "cell_type": "code",
   "execution_count": 20,
   "metadata": {},
   "outputs": [],
   "source": [
    "filepath = \"pkl_files/df_deep_features.pkl\"\n",
    "if os.path.exists(filepath):\n",
    "    df.to_pickle(filepath)"
   ]
  },
  {
   "cell_type": "markdown",
   "metadata": {},
   "source": [
    "## ALS Model"
   ]
  },
  {
   "cell_type": "code",
   "execution_count": 21,
   "metadata": {},
   "outputs": [],
   "source": [
    "spark = SparkSession.builder.master('local').getOrCreate()"
   ]
  },
  {
   "cell_type": "code",
   "execution_count": 22,
   "metadata": {},
   "outputs": [
    {
     "data": {
      "text/plain": [
       "(2400, 600, 3000)"
      ]
     },
     "execution_count": 22,
     "metadata": {},
     "output_type": "execute_result"
    }
   ],
   "source": [
    "# Train test split full_list. Not used in the model. Use code when necessary.\n",
    "train, test = train_test_split(full_list, test_size=0.2)\n",
    "\n",
    "len(train), len(test), len(full_list)"
   ]
  },
  {
   "cell_type": "code",
   "execution_count": 23,
   "metadata": {},
   "outputs": [
    {
     "data": {
      "text/html": [
       "<div>\n",
       "<style scoped>\n",
       "    .dataframe tbody tr th:only-of-type {\n",
       "        vertical-align: middle;\n",
       "    }\n",
       "\n",
       "    .dataframe tbody tr th {\n",
       "        vertical-align: top;\n",
       "    }\n",
       "\n",
       "    .dataframe thead th {\n",
       "        text-align: right;\n",
       "    }\n",
       "</style>\n",
       "<table border=\"1\" class=\"dataframe\">\n",
       "  <thead>\n",
       "    <tr style=\"text-align: right;\">\n",
       "      <th></th>\n",
       "      <th>hashtags</th>\n",
       "      <th>image</th>\n",
       "      <th>image_local_name</th>\n",
       "      <th>post_link</th>\n",
       "      <th>search_hashtag</th>\n",
       "    </tr>\n",
       "  </thead>\n",
       "  <tbody>\n",
       "    <tr>\n",
       "      <th>2324</th>\n",
       "      <td>[architecture]</td>\n",
       "      <td>NaN</td>\n",
       "      <td>cffd5558-a181-48fd-b9c7-a5d827c06ecd.jpg</td>\n",
       "      <td>NaN</td>\n",
       "      <td>architecture</td>\n",
       "    </tr>\n",
       "    <tr>\n",
       "      <th>780</th>\n",
       "      <td>[#goinghometoday, #travel, #waithing, #traveli...</td>\n",
       "      <td>https://scontent-lga3-1.cdninstagram.com/vp/2d...</td>\n",
       "      <td>cab8d69a-9704-48da-b48e-f4594a2acdbd.jpg</td>\n",
       "      <td>https://www.instagram.com/p/By3OGJTBNhL/</td>\n",
       "      <td>travel</td>\n",
       "    </tr>\n",
       "    <tr>\n",
       "      <th>2584</th>\n",
       "      <td>[#repost, #apoya, #loveanimals, #ayudanosayuda...</td>\n",
       "      <td>https://scontent-lga3-1.cdninstagram.com/vp/c8...</td>\n",
       "      <td>60784411-c999-459a-b7ba-3dddcaae8a20.jpg</td>\n",
       "      <td>https://www.instagram.com/p/By3oLsPF-2G/</td>\n",
       "      <td>animals</td>\n",
       "    </tr>\n",
       "    <tr>\n",
       "      <th>2519</th>\n",
       "      <td>[#puppydog, #animal, #valdivia, #greyhound, #d...</td>\n",
       "      <td>https://scontent-lga3-1.cdninstagram.com/vp/91...</td>\n",
       "      <td>4d1db65c-c0de-4191-9703-ba6a3f986a13.jpg</td>\n",
       "      <td>https://www.instagram.com/p/By3od_PpNTa/</td>\n",
       "      <td>animals</td>\n",
       "    </tr>\n",
       "    <tr>\n",
       "      <th>2916</th>\n",
       "      <td>[#tanaandjake, #logangsters, #dentingtheuniver...</td>\n",
       "      <td>https://scontent-sea1-1.cdninstagram.com/vp/d6...</td>\n",
       "      <td>bdae9c3a-c90e-4278-b399-754e6227e7ef.jpg</td>\n",
       "      <td>https://www.instagram.com/p/B0gwzbag2ge/</td>\n",
       "      <td>wedding</td>\n",
       "    </tr>\n",
       "  </tbody>\n",
       "</table>\n",
       "</div>"
      ],
      "text/plain": [
       "                                               hashtags  \\\n",
       "2324                                     [architecture]   \n",
       "780   [#goinghometoday, #travel, #waithing, #traveli...   \n",
       "2584  [#repost, #apoya, #loveanimals, #ayudanosayuda...   \n",
       "2519  [#puppydog, #animal, #valdivia, #greyhound, #d...   \n",
       "2916  [#tanaandjake, #logangsters, #dentingtheuniver...   \n",
       "\n",
       "                                                  image  \\\n",
       "2324                                                NaN   \n",
       "780   https://scontent-lga3-1.cdninstagram.com/vp/2d...   \n",
       "2584  https://scontent-lga3-1.cdninstagram.com/vp/c8...   \n",
       "2519  https://scontent-lga3-1.cdninstagram.com/vp/91...   \n",
       "2916  https://scontent-sea1-1.cdninstagram.com/vp/d6...   \n",
       "\n",
       "                              image_local_name  \\\n",
       "2324  cffd5558-a181-48fd-b9c7-a5d827c06ecd.jpg   \n",
       "780   cab8d69a-9704-48da-b48e-f4594a2acdbd.jpg   \n",
       "2584  60784411-c999-459a-b7ba-3dddcaae8a20.jpg   \n",
       "2519  4d1db65c-c0de-4191-9703-ba6a3f986a13.jpg   \n",
       "2916  bdae9c3a-c90e-4278-b399-754e6227e7ef.jpg   \n",
       "\n",
       "                                     post_link search_hashtag  \n",
       "2324                                       NaN   architecture  \n",
       "780   https://www.instagram.com/p/By3OGJTBNhL/         travel  \n",
       "2584  https://www.instagram.com/p/By3oLsPF-2G/        animals  \n",
       "2519  https://www.instagram.com/p/By3od_PpNTa/        animals  \n",
       "2916  https://www.instagram.com/p/B0gwzbag2ge/        wedding  "
      ]
     },
     "execution_count": 23,
     "metadata": {},
     "output_type": "execute_result"
    }
   ],
   "source": [
    "train.head()"
   ]
  },
  {
   "cell_type": "code",
   "execution_count": 24,
   "metadata": {},
   "outputs": [
    {
     "data": {
      "text/html": [
       "<div>\n",
       "<style scoped>\n",
       "    .dataframe tbody tr th:only-of-type {\n",
       "        vertical-align: middle;\n",
       "    }\n",
       "\n",
       "    .dataframe tbody tr th {\n",
       "        vertical-align: top;\n",
       "    }\n",
       "\n",
       "    .dataframe thead th {\n",
       "        text-align: right;\n",
       "    }\n",
       "</style>\n",
       "<table border=\"1\" class=\"dataframe\">\n",
       "  <thead>\n",
       "    <tr style=\"text-align: right;\">\n",
       "      <th></th>\n",
       "      <th>hashtags</th>\n",
       "      <th>image</th>\n",
       "      <th>image_local_name</th>\n",
       "      <th>post_link</th>\n",
       "      <th>search_hashtag</th>\n",
       "    </tr>\n",
       "  </thead>\n",
       "  <tbody>\n",
       "    <tr>\n",
       "      <th>0</th>\n",
       "      <td>[#herbalifeshake, #kilokontrol, #herbalife, #h...</td>\n",
       "      <td>https://scontent-mad1-1.cdninstagram.com/vp/bd...</td>\n",
       "      <td>ff07fa3f-0482-4757-926e-3e6229f7d0d7.jpg</td>\n",
       "      <td>https://www.instagram.com/p/B02xq0AFpe9/</td>\n",
       "      <td>fitness</td>\n",
       "    </tr>\n",
       "    <tr>\n",
       "      <th>1</th>\n",
       "      <td>[]</td>\n",
       "      <td>https://scontent-mad1-1.cdninstagram.com/vp/b9...</td>\n",
       "      <td>7cff7c70-b983-4c6b-adee-fc5676acddf3.jpg</td>\n",
       "      <td>https://www.instagram.com/p/B02sMkwJnny/</td>\n",
       "      <td>fitness</td>\n",
       "    </tr>\n",
       "    <tr>\n",
       "      <th>2</th>\n",
       "      <td>[#bollywood, #indian, #art, #love, #india, #gi...</td>\n",
       "      <td>https://scontent-mad1-1.cdninstagram.com/vp/2b...</td>\n",
       "      <td>b7de6dac-4294-45d5-aac0-8a749b7e4cc5.jpg</td>\n",
       "      <td>https://www.instagram.com/p/B02zfuaDfP4/</td>\n",
       "      <td>fitness</td>\n",
       "    </tr>\n",
       "    <tr>\n",
       "      <th>3</th>\n",
       "      <td>[#popxodaily, #personalblog, #loveforblack, #l...</td>\n",
       "      <td>https://scontent-mad1-1.cdninstagram.com/vp/34...</td>\n",
       "      <td>f699faef-b071-46f2-bf5c-fd9f1ff7626a.jpg</td>\n",
       "      <td>https://www.instagram.com/p/B02yOH3nfzB/</td>\n",
       "      <td>fitness</td>\n",
       "    </tr>\n",
       "    <tr>\n",
       "      <th>4</th>\n",
       "      <td>[]</td>\n",
       "      <td>https://scontent-mad1-1.cdninstagram.com/vp/31...</td>\n",
       "      <td>7f25fd41-5f1b-4181-8128-4f7464f4c2ad.jpg</td>\n",
       "      <td>https://www.instagram.com/p/B02rDHDF28T/</td>\n",
       "      <td>fitness</td>\n",
       "    </tr>\n",
       "  </tbody>\n",
       "</table>\n",
       "</div>"
      ],
      "text/plain": [
       "                                            hashtags  \\\n",
       "0  [#herbalifeshake, #kilokontrol, #herbalife, #h...   \n",
       "1                                                 []   \n",
       "2  [#bollywood, #indian, #art, #love, #india, #gi...   \n",
       "3  [#popxodaily, #personalblog, #loveforblack, #l...   \n",
       "4                                                 []   \n",
       "\n",
       "                                               image  \\\n",
       "0  https://scontent-mad1-1.cdninstagram.com/vp/bd...   \n",
       "1  https://scontent-mad1-1.cdninstagram.com/vp/b9...   \n",
       "2  https://scontent-mad1-1.cdninstagram.com/vp/2b...   \n",
       "3  https://scontent-mad1-1.cdninstagram.com/vp/34...   \n",
       "4  https://scontent-mad1-1.cdninstagram.com/vp/31...   \n",
       "\n",
       "                           image_local_name  \\\n",
       "0  ff07fa3f-0482-4757-926e-3e6229f7d0d7.jpg   \n",
       "1  7cff7c70-b983-4c6b-adee-fc5676acddf3.jpg   \n",
       "2  b7de6dac-4294-45d5-aac0-8a749b7e4cc5.jpg   \n",
       "3  f699faef-b071-46f2-bf5c-fd9f1ff7626a.jpg   \n",
       "4  7f25fd41-5f1b-4181-8128-4f7464f4c2ad.jpg   \n",
       "\n",
       "                                  post_link search_hashtag  \n",
       "0  https://www.instagram.com/p/B02xq0AFpe9/        fitness  \n",
       "1  https://www.instagram.com/p/B02sMkwJnny/        fitness  \n",
       "2  https://www.instagram.com/p/B02zfuaDfP4/        fitness  \n",
       "3  https://www.instagram.com/p/B02yOH3nfzB/        fitness  \n",
       "4  https://www.instagram.com/p/B02rDHDF28T/        fitness  "
      ]
     },
     "execution_count": 24,
     "metadata": {},
     "output_type": "execute_result"
    }
   ],
   "source": [
    "full_list.head()"
   ]
  },
  {
   "cell_type": "code",
   "execution_count": 25,
   "metadata": {},
   "outputs": [],
   "source": [
    "full_list['clean_hashtags'] = full_list['hashtags'].apply(\n",
    "    lambda hashtag_list: [h for h in hashtag_list if h.startswith('#')])"
   ]
  },
  {
   "cell_type": "code",
   "execution_count": 26,
   "metadata": {
    "scrolled": true
   },
   "outputs": [
    {
     "data": {
      "text/html": [
       "<div>\n",
       "<style scoped>\n",
       "    .dataframe tbody tr th:only-of-type {\n",
       "        vertical-align: middle;\n",
       "    }\n",
       "\n",
       "    .dataframe tbody tr th {\n",
       "        vertical-align: top;\n",
       "    }\n",
       "\n",
       "    .dataframe thead th {\n",
       "        text-align: right;\n",
       "    }\n",
       "</style>\n",
       "<table border=\"1\" class=\"dataframe\">\n",
       "  <thead>\n",
       "    <tr style=\"text-align: right;\">\n",
       "      <th></th>\n",
       "      <th>hashtags</th>\n",
       "      <th>image</th>\n",
       "      <th>image_local_name</th>\n",
       "      <th>post_link</th>\n",
       "      <th>search_hashtag</th>\n",
       "      <th>clean_hashtags</th>\n",
       "    </tr>\n",
       "  </thead>\n",
       "  <tbody>\n",
       "    <tr>\n",
       "      <th>0</th>\n",
       "      <td>[#herbalifeshake, #kilokontrol, #herbalife, #h...</td>\n",
       "      <td>https://scontent-mad1-1.cdninstagram.com/vp/bd...</td>\n",
       "      <td>ff07fa3f-0482-4757-926e-3e6229f7d0d7.jpg</td>\n",
       "      <td>https://www.instagram.com/p/B02xq0AFpe9/</td>\n",
       "      <td>fitness</td>\n",
       "      <td>[#herbalifeshake, #kilokontrol, #herbalife, #h...</td>\n",
       "    </tr>\n",
       "    <tr>\n",
       "      <th>1</th>\n",
       "      <td>[]</td>\n",
       "      <td>https://scontent-mad1-1.cdninstagram.com/vp/b9...</td>\n",
       "      <td>7cff7c70-b983-4c6b-adee-fc5676acddf3.jpg</td>\n",
       "      <td>https://www.instagram.com/p/B02sMkwJnny/</td>\n",
       "      <td>fitness</td>\n",
       "      <td>[]</td>\n",
       "    </tr>\n",
       "    <tr>\n",
       "      <th>2</th>\n",
       "      <td>[#bollywood, #indian, #art, #love, #india, #gi...</td>\n",
       "      <td>https://scontent-mad1-1.cdninstagram.com/vp/2b...</td>\n",
       "      <td>b7de6dac-4294-45d5-aac0-8a749b7e4cc5.jpg</td>\n",
       "      <td>https://www.instagram.com/p/B02zfuaDfP4/</td>\n",
       "      <td>fitness</td>\n",
       "      <td>[#bollywood, #indian, #art, #love, #india, #gi...</td>\n",
       "    </tr>\n",
       "    <tr>\n",
       "      <th>3</th>\n",
       "      <td>[#popxodaily, #personalblog, #loveforblack, #l...</td>\n",
       "      <td>https://scontent-mad1-1.cdninstagram.com/vp/34...</td>\n",
       "      <td>f699faef-b071-46f2-bf5c-fd9f1ff7626a.jpg</td>\n",
       "      <td>https://www.instagram.com/p/B02yOH3nfzB/</td>\n",
       "      <td>fitness</td>\n",
       "      <td>[#popxodaily, #personalblog, #loveforblack, #l...</td>\n",
       "    </tr>\n",
       "    <tr>\n",
       "      <th>4</th>\n",
       "      <td>[]</td>\n",
       "      <td>https://scontent-mad1-1.cdninstagram.com/vp/31...</td>\n",
       "      <td>7f25fd41-5f1b-4181-8128-4f7464f4c2ad.jpg</td>\n",
       "      <td>https://www.instagram.com/p/B02rDHDF28T/</td>\n",
       "      <td>fitness</td>\n",
       "      <td>[]</td>\n",
       "    </tr>\n",
       "  </tbody>\n",
       "</table>\n",
       "</div>"
      ],
      "text/plain": [
       "                                            hashtags  \\\n",
       "0  [#herbalifeshake, #kilokontrol, #herbalife, #h...   \n",
       "1                                                 []   \n",
       "2  [#bollywood, #indian, #art, #love, #india, #gi...   \n",
       "3  [#popxodaily, #personalblog, #loveforblack, #l...   \n",
       "4                                                 []   \n",
       "\n",
       "                                               image  \\\n",
       "0  https://scontent-mad1-1.cdninstagram.com/vp/bd...   \n",
       "1  https://scontent-mad1-1.cdninstagram.com/vp/b9...   \n",
       "2  https://scontent-mad1-1.cdninstagram.com/vp/2b...   \n",
       "3  https://scontent-mad1-1.cdninstagram.com/vp/34...   \n",
       "4  https://scontent-mad1-1.cdninstagram.com/vp/31...   \n",
       "\n",
       "                           image_local_name  \\\n",
       "0  ff07fa3f-0482-4757-926e-3e6229f7d0d7.jpg   \n",
       "1  7cff7c70-b983-4c6b-adee-fc5676acddf3.jpg   \n",
       "2  b7de6dac-4294-45d5-aac0-8a749b7e4cc5.jpg   \n",
       "3  f699faef-b071-46f2-bf5c-fd9f1ff7626a.jpg   \n",
       "4  7f25fd41-5f1b-4181-8128-4f7464f4c2ad.jpg   \n",
       "\n",
       "                                  post_link search_hashtag  \\\n",
       "0  https://www.instagram.com/p/B02xq0AFpe9/        fitness   \n",
       "1  https://www.instagram.com/p/B02sMkwJnny/        fitness   \n",
       "2  https://www.instagram.com/p/B02zfuaDfP4/        fitness   \n",
       "3  https://www.instagram.com/p/B02yOH3nfzB/        fitness   \n",
       "4  https://www.instagram.com/p/B02rDHDF28T/        fitness   \n",
       "\n",
       "                                      clean_hashtags  \n",
       "0  [#herbalifeshake, #kilokontrol, #herbalife, #h...  \n",
       "1                                                 []  \n",
       "2  [#bollywood, #indian, #art, #love, #india, #gi...  \n",
       "3  [#popxodaily, #personalblog, #loveforblack, #l...  \n",
       "4                                                 []  "
      ]
     },
     "execution_count": 26,
     "metadata": {},
     "output_type": "execute_result"
    }
   ],
   "source": [
    "full_list.head()"
   ]
  },
  {
   "cell_type": "code",
   "execution_count": 27,
   "metadata": {},
   "outputs": [],
   "source": [
    "image_lookup = dict(zip(full_list['image_local_name'], full_list.index))"
   ]
  },
  {
   "cell_type": "code",
   "execution_count": 28,
   "metadata": {},
   "outputs": [],
   "source": [
    "all_hashtags = set()\n",
    "for tags in full_list['clean_hashtags']:\n",
    "    all_hashtags.update(tags)\n",
    "hashtag_lookup = {hashtag: i for i, hashtag in enumerate(all_hashtags)}"
   ]
  },
  {
   "cell_type": "code",
   "execution_count": 29,
   "metadata": {},
   "outputs": [],
   "source": [
    "hashtag_data = []\n",
    "for i in full_list.index:\n",
    "    hashtags = full_list.loc[i, 'clean_hashtags']\n",
    "    for hashtag in hashtags:\n",
    "        hashtag_data.append(\n",
    "            {'image_id': i,\n",
    "             'hashtag_id': hashtag_lookup[hashtag],\n",
    "             'rating': 1}\n",
    "        )\n",
    "hashtag_df_long = pd.DataFrame(hashtag_data)"
   ]
  },
  {
   "cell_type": "code",
   "execution_count": 30,
   "metadata": {},
   "outputs": [
    {
     "data": {
      "text/html": [
       "<div>\n",
       "<style scoped>\n",
       "    .dataframe tbody tr th:only-of-type {\n",
       "        vertical-align: middle;\n",
       "    }\n",
       "\n",
       "    .dataframe tbody tr th {\n",
       "        vertical-align: top;\n",
       "    }\n",
       "\n",
       "    .dataframe thead th {\n",
       "        text-align: right;\n",
       "    }\n",
       "</style>\n",
       "<table border=\"1\" class=\"dataframe\">\n",
       "  <thead>\n",
       "    <tr style=\"text-align: right;\">\n",
       "      <th></th>\n",
       "      <th>hashtag_id</th>\n",
       "      <th>image_id</th>\n",
       "      <th>rating</th>\n",
       "    </tr>\n",
       "  </thead>\n",
       "  <tbody>\n",
       "    <tr>\n",
       "      <th>47467</th>\n",
       "      <td>4863</td>\n",
       "      <td>2999</td>\n",
       "      <td>1</td>\n",
       "    </tr>\n",
       "    <tr>\n",
       "      <th>47468</th>\n",
       "      <td>13141</td>\n",
       "      <td>2999</td>\n",
       "      <td>1</td>\n",
       "    </tr>\n",
       "    <tr>\n",
       "      <th>47469</th>\n",
       "      <td>1215</td>\n",
       "      <td>2999</td>\n",
       "      <td>1</td>\n",
       "    </tr>\n",
       "    <tr>\n",
       "      <th>47470</th>\n",
       "      <td>3137</td>\n",
       "      <td>2999</td>\n",
       "      <td>1</td>\n",
       "    </tr>\n",
       "    <tr>\n",
       "      <th>47471</th>\n",
       "      <td>3277</td>\n",
       "      <td>2999</td>\n",
       "      <td>1</td>\n",
       "    </tr>\n",
       "  </tbody>\n",
       "</table>\n",
       "</div>"
      ],
      "text/plain": [
       "       hashtag_id  image_id  rating\n",
       "47467        4863      2999       1\n",
       "47468       13141      2999       1\n",
       "47469        1215      2999       1\n",
       "47470        3137      2999       1\n",
       "47471        3277      2999       1"
      ]
     },
     "execution_count": 30,
     "metadata": {},
     "output_type": "execute_result"
    }
   ],
   "source": [
    "hashtag_df_long.tail()"
   ]
  },
  {
   "cell_type": "code",
   "execution_count": 31,
   "metadata": {
    "scrolled": true
   },
   "outputs": [
    {
     "data": {
      "text/plain": [
       "hashtags            object\n",
       "image               object\n",
       "image_local_name    object\n",
       "post_link           object\n",
       "search_hashtag      object\n",
       "clean_hashtags      object\n",
       "dtype: object"
      ]
     },
     "execution_count": 31,
     "metadata": {},
     "output_type": "execute_result"
    }
   ],
   "source": [
    "full_list.dtypes"
   ]
  },
  {
   "cell_type": "code",
   "execution_count": 32,
   "metadata": {},
   "outputs": [],
   "source": [
    "als = ALS(userCol='image_id',\n",
    "          itemCol='hashtag_id',\n",
    "          implicitPrefs=True,\n",
    "          alpha=40)"
   ]
  },
  {
   "cell_type": "code",
   "execution_count": 33,
   "metadata": {},
   "outputs": [],
   "source": [
    "hashtag_spark_df = spark.createDataFrame(hashtag_df_long)"
   ]
  },
  {
   "cell_type": "code",
   "execution_count": 34,
   "metadata": {},
   "outputs": [],
   "source": [
    "als_model = als.fit(hashtag_spark_df)"
   ]
  },
  {
   "cell_type": "code",
   "execution_count": 35,
   "metadata": {},
   "outputs": [],
   "source": [
    "als_model.write().overwrite().save('als')"
   ]
  },
  {
   "cell_type": "code",
   "execution_count": 36,
   "metadata": {},
   "outputs": [],
   "source": [
    "# Load the ALS model\n",
    "# als_model = ALSModel.load(“/path/to/read/the/model/from”)"
   ]
  },
  {
   "cell_type": "code",
   "execution_count": 37,
   "metadata": {},
   "outputs": [
    {
     "data": {
      "text/plain": [
       "2261"
      ]
     },
     "execution_count": 37,
     "metadata": {},
     "output_type": "execute_result"
    }
   ],
   "source": [
    "recs = als_model.recommendForAllUsers(numItems=10).toPandas()\n",
    "len(recs)"
   ]
  },
  {
   "cell_type": "code",
   "execution_count": 38,
   "metadata": {},
   "outputs": [],
   "source": [
    "hashtag_index = list(all_hashtags)"
   ]
  },
  {
   "cell_type": "code",
   "execution_count": 39,
   "metadata": {},
   "outputs": [],
   "source": [
    "def lookup_hashtag(hashtag_id):\n",
    "    return hashtag_index[hashtag_id]"
   ]
  },
  {
   "cell_type": "code",
   "execution_count": 40,
   "metadata": {},
   "outputs": [],
   "source": [
    "def lookup_hashtag_recs(rec_scores):\n",
    "    return [lookup_hashtag(rec) for (rec, score) in rec_scores]"
   ]
  },
  {
   "cell_type": "code",
   "execution_count": 41,
   "metadata": {},
   "outputs": [],
   "source": [
    "recs['recommended_hashtags'] = recs['recommendations'].apply(lookup_hashtag_recs)"
   ]
  },
  {
   "cell_type": "code",
   "execution_count": 42,
   "metadata": {},
   "outputs": [],
   "source": [
    "recs.index = recs['image_id']"
   ]
  },
  {
   "cell_type": "code",
   "execution_count": 43,
   "metadata": {},
   "outputs": [],
   "source": [
    "compare_recs = recs.join(full_list, how='left')[['recommendations',\n",
    "                                                 'recommended_hashtags',\n",
    "                                                 'hashtags',\n",
    "                                                 'image_local_name',\n",
    "                                                 'search_hashtag']]"
   ]
  },
  {
   "cell_type": "code",
   "execution_count": 44,
   "metadata": {},
   "outputs": [
    {
     "data": {
      "text/plain": [
       "'ff07fa3f-0482-4757-926e-3e6229f7d0d7.jpg'"
      ]
     },
     "execution_count": 44,
     "metadata": {},
     "output_type": "execute_result"
    }
   ],
   "source": [
    "compare_recs.loc[0, 'image_local_name']"
   ]
  },
  {
   "cell_type": "code",
   "execution_count": 45,
   "metadata": {},
   "outputs": [],
   "source": [
    "compare_recs.to_pickle('pkl_files/recs.pkl')\n",
    "compare_recs.drop('recommendations', axis=1)\n",
    "image_factors = als_model.userFactors.toPandas()\n",
    "image_factors.index = image_factors['id']\n",
    "compare_recs.join(image_factors);"
   ]
  },
  {
   "cell_type": "markdown",
   "metadata": {},
   "source": [
    "### Pickle hashtag data"
   ]
  },
  {
   "cell_type": "code",
   "execution_count": 46,
   "metadata": {},
   "outputs": [
    {
     "data": {
      "text/plain": [
       "(15248, dict)"
      ]
     },
     "execution_count": 46,
     "metadata": {},
     "output_type": "execute_result"
    }
   ],
   "source": [
    "len(hashtag_lookup), type(hashtag_lookup)"
   ]
  },
  {
   "cell_type": "code",
   "execution_count": 47,
   "metadata": {},
   "outputs": [
    {
     "data": {
      "text/html": [
       "<div>\n",
       "<style scoped>\n",
       "    .dataframe tbody tr th:only-of-type {\n",
       "        vertical-align: middle;\n",
       "    }\n",
       "\n",
       "    .dataframe tbody tr th {\n",
       "        vertical-align: top;\n",
       "    }\n",
       "\n",
       "    .dataframe thead th {\n",
       "        text-align: right;\n",
       "    }\n",
       "</style>\n",
       "<table border=\"1\" class=\"dataframe\">\n",
       "  <thead>\n",
       "    <tr style=\"text-align: right;\">\n",
       "      <th></th>\n",
       "      <th>0</th>\n",
       "    </tr>\n",
       "  </thead>\n",
       "  <tbody>\n",
       "    <tr>\n",
       "      <th>#sushiemcasa</th>\n",
       "      <td>0</td>\n",
       "    </tr>\n",
       "    <tr>\n",
       "      <th>#retarded</th>\n",
       "      <td>1</td>\n",
       "    </tr>\n",
       "    <tr>\n",
       "      <th>#weddingflowersdecor</th>\n",
       "      <td>2</td>\n",
       "    </tr>\n",
       "    <tr>\n",
       "      <th>#booster</th>\n",
       "      <td>3</td>\n",
       "    </tr>\n",
       "    <tr>\n",
       "      <th>#kumas</th>\n",
       "      <td>4</td>\n",
       "    </tr>\n",
       "  </tbody>\n",
       "</table>\n",
       "</div>"
      ],
      "text/plain": [
       "                      0\n",
       "#sushiemcasa          0\n",
       "#retarded             1\n",
       "#weddingflowersdecor  2\n",
       "#booster              3\n",
       "#kumas                4"
      ]
     },
     "execution_count": 47,
     "metadata": {},
     "output_type": "execute_result"
    }
   ],
   "source": [
    "hashtags_df = pd.DataFrame.from_dict(hashtag_lookup, orient='index')\n",
    "hashtags_df.head()"
   ]
  },
  {
   "cell_type": "code",
   "execution_count": 48,
   "metadata": {},
   "outputs": [],
   "source": [
    "hashtags_df = hashtags_df.reset_index()\n",
    "hashtags_df.columns = ['hashtag', 'id']"
   ]
  },
  {
   "cell_type": "code",
   "execution_count": 49,
   "metadata": {},
   "outputs": [],
   "source": [
    "hashtags_df.index = hashtags_df['id']"
   ]
  },
  {
   "cell_type": "code",
   "execution_count": 50,
   "metadata": {},
   "outputs": [],
   "source": [
    "hashtags_df = hashtags_df.drop('id', axis=1)"
   ]
  },
  {
   "cell_type": "code",
   "execution_count": 51,
   "metadata": {},
   "outputs": [
    {
     "data": {
      "text/html": [
       "<div>\n",
       "<style scoped>\n",
       "    .dataframe tbody tr th:only-of-type {\n",
       "        vertical-align: middle;\n",
       "    }\n",
       "\n",
       "    .dataframe tbody tr th {\n",
       "        vertical-align: top;\n",
       "    }\n",
       "\n",
       "    .dataframe thead th {\n",
       "        text-align: right;\n",
       "    }\n",
       "</style>\n",
       "<table border=\"1\" class=\"dataframe\">\n",
       "  <thead>\n",
       "    <tr style=\"text-align: right;\">\n",
       "      <th></th>\n",
       "      <th>hashtag</th>\n",
       "    </tr>\n",
       "    <tr>\n",
       "      <th>id</th>\n",
       "      <th></th>\n",
       "    </tr>\n",
       "  </thead>\n",
       "  <tbody>\n",
       "    <tr>\n",
       "      <th>0</th>\n",
       "      <td>#sushiemcasa</td>\n",
       "    </tr>\n",
       "    <tr>\n",
       "      <th>1</th>\n",
       "      <td>#retarded</td>\n",
       "    </tr>\n",
       "    <tr>\n",
       "      <th>2</th>\n",
       "      <td>#weddingflowersdecor</td>\n",
       "    </tr>\n",
       "    <tr>\n",
       "      <th>3</th>\n",
       "      <td>#booster</td>\n",
       "    </tr>\n",
       "    <tr>\n",
       "      <th>4</th>\n",
       "      <td>#kumas</td>\n",
       "    </tr>\n",
       "  </tbody>\n",
       "</table>\n",
       "</div>"
      ],
      "text/plain": [
       "                 hashtag\n",
       "id                      \n",
       "0           #sushiemcasa\n",
       "1              #retarded\n",
       "2   #weddingflowersdecor\n",
       "3               #booster\n",
       "4                 #kumas"
      ]
     },
     "execution_count": 51,
     "metadata": {},
     "output_type": "execute_result"
    }
   ],
   "source": [
    "hashtags_df.head()"
   ]
  },
  {
   "cell_type": "code",
   "execution_count": 52,
   "metadata": {},
   "outputs": [],
   "source": [
    "hashtags_df.to_pickle(\"pkl_files/hashtags_df.pkl\")"
   ]
  },
  {
   "cell_type": "code",
   "execution_count": 33,
   "metadata": {},
   "outputs": [],
   "source": [
    "# Load the deep features dataframe\n",
    "deep_features = pd.read_pickle(\"pkl_files/df_deep_features.pkl\")"
   ]
  },
  {
   "cell_type": "code",
   "execution_count": 33,
   "metadata": {},
   "outputs": [
    {
     "data": {
      "text/html": [
       "<div>\n",
       "<style scoped>\n",
       "    .dataframe tbody tr th:only-of-type {\n",
       "        vertical-align: middle;\n",
       "    }\n",
       "\n",
       "    .dataframe tbody tr th {\n",
       "        vertical-align: top;\n",
       "    }\n",
       "\n",
       "    .dataframe thead th {\n",
       "        text-align: right;\n",
       "    }\n",
       "</style>\n",
       "<table border=\"1\" class=\"dataframe\">\n",
       "  <thead>\n",
       "    <tr style=\"text-align: right;\">\n",
       "      <th></th>\n",
       "      <th>deep_features</th>\n",
       "      <th>hashtag</th>\n",
       "      <th>name</th>\n",
       "      <th>pic</th>\n",
       "    </tr>\n",
       "    <tr>\n",
       "      <th>name</th>\n",
       "      <th></th>\n",
       "      <th></th>\n",
       "      <th></th>\n",
       "      <th></th>\n",
       "    </tr>\n",
       "  </thead>\n",
       "  <tbody>\n",
       "    <tr>\n",
       "      <th>c7859ea9-d0d4-491e-af91-d91e9a8c122b.jpg</th>\n",
       "      <td>[0.09537401, 0.0, 0.0, 1.3010054, 0.06189001, ...</td>\n",
       "      <td>babies</td>\n",
       "      <td>c7859ea9-d0d4-491e-af91-d91e9a8c122b.jpg</td>\n",
       "      <td>(((tf.Tensor(-0.3705882, shape=(), dtype=float...</td>\n",
       "    </tr>\n",
       "    <tr>\n",
       "      <th>45d6c48c-c25e-42fc-854f-df71bf6de43e.jpg</th>\n",
       "      <td>[0.0, 0.08503536, 0.9841172, 0.79477465, 2.028...</td>\n",
       "      <td>animals</td>\n",
       "      <td>45d6c48c-c25e-42fc-854f-df71bf6de43e.jpg</td>\n",
       "      <td>(((tf.Tensor(0.627451, shape=(), dtype=float32...</td>\n",
       "    </tr>\n",
       "    <tr>\n",
       "      <th>0b51899b-dc3c-4f30-9230-3f5223cf79a6.jpg</th>\n",
       "      <td>[0.0, 0.1421825, 0.29680955, 0.461614, 0.10577...</td>\n",
       "      <td>architecture</td>\n",
       "      <td>0b51899b-dc3c-4f30-9230-3f5223cf79a6.jpg</td>\n",
       "      <td>(((tf.Tensor(0.52156866, shape=(), dtype=float...</td>\n",
       "    </tr>\n",
       "    <tr>\n",
       "      <th>6ca3e818-6023-43d8-bf47-e958a52f0530.jpg</th>\n",
       "      <td>[0.2723638, 0.07413437, 1.3867798, 0.0, 0.3256...</td>\n",
       "      <td>animals</td>\n",
       "      <td>6ca3e818-6023-43d8-bf47-e958a52f0530.jpg</td>\n",
       "      <td>(((tf.Tensor(0.3921569, shape=(), dtype=float3...</td>\n",
       "    </tr>\n",
       "    <tr>\n",
       "      <th>b1d7803e-68cc-4bed-9d7c-ed0590899403.jpg</th>\n",
       "      <td>[0.0, 0.0, 0.4716914, 0.0, 0.0, 2.7325175, 0.8...</td>\n",
       "      <td>animals</td>\n",
       "      <td>b1d7803e-68cc-4bed-9d7c-ed0590899403.jpg</td>\n",
       "      <td>(((tf.Tensor(-0.1607843, shape=(), dtype=float...</td>\n",
       "    </tr>\n",
       "  </tbody>\n",
       "</table>\n",
       "</div>"
      ],
      "text/plain": [
       "                                                                              deep_features  \\\n",
       "name                                                                                          \n",
       "c7859ea9-d0d4-491e-af91-d91e9a8c122b.jpg  [0.09537401, 0.0, 0.0, 1.3010054, 0.06189001, ...   \n",
       "45d6c48c-c25e-42fc-854f-df71bf6de43e.jpg  [0.0, 0.08503536, 0.9841172, 0.79477465, 2.028...   \n",
       "0b51899b-dc3c-4f30-9230-3f5223cf79a6.jpg  [0.0, 0.1421825, 0.29680955, 0.461614, 0.10577...   \n",
       "6ca3e818-6023-43d8-bf47-e958a52f0530.jpg  [0.2723638, 0.07413437, 1.3867798, 0.0, 0.3256...   \n",
       "b1d7803e-68cc-4bed-9d7c-ed0590899403.jpg  [0.0, 0.0, 0.4716914, 0.0, 0.0, 2.7325175, 0.8...   \n",
       "\n",
       "                                               hashtag  \\\n",
       "name                                                     \n",
       "c7859ea9-d0d4-491e-af91-d91e9a8c122b.jpg        babies   \n",
       "45d6c48c-c25e-42fc-854f-df71bf6de43e.jpg       animals   \n",
       "0b51899b-dc3c-4f30-9230-3f5223cf79a6.jpg  architecture   \n",
       "6ca3e818-6023-43d8-bf47-e958a52f0530.jpg       animals   \n",
       "b1d7803e-68cc-4bed-9d7c-ed0590899403.jpg       animals   \n",
       "\n",
       "                                                                              name  \\\n",
       "name                                                                                 \n",
       "c7859ea9-d0d4-491e-af91-d91e9a8c122b.jpg  c7859ea9-d0d4-491e-af91-d91e9a8c122b.jpg   \n",
       "45d6c48c-c25e-42fc-854f-df71bf6de43e.jpg  45d6c48c-c25e-42fc-854f-df71bf6de43e.jpg   \n",
       "0b51899b-dc3c-4f30-9230-3f5223cf79a6.jpg  0b51899b-dc3c-4f30-9230-3f5223cf79a6.jpg   \n",
       "6ca3e818-6023-43d8-bf47-e958a52f0530.jpg  6ca3e818-6023-43d8-bf47-e958a52f0530.jpg   \n",
       "b1d7803e-68cc-4bed-9d7c-ed0590899403.jpg  b1d7803e-68cc-4bed-9d7c-ed0590899403.jpg   \n",
       "\n",
       "                                                                                        pic  \n",
       "name                                                                                         \n",
       "c7859ea9-d0d4-491e-af91-d91e9a8c122b.jpg  (((tf.Tensor(-0.3705882, shape=(), dtype=float...  \n",
       "45d6c48c-c25e-42fc-854f-df71bf6de43e.jpg  (((tf.Tensor(0.627451, shape=(), dtype=float32...  \n",
       "0b51899b-dc3c-4f30-9230-3f5223cf79a6.jpg  (((tf.Tensor(0.52156866, shape=(), dtype=float...  \n",
       "6ca3e818-6023-43d8-bf47-e958a52f0530.jpg  (((tf.Tensor(0.3921569, shape=(), dtype=float3...  \n",
       "b1d7803e-68cc-4bed-9d7c-ed0590899403.jpg  (((tf.Tensor(-0.1607843, shape=(), dtype=float...  "
      ]
     },
     "execution_count": 33,
     "metadata": {},
     "output_type": "execute_result"
    }
   ],
   "source": [
    "deep_features.index = deep_features['name']\n",
    "deep_features.head()"
   ]
  },
  {
   "cell_type": "code",
   "execution_count": 35,
   "metadata": {},
   "outputs": [
    {
     "data": {
      "text/html": [
       "<div>\n",
       "<style scoped>\n",
       "    .dataframe tbody tr th:only-of-type {\n",
       "        vertical-align: middle;\n",
       "    }\n",
       "\n",
       "    .dataframe tbody tr th {\n",
       "        vertical-align: top;\n",
       "    }\n",
       "\n",
       "    .dataframe thead th {\n",
       "        text-align: right;\n",
       "    }\n",
       "</style>\n",
       "<table border=\"1\" class=\"dataframe\">\n",
       "  <thead>\n",
       "    <tr style=\"text-align: right;\">\n",
       "      <th></th>\n",
       "      <th>recommendations</th>\n",
       "      <th>recommended_hashtags</th>\n",
       "      <th>hashtags</th>\n",
       "      <th>image_local_name</th>\n",
       "      <th>search_hashtag</th>\n",
       "    </tr>\n",
       "    <tr>\n",
       "      <th>image_id</th>\n",
       "      <th></th>\n",
       "      <th></th>\n",
       "      <th></th>\n",
       "      <th></th>\n",
       "      <th></th>\n",
       "    </tr>\n",
       "  </thead>\n",
       "  <tbody>\n",
       "    <tr>\n",
       "      <th>1580</th>\n",
       "      <td>[(5249, 1.1879390478134155), (6758, 1.06600213...</td>\n",
       "      <td>[#luxury, #car, #lifestyle, #cars, #luxurylife...</td>\n",
       "      <td>[#checkeredflag, #atv, #flagmanracing, #dirtbi...</td>\n",
       "      <td>88039d35-d189-4db3-926e-a120d88a3efc.jpg</td>\n",
       "      <td>cars</td>\n",
       "    </tr>\n",
       "    <tr>\n",
       "      <th>471</th>\n",
       "      <td>[(5728, 1.1468442678451538), (1048, 1.14258015...</td>\n",
       "      <td>[#selfie, #amazing, #fashion, #black, #photo, ...</td>\n",
       "      <td>[#followme, #fashiondaily, #summer, #food, #ma...</td>\n",
       "      <td>fdc6c8d4-5a13-4330-9098-07e09e4858d2.jpg</td>\n",
       "      <td>selfie</td>\n",
       "    </tr>\n",
       "    <tr>\n",
       "      <th>1591</th>\n",
       "      <td>[(15043, 0.8404358625411987), (6758, 0.6228702...</td>\n",
       "      <td>[#cars, #car, #bmw, #trucks, #amazing, #carpor...</td>\n",
       "      <td>[#bidlemanchevrolet, #suvs, #cars, #cardeals, ...</td>\n",
       "      <td>1b7a8fbc-1797-4418-b8b2-c65500e2bc6f.jpg</td>\n",
       "      <td>cars</td>\n",
       "    </tr>\n",
       "    <tr>\n",
       "      <th>463</th>\n",
       "      <td>[(5728, 0.781302809715271), (7432, 0.773969054...</td>\n",
       "      <td>[#selfie, #beauty, #smile, #style, #fashion, #...</td>\n",
       "      <td>[#followme, #hotguy, #instaboy, #gay, #instaga...</td>\n",
       "      <td>a78d0e30-6afa-436a-a953-633ef3f64325.jpg</td>\n",
       "      <td>selfie</td>\n",
       "    </tr>\n",
       "    <tr>\n",
       "      <th>833</th>\n",
       "      <td>[(2932, 1.0711742639541626), (11435, 0.8931126...</td>\n",
       "      <td>[#explore, #art, #nature, #photography, #archi...</td>\n",
       "      <td>[#arte, #interiordesign, #archilovers, #argent...</td>\n",
       "      <td>535bc893-ebbe-46aa-9ae9-d2cd5f4dd426.jpg</td>\n",
       "      <td>travel</td>\n",
       "    </tr>\n",
       "  </tbody>\n",
       "</table>\n",
       "</div>"
      ],
      "text/plain": [
       "                                            recommendations  \\\n",
       "image_id                                                      \n",
       "1580      [(5249, 1.1879390478134155), (6758, 1.06600213...   \n",
       "471       [(5728, 1.1468442678451538), (1048, 1.14258015...   \n",
       "1591      [(15043, 0.8404358625411987), (6758, 0.6228702...   \n",
       "463       [(5728, 0.781302809715271), (7432, 0.773969054...   \n",
       "833       [(2932, 1.0711742639541626), (11435, 0.8931126...   \n",
       "\n",
       "                                       recommended_hashtags  \\\n",
       "image_id                                                      \n",
       "1580      [#luxury, #car, #lifestyle, #cars, #luxurylife...   \n",
       "471       [#selfie, #amazing, #fashion, #black, #photo, ...   \n",
       "1591      [#cars, #car, #bmw, #trucks, #amazing, #carpor...   \n",
       "463       [#selfie, #beauty, #smile, #style, #fashion, #...   \n",
       "833       [#explore, #art, #nature, #photography, #archi...   \n",
       "\n",
       "                                                   hashtags  \\\n",
       "image_id                                                      \n",
       "1580      [#checkeredflag, #atv, #flagmanracing, #dirtbi...   \n",
       "471       [#followme, #fashiondaily, #summer, #food, #ma...   \n",
       "1591      [#bidlemanchevrolet, #suvs, #cars, #cardeals, ...   \n",
       "463       [#followme, #hotguy, #instaboy, #gay, #instaga...   \n",
       "833       [#arte, #interiordesign, #archilovers, #argent...   \n",
       "\n",
       "                                  image_local_name search_hashtag  \n",
       "image_id                                                           \n",
       "1580      88039d35-d189-4db3-926e-a120d88a3efc.jpg           cars  \n",
       "471       fdc6c8d4-5a13-4330-9098-07e09e4858d2.jpg         selfie  \n",
       "1591      1b7a8fbc-1797-4418-b8b2-c65500e2bc6f.jpg           cars  \n",
       "463       a78d0e30-6afa-436a-a953-633ef3f64325.jpg         selfie  \n",
       "833       535bc893-ebbe-46aa-9ae9-d2cd5f4dd426.jpg         travel  "
      ]
     },
     "execution_count": 35,
     "metadata": {},
     "output_type": "execute_result"
    }
   ],
   "source": [
    "# Load the recs dataframe\n",
    "recs = pd.read_pickle('pkl_files/recs.pkl')\n",
    "recs.head()"
   ]
  },
  {
   "cell_type": "code",
   "execution_count": 36,
   "metadata": {},
   "outputs": [
    {
     "data": {
      "text/html": [
       "<div>\n",
       "<style scoped>\n",
       "    .dataframe tbody tr th:only-of-type {\n",
       "        vertical-align: middle;\n",
       "    }\n",
       "\n",
       "    .dataframe tbody tr th {\n",
       "        vertical-align: top;\n",
       "    }\n",
       "\n",
       "    .dataframe thead th {\n",
       "        text-align: right;\n",
       "    }\n",
       "</style>\n",
       "<table border=\"1\" class=\"dataframe\">\n",
       "  <thead>\n",
       "    <tr style=\"text-align: right;\">\n",
       "      <th></th>\n",
       "      <th>recommendations</th>\n",
       "      <th>recommended_hashtags</th>\n",
       "      <th>hashtags</th>\n",
       "      <th>image_local_name</th>\n",
       "      <th>search_hashtag</th>\n",
       "      <th>deep_features</th>\n",
       "      <th>hashtag</th>\n",
       "      <th>name</th>\n",
       "      <th>pic</th>\n",
       "    </tr>\n",
       "    <tr>\n",
       "      <th>image_id</th>\n",
       "      <th></th>\n",
       "      <th></th>\n",
       "      <th></th>\n",
       "      <th></th>\n",
       "      <th></th>\n",
       "      <th></th>\n",
       "      <th></th>\n",
       "      <th></th>\n",
       "      <th></th>\n",
       "    </tr>\n",
       "  </thead>\n",
       "  <tbody>\n",
       "    <tr>\n",
       "      <th>833</th>\n",
       "      <td>[(2932, 1.0711742639541626), (11435, 0.8931126...</td>\n",
       "      <td>[#explore, #art, #nature, #photography, #archi...</td>\n",
       "      <td>[#arte, #interiordesign, #archilovers, #argent...</td>\n",
       "      <td>535bc893-ebbe-46aa-9ae9-d2cd5f4dd426.jpg</td>\n",
       "      <td>travel</td>\n",
       "      <td>[0.40182838, 0.0, 0.028864231, 0.0, 0.13101286...</td>\n",
       "      <td>travel</td>\n",
       "      <td>535bc893-ebbe-46aa-9ae9-d2cd5f4dd426.jpg</td>\n",
       "      <td>(((tf.Tensor(0.99215686, shape=(), dtype=float...</td>\n",
       "    </tr>\n",
       "    <tr>\n",
       "      <th>1829</th>\n",
       "      <td>[(8334, 0.6680111885070801), (7957, 0.56452876...</td>\n",
       "      <td>[#food, #fitness, #instafood, #foodporn, #nyc,...</td>\n",
       "      <td>[#bhcidadecriativadagastronomia, #prato, #come...</td>\n",
       "      <td>56018a9a-8def-48d1-9a7d-03136314b0d9.jpg</td>\n",
       "      <td>food</td>\n",
       "      <td>[0.0, 0.0, 0.0, 2.0659437, 0.06043254, 0.03285...</td>\n",
       "      <td>food</td>\n",
       "      <td>56018a9a-8def-48d1-9a7d-03136314b0d9.jpg</td>\n",
       "      <td>(((tf.Tensor(0.7882353, shape=(), dtype=float3...</td>\n",
       "    </tr>\n",
       "    <tr>\n",
       "      <th>1959</th>\n",
       "      <td>[(7436, 1.0163105726242065), (8334, 0.96548527...</td>\n",
       "      <td>[#instafood, #food, #foodporn, #foodie, #yummy...</td>\n",
       "      <td>[#hagerstownmd, #washingtoncountymd, #hswhmdbu...</td>\n",
       "      <td>2b98b605-8df1-4fcb-addf-887751caaaaa.jpg</td>\n",
       "      <td>food</td>\n",
       "      <td>[0.2551278, 0.6026027, 0.0, 0.0, 0.2649013, 0....</td>\n",
       "      <td>food</td>\n",
       "      <td>2b98b605-8df1-4fcb-addf-887751caaaaa.jpg</td>\n",
       "      <td>(((tf.Tensor(-1.0, shape=(), dtype=float32), t...</td>\n",
       "    </tr>\n",
       "    <tr>\n",
       "      <th>2659</th>\n",
       "      <td>[(15161, 0.9028208255767822), (11773, 0.811946...</td>\n",
       "      <td>[#animals, #pets, #animal, #dogs, #dogstagram,...</td>\n",
       "      <td>[#sportdogminsk, #dogminsk, #labrador, #labrad...</td>\n",
       "      <td>c62f34b0-da93-485c-94a0-d56be4b72018.jpg</td>\n",
       "      <td>animals</td>\n",
       "      <td>[0.0, 1.7648926, 0.0, 0.014228077, 0.114186764...</td>\n",
       "      <td>animals</td>\n",
       "      <td>c62f34b0-da93-485c-94a0-d56be4b72018.jpg</td>\n",
       "      <td>(((tf.Tensor(0.07843143, shape=(), dtype=float...</td>\n",
       "    </tr>\n",
       "    <tr>\n",
       "      <th>1990</th>\n",
       "      <td>[(2753, 1.0034533739089966), (12956, 0.9917454...</td>\n",
       "      <td>[#follow, #like, #followme, #likeforlike, #ins...</td>\n",
       "      <td>[#follow, #photooftheday, #love, #instalike, #...</td>\n",
       "      <td>7263d6f8-422f-4484-a306-cf9984bfa8bc.jpg</td>\n",
       "      <td>food</td>\n",
       "      <td>[0.0, 0.0, 0.24697302, 0.0, 0.0, 0.025176601, ...</td>\n",
       "      <td>food</td>\n",
       "      <td>7263d6f8-422f-4484-a306-cf9984bfa8bc.jpg</td>\n",
       "      <td>(((tf.Tensor(-0.9079044, shape=(), dtype=float...</td>\n",
       "    </tr>\n",
       "  </tbody>\n",
       "</table>\n",
       "</div>"
      ],
      "text/plain": [
       "                                            recommendations  \\\n",
       "image_id                                                      \n",
       "833       [(2932, 1.0711742639541626), (11435, 0.8931126...   \n",
       "1829      [(8334, 0.6680111885070801), (7957, 0.56452876...   \n",
       "1959      [(7436, 1.0163105726242065), (8334, 0.96548527...   \n",
       "2659      [(15161, 0.9028208255767822), (11773, 0.811946...   \n",
       "1990      [(2753, 1.0034533739089966), (12956, 0.9917454...   \n",
       "\n",
       "                                       recommended_hashtags  \\\n",
       "image_id                                                      \n",
       "833       [#explore, #art, #nature, #photography, #archi...   \n",
       "1829      [#food, #fitness, #instafood, #foodporn, #nyc,...   \n",
       "1959      [#instafood, #food, #foodporn, #foodie, #yummy...   \n",
       "2659      [#animals, #pets, #animal, #dogs, #dogstagram,...   \n",
       "1990      [#follow, #like, #followme, #likeforlike, #ins...   \n",
       "\n",
       "                                                   hashtags  \\\n",
       "image_id                                                      \n",
       "833       [#arte, #interiordesign, #archilovers, #argent...   \n",
       "1829      [#bhcidadecriativadagastronomia, #prato, #come...   \n",
       "1959      [#hagerstownmd, #washingtoncountymd, #hswhmdbu...   \n",
       "2659      [#sportdogminsk, #dogminsk, #labrador, #labrad...   \n",
       "1990      [#follow, #photooftheday, #love, #instalike, #...   \n",
       "\n",
       "                                  image_local_name search_hashtag  \\\n",
       "image_id                                                            \n",
       "833       535bc893-ebbe-46aa-9ae9-d2cd5f4dd426.jpg         travel   \n",
       "1829      56018a9a-8def-48d1-9a7d-03136314b0d9.jpg           food   \n",
       "1959      2b98b605-8df1-4fcb-addf-887751caaaaa.jpg           food   \n",
       "2659      c62f34b0-da93-485c-94a0-d56be4b72018.jpg        animals   \n",
       "1990      7263d6f8-422f-4484-a306-cf9984bfa8bc.jpg           food   \n",
       "\n",
       "                                              deep_features  hashtag  \\\n",
       "image_id                                                               \n",
       "833       [0.40182838, 0.0, 0.028864231, 0.0, 0.13101286...   travel   \n",
       "1829      [0.0, 0.0, 0.0, 2.0659437, 0.06043254, 0.03285...     food   \n",
       "1959      [0.2551278, 0.6026027, 0.0, 0.0, 0.2649013, 0....     food   \n",
       "2659      [0.0, 1.7648926, 0.0, 0.014228077, 0.114186764...  animals   \n",
       "1990      [0.0, 0.0, 0.24697302, 0.0, 0.0, 0.025176601, ...     food   \n",
       "\n",
       "                                              name  \\\n",
       "image_id                                             \n",
       "833       535bc893-ebbe-46aa-9ae9-d2cd5f4dd426.jpg   \n",
       "1829      56018a9a-8def-48d1-9a7d-03136314b0d9.jpg   \n",
       "1959      2b98b605-8df1-4fcb-addf-887751caaaaa.jpg   \n",
       "2659      c62f34b0-da93-485c-94a0-d56be4b72018.jpg   \n",
       "1990      7263d6f8-422f-4484-a306-cf9984bfa8bc.jpg   \n",
       "\n",
       "                                                        pic  \n",
       "image_id                                                     \n",
       "833       (((tf.Tensor(0.99215686, shape=(), dtype=float...  \n",
       "1829      (((tf.Tensor(0.7882353, shape=(), dtype=float3...  \n",
       "1959      (((tf.Tensor(-1.0, shape=(), dtype=float32), t...  \n",
       "2659      (((tf.Tensor(0.07843143, shape=(), dtype=float...  \n",
       "1990      (((tf.Tensor(-0.9079044, shape=(), dtype=float...  "
      ]
     },
     "execution_count": 36,
     "metadata": {},
     "output_type": "execute_result"
    }
   ],
   "source": [
    "# Add deep features information to recs dataframe\n",
    "recs_deep = recs.join(deep_features, on='image_local_name', how='inner')\n",
    "recs_deep.head()"
   ]
  },
  {
   "cell_type": "code",
   "execution_count": 16,
   "metadata": {},
   "outputs": [
    {
     "data": {
      "text/html": [
       "<div>\n",
       "<style scoped>\n",
       "    .dataframe tbody tr th:only-of-type {\n",
       "        vertical-align: middle;\n",
       "    }\n",
       "\n",
       "    .dataframe tbody tr th {\n",
       "        vertical-align: top;\n",
       "    }\n",
       "\n",
       "    .dataframe thead th {\n",
       "        text-align: right;\n",
       "    }\n",
       "</style>\n",
       "<table border=\"1\" class=\"dataframe\">\n",
       "  <thead>\n",
       "    <tr style=\"text-align: right;\">\n",
       "      <th></th>\n",
       "      <th>image_local_name</th>\n",
       "      <th>hashtags</th>\n",
       "      <th>deep_features</th>\n",
       "      <th>id</th>\n",
       "      <th>features</th>\n",
       "    </tr>\n",
       "  </thead>\n",
       "  <tbody>\n",
       "    <tr>\n",
       "      <th>833</th>\n",
       "      <td>535bc893-ebbe-46aa-9ae9-d2cd5f4dd426.jpg</td>\n",
       "      <td>[#arte, #interiordesign, #archilovers, #argent...</td>\n",
       "      <td>[0.40182838, 0.0, 0.028864231, 0.0, 0.13101286...</td>\n",
       "      <td>833</td>\n",
       "      <td>[0.6194280982017517, -0.17258895933628082, 0.6...</td>\n",
       "    </tr>\n",
       "    <tr>\n",
       "      <th>1829</th>\n",
       "      <td>56018a9a-8def-48d1-9a7d-03136314b0d9.jpg</td>\n",
       "      <td>[#bhcidadecriativadagastronomia, #prato, #come...</td>\n",
       "      <td>[0.0, 0.0, 0.0, 2.0659437, 0.06043254, 0.03285...</td>\n",
       "      <td>1829</td>\n",
       "      <td>[0.24641281366348267, 0.0611935593187809, -0.0...</td>\n",
       "    </tr>\n",
       "    <tr>\n",
       "      <th>1959</th>\n",
       "      <td>2b98b605-8df1-4fcb-addf-887751caaaaa.jpg</td>\n",
       "      <td>[#hagerstownmd, #washingtoncountymd, #hswhmdbu...</td>\n",
       "      <td>[0.2551278, 0.6026027, 0.0, 0.0, 0.2649013, 0....</td>\n",
       "      <td>1959</td>\n",
       "      <td>[0.4338062107563019, -0.33095109462738037, -0....</td>\n",
       "    </tr>\n",
       "    <tr>\n",
       "      <th>2659</th>\n",
       "      <td>c62f34b0-da93-485c-94a0-d56be4b72018.jpg</td>\n",
       "      <td>[#sportdogminsk, #dogminsk, #labrador, #labrad...</td>\n",
       "      <td>[0.0, 1.7648926, 0.0, 0.014228077, 0.114186764...</td>\n",
       "      <td>2659</td>\n",
       "      <td>[0.5307531356811523, -0.20263993740081787, 0.1...</td>\n",
       "    </tr>\n",
       "    <tr>\n",
       "      <th>1990</th>\n",
       "      <td>7263d6f8-422f-4484-a306-cf9984bfa8bc.jpg</td>\n",
       "      <td>[#follow, #photooftheday, #love, #instalike, #...</td>\n",
       "      <td>[0.0, 0.0, 0.24697302, 0.0, 0.0, 0.025176601, ...</td>\n",
       "      <td>1990</td>\n",
       "      <td>[-0.08636502921581268, -0.30729246139526367, 0...</td>\n",
       "    </tr>\n",
       "  </tbody>\n",
       "</table>\n",
       "</div>"
      ],
      "text/plain": [
       "                              image_local_name  \\\n",
       "833   535bc893-ebbe-46aa-9ae9-d2cd5f4dd426.jpg   \n",
       "1829  56018a9a-8def-48d1-9a7d-03136314b0d9.jpg   \n",
       "1959  2b98b605-8df1-4fcb-addf-887751caaaaa.jpg   \n",
       "2659  c62f34b0-da93-485c-94a0-d56be4b72018.jpg   \n",
       "1990  7263d6f8-422f-4484-a306-cf9984bfa8bc.jpg   \n",
       "\n",
       "                                               hashtags  \\\n",
       "833   [#arte, #interiordesign, #archilovers, #argent...   \n",
       "1829  [#bhcidadecriativadagastronomia, #prato, #come...   \n",
       "1959  [#hagerstownmd, #washingtoncountymd, #hswhmdbu...   \n",
       "2659  [#sportdogminsk, #dogminsk, #labrador, #labrad...   \n",
       "1990  [#follow, #photooftheday, #love, #instalike, #...   \n",
       "\n",
       "                                          deep_features    id  \\\n",
       "833   [0.40182838, 0.0, 0.028864231, 0.0, 0.13101286...   833   \n",
       "1829  [0.0, 0.0, 0.0, 2.0659437, 0.06043254, 0.03285...  1829   \n",
       "1959  [0.2551278, 0.6026027, 0.0, 0.0, 0.2649013, 0....  1959   \n",
       "2659  [0.0, 1.7648926, 0.0, 0.014228077, 0.114186764...  2659   \n",
       "1990  [0.0, 0.0, 0.24697302, 0.0, 0.0, 0.025176601, ...  1990   \n",
       "\n",
       "                                               features  \n",
       "833   [0.6194280982017517, -0.17258895933628082, 0.6...  \n",
       "1829  [0.24641281366348267, 0.0611935593187809, -0.0...  \n",
       "1959  [0.4338062107563019, -0.33095109462738037, -0....  \n",
       "2659  [0.5307531356811523, -0.20263993740081787, 0.1...  \n",
       "1990  [-0.08636502921581268, -0.30729246139526367, 0...  "
      ]
     },
     "execution_count": 16,
     "metadata": {},
     "output_type": "execute_result"
    }
   ],
   "source": [
    "# Only use certain columns\n",
    "recs_deep_clean = recs_deep[['image_local_name', 'hashtags', 'deep_features']]\n",
    "\n",
    "img_features.index = img_features['id']\n",
    "img_features.drop(['id'], axis=1)\n",
    "\n",
    "# Add image feature into dataframe\n",
    "recommender_df = recs_deep_clean.join(img_features, how='inner')\n",
    "recommender_df.head()"
   ]
  },
  {
   "cell_type": "code",
   "execution_count": 17,
   "metadata": {},
   "outputs": [],
   "source": [
    "# Code used for testing purposes\n",
    "from imp import reload\n",
    "import functions\n",
    "reload(functions)\n",
    "prepare_image = functions.prepare_image"
   ]
  },
  {
   "cell_type": "code",
   "execution_count": 18,
   "metadata": {},
   "outputs": [],
   "source": [
    "# Function that finds k nearest neighbors by cosine similarity\n",
    "def find_neighbor_vectors(image_path, k=5, recommender_df=recommender_df):\n",
    "    \"\"\"Find image features (user vectors) for similar images.\"\"\"\n",
    "    prep_image = functions.prepare_image(image_path, where='local')\n",
    "    deep_features = functions.extract_features_for_one_image(prep_image, neural_network)\n",
    "    rdf = recommender_df.copy()\n",
    "    rdf['dist'] = rdf['deep_features'].apply(lambda x: cosine(x, deep_features))\n",
    "    rdf = rdf.sort_values(by='dist')\n",
    "    # return rdf.head(k)['features']\n",
    "    return rdf.head(k)"
   ]
  },
  {
   "cell_type": "code",
   "execution_count": 19,
   "metadata": {},
   "outputs": [],
   "source": [
    "# Test the function on a local image\n",
    "fnv = find_neighbor_vectors('test_wedding.jpg', \n",
    "                k=5, recommender_df=recommender_df)"
   ]
  },
  {
   "cell_type": "code",
   "execution_count": 20,
   "metadata": {},
   "outputs": [
    {
     "data": {
      "text/html": [
       "<div>\n",
       "<style scoped>\n",
       "    .dataframe tbody tr th:only-of-type {\n",
       "        vertical-align: middle;\n",
       "    }\n",
       "\n",
       "    .dataframe tbody tr th {\n",
       "        vertical-align: top;\n",
       "    }\n",
       "\n",
       "    .dataframe thead th {\n",
       "        text-align: right;\n",
       "    }\n",
       "</style>\n",
       "<table border=\"1\" class=\"dataframe\">\n",
       "  <thead>\n",
       "    <tr style=\"text-align: right;\">\n",
       "      <th></th>\n",
       "      <th>image_local_name</th>\n",
       "      <th>hashtags</th>\n",
       "      <th>deep_features</th>\n",
       "      <th>id</th>\n",
       "      <th>features</th>\n",
       "      <th>dist</th>\n",
       "    </tr>\n",
       "  </thead>\n",
       "  <tbody>\n",
       "    <tr>\n",
       "      <th>763</th>\n",
       "      <td>edf9daee-f603-46b5-bf4a-ae9974bb89ad.jpg</td>\n",
       "      <td>[#wanderlust, #toddlers, #woods, #forest, #nc,...</td>\n",
       "      <td>[0.74691504, 1.2644943, 0.0, 0.23730093, 2.684...</td>\n",
       "      <td>763</td>\n",
       "      <td>[0.4171702265739441, -0.017076052725315094, -0...</td>\n",
       "      <td>0.420474</td>\n",
       "    </tr>\n",
       "    <tr>\n",
       "      <th>882</th>\n",
       "      <td>c3b7232e-ea7c-4766-91e3-99207f7d8d8b.jpg</td>\n",
       "      <td>[#photooftheday, #hasekio, #bs, #travel, #phot...</td>\n",
       "      <td>[0.7826781, 1.8151407, 0.3264235, 0.4332988, 1...</td>\n",
       "      <td>882</td>\n",
       "      <td>[-0.2053070217370987, -0.8706239461898804, 0.3...</td>\n",
       "      <td>0.437234</td>\n",
       "    </tr>\n",
       "    <tr>\n",
       "      <th>682</th>\n",
       "      <td>e1626e8a-eaa8-4812-917b-4a4aeadeb10f.jpg</td>\n",
       "      <td>[#follow, #repost, #photooftheday, #love, #fas...</td>\n",
       "      <td>[0.17159231, 0.4535152, 0.023434391, 0.1585964...</td>\n",
       "      <td>682</td>\n",
       "      <td>[0.07097786664962769, -0.32791000604629517, 0....</td>\n",
       "      <td>0.456072</td>\n",
       "    </tr>\n",
       "    <tr>\n",
       "      <th>773</th>\n",
       "      <td>72569f9f-ebea-4b5a-b238-c2b15e9b288d.jpg</td>\n",
       "      <td>[#musician, #newmusic, #producer, #futuremusic...</td>\n",
       "      <td>[0.019124918, 1.6645181, 0.0, 0.0, 2.546588, 0...</td>\n",
       "      <td>773</td>\n",
       "      <td>[0.1564265638589859, 0.18779335916042328, 0.08...</td>\n",
       "      <td>0.461755</td>\n",
       "    </tr>\n",
       "    <tr>\n",
       "      <th>737</th>\n",
       "      <td>f2a6f5f1-64c2-4ee3-9609-d409e28fa816.jpg</td>\n",
       "      <td>[#honolulu, #hawaii, #dream, #travel, #hoomalu...</td>\n",
       "      <td>[0.13907114, 0.9570846, 0.052211534, 0.0, 1.52...</td>\n",
       "      <td>737</td>\n",
       "      <td>[0.1638672947883606, 0.05539854243397713, 0.13...</td>\n",
       "      <td>0.470721</td>\n",
       "    </tr>\n",
       "  </tbody>\n",
       "</table>\n",
       "</div>"
      ],
      "text/plain": [
       "                             image_local_name  \\\n",
       "763  edf9daee-f603-46b5-bf4a-ae9974bb89ad.jpg   \n",
       "882  c3b7232e-ea7c-4766-91e3-99207f7d8d8b.jpg   \n",
       "682  e1626e8a-eaa8-4812-917b-4a4aeadeb10f.jpg   \n",
       "773  72569f9f-ebea-4b5a-b238-c2b15e9b288d.jpg   \n",
       "737  f2a6f5f1-64c2-4ee3-9609-d409e28fa816.jpg   \n",
       "\n",
       "                                              hashtags  \\\n",
       "763  [#wanderlust, #toddlers, #woods, #forest, #nc,...   \n",
       "882  [#photooftheday, #hasekio, #bs, #travel, #phot...   \n",
       "682  [#follow, #repost, #photooftheday, #love, #fas...   \n",
       "773  [#musician, #newmusic, #producer, #futuremusic...   \n",
       "737  [#honolulu, #hawaii, #dream, #travel, #hoomalu...   \n",
       "\n",
       "                                         deep_features   id  \\\n",
       "763  [0.74691504, 1.2644943, 0.0, 0.23730093, 2.684...  763   \n",
       "882  [0.7826781, 1.8151407, 0.3264235, 0.4332988, 1...  882   \n",
       "682  [0.17159231, 0.4535152, 0.023434391, 0.1585964...  682   \n",
       "773  [0.019124918, 1.6645181, 0.0, 0.0, 2.546588, 0...  773   \n",
       "737  [0.13907114, 0.9570846, 0.052211534, 0.0, 1.52...  737   \n",
       "\n",
       "                                              features      dist  \n",
       "763  [0.4171702265739441, -0.017076052725315094, -0...  0.420474  \n",
       "882  [-0.2053070217370987, -0.8706239461898804, 0.3...  0.437234  \n",
       "682  [0.07097786664962769, -0.32791000604629517, 0....  0.456072  \n",
       "773  [0.1564265638589859, 0.18779335916042328, 0.08...  0.461755  \n",
       "737  [0.1638672947883606, 0.05539854243397713, 0.13...  0.470721  "
      ]
     },
     "execution_count": 20,
     "metadata": {},
     "output_type": "execute_result"
    }
   ],
   "source": [
    "fnv"
   ]
  },
  {
   "cell_type": "markdown",
   "metadata": {},
   "source": [
    "### Next step to do: after identifying 5 nearest neighbors, look at ALS's image features (user features), get the average for 5. Then compute dot product with every hashtag features vector (item features). Take hashtags woth the highest reasult as recommendations."
   ]
  },
  {
   "cell_type": "code",
   "execution_count": 21,
   "metadata": {},
   "outputs": [
    {
     "data": {
      "text/plain": [
       "10"
      ]
     },
     "execution_count": 21,
     "metadata": {},
     "output_type": "execute_result"
    }
   ],
   "source": [
    "# Check length of the user features\n",
    "len(fnv.iloc[3, 4])"
   ]
  },
  {
   "cell_type": "markdown",
   "metadata": {},
   "source": [
    "## Find the average of the 5 user features found based on cosine similarity."
   ]
  },
  {
   "cell_type": "code",
   "execution_count": 22,
   "metadata": {},
   "outputs": [],
   "source": [
    "# Extract features from dataframe\n",
    "features = []\n",
    "for item in fnv.features.values:\n",
    "    features.append(item)"
   ]
  },
  {
   "cell_type": "code",
   "execution_count": 23,
   "metadata": {},
   "outputs": [],
   "source": [
    "avg_features = np.mean(np.asarray(features), axis=0)"
   ]
  },
  {
   "cell_type": "markdown",
   "metadata": {},
   "source": [
    "## Find the dot product with each hashtag features"
   ]
  },
  {
   "cell_type": "code",
   "execution_count": 24,
   "metadata": {},
   "outputs": [
    {
     "data": {
      "text/html": [
       "<div>\n",
       "<style scoped>\n",
       "    .dataframe tbody tr th:only-of-type {\n",
       "        vertical-align: middle;\n",
       "    }\n",
       "\n",
       "    .dataframe tbody tr th {\n",
       "        vertical-align: top;\n",
       "    }\n",
       "\n",
       "    .dataframe thead th {\n",
       "        text-align: right;\n",
       "    }\n",
       "</style>\n",
       "<table border=\"1\" class=\"dataframe\">\n",
       "  <thead>\n",
       "    <tr style=\"text-align: right;\">\n",
       "      <th></th>\n",
       "      <th>id</th>\n",
       "      <th>features</th>\n",
       "    </tr>\n",
       "  </thead>\n",
       "  <tbody>\n",
       "    <tr>\n",
       "      <th>0</th>\n",
       "      <td>1</td>\n",
       "      <td>[0.0744522213935852, 0.0064070881344377995, 0....</td>\n",
       "    </tr>\n",
       "    <tr>\n",
       "      <th>1</th>\n",
       "      <td>11</td>\n",
       "      <td>[0.054107919335365295, 0.08664730191230774, 0....</td>\n",
       "    </tr>\n",
       "    <tr>\n",
       "      <th>2</th>\n",
       "      <td>21</td>\n",
       "      <td>[-0.04549521207809448, -0.06504690647125244, -...</td>\n",
       "    </tr>\n",
       "    <tr>\n",
       "      <th>3</th>\n",
       "      <td>31</td>\n",
       "      <td>[0.05305836722254753, 0.07028129696846008, -0....</td>\n",
       "    </tr>\n",
       "    <tr>\n",
       "      <th>4</th>\n",
       "      <td>41</td>\n",
       "      <td>[-0.03151167184114456, 0.029394743964076042, 0...</td>\n",
       "    </tr>\n",
       "  </tbody>\n",
       "</table>\n",
       "</div>"
      ],
      "text/plain": [
       "   id                                           features\n",
       "0   1  [0.0744522213935852, 0.0064070881344377995, 0....\n",
       "1  11  [0.054107919335365295, 0.08664730191230774, 0....\n",
       "2  21  [-0.04549521207809448, -0.06504690647125244, -...\n",
       "3  31  [0.05305836722254753, 0.07028129696846008, -0....\n",
       "4  41  [-0.03151167184114456, 0.029394743964076042, 0..."
      ]
     },
     "execution_count": 24,
     "metadata": {},
     "output_type": "execute_result"
    }
   ],
   "source": [
    "# Take a look at the hashtag features extracted from ALS model\n",
    "hashtag_features.head()"
   ]
  },
  {
   "cell_type": "code",
   "execution_count": 25,
   "metadata": {},
   "outputs": [],
   "source": [
    "# Add new column to the hashtag features which will be the dot product with the average image(user) features\n",
    "hashtag_features['dot_product'] = hashtag_features['features'].apply(lambda x: np.asarray(x).dot(avg_features))\n",
    "\n",
    "# Get 10 ids with the highest dot product\n",
    "df_ten_highest = hashtag_features.sort_values(by='dot_product', ascending=False).head(10)\n",
    "rec_hashtag_ids = df_ten_highest.id.values"
   ]
  },
  {
   "cell_type": "markdown",
   "metadata": {},
   "source": [
    "## Find hashtags that correspond to the ids"
   ]
  },
  {
   "cell_type": "code",
   "execution_count": 31,
   "metadata": {},
   "outputs": [
    {
     "data": {
      "text/html": [
       "<div>\n",
       "<style scoped>\n",
       "    .dataframe tbody tr th:only-of-type {\n",
       "        vertical-align: middle;\n",
       "    }\n",
       "\n",
       "    .dataframe tbody tr th {\n",
       "        vertical-align: top;\n",
       "    }\n",
       "\n",
       "    .dataframe thead th {\n",
       "        text-align: right;\n",
       "    }\n",
       "</style>\n",
       "<table border=\"1\" class=\"dataframe\">\n",
       "  <thead>\n",
       "    <tr style=\"text-align: right;\">\n",
       "      <th></th>\n",
       "      <th>hashtag</th>\n",
       "    </tr>\n",
       "    <tr>\n",
       "      <th>id</th>\n",
       "      <th></th>\n",
       "    </tr>\n",
       "  </thead>\n",
       "  <tbody>\n",
       "    <tr>\n",
       "      <th>0</th>\n",
       "      <td>#sushiemcasa</td>\n",
       "    </tr>\n",
       "    <tr>\n",
       "      <th>1</th>\n",
       "      <td>#retarded</td>\n",
       "    </tr>\n",
       "    <tr>\n",
       "      <th>2</th>\n",
       "      <td>#weddingflowersdecor</td>\n",
       "    </tr>\n",
       "    <tr>\n",
       "      <th>3</th>\n",
       "      <td>#booster</td>\n",
       "    </tr>\n",
       "    <tr>\n",
       "      <th>4</th>\n",
       "      <td>#kumas</td>\n",
       "    </tr>\n",
       "  </tbody>\n",
       "</table>\n",
       "</div>"
      ],
      "text/plain": [
       "                 hashtag\n",
       "id                      \n",
       "0           #sushiemcasa\n",
       "1              #retarded\n",
       "2   #weddingflowersdecor\n",
       "3               #booster\n",
       "4                 #kumas"
      ]
     },
     "execution_count": 31,
     "metadata": {},
     "output_type": "execute_result"
    }
   ],
   "source": [
    "# Unpickle hashtag data\n",
    "hashtags_df = pd.read_pickle(\"pkl_files/hashtags_df.pkl\")\n",
    "hashtags_df.head()"
   ]
  },
  {
   "cell_type": "code",
   "execution_count": 32,
   "metadata": {},
   "outputs": [
    {
     "name": "stdout",
     "output_type": "stream",
     "text": [
      "id\n",
      "14094    #travel\n",
      "Name: hashtag, dtype: object\n",
      "id\n",
      "4515    #photography\n",
      "Name: hashtag, dtype: object\n",
      "id\n",
      "2638    #nature\n",
      "Name: hashtag, dtype: object\n",
      "id\n",
      "4556    #love\n",
      "Name: hashtag, dtype: object\n",
      "id\n",
      "305    #photooftheday\n",
      "Name: hashtag, dtype: object\n",
      "id\n",
      "14520    #instagood\n",
      "Name: hashtag, dtype: object\n",
      "id\n",
      "3319    #picoftheday\n",
      "Name: hashtag, dtype: object\n",
      "id\n",
      "775    #beautiful\n",
      "Name: hashtag, dtype: object\n",
      "id\n",
      "9326    #summer\n",
      "Name: hashtag, dtype: object\n",
      "id\n",
      "6746    #instagram\n",
      "Name: hashtag, dtype: object\n"
     ]
    }
   ],
   "source": [
    "for i in rec_hashtag_ids:\n",
    "    print(hashtags_df.loc[hashtags_df.index==i]['hashtag'])"
   ]
  }
 ],
 "metadata": {
  "kernelspec": {
   "display_name": "Python 3",
   "language": "python",
   "name": "python3"
  },
  "language_info": {
   "codemirror_mode": {
    "name": "ipython",
    "version": 3
   },
   "file_extension": ".py",
   "mimetype": "text/x-python",
   "name": "python",
   "nbconvert_exporter": "python",
   "pygments_lexer": "ipython3",
   "version": "3.7.1"
  }
 },
 "nbformat": 4,
 "nbformat_minor": 2
}
