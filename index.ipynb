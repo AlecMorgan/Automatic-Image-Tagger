{
 "cells": [
  {
   "cell_type": "markdown",
   "metadata": {},
   "source": [
    "# Building our models: ALS recommender + Deep Neural Network\n",
    "\n",
    "### In this notebook we build and test our models: an ALS recommendation system for generating additional hashtags, and a deep neural network for classifying new images to solve the cold start problem. \n",
    "\n",
    "### If you wish to reproduce the training steps taken here, you will of course need the dataset. Sadly the 1,500 pictures we used exceed Git's file storage allowances, so you will need to scrape your own images (and of course their associated hashtags). Please refer to scraping.ipynb which features a fully automated pipeline for doing this. "
   ]
  },
  {
   "cell_type": "code",
   "execution_count": 1,
   "metadata": {},
   "outputs": [],
   "source": [
    "# TensorFlow 2.0.0 is required for this code to work.\n",
    "# Uncomment and run the following line to install the CPU version.\n",
    "# !pip install tensorflow==2.0.0-beta0 --ignore-installed"
   ]
  },
  {
   "cell_type": "code",
   "execution_count": 2,
   "metadata": {},
   "outputs": [],
   "source": [
    "%load_ext autoreload\n",
    "%autoreload 2"
   ]
  },
  {
   "cell_type": "markdown",
   "metadata": {},
   "source": [
    "### Import necessary modules:"
   ]
  },
  {
   "cell_type": "code",
   "execution_count": 3,
   "metadata": {},
   "outputs": [],
   "source": [
    "import numpy as np\n",
    "import pandas as pd\n",
    "import matplotlib.pyplot as plt\n",
    "%matplotlib inline\n",
    "from random import shuffle\n",
    "import tensorflow as tf\n",
    "from tensorflow.keras.applications import MobileNetV2\n",
    "from pyspark.sql import SparkSession\n",
    "from pyspark.ml.evaluation import RegressionEvaluator\n",
    "from pyspark.ml.recommendation import ALS, ALSModel\n",
    "from sklearn.model_selection import train_test_split\n",
    "from functools import reduce\n",
    "from functions import prepare_image, extract_features, extract_features_for_one_image\n",
    "import os\n",
    "import json\n",
    "from tqdm import tqdm\n",
    "from PIL import Image\n",
    "from scipy.spatial.distance import cosine\n",
    "np.random.seed(0)"
   ]
  },
  {
   "cell_type": "markdown",
   "metadata": {},
   "source": [
    "### Get a list of all hashtags"
   ]
  },
  {
   "cell_type": "code",
   "execution_count": 4,
   "metadata": {},
   "outputs": [],
   "source": [
    "json_file_names = os.listdir('json_files')\n",
    "# Remove the 5 char .json file ending to isolate hashtag name\n",
    "hashtags = [hashtag[:-5] for hashtag in json_file_names]"
   ]
  },
  {
   "cell_type": "code",
   "execution_count": 5,
   "metadata": {},
   "outputs": [
    {
     "data": {
      "text/plain": [
       "['fitness',\n",
       " 'selfie',\n",
       " 'travel',\n",
       " 'nature',\n",
       " 'babies',\n",
       " 'cars',\n",
       " 'food',\n",
       " 'architecture',\n",
       " 'animals',\n",
       " 'wedding']"
      ]
     },
     "execution_count": 5,
     "metadata": {},
     "output_type": "execute_result"
    }
   ],
   "source": [
    "# remove '.DS_', '.ipynb_checkp'\n",
    "non_hashtags = ['.DS_', '.ipynb_checkp']\n",
    "for non_hashtag in non_hashtags:\n",
    "    try:\n",
    "        hashtags.remove(non_hashtag)\n",
    "    except:\n",
    "        pass # If we can't remove it, it's already gone\n",
    "    \n",
    "hashtags"
   ]
  },
  {
   "cell_type": "code",
   "execution_count": 6,
   "metadata": {},
   "outputs": [],
   "source": [
    "hashtag_dfs = []\n",
    "for hashtag in hashtags: \n",
    "    hashtag_dfs.append(pd.read_json(f'json_files/{hashtag}.json'))\n",
    "df = reduce(lambda x, y: pd.concat([x, y]), hashtag_dfs)"
   ]
  },
  {
   "cell_type": "code",
   "execution_count": 7,
   "metadata": {
    "scrolled": true
   },
   "outputs": [
    {
     "data": {
      "text/html": [
       "<div>\n",
       "<style scoped>\n",
       "    .dataframe tbody tr th:only-of-type {\n",
       "        vertical-align: middle;\n",
       "    }\n",
       "\n",
       "    .dataframe tbody tr th {\n",
       "        vertical-align: top;\n",
       "    }\n",
       "\n",
       "    .dataframe thead th {\n",
       "        text-align: right;\n",
       "    }\n",
       "</style>\n",
       "<table border=\"1\" class=\"dataframe\">\n",
       "  <thead>\n",
       "    <tr style=\"text-align: right;\">\n",
       "      <th></th>\n",
       "      <th>hashtags</th>\n",
       "      <th>image</th>\n",
       "      <th>image_local_name</th>\n",
       "      <th>post_link</th>\n",
       "      <th>search_hashtag</th>\n",
       "    </tr>\n",
       "  </thead>\n",
       "  <tbody>\n",
       "    <tr>\n",
       "      <th>2995</th>\n",
       "      <td>[#Wedding, #ido, #ianandwendytietheknot, #wedd...</td>\n",
       "      <td>https://scontent-sea1-1.cdninstagram.com/vp/29...</td>\n",
       "      <td>905a1d9c-b29d-44c7-ab5c-408c0b5d91ac.jpg</td>\n",
       "      <td>https://www.instagram.com/p/B0dcq0FBPQ3/</td>\n",
       "      <td>wedding</td>\n",
       "    </tr>\n",
       "    <tr>\n",
       "      <th>2996</th>\n",
       "      <td>[#wedding, #mariages, #celebrantecuritiba, #ce...</td>\n",
       "      <td>https://scontent-sea1-1.cdninstagram.com/vp/bb...</td>\n",
       "      <td>6e424f02-d10e-42db-a233-9ce2724fb8a9.jpg</td>\n",
       "      <td>https://www.instagram.com/p/BwXbu7MgCTZ/</td>\n",
       "      <td>wedding</td>\n",
       "    </tr>\n",
       "    <tr>\n",
       "      <th>2997</th>\n",
       "      <td>[#weddingring, #wedding, #shoes, #nancy, #sigm...</td>\n",
       "      <td>https://scontent-sea1-1.cdninstagram.com/vp/25...</td>\n",
       "      <td>ae49d2bb-95f7-4d16-9ee5-1603e97e6dd8.jpg</td>\n",
       "      <td>https://www.instagram.com/p/B0gwuc2icKv/</td>\n",
       "      <td>wedding</td>\n",
       "    </tr>\n",
       "    <tr>\n",
       "      <th>2998</th>\n",
       "      <td>[#wedding, #standesamtgoetheallee, #retroweddi...</td>\n",
       "      <td>https://scontent-sea1-1.cdninstagram.com/vp/21...</td>\n",
       "      <td>9152a6d4-abda-4adf-87a4-7988dc4bb3ac.jpg</td>\n",
       "      <td>https://www.instagram.com/p/B0gwufzImAz/</td>\n",
       "      <td>wedding</td>\n",
       "    </tr>\n",
       "    <tr>\n",
       "      <th>2999</th>\n",
       "      <td>[#kinalik, #gelinlik, #bursad, #wedding, #dama...</td>\n",
       "      <td>https://scontent-sea1-1.cdninstagram.com/vp/15...</td>\n",
       "      <td>09aaa471-2ed6-4ead-84db-e4aa6b0ece8f.jpg</td>\n",
       "      <td>https://www.instagram.com/p/B0gwubDhu6M/</td>\n",
       "      <td>wedding</td>\n",
       "    </tr>\n",
       "  </tbody>\n",
       "</table>\n",
       "</div>"
      ],
      "text/plain": [
       "                                               hashtags  \\\n",
       "2995  [#Wedding, #ido, #ianandwendytietheknot, #wedd...   \n",
       "2996  [#wedding, #mariages, #celebrantecuritiba, #ce...   \n",
       "2997  [#weddingring, #wedding, #shoes, #nancy, #sigm...   \n",
       "2998  [#wedding, #standesamtgoetheallee, #retroweddi...   \n",
       "2999  [#kinalik, #gelinlik, #bursad, #wedding, #dama...   \n",
       "\n",
       "                                                  image  \\\n",
       "2995  https://scontent-sea1-1.cdninstagram.com/vp/29...   \n",
       "2996  https://scontent-sea1-1.cdninstagram.com/vp/bb...   \n",
       "2997  https://scontent-sea1-1.cdninstagram.com/vp/25...   \n",
       "2998  https://scontent-sea1-1.cdninstagram.com/vp/21...   \n",
       "2999  https://scontent-sea1-1.cdninstagram.com/vp/15...   \n",
       "\n",
       "                              image_local_name  \\\n",
       "2995  905a1d9c-b29d-44c7-ab5c-408c0b5d91ac.jpg   \n",
       "2996  6e424f02-d10e-42db-a233-9ce2724fb8a9.jpg   \n",
       "2997  ae49d2bb-95f7-4d16-9ee5-1603e97e6dd8.jpg   \n",
       "2998  9152a6d4-abda-4adf-87a4-7988dc4bb3ac.jpg   \n",
       "2999  09aaa471-2ed6-4ead-84db-e4aa6b0ece8f.jpg   \n",
       "\n",
       "                                     post_link search_hashtag  \n",
       "2995  https://www.instagram.com/p/B0dcq0FBPQ3/        wedding  \n",
       "2996  https://www.instagram.com/p/BwXbu7MgCTZ/        wedding  \n",
       "2997  https://www.instagram.com/p/B0gwuc2icKv/        wedding  \n",
       "2998  https://www.instagram.com/p/B0gwufzImAz/        wedding  \n",
       "2999  https://www.instagram.com/p/B0gwubDhu6M/        wedding  "
      ]
     },
     "execution_count": 7,
     "metadata": {},
     "output_type": "execute_result"
    }
   ],
   "source": [
    "full_list = pd.DataFrame.reset_index(df, drop=True)\n",
    "full_list.tail()"
   ]
  },
  {
   "cell_type": "markdown",
   "metadata": {},
   "source": [
    "# Creating our Neural Network"
   ]
  },
  {
   "cell_type": "code",
   "execution_count": 8,
   "metadata": {},
   "outputs": [],
   "source": [
    "img_size = 160 # All images will be resized to 160x160\n",
    "img_shape = (160, 160, 3)\n",
    "\n",
    "# Create the base model from the pre-trained model MobileNet V2\n",
    "base_model = MobileNetV2(input_shape=img_shape, include_top=False, weights='imagenet')\n",
    "\n",
    "global_average_layer = tf.keras.layers.GlobalAveragePooling2D()\n",
    "\n",
    "neural_network = tf.keras.Sequential([\n",
    "  base_model,\n",
    "  global_average_layer,\n",
    "])"
   ]
  },
  {
   "cell_type": "markdown",
   "metadata": {},
   "source": [
    "## Data preparation\n",
    "\n",
    "### Neural networks require very specifically and consistently formatted image data. In the code cell below we build a list of dictionaries each describing one picture: the file name, the (main) hashtag, and of course the image data itself (represented using a TensorFlow \"EagerTensor\" type). "
   ]
  },
  {
   "cell_type": "code",
   "execution_count": 9,
   "metadata": {},
   "outputs": [
    {
     "name": "stderr",
     "output_type": "stream",
     "text": [
      "3000it [02:45, 18.17it/s]\n"
     ]
    }
   ],
   "source": [
    "pics = []\n",
    "for i, row in tqdm(full_list.iterrows()):\n",
    "    name = row['image_local_name']\n",
    "    hashtag = row['search_hashtag']\n",
    "    img_path = f'data/{hashtag}/{name}'\n",
    "    try:\n",
    "        img = prepare_image(img_path, where='local')\n",
    "        deep_features = extract_features_for_one_image(img, neural_network)\n",
    "        pics.append({'pic': img, \n",
    "                     'hashtag': hashtag, \n",
    "                     'name': name,\n",
    "                     'deep_features': deep_features})\n",
    "    except Exception as e:\n",
    "        error_type = type(e).__name__\n",
    "        if error_type == \"NotFoundError\":\n",
    "            # If a file in the list isn't in \n",
    "            # storage, skip it and continue\n",
    "            pass\n",
    "        else:\n",
    "            print(e)"
   ]
  },
  {
   "cell_type": "code",
   "execution_count": 10,
   "metadata": {},
   "outputs": [
    {
     "data": {
      "text/plain": [
       "tensorflow.python.framework.ops.EagerTensor"
      ]
     },
     "execution_count": 10,
     "metadata": {},
     "output_type": "execute_result"
    }
   ],
   "source": [
    "type(pics[64]['pic'])"
   ]
  },
  {
   "cell_type": "code",
   "execution_count": 11,
   "metadata": {
    "scrolled": true
   },
   "outputs": [
    {
     "name": "stderr",
     "output_type": "stream",
     "text": [
      "WARNING: Logging before flag parsing goes to stderr.\n",
      "W0831 15:07:32.146308 4773860800 image.py:656] Clipping input data to the valid range for imshow with RGB data ([0..1] for floats or [0..255] for integers).\n"
     ]
    },
    {
     "data": {
      "image/png": "[encoded data removed]",
      "text/plain": [
       "<Figure size 432x288 with 1 Axes>"
      ]
     },
     "metadata": {
      "needs_background": "light"
     },
     "output_type": "display_data"
    }
   ],
   "source": [
    "plt.imshow(pics[64]['pic']);"
   ]
  },
  {
   "cell_type": "code",
   "execution_count": 12,
   "metadata": {},
   "outputs": [],
   "source": [
    "# Train test split full_list. Not used in the model. Use code when necessary.\n",
    "# train, test = train_test_split(full_list, test_size=0.2)\n",
    "# print(len(train), len(test), len(full_list))\n",
    "# train.head()"
   ]
  },
  {
   "cell_type": "code",
   "execution_count": 13,
   "metadata": {},
   "outputs": [
    {
     "data": {
      "text/plain": [
       "dict_keys(['pic', 'hashtag', 'name', 'deep_features'])"
      ]
     },
     "execution_count": 13,
     "metadata": {},
     "output_type": "execute_result"
    }
   ],
   "source": [
    "# Check the first element of the train set\n",
    "pic = pics[0] # train[0]\n",
    "pic.keys()"
   ]
  },
  {
   "cell_type": "code",
   "execution_count": 14,
   "metadata": {},
   "outputs": [
    {
     "name": "stderr",
     "output_type": "stream",
     "text": [
      "W0831 15:07:32.689592 4773860800 image.py:656] Clipping input data to the valid range for imshow with RGB data ([0..1] for floats or [0..255] for integers).\n"
     ]
    },
    {
     "data": {
      "image/png": "[encoded data removed]",
      "text/plain": [
       "<Figure size 432x288 with 1 Axes>"
      ]
     },
     "metadata": {
      "needs_background": "light"
     },
     "output_type": "display_data"
    }
   ],
   "source": [
    "plt.imshow(pic['pic']);"
   ]
  },
  {
   "cell_type": "code",
   "execution_count": 15,
   "metadata": {},
   "outputs": [
    {
     "data": {
      "text/plain": [
       "('travel', (1280,), TensorShape([160, 160, 3]))"
      ]
     },
     "execution_count": 15,
     "metadata": {},
     "output_type": "execute_result"
    }
   ],
   "source": [
    "pic['hashtag'], pic['deep_features'].shape, pic['pic'].shape"
   ]
  },
  {
   "cell_type": "code",
   "execution_count": 16,
   "metadata": {},
   "outputs": [],
   "source": [
    "# Add extracted deep features information to pics, make it a list of dictionaries\n",
    "deep_features = list(map(extract_features, pics))\n",
    "# pics already same as deep_features?\n",
    "# df_deep_features = pd.[pic['deep_features'] for pic in pics]"
   ]
  },
  {
   "cell_type": "code",
   "execution_count": 17,
   "metadata": {},
   "outputs": [
    {
     "data": {
      "text/html": [
       "<div>\n",
       "<style scoped>\n",
       "    .dataframe tbody tr th:only-of-type {\n",
       "        vertical-align: middle;\n",
       "    }\n",
       "\n",
       "    .dataframe tbody tr th {\n",
       "        vertical-align: top;\n",
       "    }\n",
       "\n",
       "    .dataframe thead th {\n",
       "        text-align: right;\n",
       "    }\n",
       "</style>\n",
       "<table border=\"1\" class=\"dataframe\">\n",
       "  <thead>\n",
       "    <tr style=\"text-align: right;\">\n",
       "      <th></th>\n",
       "      <th>deep_features</th>\n",
       "      <th>hashtag</th>\n",
       "      <th>name</th>\n",
       "      <th>pic</th>\n",
       "    </tr>\n",
       "  </thead>\n",
       "  <tbody>\n",
       "    <tr>\n",
       "      <th>0</th>\n",
       "      <td>[0.0, 0.0, 0.0, 2.2437983, 0.36235672, 0.0, 0....</td>\n",
       "      <td>travel</td>\n",
       "      <td>e66420a7-1fc1-49a7-a649-5c591f1d60b8.jpg</td>\n",
       "      <td>(((tf.Tensor(0.27843142, shape=(), dtype=float...</td>\n",
       "    </tr>\n",
       "    <tr>\n",
       "      <th>1</th>\n",
       "      <td>[0.49179173, 0.0, 0.71238345, 0.0, 0.25765544,...</td>\n",
       "      <td>travel</td>\n",
       "      <td>b6316377-299c-4f5a-b17e-c7879dce5220.jpg</td>\n",
       "      <td>(((tf.Tensor(-0.37843138, shape=(), dtype=floa...</td>\n",
       "    </tr>\n",
       "    <tr>\n",
       "      <th>2</th>\n",
       "      <td>[0.813036, 0.74626523, 0.0, 0.22583574, 0.0, 0...</td>\n",
       "      <td>travel</td>\n",
       "      <td>5f25e1a8-ad7f-4d8b-b0b4-ca7ff3930720.jpg</td>\n",
       "      <td>(((tf.Tensor(0.4529412, shape=(), dtype=float3...</td>\n",
       "    </tr>\n",
       "    <tr>\n",
       "      <th>3</th>\n",
       "      <td>[0.41702172, 0.055836104, 0.08941681, 0.0, 0.6...</td>\n",
       "      <td>travel</td>\n",
       "      <td>c0077760-c457-46f0-951a-9a1d8b941030.jpg</td>\n",
       "      <td>(((tf.Tensor(-0.4333333, shape=(), dtype=float...</td>\n",
       "    </tr>\n",
       "    <tr>\n",
       "      <th>4</th>\n",
       "      <td>[0.0, 0.0, 0.0, 0.0, 0.039455537, 0.167255, 0....</td>\n",
       "      <td>travel</td>\n",
       "      <td>1e1293dc-7033-4c67-aca2-f00397aa96f2.jpg</td>\n",
       "      <td>(((tf.Tensor(0.49411768, shape=(), dtype=float...</td>\n",
       "    </tr>\n",
       "  </tbody>\n",
       "</table>\n",
       "</div>"
      ],
      "text/plain": [
       "                                       deep_features hashtag  \\\n",
       "0  [0.0, 0.0, 0.0, 2.2437983, 0.36235672, 0.0, 0....  travel   \n",
       "1  [0.49179173, 0.0, 0.71238345, 0.0, 0.25765544,...  travel   \n",
       "2  [0.813036, 0.74626523, 0.0, 0.22583574, 0.0, 0...  travel   \n",
       "3  [0.41702172, 0.055836104, 0.08941681, 0.0, 0.6...  travel   \n",
       "4  [0.0, 0.0, 0.0, 0.0, 0.039455537, 0.167255, 0....  travel   \n",
       "\n",
       "                                       name  \\\n",
       "0  e66420a7-1fc1-49a7-a649-5c591f1d60b8.jpg   \n",
       "1  b6316377-299c-4f5a-b17e-c7879dce5220.jpg   \n",
       "2  5f25e1a8-ad7f-4d8b-b0b4-ca7ff3930720.jpg   \n",
       "3  c0077760-c457-46f0-951a-9a1d8b941030.jpg   \n",
       "4  1e1293dc-7033-4c67-aca2-f00397aa96f2.jpg   \n",
       "\n",
       "                                                 pic  \n",
       "0  (((tf.Tensor(0.27843142, shape=(), dtype=float...  \n",
       "1  (((tf.Tensor(-0.37843138, shape=(), dtype=floa...  \n",
       "2  (((tf.Tensor(0.4529412, shape=(), dtype=float3...  \n",
       "3  (((tf.Tensor(-0.4333333, shape=(), dtype=float...  \n",
       "4  (((tf.Tensor(0.49411768, shape=(), dtype=float...  "
      ]
     },
     "execution_count": 17,
     "metadata": {},
     "output_type": "execute_result"
    }
   ],
   "source": [
    "df_deep_features = pd.DataFrame(pics) # deep_features\n",
    "df_deep_features.head()"
   ]
  },
  {
   "cell_type": "code",
   "execution_count": 18,
   "metadata": {},
   "outputs": [],
   "source": [
    "# filepath = \"pkl_files/df_deep_features.pkl\"\n",
    "# if os.path.exists(filepath):\n",
    "#     df.to_pickle(filepath)"
   ]
  },
  {
   "cell_type": "markdown",
   "metadata": {},
   "source": [
    "## ALS Model"
   ]
  },
  {
   "cell_type": "code",
   "execution_count": 19,
   "metadata": {},
   "outputs": [],
   "source": [
    "spark = SparkSession.builder.master('local').getOrCreate()"
   ]
  },
  {
   "cell_type": "code",
   "execution_count": 20,
   "metadata": {},
   "outputs": [
    {
     "data": {
      "text/html": [
       "<div>\n",
       "<style scoped>\n",
       "    .dataframe tbody tr th:only-of-type {\n",
       "        vertical-align: middle;\n",
       "    }\n",
       "\n",
       "    .dataframe tbody tr th {\n",
       "        vertical-align: top;\n",
       "    }\n",
       "\n",
       "    .dataframe thead th {\n",
       "        text-align: right;\n",
       "    }\n",
       "</style>\n",
       "<table border=\"1\" class=\"dataframe\">\n",
       "  <thead>\n",
       "    <tr style=\"text-align: right;\">\n",
       "      <th></th>\n",
       "      <th>hashtags</th>\n",
       "      <th>image</th>\n",
       "      <th>image_local_name</th>\n",
       "      <th>post_link</th>\n",
       "      <th>search_hashtag</th>\n",
       "    </tr>\n",
       "  </thead>\n",
       "  <tbody>\n",
       "    <tr>\n",
       "      <th>0</th>\n",
       "      <td>[#herbalifeshake, #kilokontrol, #herbalife, #h...</td>\n",
       "      <td>https://scontent-mad1-1.cdninstagram.com/vp/bd...</td>\n",
       "      <td>ff07fa3f-0482-4757-926e-3e6229f7d0d7.jpg</td>\n",
       "      <td>https://www.instagram.com/p/B02xq0AFpe9/</td>\n",
       "      <td>fitness</td>\n",
       "    </tr>\n",
       "    <tr>\n",
       "      <th>1</th>\n",
       "      <td>[]</td>\n",
       "      <td>https://scontent-mad1-1.cdninstagram.com/vp/b9...</td>\n",
       "      <td>7cff7c70-b983-4c6b-adee-fc5676acddf3.jpg</td>\n",
       "      <td>https://www.instagram.com/p/B02sMkwJnny/</td>\n",
       "      <td>fitness</td>\n",
       "    </tr>\n",
       "    <tr>\n",
       "      <th>2</th>\n",
       "      <td>[#bollywood, #indian, #art, #love, #india, #gi...</td>\n",
       "      <td>https://scontent-mad1-1.cdninstagram.com/vp/2b...</td>\n",
       "      <td>b7de6dac-4294-45d5-aac0-8a749b7e4cc5.jpg</td>\n",
       "      <td>https://www.instagram.com/p/B02zfuaDfP4/</td>\n",
       "      <td>fitness</td>\n",
       "    </tr>\n",
       "    <tr>\n",
       "      <th>3</th>\n",
       "      <td>[#popxodaily, #personalblog, #loveforblack, #l...</td>\n",
       "      <td>https://scontent-mad1-1.cdninstagram.com/vp/34...</td>\n",
       "      <td>f699faef-b071-46f2-bf5c-fd9f1ff7626a.jpg</td>\n",
       "      <td>https://www.instagram.com/p/B02yOH3nfzB/</td>\n",
       "      <td>fitness</td>\n",
       "    </tr>\n",
       "    <tr>\n",
       "      <th>4</th>\n",
       "      <td>[]</td>\n",
       "      <td>https://scontent-mad1-1.cdninstagram.com/vp/31...</td>\n",
       "      <td>7f25fd41-5f1b-4181-8128-4f7464f4c2ad.jpg</td>\n",
       "      <td>https://www.instagram.com/p/B02rDHDF28T/</td>\n",
       "      <td>fitness</td>\n",
       "    </tr>\n",
       "  </tbody>\n",
       "</table>\n",
       "</div>"
      ],
      "text/plain": [
       "                                            hashtags  \\\n",
       "0  [#herbalifeshake, #kilokontrol, #herbalife, #h...   \n",
       "1                                                 []   \n",
       "2  [#bollywood, #indian, #art, #love, #india, #gi...   \n",
       "3  [#popxodaily, #personalblog, #loveforblack, #l...   \n",
       "4                                                 []   \n",
       "\n",
       "                                               image  \\\n",
       "0  https://scontent-mad1-1.cdninstagram.com/vp/bd...   \n",
       "1  https://scontent-mad1-1.cdninstagram.com/vp/b9...   \n",
       "2  https://scontent-mad1-1.cdninstagram.com/vp/2b...   \n",
       "3  https://scontent-mad1-1.cdninstagram.com/vp/34...   \n",
       "4  https://scontent-mad1-1.cdninstagram.com/vp/31...   \n",
       "\n",
       "                           image_local_name  \\\n",
       "0  ff07fa3f-0482-4757-926e-3e6229f7d0d7.jpg   \n",
       "1  7cff7c70-b983-4c6b-adee-fc5676acddf3.jpg   \n",
       "2  b7de6dac-4294-45d5-aac0-8a749b7e4cc5.jpg   \n",
       "3  f699faef-b071-46f2-bf5c-fd9f1ff7626a.jpg   \n",
       "4  7f25fd41-5f1b-4181-8128-4f7464f4c2ad.jpg   \n",
       "\n",
       "                                  post_link search_hashtag  \n",
       "0  https://www.instagram.com/p/B02xq0AFpe9/        fitness  \n",
       "1  https://www.instagram.com/p/B02sMkwJnny/        fitness  \n",
       "2  https://www.instagram.com/p/B02zfuaDfP4/        fitness  \n",
       "3  https://www.instagram.com/p/B02yOH3nfzB/        fitness  \n",
       "4  https://www.instagram.com/p/B02rDHDF28T/        fitness  "
      ]
     },
     "execution_count": 20,
     "metadata": {},
     "output_type": "execute_result"
    }
   ],
   "source": [
    "full_list.head()"
   ]
  },
  {
   "cell_type": "code",
   "execution_count": 21,
   "metadata": {},
   "outputs": [],
   "source": [
    "full_list['clean_hashtags'] = full_list['hashtags'].apply(\n",
    "    lambda hashtag_list: [h for h in hashtag_list if h.startswith('#')])\n",
    "full_list.head()\n",
    "\n",
    "all_hashtags = set()\n",
    "for tags in full_list['clean_hashtags']:\n",
    "    all_hashtags.update(tags)\n",
    "hashtag_lookup = {hashtag: i for i, hashtag in enumerate(all_hashtags)}"
   ]
  },
  {
   "cell_type": "code",
   "execution_count": 22,
   "metadata": {},
   "outputs": [],
   "source": [
    "# image_lookup = dict(zip(full_list['image_local_name'], full_list.index))"
   ]
  },
  {
   "cell_type": "code",
   "execution_count": 23,
   "metadata": {},
   "outputs": [],
   "source": [
    "hashtag_data = []\n",
    "for i in full_list.index:\n",
    "    hashtags = full_list.loc[i, 'clean_hashtags']\n",
    "    for hashtag in hashtags:\n",
    "        hashtag_data.append(\n",
    "            {'image_id': i,\n",
    "             'hashtag_id': hashtag_lookup[hashtag],\n",
    "             'rating': 1}\n",
    "        )\n",
    "hashtag_df_long = pd.DataFrame(hashtag_data)"
   ]
  },
  {
   "cell_type": "code",
   "execution_count": 24,
   "metadata": {},
   "outputs": [
    {
     "data": {
      "text/html": [
       "<div>\n",
       "<style scoped>\n",
       "    .dataframe tbody tr th:only-of-type {\n",
       "        vertical-align: middle;\n",
       "    }\n",
       "\n",
       "    .dataframe tbody tr th {\n",
       "        vertical-align: top;\n",
       "    }\n",
       "\n",
       "    .dataframe thead th {\n",
       "        text-align: right;\n",
       "    }\n",
       "</style>\n",
       "<table border=\"1\" class=\"dataframe\">\n",
       "  <thead>\n",
       "    <tr style=\"text-align: right;\">\n",
       "      <th></th>\n",
       "      <th>hashtag_id</th>\n",
       "      <th>image_id</th>\n",
       "      <th>rating</th>\n",
       "    </tr>\n",
       "  </thead>\n",
       "  <tbody>\n",
       "    <tr>\n",
       "      <th>47467</th>\n",
       "      <td>13376</td>\n",
       "      <td>2999</td>\n",
       "      <td>1</td>\n",
       "    </tr>\n",
       "    <tr>\n",
       "      <th>47468</th>\n",
       "      <td>11987</td>\n",
       "      <td>2999</td>\n",
       "      <td>1</td>\n",
       "    </tr>\n",
       "    <tr>\n",
       "      <th>47469</th>\n",
       "      <td>10766</td>\n",
       "      <td>2999</td>\n",
       "      <td>1</td>\n",
       "    </tr>\n",
       "    <tr>\n",
       "      <th>47470</th>\n",
       "      <td>4159</td>\n",
       "      <td>2999</td>\n",
       "      <td>1</td>\n",
       "    </tr>\n",
       "    <tr>\n",
       "      <th>47471</th>\n",
       "      <td>1921</td>\n",
       "      <td>2999</td>\n",
       "      <td>1</td>\n",
       "    </tr>\n",
       "  </tbody>\n",
       "</table>\n",
       "</div>"
      ],
      "text/plain": [
       "       hashtag_id  image_id  rating\n",
       "47467       13376      2999       1\n",
       "47468       11987      2999       1\n",
       "47469       10766      2999       1\n",
       "47470        4159      2999       1\n",
       "47471        1921      2999       1"
      ]
     },
     "execution_count": 24,
     "metadata": {},
     "output_type": "execute_result"
    }
   ],
   "source": [
    "hashtag_df_long.tail()"
   ]
  },
  {
   "cell_type": "code",
   "execution_count": 25,
   "metadata": {
    "scrolled": true
   },
   "outputs": [
    {
     "data": {
      "text/plain": [
       "hashtags            object\n",
       "image               object\n",
       "image_local_name    object\n",
       "post_link           object\n",
       "search_hashtag      object\n",
       "clean_hashtags      object\n",
       "dtype: object"
      ]
     },
     "execution_count": 25,
     "metadata": {},
     "output_type": "execute_result"
    }
   ],
   "source": [
    "full_list.dtypes"
   ]
  },
  {
   "cell_type": "code",
   "execution_count": 26,
   "metadata": {},
   "outputs": [],
   "source": [
    "als = ALS(userCol='image_id',\n",
    "          itemCol='hashtag_id',\n",
    "          implicitPrefs=True,\n",
    "          alpha=40)"
   ]
  },
  {
   "cell_type": "code",
   "execution_count": 27,
   "metadata": {},
   "outputs": [],
   "source": [
    "hashtag_spark_df = spark.createDataFrame(hashtag_df_long)"
   ]
  },
  {
   "cell_type": "code",
   "execution_count": 28,
   "metadata": {},
   "outputs": [],
   "source": [
    "als_model = als.fit(hashtag_spark_df)"
   ]
  },
  {
   "cell_type": "code",
   "execution_count": 29,
   "metadata": {},
   "outputs": [],
   "source": [
    "als_model.write().overwrite().save('als')"
   ]
  },
  {
   "cell_type": "code",
   "execution_count": 30,
   "metadata": {},
   "outputs": [],
   "source": [
    "# Load the ALS model\n",
    "# als_model = ALSModel.load(“/path/to/read/the/model/from”)"
   ]
  },
  {
   "cell_type": "code",
   "execution_count": 31,
   "metadata": {},
   "outputs": [
    {
     "data": {
      "text/plain": [
       "2261"
      ]
     },
     "execution_count": 31,
     "metadata": {},
     "output_type": "execute_result"
    }
   ],
   "source": [
    "recs = als_model.recommendForAllUsers(numItems=10).toPandas()\n",
    "len(recs)"
   ]
  },
  {
   "cell_type": "code",
   "execution_count": 32,
   "metadata": {},
   "outputs": [],
   "source": [
    "hashtag_index = list(all_hashtags)"
   ]
  },
  {
   "cell_type": "code",
   "execution_count": 33,
   "metadata": {},
   "outputs": [],
   "source": [
    "def lookup_hashtag(hashtag_id):\n",
    "    return hashtag_index[hashtag_id]\n",
    "\n",
    "def lookup_hashtag_recs(rec_scores):\n",
    "    return [lookup_hashtag(rec) for (rec, score) in rec_scores]"
   ]
  },
  {
   "cell_type": "code",
   "execution_count": 34,
   "metadata": {},
   "outputs": [],
   "source": [
    "recs['recommended_hashtags'] = recs['recommendations'].apply(lookup_hashtag_recs)"
   ]
  },
  {
   "cell_type": "code",
   "execution_count": 35,
   "metadata": {},
   "outputs": [],
   "source": [
    "recs.index = recs['image_id']"
   ]
  },
  {
   "cell_type": "code",
   "execution_count": 36,
   "metadata": {},
   "outputs": [],
   "source": [
    "recs = recs.join(full_list, how='left')[['recommendations',\n",
    "                                                 'recommended_hashtags',\n",
    "                                                 'hashtags',\n",
    "                                                 'image_local_name',\n",
    "                                                 'search_hashtag']]"
   ]
  },
  {
   "cell_type": "code",
   "execution_count": 37,
   "metadata": {},
   "outputs": [
    {
     "data": {
      "text/plain": [
       "'ff07fa3f-0482-4757-926e-3e6229f7d0d7.jpg'"
      ]
     },
     "execution_count": 37,
     "metadata": {},
     "output_type": "execute_result"
    }
   ],
   "source": [
    "recs.loc[0, 'image_local_name']"
   ]
  },
  {
   "cell_type": "code",
   "execution_count": 38,
   "metadata": {},
   "outputs": [],
   "source": [
    "# compare_recs.to_pickle('pkl_files/recs.pkl')\n",
    "recs.drop('recommendations', axis=1, inplace=True)\n",
    "image_factors = als_model.userFactors.toPandas()\n",
    "image_factors.index = image_factors['id']\n",
    "recs.join(image_factors);"
   ]
  },
  {
   "cell_type": "markdown",
   "metadata": {},
   "source": [
    "### Pickle hashtag data"
   ]
  },
  {
   "cell_type": "code",
   "execution_count": 39,
   "metadata": {},
   "outputs": [
    {
     "data": {
      "text/plain": [
       "(15248, dict)"
      ]
     },
     "execution_count": 39,
     "metadata": {},
     "output_type": "execute_result"
    }
   ],
   "source": [
    "len(hashtag_lookup), type(hashtag_lookup)"
   ]
  },
  {
   "cell_type": "code",
   "execution_count": 40,
   "metadata": {},
   "outputs": [
    {
     "data": {
      "text/html": [
       "<div>\n",
       "<style scoped>\n",
       "    .dataframe tbody tr th:only-of-type {\n",
       "        vertical-align: middle;\n",
       "    }\n",
       "\n",
       "    .dataframe tbody tr th {\n",
       "        vertical-align: top;\n",
       "    }\n",
       "\n",
       "    .dataframe thead th {\n",
       "        text-align: right;\n",
       "    }\n",
       "</style>\n",
       "<table border=\"1\" class=\"dataframe\">\n",
       "  <thead>\n",
       "    <tr style=\"text-align: right;\">\n",
       "      <th></th>\n",
       "      <th>0</th>\n",
       "    </tr>\n",
       "  </thead>\n",
       "  <tbody>\n",
       "    <tr>\n",
       "      <th>#easternasian</th>\n",
       "      <td>0</td>\n",
       "    </tr>\n",
       "    <tr>\n",
       "      <th>#animation</th>\n",
       "      <td>1</td>\n",
       "    </tr>\n",
       "    <tr>\n",
       "      <th>#caloriecounting</th>\n",
       "      <td>2</td>\n",
       "    </tr>\n",
       "    <tr>\n",
       "      <th>#houstonweddings</th>\n",
       "      <td>3</td>\n",
       "    </tr>\n",
       "    <tr>\n",
       "      <th>#bio</th>\n",
       "      <td>4</td>\n",
       "    </tr>\n",
       "  </tbody>\n",
       "</table>\n",
       "</div>"
      ],
      "text/plain": [
       "                  0\n",
       "#easternasian     0\n",
       "#animation        1\n",
       "#caloriecounting  2\n",
       "#houstonweddings  3\n",
       "#bio              4"
      ]
     },
     "execution_count": 40,
     "metadata": {},
     "output_type": "execute_result"
    }
   ],
   "source": [
    "hashtags_df = pd.DataFrame.from_dict(hashtag_lookup, orient='index')\n",
    "hashtags_df.head()"
   ]
  },
  {
   "cell_type": "code",
   "execution_count": 41,
   "metadata": {},
   "outputs": [
    {
     "data": {
      "text/html": [
       "<div>\n",
       "<style scoped>\n",
       "    .dataframe tbody tr th:only-of-type {\n",
       "        vertical-align: middle;\n",
       "    }\n",
       "\n",
       "    .dataframe tbody tr th {\n",
       "        vertical-align: top;\n",
       "    }\n",
       "\n",
       "    .dataframe thead th {\n",
       "        text-align: right;\n",
       "    }\n",
       "</style>\n",
       "<table border=\"1\" class=\"dataframe\">\n",
       "  <thead>\n",
       "    <tr style=\"text-align: right;\">\n",
       "      <th></th>\n",
       "      <th>hashtag</th>\n",
       "    </tr>\n",
       "    <tr>\n",
       "      <th>id</th>\n",
       "      <th></th>\n",
       "    </tr>\n",
       "  </thead>\n",
       "  <tbody>\n",
       "    <tr>\n",
       "      <th>0</th>\n",
       "      <td>#easternasian</td>\n",
       "    </tr>\n",
       "    <tr>\n",
       "      <th>1</th>\n",
       "      <td>#animation</td>\n",
       "    </tr>\n",
       "    <tr>\n",
       "      <th>2</th>\n",
       "      <td>#caloriecounting</td>\n",
       "    </tr>\n",
       "    <tr>\n",
       "      <th>3</th>\n",
       "      <td>#houstonweddings</td>\n",
       "    </tr>\n",
       "    <tr>\n",
       "      <th>4</th>\n",
       "      <td>#bio</td>\n",
       "    </tr>\n",
       "  </tbody>\n",
       "</table>\n",
       "</div>"
      ],
      "text/plain": [
       "             hashtag\n",
       "id                  \n",
       "0      #easternasian\n",
       "1         #animation\n",
       "2   #caloriecounting\n",
       "3   #houstonweddings\n",
       "4               #bio"
      ]
     },
     "execution_count": 41,
     "metadata": {},
     "output_type": "execute_result"
    }
   ],
   "source": [
    "hashtags_df = hashtags_df.reset_index()\n",
    "hashtags_df.columns = ['hashtag', 'id']\n",
    "hashtags_df.index = hashtags_df['id']\n",
    "hashtags_df.drop('id', axis=1, inplace=True)\n",
    "hashtags_df.head()"
   ]
  },
  {
   "cell_type": "code",
   "execution_count": 42,
   "metadata": {},
   "outputs": [],
   "source": [
    "# hashtags_df.to_pickle(\"pkl_files/hashtags_df.pkl\")"
   ]
  },
  {
   "cell_type": "markdown",
   "metadata": {},
   "source": [
    "# DELIMITER\n",
    "\n",
    "# THIS IS WHERE THE HASHTAG GENERATION CODE BEGINS"
   ]
  },
  {
   "cell_type": "code",
   "execution_count": 43,
   "metadata": {},
   "outputs": [],
   "source": [
    "img_features = als_model.userFactors.toPandas()\n",
    "hashtag_features = als_model.itemFactors.toPandas()"
   ]
  },
  {
   "cell_type": "code",
   "execution_count": 44,
   "metadata": {},
   "outputs": [],
   "source": [
    "# Load the deep features dataframe\n",
    "# deep_features = pd.read_pickle(\"pkl_files/df_deep_features.pkl\")"
   ]
  },
  {
   "cell_type": "code",
   "execution_count": 45,
   "metadata": {},
   "outputs": [
    {
     "data": {
      "text/html": [
       "<div>\n",
       "<style scoped>\n",
       "    .dataframe tbody tr th:only-of-type {\n",
       "        vertical-align: middle;\n",
       "    }\n",
       "\n",
       "    .dataframe tbody tr th {\n",
       "        vertical-align: top;\n",
       "    }\n",
       "\n",
       "    .dataframe thead th {\n",
       "        text-align: right;\n",
       "    }\n",
       "</style>\n",
       "<table border=\"1\" class=\"dataframe\">\n",
       "  <thead>\n",
       "    <tr style=\"text-align: right;\">\n",
       "      <th></th>\n",
       "      <th>deep_features</th>\n",
       "      <th>hashtag</th>\n",
       "      <th>name</th>\n",
       "      <th>pic</th>\n",
       "    </tr>\n",
       "    <tr>\n",
       "      <th>name</th>\n",
       "      <th></th>\n",
       "      <th></th>\n",
       "      <th></th>\n",
       "      <th></th>\n",
       "    </tr>\n",
       "  </thead>\n",
       "  <tbody>\n",
       "    <tr>\n",
       "      <th>e66420a7-1fc1-49a7-a649-5c591f1d60b8.jpg</th>\n",
       "      <td>[0.0, 0.0, 0.0, 2.2437983, 0.36235672, 0.0, 0....</td>\n",
       "      <td>travel</td>\n",
       "      <td>e66420a7-1fc1-49a7-a649-5c591f1d60b8.jpg</td>\n",
       "      <td>(((tf.Tensor(0.27843142, shape=(), dtype=float...</td>\n",
       "    </tr>\n",
       "    <tr>\n",
       "      <th>b6316377-299c-4f5a-b17e-c7879dce5220.jpg</th>\n",
       "      <td>[0.49179173, 0.0, 0.71238345, 0.0, 0.25765544,...</td>\n",
       "      <td>travel</td>\n",
       "      <td>b6316377-299c-4f5a-b17e-c7879dce5220.jpg</td>\n",
       "      <td>(((tf.Tensor(-0.37843138, shape=(), dtype=floa...</td>\n",
       "    </tr>\n",
       "    <tr>\n",
       "      <th>5f25e1a8-ad7f-4d8b-b0b4-ca7ff3930720.jpg</th>\n",
       "      <td>[0.813036, 0.74626523, 0.0, 0.22583574, 0.0, 0...</td>\n",
       "      <td>travel</td>\n",
       "      <td>5f25e1a8-ad7f-4d8b-b0b4-ca7ff3930720.jpg</td>\n",
       "      <td>(((tf.Tensor(0.4529412, shape=(), dtype=float3...</td>\n",
       "    </tr>\n",
       "    <tr>\n",
       "      <th>c0077760-c457-46f0-951a-9a1d8b941030.jpg</th>\n",
       "      <td>[0.41702172, 0.055836104, 0.08941681, 0.0, 0.6...</td>\n",
       "      <td>travel</td>\n",
       "      <td>c0077760-c457-46f0-951a-9a1d8b941030.jpg</td>\n",
       "      <td>(((tf.Tensor(-0.4333333, shape=(), dtype=float...</td>\n",
       "    </tr>\n",
       "    <tr>\n",
       "      <th>1e1293dc-7033-4c67-aca2-f00397aa96f2.jpg</th>\n",
       "      <td>[0.0, 0.0, 0.0, 0.0, 0.039455537, 0.167255, 0....</td>\n",
       "      <td>travel</td>\n",
       "      <td>1e1293dc-7033-4c67-aca2-f00397aa96f2.jpg</td>\n",
       "      <td>(((tf.Tensor(0.49411768, shape=(), dtype=float...</td>\n",
       "    </tr>\n",
       "  </tbody>\n",
       "</table>\n",
       "</div>"
      ],
      "text/plain": [
       "                                                                              deep_features  \\\n",
       "name                                                                                          \n",
       "e66420a7-1fc1-49a7-a649-5c591f1d60b8.jpg  [0.0, 0.0, 0.0, 2.2437983, 0.36235672, 0.0, 0....   \n",
       "b6316377-299c-4f5a-b17e-c7879dce5220.jpg  [0.49179173, 0.0, 0.71238345, 0.0, 0.25765544,...   \n",
       "5f25e1a8-ad7f-4d8b-b0b4-ca7ff3930720.jpg  [0.813036, 0.74626523, 0.0, 0.22583574, 0.0, 0...   \n",
       "c0077760-c457-46f0-951a-9a1d8b941030.jpg  [0.41702172, 0.055836104, 0.08941681, 0.0, 0.6...   \n",
       "1e1293dc-7033-4c67-aca2-f00397aa96f2.jpg  [0.0, 0.0, 0.0, 0.0, 0.039455537, 0.167255, 0....   \n",
       "\n",
       "                                         hashtag  \\\n",
       "name                                               \n",
       "e66420a7-1fc1-49a7-a649-5c591f1d60b8.jpg  travel   \n",
       "b6316377-299c-4f5a-b17e-c7879dce5220.jpg  travel   \n",
       "5f25e1a8-ad7f-4d8b-b0b4-ca7ff3930720.jpg  travel   \n",
       "c0077760-c457-46f0-951a-9a1d8b941030.jpg  travel   \n",
       "1e1293dc-7033-4c67-aca2-f00397aa96f2.jpg  travel   \n",
       "\n",
       "                                                                              name  \\\n",
       "name                                                                                 \n",
       "e66420a7-1fc1-49a7-a649-5c591f1d60b8.jpg  e66420a7-1fc1-49a7-a649-5c591f1d60b8.jpg   \n",
       "b6316377-299c-4f5a-b17e-c7879dce5220.jpg  b6316377-299c-4f5a-b17e-c7879dce5220.jpg   \n",
       "5f25e1a8-ad7f-4d8b-b0b4-ca7ff3930720.jpg  5f25e1a8-ad7f-4d8b-b0b4-ca7ff3930720.jpg   \n",
       "c0077760-c457-46f0-951a-9a1d8b941030.jpg  c0077760-c457-46f0-951a-9a1d8b941030.jpg   \n",
       "1e1293dc-7033-4c67-aca2-f00397aa96f2.jpg  1e1293dc-7033-4c67-aca2-f00397aa96f2.jpg   \n",
       "\n",
       "                                                                                        pic  \n",
       "name                                                                                         \n",
       "e66420a7-1fc1-49a7-a649-5c591f1d60b8.jpg  (((tf.Tensor(0.27843142, shape=(), dtype=float...  \n",
       "b6316377-299c-4f5a-b17e-c7879dce5220.jpg  (((tf.Tensor(-0.37843138, shape=(), dtype=floa...  \n",
       "5f25e1a8-ad7f-4d8b-b0b4-ca7ff3930720.jpg  (((tf.Tensor(0.4529412, shape=(), dtype=float3...  \n",
       "c0077760-c457-46f0-951a-9a1d8b941030.jpg  (((tf.Tensor(-0.4333333, shape=(), dtype=float...  \n",
       "1e1293dc-7033-4c67-aca2-f00397aa96f2.jpg  (((tf.Tensor(0.49411768, shape=(), dtype=float...  "
      ]
     },
     "execution_count": 45,
     "metadata": {},
     "output_type": "execute_result"
    }
   ],
   "source": [
    "df_deep_features.index = df_deep_features['name']\n",
    "df_deep_features.head()"
   ]
  },
  {
   "cell_type": "code",
   "execution_count": 46,
   "metadata": {},
   "outputs": [
    {
     "data": {
      "text/html": [
       "<div>\n",
       "<style scoped>\n",
       "    .dataframe tbody tr th:only-of-type {\n",
       "        vertical-align: middle;\n",
       "    }\n",
       "\n",
       "    .dataframe tbody tr th {\n",
       "        vertical-align: top;\n",
       "    }\n",
       "\n",
       "    .dataframe thead th {\n",
       "        text-align: right;\n",
       "    }\n",
       "</style>\n",
       "<table border=\"1\" class=\"dataframe\">\n",
       "  <thead>\n",
       "    <tr style=\"text-align: right;\">\n",
       "      <th></th>\n",
       "      <th>recommended_hashtags</th>\n",
       "      <th>hashtags</th>\n",
       "      <th>image_local_name</th>\n",
       "      <th>search_hashtag</th>\n",
       "    </tr>\n",
       "    <tr>\n",
       "      <th>image_id</th>\n",
       "      <th></th>\n",
       "      <th></th>\n",
       "      <th></th>\n",
       "      <th></th>\n",
       "    </tr>\n",
       "  </thead>\n",
       "  <tbody>\n",
       "    <tr>\n",
       "      <th>1580</th>\n",
       "      <td>[#cars, #luxury, #car, #amazing, #lifestyle, #...</td>\n",
       "      <td>[#checkeredflag, #atv, #flagmanracing, #dirtbi...</td>\n",
       "      <td>88039d35-d189-4db3-926e-a120d88a3efc.jpg</td>\n",
       "      <td>cars</td>\n",
       "    </tr>\n",
       "    <tr>\n",
       "      <th>471</th>\n",
       "      <td>[#selfie, #me, #instadaily, #instalike, #style...</td>\n",
       "      <td>[#followme, #fashiondaily, #summer, #food, #ma...</td>\n",
       "      <td>fdc6c8d4-5a13-4330-9098-07e09e4858d2.jpg</td>\n",
       "      <td>selfie</td>\n",
       "    </tr>\n",
       "    <tr>\n",
       "      <th>1591</th>\n",
       "      <td>[#cars, #car, #carsofinstagram, #bmw, #luxury,...</td>\n",
       "      <td>[#bidlemanchevrolet, #suvs, #cars, #cardeals, ...</td>\n",
       "      <td>1b7a8fbc-1797-4418-b8b2-c65500e2bc6f.jpg</td>\n",
       "      <td>cars</td>\n",
       "    </tr>\n",
       "    <tr>\n",
       "      <th>463</th>\n",
       "      <td>[#selfie, #fashion, #style, #me, #ootd, #model...</td>\n",
       "      <td>[#followme, #hotguy, #instaboy, #gay, #instaga...</td>\n",
       "      <td>a78d0e30-6afa-436a-a953-633ef3f64325.jpg</td>\n",
       "      <td>selfie</td>\n",
       "    </tr>\n",
       "    <tr>\n",
       "      <th>833</th>\n",
       "      <td>[#architecture, #art, #travel, #photography, #...</td>\n",
       "      <td>[#arte, #interiordesign, #archilovers, #argent...</td>\n",
       "      <td>535bc893-ebbe-46aa-9ae9-d2cd5f4dd426.jpg</td>\n",
       "      <td>travel</td>\n",
       "    </tr>\n",
       "  </tbody>\n",
       "</table>\n",
       "</div>"
      ],
      "text/plain": [
       "                                       recommended_hashtags  \\\n",
       "image_id                                                      \n",
       "1580      [#cars, #luxury, #car, #amazing, #lifestyle, #...   \n",
       "471       [#selfie, #me, #instadaily, #instalike, #style...   \n",
       "1591      [#cars, #car, #carsofinstagram, #bmw, #luxury,...   \n",
       "463       [#selfie, #fashion, #style, #me, #ootd, #model...   \n",
       "833       [#architecture, #art, #travel, #photography, #...   \n",
       "\n",
       "                                                   hashtags  \\\n",
       "image_id                                                      \n",
       "1580      [#checkeredflag, #atv, #flagmanracing, #dirtbi...   \n",
       "471       [#followme, #fashiondaily, #summer, #food, #ma...   \n",
       "1591      [#bidlemanchevrolet, #suvs, #cars, #cardeals, ...   \n",
       "463       [#followme, #hotguy, #instaboy, #gay, #instaga...   \n",
       "833       [#arte, #interiordesign, #archilovers, #argent...   \n",
       "\n",
       "                                  image_local_name search_hashtag  \n",
       "image_id                                                           \n",
       "1580      88039d35-d189-4db3-926e-a120d88a3efc.jpg           cars  \n",
       "471       fdc6c8d4-5a13-4330-9098-07e09e4858d2.jpg         selfie  \n",
       "1591      1b7a8fbc-1797-4418-b8b2-c65500e2bc6f.jpg           cars  \n",
       "463       a78d0e30-6afa-436a-a953-633ef3f64325.jpg         selfie  \n",
       "833       535bc893-ebbe-46aa-9ae9-d2cd5f4dd426.jpg         travel  "
      ]
     },
     "execution_count": 46,
     "metadata": {},
     "output_type": "execute_result"
    }
   ],
   "source": [
    "# Load the recs dataframe\n",
    "# recs = pd.read_pickle('pkl_files/recs.pkl')\n",
    "recs.head()"
   ]
  },
  {
   "cell_type": "code",
   "execution_count": 47,
   "metadata": {},
   "outputs": [
    {
     "data": {
      "text/html": [
       "<div>\n",
       "<style scoped>\n",
       "    .dataframe tbody tr th:only-of-type {\n",
       "        vertical-align: middle;\n",
       "    }\n",
       "\n",
       "    .dataframe tbody tr th {\n",
       "        vertical-align: top;\n",
       "    }\n",
       "\n",
       "    .dataframe thead th {\n",
       "        text-align: right;\n",
       "    }\n",
       "</style>\n",
       "<table border=\"1\" class=\"dataframe\">\n",
       "  <thead>\n",
       "    <tr style=\"text-align: right;\">\n",
       "      <th></th>\n",
       "      <th>recommended_hashtags</th>\n",
       "      <th>hashtags</th>\n",
       "      <th>image_local_name</th>\n",
       "      <th>search_hashtag</th>\n",
       "      <th>deep_features</th>\n",
       "      <th>hashtag</th>\n",
       "      <th>name</th>\n",
       "      <th>pic</th>\n",
       "    </tr>\n",
       "    <tr>\n",
       "      <th>image_id</th>\n",
       "      <th></th>\n",
       "      <th></th>\n",
       "      <th></th>\n",
       "      <th></th>\n",
       "      <th></th>\n",
       "      <th></th>\n",
       "      <th></th>\n",
       "      <th></th>\n",
       "    </tr>\n",
       "  </thead>\n",
       "  <tbody>\n",
       "    <tr>\n",
       "      <th>833</th>\n",
       "      <td>[#architecture, #art, #travel, #photography, #...</td>\n",
       "      <td>[#arte, #interiordesign, #archilovers, #argent...</td>\n",
       "      <td>535bc893-ebbe-46aa-9ae9-d2cd5f4dd426.jpg</td>\n",
       "      <td>travel</td>\n",
       "      <td>[0.40182838, 0.0, 0.028864231, 0.0, 0.13101286...</td>\n",
       "      <td>travel</td>\n",
       "      <td>535bc893-ebbe-46aa-9ae9-d2cd5f4dd426.jpg</td>\n",
       "      <td>(((tf.Tensor(0.99215686, shape=(), dtype=float...</td>\n",
       "    </tr>\n",
       "    <tr>\n",
       "      <th>1829</th>\n",
       "      <td>[#food, #foodporn, #instafood, #foodie, #yummy...</td>\n",
       "      <td>[#bhcidadecriativadagastronomia, #prato, #come...</td>\n",
       "      <td>56018a9a-8def-48d1-9a7d-03136314b0d9.jpg</td>\n",
       "      <td>food</td>\n",
       "      <td>[0.0, 0.0, 0.0, 2.0659437, 0.06043254, 0.03285...</td>\n",
       "      <td>food</td>\n",
       "      <td>56018a9a-8def-48d1-9a7d-03136314b0d9.jpg</td>\n",
       "      <td>(((tf.Tensor(0.7882353, shape=(), dtype=float3...</td>\n",
       "    </tr>\n",
       "    <tr>\n",
       "      <th>1959</th>\n",
       "      <td>[#instafood, #foodie, #foodporn, #yummy, #food...</td>\n",
       "      <td>[#hagerstownmd, #washingtoncountymd, #hswhmdbu...</td>\n",
       "      <td>2b98b605-8df1-4fcb-addf-887751caaaaa.jpg</td>\n",
       "      <td>food</td>\n",
       "      <td>[0.2551278, 0.6026027, 0.0, 0.0, 0.2649013, 0....</td>\n",
       "      <td>food</td>\n",
       "      <td>2b98b605-8df1-4fcb-addf-887751caaaaa.jpg</td>\n",
       "      <td>(((tf.Tensor(-1.0, shape=(), dtype=float32), t...</td>\n",
       "    </tr>\n",
       "    <tr>\n",
       "      <th>2659</th>\n",
       "      <td>[#animals, #pets, #animal, #dogs, #pet, #petst...</td>\n",
       "      <td>[#sportdogminsk, #dogminsk, #labrador, #labrad...</td>\n",
       "      <td>c62f34b0-da93-485c-94a0-d56be4b72018.jpg</td>\n",
       "      <td>animals</td>\n",
       "      <td>[0.0, 1.7648926, 0.0, 0.014228077, 0.114186764...</td>\n",
       "      <td>animals</td>\n",
       "      <td>c62f34b0-da93-485c-94a0-d56be4b72018.jpg</td>\n",
       "      <td>(((tf.Tensor(0.07843143, shape=(), dtype=float...</td>\n",
       "    </tr>\n",
       "    <tr>\n",
       "      <th>1990</th>\n",
       "      <td>[#cute, #like, #selfie, #follow, #instagood, #...</td>\n",
       "      <td>[#follow, #photooftheday, #love, #instalike, #...</td>\n",
       "      <td>7263d6f8-422f-4484-a306-cf9984bfa8bc.jpg</td>\n",
       "      <td>food</td>\n",
       "      <td>[0.0, 0.0, 0.24697302, 0.0, 0.0, 0.025176601, ...</td>\n",
       "      <td>food</td>\n",
       "      <td>7263d6f8-422f-4484-a306-cf9984bfa8bc.jpg</td>\n",
       "      <td>(((tf.Tensor(-0.9079044, shape=(), dtype=float...</td>\n",
       "    </tr>\n",
       "  </tbody>\n",
       "</table>\n",
       "</div>"
      ],
      "text/plain": [
       "                                       recommended_hashtags  \\\n",
       "image_id                                                      \n",
       "833       [#architecture, #art, #travel, #photography, #...   \n",
       "1829      [#food, #foodporn, #instafood, #foodie, #yummy...   \n",
       "1959      [#instafood, #foodie, #foodporn, #yummy, #food...   \n",
       "2659      [#animals, #pets, #animal, #dogs, #pet, #petst...   \n",
       "1990      [#cute, #like, #selfie, #follow, #instagood, #...   \n",
       "\n",
       "                                                   hashtags  \\\n",
       "image_id                                                      \n",
       "833       [#arte, #interiordesign, #archilovers, #argent...   \n",
       "1829      [#bhcidadecriativadagastronomia, #prato, #come...   \n",
       "1959      [#hagerstownmd, #washingtoncountymd, #hswhmdbu...   \n",
       "2659      [#sportdogminsk, #dogminsk, #labrador, #labrad...   \n",
       "1990      [#follow, #photooftheday, #love, #instalike, #...   \n",
       "\n",
       "                                  image_local_name search_hashtag  \\\n",
       "image_id                                                            \n",
       "833       535bc893-ebbe-46aa-9ae9-d2cd5f4dd426.jpg         travel   \n",
       "1829      56018a9a-8def-48d1-9a7d-03136314b0d9.jpg           food   \n",
       "1959      2b98b605-8df1-4fcb-addf-887751caaaaa.jpg           food   \n",
       "2659      c62f34b0-da93-485c-94a0-d56be4b72018.jpg        animals   \n",
       "1990      7263d6f8-422f-4484-a306-cf9984bfa8bc.jpg           food   \n",
       "\n",
       "                                              deep_features  hashtag  \\\n",
       "image_id                                                               \n",
       "833       [0.40182838, 0.0, 0.028864231, 0.0, 0.13101286...   travel   \n",
       "1829      [0.0, 0.0, 0.0, 2.0659437, 0.06043254, 0.03285...     food   \n",
       "1959      [0.2551278, 0.6026027, 0.0, 0.0, 0.2649013, 0....     food   \n",
       "2659      [0.0, 1.7648926, 0.0, 0.014228077, 0.114186764...  animals   \n",
       "1990      [0.0, 0.0, 0.24697302, 0.0, 0.0, 0.025176601, ...     food   \n",
       "\n",
       "                                              name  \\\n",
       "image_id                                             \n",
       "833       535bc893-ebbe-46aa-9ae9-d2cd5f4dd426.jpg   \n",
       "1829      56018a9a-8def-48d1-9a7d-03136314b0d9.jpg   \n",
       "1959      2b98b605-8df1-4fcb-addf-887751caaaaa.jpg   \n",
       "2659      c62f34b0-da93-485c-94a0-d56be4b72018.jpg   \n",
       "1990      7263d6f8-422f-4484-a306-cf9984bfa8bc.jpg   \n",
       "\n",
       "                                                        pic  \n",
       "image_id                                                     \n",
       "833       (((tf.Tensor(0.99215686, shape=(), dtype=float...  \n",
       "1829      (((tf.Tensor(0.7882353, shape=(), dtype=float3...  \n",
       "1959      (((tf.Tensor(-1.0, shape=(), dtype=float32), t...  \n",
       "2659      (((tf.Tensor(0.07843143, shape=(), dtype=float...  \n",
       "1990      (((tf.Tensor(-0.9079044, shape=(), dtype=float...  "
      ]
     },
     "execution_count": 47,
     "metadata": {},
     "output_type": "execute_result"
    }
   ],
   "source": [
    "# Add deep features information to recs dataframe\n",
    "recs_deep = recs.join(df_deep_features, on='image_local_name', how='inner')\n",
    "recs_deep.head()"
   ]
  },
  {
   "cell_type": "code",
   "execution_count": 48,
   "metadata": {},
   "outputs": [
    {
     "data": {
      "text/html": [
       "<div>\n",
       "<style scoped>\n",
       "    .dataframe tbody tr th:only-of-type {\n",
       "        vertical-align: middle;\n",
       "    }\n",
       "\n",
       "    .dataframe tbody tr th {\n",
       "        vertical-align: top;\n",
       "    }\n",
       "\n",
       "    .dataframe thead th {\n",
       "        text-align: right;\n",
       "    }\n",
       "</style>\n",
       "<table border=\"1\" class=\"dataframe\">\n",
       "  <thead>\n",
       "    <tr style=\"text-align: right;\">\n",
       "      <th></th>\n",
       "      <th>image_local_name</th>\n",
       "      <th>hashtags</th>\n",
       "      <th>deep_features</th>\n",
       "      <th>id</th>\n",
       "      <th>features</th>\n",
       "    </tr>\n",
       "  </thead>\n",
       "  <tbody>\n",
       "    <tr>\n",
       "      <th>833</th>\n",
       "      <td>535bc893-ebbe-46aa-9ae9-d2cd5f4dd426.jpg</td>\n",
       "      <td>[#arte, #interiordesign, #archilovers, #argent...</td>\n",
       "      <td>[0.40182838, 0.0, 0.028864231, 0.0, 0.13101286...</td>\n",
       "      <td>833</td>\n",
       "      <td>[0.5586376786231995, -0.9260386824607849, -0.6...</td>\n",
       "    </tr>\n",
       "    <tr>\n",
       "      <th>1829</th>\n",
       "      <td>56018a9a-8def-48d1-9a7d-03136314b0d9.jpg</td>\n",
       "      <td>[#bhcidadecriativadagastronomia, #prato, #come...</td>\n",
       "      <td>[0.0, 0.0, 0.0, 2.0659437, 0.06043254, 0.03285...</td>\n",
       "      <td>1829</td>\n",
       "      <td>[-0.0024324797559529543, -0.3985709547996521, ...</td>\n",
       "    </tr>\n",
       "    <tr>\n",
       "      <th>1959</th>\n",
       "      <td>2b98b605-8df1-4fcb-addf-887751caaaaa.jpg</td>\n",
       "      <td>[#hagerstownmd, #washingtoncountymd, #hswhmdbu...</td>\n",
       "      <td>[0.2551278, 0.6026027, 0.0, 0.0, 0.2649013, 0....</td>\n",
       "      <td>1959</td>\n",
       "      <td>[-0.1738206446170807, -0.6502302885055542, -0....</td>\n",
       "    </tr>\n",
       "    <tr>\n",
       "      <th>2659</th>\n",
       "      <td>c62f34b0-da93-485c-94a0-d56be4b72018.jpg</td>\n",
       "      <td>[#sportdogminsk, #dogminsk, #labrador, #labrad...</td>\n",
       "      <td>[0.0, 1.7648926, 0.0, 0.014228077, 0.114186764...</td>\n",
       "      <td>2659</td>\n",
       "      <td>[-0.12119307368993759, -0.2760372459888458, 0....</td>\n",
       "    </tr>\n",
       "    <tr>\n",
       "      <th>1990</th>\n",
       "      <td>7263d6f8-422f-4484-a306-cf9984bfa8bc.jpg</td>\n",
       "      <td>[#follow, #photooftheday, #love, #instalike, #...</td>\n",
       "      <td>[0.0, 0.0, 0.24697302, 0.0, 0.0, 0.025176601, ...</td>\n",
       "      <td>1990</td>\n",
       "      <td>[0.42601248621940613, -0.3900977075099945, 0.6...</td>\n",
       "    </tr>\n",
       "  </tbody>\n",
       "</table>\n",
       "</div>"
      ],
      "text/plain": [
       "                              image_local_name  \\\n",
       "833   535bc893-ebbe-46aa-9ae9-d2cd5f4dd426.jpg   \n",
       "1829  56018a9a-8def-48d1-9a7d-03136314b0d9.jpg   \n",
       "1959  2b98b605-8df1-4fcb-addf-887751caaaaa.jpg   \n",
       "2659  c62f34b0-da93-485c-94a0-d56be4b72018.jpg   \n",
       "1990  7263d6f8-422f-4484-a306-cf9984bfa8bc.jpg   \n",
       "\n",
       "                                               hashtags  \\\n",
       "833   [#arte, #interiordesign, #archilovers, #argent...   \n",
       "1829  [#bhcidadecriativadagastronomia, #prato, #come...   \n",
       "1959  [#hagerstownmd, #washingtoncountymd, #hswhmdbu...   \n",
       "2659  [#sportdogminsk, #dogminsk, #labrador, #labrad...   \n",
       "1990  [#follow, #photooftheday, #love, #instalike, #...   \n",
       "\n",
       "                                          deep_features    id  \\\n",
       "833   [0.40182838, 0.0, 0.028864231, 0.0, 0.13101286...   833   \n",
       "1829  [0.0, 0.0, 0.0, 2.0659437, 0.06043254, 0.03285...  1829   \n",
       "1959  [0.2551278, 0.6026027, 0.0, 0.0, 0.2649013, 0....  1959   \n",
       "2659  [0.0, 1.7648926, 0.0, 0.014228077, 0.114186764...  2659   \n",
       "1990  [0.0, 0.0, 0.24697302, 0.0, 0.0, 0.025176601, ...  1990   \n",
       "\n",
       "                                               features  \n",
       "833   [0.5586376786231995, -0.9260386824607849, -0.6...  \n",
       "1829  [-0.0024324797559529543, -0.3985709547996521, ...  \n",
       "1959  [-0.1738206446170807, -0.6502302885055542, -0....  \n",
       "2659  [-0.12119307368993759, -0.2760372459888458, 0....  \n",
       "1990  [0.42601248621940613, -0.3900977075099945, 0.6...  "
      ]
     },
     "execution_count": 48,
     "metadata": {},
     "output_type": "execute_result"
    }
   ],
   "source": [
    "# Only use certain columns\n",
    "recs_deep_clean = recs_deep[['image_local_name', 'hashtags', 'deep_features']]\n",
    "\n",
    "img_features.index = img_features['id']\n",
    "img_features.drop(['id'], axis=1)\n",
    "\n",
    "# Add image feature into dataframe\n",
    "recommender_df = recs_deep_clean.join(img_features, how='inner')\n",
    "recommender_df.head()"
   ]
  },
  {
   "cell_type": "code",
   "execution_count": 49,
   "metadata": {},
   "outputs": [],
   "source": [
    "# Code used for testing purposes\n",
    "from imp import reload\n",
    "import functions\n",
    "reload(functions)\n",
    "prepare_image = functions.prepare_image"
   ]
  },
  {
   "cell_type": "code",
   "execution_count": 50,
   "metadata": {},
   "outputs": [],
   "source": [
    "# Function that finds k nearest neighbors by cosine similarity\n",
    "def find_neighbor_vectors(image_path, k=5, recommender_df=recommender_df):\n",
    "    \"\"\"Find image features (user vectors) for similar images.\"\"\"\n",
    "    prep_image = functions.prepare_image(image_path, where='local')\n",
    "    df_deep_features = functions.extract_features_for_one_image(prep_image, neural_network)\n",
    "    rdf = recommender_df.copy()\n",
    "    rdf['dist'] = rdf['deep_features'].apply(lambda x: cosine(x, df_deep_features))\n",
    "    rdf = rdf.sort_values(by='dist')\n",
    "    # return rdf.head(k)['features']\n",
    "    return rdf.head(k)"
   ]
  },
  {
   "cell_type": "code",
   "execution_count": 51,
   "metadata": {},
   "outputs": [
    {
     "data": {
      "text/html": [
       "<div>\n",
       "<style scoped>\n",
       "    .dataframe tbody tr th:only-of-type {\n",
       "        vertical-align: middle;\n",
       "    }\n",
       "\n",
       "    .dataframe tbody tr th {\n",
       "        vertical-align: top;\n",
       "    }\n",
       "\n",
       "    .dataframe thead th {\n",
       "        text-align: right;\n",
       "    }\n",
       "</style>\n",
       "<table border=\"1\" class=\"dataframe\">\n",
       "  <thead>\n",
       "    <tr style=\"text-align: right;\">\n",
       "      <th></th>\n",
       "      <th>image_local_name</th>\n",
       "      <th>hashtags</th>\n",
       "      <th>deep_features</th>\n",
       "      <th>id</th>\n",
       "      <th>features</th>\n",
       "      <th>dist</th>\n",
       "    </tr>\n",
       "  </thead>\n",
       "  <tbody>\n",
       "    <tr>\n",
       "      <th>763</th>\n",
       "      <td>edf9daee-f603-46b5-bf4a-ae9974bb89ad.jpg</td>\n",
       "      <td>[#wanderlust, #toddlers, #woods, #forest, #nc,...</td>\n",
       "      <td>[0.74691504, 1.2644943, 0.0, 0.23730093, 2.684...</td>\n",
       "      <td>763</td>\n",
       "      <td>[0.6528434157371521, -0.1296185404062271, -0.3...</td>\n",
       "      <td>0.420474</td>\n",
       "    </tr>\n",
       "    <tr>\n",
       "      <th>882</th>\n",
       "      <td>c3b7232e-ea7c-4766-91e3-99207f7d8d8b.jpg</td>\n",
       "      <td>[#photooftheday, #hasekio, #bs, #travel, #phot...</td>\n",
       "      <td>[0.7826781, 1.8151407, 0.3264235, 0.4332988, 1...</td>\n",
       "      <td>882</td>\n",
       "      <td>[0.8969656229019165, -0.36680981516838074, 0.1...</td>\n",
       "      <td>0.437234</td>\n",
       "    </tr>\n",
       "    <tr>\n",
       "      <th>682</th>\n",
       "      <td>e1626e8a-eaa8-4812-917b-4a4aeadeb10f.jpg</td>\n",
       "      <td>[#follow, #repost, #photooftheday, #love, #fas...</td>\n",
       "      <td>[0.17159231, 0.4535152, 0.023434391, 0.1585964...</td>\n",
       "      <td>682</td>\n",
       "      <td>[0.6854690313339233, -0.4921340346336365, 0.32...</td>\n",
       "      <td>0.456072</td>\n",
       "    </tr>\n",
       "    <tr>\n",
       "      <th>773</th>\n",
       "      <td>72569f9f-ebea-4b5a-b238-c2b15e9b288d.jpg</td>\n",
       "      <td>[#musician, #newmusic, #producer, #futuremusic...</td>\n",
       "      <td>[0.019124918, 1.6645181, 0.0, 0.0, 2.546588, 0...</td>\n",
       "      <td>773</td>\n",
       "      <td>[0.27436837553977966, -0.3512672781944275, 0.0...</td>\n",
       "      <td>0.461755</td>\n",
       "    </tr>\n",
       "    <tr>\n",
       "      <th>737</th>\n",
       "      <td>f2a6f5f1-64c2-4ee3-9609-d409e28fa816.jpg</td>\n",
       "      <td>[#honolulu, #hawaii, #dream, #travel, #hoomalu...</td>\n",
       "      <td>[0.13907114, 0.9570846, 0.052211534, 0.0, 1.52...</td>\n",
       "      <td>737</td>\n",
       "      <td>[0.36819836497306824, -0.23627986013889313, 0....</td>\n",
       "      <td>0.470721</td>\n",
       "    </tr>\n",
       "  </tbody>\n",
       "</table>\n",
       "</div>"
      ],
      "text/plain": [
       "                             image_local_name  \\\n",
       "763  edf9daee-f603-46b5-bf4a-ae9974bb89ad.jpg   \n",
       "882  c3b7232e-ea7c-4766-91e3-99207f7d8d8b.jpg   \n",
       "682  e1626e8a-eaa8-4812-917b-4a4aeadeb10f.jpg   \n",
       "773  72569f9f-ebea-4b5a-b238-c2b15e9b288d.jpg   \n",
       "737  f2a6f5f1-64c2-4ee3-9609-d409e28fa816.jpg   \n",
       "\n",
       "                                              hashtags  \\\n",
       "763  [#wanderlust, #toddlers, #woods, #forest, #nc,...   \n",
       "882  [#photooftheday, #hasekio, #bs, #travel, #phot...   \n",
       "682  [#follow, #repost, #photooftheday, #love, #fas...   \n",
       "773  [#musician, #newmusic, #producer, #futuremusic...   \n",
       "737  [#honolulu, #hawaii, #dream, #travel, #hoomalu...   \n",
       "\n",
       "                                         deep_features   id  \\\n",
       "763  [0.74691504, 1.2644943, 0.0, 0.23730093, 2.684...  763   \n",
       "882  [0.7826781, 1.8151407, 0.3264235, 0.4332988, 1...  882   \n",
       "682  [0.17159231, 0.4535152, 0.023434391, 0.1585964...  682   \n",
       "773  [0.019124918, 1.6645181, 0.0, 0.0, 2.546588, 0...  773   \n",
       "737  [0.13907114, 0.9570846, 0.052211534, 0.0, 1.52...  737   \n",
       "\n",
       "                                              features      dist  \n",
       "763  [0.6528434157371521, -0.1296185404062271, -0.3...  0.420474  \n",
       "882  [0.8969656229019165, -0.36680981516838074, 0.1...  0.437234  \n",
       "682  [0.6854690313339233, -0.4921340346336365, 0.32...  0.456072  \n",
       "773  [0.27436837553977966, -0.3512672781944275, 0.0...  0.461755  \n",
       "737  [0.36819836497306824, -0.23627986013889313, 0....  0.470721  "
      ]
     },
     "execution_count": 51,
     "metadata": {},
     "output_type": "execute_result"
    }
   ],
   "source": [
    "# Test the function on a local image\n",
    "fnv = find_neighbor_vectors('test_wedding.jpg', \n",
    "                k=5, recommender_df=recommender_df)\n",
    "\n",
    "fnv"
   ]
  },
  {
   "cell_type": "markdown",
   "metadata": {},
   "source": [
    "### Next step to do: after identifying 5 nearest neighbors, look at ALS's image features (user features), get the average for 5. Then compute dot product with every hashtag features vector (item features). Take hashtags woth the highest reasult as recommendations."
   ]
  },
  {
   "cell_type": "code",
   "execution_count": 52,
   "metadata": {},
   "outputs": [
    {
     "data": {
      "text/plain": [
       "10"
      ]
     },
     "execution_count": 52,
     "metadata": {},
     "output_type": "execute_result"
    }
   ],
   "source": [
    "# Check length of the user features\n",
    "len(fnv.iloc[3, 4])"
   ]
  },
  {
   "cell_type": "markdown",
   "metadata": {},
   "source": [
    "## Find the average of the 5 user features found based on cosine similarity."
   ]
  },
  {
   "cell_type": "code",
   "execution_count": 53,
   "metadata": {},
   "outputs": [],
   "source": [
    "# Extract features from dataframe\n",
    "features = []\n",
    "for item in fnv.features.values:\n",
    "    features.append(item)"
   ]
  },
  {
   "cell_type": "code",
   "execution_count": 54,
   "metadata": {},
   "outputs": [],
   "source": [
    "avg_features = np.mean(np.asarray(features), axis=0)"
   ]
  },
  {
   "cell_type": "markdown",
   "metadata": {},
   "source": [
    "## Find the dot product with each hashtag features"
   ]
  },
  {
   "cell_type": "code",
   "execution_count": 55,
   "metadata": {},
   "outputs": [
    {
     "data": {
      "text/html": [
       "<div>\n",
       "<style scoped>\n",
       "    .dataframe tbody tr th:only-of-type {\n",
       "        vertical-align: middle;\n",
       "    }\n",
       "\n",
       "    .dataframe tbody tr th {\n",
       "        vertical-align: top;\n",
       "    }\n",
       "\n",
       "    .dataframe thead th {\n",
       "        text-align: right;\n",
       "    }\n",
       "</style>\n",
       "<table border=\"1\" class=\"dataframe\">\n",
       "  <thead>\n",
       "    <tr style=\"text-align: right;\">\n",
       "      <th></th>\n",
       "      <th>id</th>\n",
       "      <th>features</th>\n",
       "    </tr>\n",
       "  </thead>\n",
       "  <tbody>\n",
       "    <tr>\n",
       "      <th>0</th>\n",
       "      <td>0</td>\n",
       "      <td>[-0.001582658151164651, 0.15570048987865448, 0...</td>\n",
       "    </tr>\n",
       "    <tr>\n",
       "      <th>1</th>\n",
       "      <td>10</td>\n",
       "      <td>[0.08072655647993088, -0.13867881894111633, -0...</td>\n",
       "    </tr>\n",
       "    <tr>\n",
       "      <th>2</th>\n",
       "      <td>20</td>\n",
       "      <td>[0.0068698786199092865, 0.0021329792216420174,...</td>\n",
       "    </tr>\n",
       "    <tr>\n",
       "      <th>3</th>\n",
       "      <td>30</td>\n",
       "      <td>[0.0413813591003418, 0.00034118766780011356, 0...</td>\n",
       "    </tr>\n",
       "    <tr>\n",
       "      <th>4</th>\n",
       "      <td>40</td>\n",
       "      <td>[0.03599345684051514, 0.041742004454135895, 0....</td>\n",
       "    </tr>\n",
       "  </tbody>\n",
       "</table>\n",
       "</div>"
      ],
      "text/plain": [
       "   id                                           features\n",
       "0   0  [-0.001582658151164651, 0.15570048987865448, 0...\n",
       "1  10  [0.08072655647993088, -0.13867881894111633, -0...\n",
       "2  20  [0.0068698786199092865, 0.0021329792216420174,...\n",
       "3  30  [0.0413813591003418, 0.00034118766780011356, 0...\n",
       "4  40  [0.03599345684051514, 0.041742004454135895, 0...."
      ]
     },
     "execution_count": 55,
     "metadata": {},
     "output_type": "execute_result"
    }
   ],
   "source": [
    "# Take a look at the hashtag features extracted from ALS model\n",
    "hashtag_features.head()"
   ]
  },
  {
   "cell_type": "code",
   "execution_count": 56,
   "metadata": {},
   "outputs": [],
   "source": [
    "# Add new column to the hashtag features which will be the dot product with the average image(user) features\n",
    "hashtag_features['dot_product'] = hashtag_features['features'].apply(lambda x: np.asarray(x).dot(avg_features))\n",
    "\n",
    "# Get 10 ids with the highest dot product\n",
    "df_ten_highest = hashtag_features.sort_values(by='dot_product', ascending=False).head(10)\n",
    "rec_hashtag_ids = df_ten_highest.id.values"
   ]
  },
  {
   "cell_type": "markdown",
   "metadata": {},
   "source": [
    "## Find hashtags that correspond to the ids"
   ]
  },
  {
   "cell_type": "code",
   "execution_count": 57,
   "metadata": {},
   "outputs": [
    {
     "data": {
      "text/html": [
       "<div>\n",
       "<style scoped>\n",
       "    .dataframe tbody tr th:only-of-type {\n",
       "        vertical-align: middle;\n",
       "    }\n",
       "\n",
       "    .dataframe tbody tr th {\n",
       "        vertical-align: top;\n",
       "    }\n",
       "\n",
       "    .dataframe thead th {\n",
       "        text-align: right;\n",
       "    }\n",
       "</style>\n",
       "<table border=\"1\" class=\"dataframe\">\n",
       "  <thead>\n",
       "    <tr style=\"text-align: right;\">\n",
       "      <th></th>\n",
       "      <th>hashtag</th>\n",
       "    </tr>\n",
       "    <tr>\n",
       "      <th>id</th>\n",
       "      <th></th>\n",
       "    </tr>\n",
       "  </thead>\n",
       "  <tbody>\n",
       "    <tr>\n",
       "      <th>0</th>\n",
       "      <td>#easternasian</td>\n",
       "    </tr>\n",
       "    <tr>\n",
       "      <th>1</th>\n",
       "      <td>#animation</td>\n",
       "    </tr>\n",
       "    <tr>\n",
       "      <th>2</th>\n",
       "      <td>#caloriecounting</td>\n",
       "    </tr>\n",
       "    <tr>\n",
       "      <th>3</th>\n",
       "      <td>#houstonweddings</td>\n",
       "    </tr>\n",
       "    <tr>\n",
       "      <th>4</th>\n",
       "      <td>#bio</td>\n",
       "    </tr>\n",
       "  </tbody>\n",
       "</table>\n",
       "</div>"
      ],
      "text/plain": [
       "             hashtag\n",
       "id                  \n",
       "0      #easternasian\n",
       "1         #animation\n",
       "2   #caloriecounting\n",
       "3   #houstonweddings\n",
       "4               #bio"
      ]
     },
     "execution_count": 57,
     "metadata": {},
     "output_type": "execute_result"
    }
   ],
   "source": [
    "# Unpickle hashtag data\n",
    "# hashtags_df = pd.read_pickle(\"pkl_files/hashtags_df.pkl\")\n",
    "hashtags_df.head()"
   ]
  },
  {
   "cell_type": "code",
   "execution_count": 58,
   "metadata": {},
   "outputs": [
    {
     "name": "stdout",
     "output_type": "stream",
     "text": [
      "id\n",
      "4279    #travel\n",
      "Name: hashtag, dtype: object\n",
      "id\n",
      "14650    #photography\n",
      "Name: hashtag, dtype: object\n",
      "id\n",
      "4020    #love\n",
      "Name: hashtag, dtype: object\n",
      "id\n",
      "6772    #photooftheday\n",
      "Name: hashtag, dtype: object\n",
      "id\n",
      "10344    #instagood\n",
      "Name: hashtag, dtype: object\n",
      "id\n",
      "13920    #nature\n",
      "Name: hashtag, dtype: object\n",
      "id\n",
      "12330    #picoftheday\n",
      "Name: hashtag, dtype: object\n",
      "id\n",
      "10314    #instagram\n",
      "Name: hashtag, dtype: object\n",
      "id\n",
      "11932    #beautiful\n",
      "Name: hashtag, dtype: object\n",
      "id\n",
      "203    #summer\n",
      "Name: hashtag, dtype: object\n"
     ]
    }
   ],
   "source": [
    "for i in rec_hashtag_ids:\n",
    "    print(hashtags_df.loc[hashtags_df.index==i]['hashtag'])"
   ]
  },
  {
   "cell_type": "markdown",
   "metadata": {},
   "source": [
    "### SEED: 0\n",
    "\n",
    "\n",
    "id\n",
    "11528    #photography\n",
    "Name: hashtag, dtype: object\n",
    "id\n",
    "13058    #travel\n",
    "Name: hashtag, dtype: object\n",
    "id\n",
    "679    #nature\n",
    "Name: hashtag, dtype: object\n",
    "id\n",
    "3412    #love\n",
    "Name: hashtag, dtype: object\n",
    "id\n",
    "3323    #instagood\n",
    "Name: hashtag, dtype: object\n",
    "id\n",
    "2702    #photooftheday\n",
    "Name: hashtag, dtype: object\n",
    "id\n",
    "8519    #picoftheday\n",
    "Name: hashtag, dtype: object\n",
    "id\n",
    "2421    #beautiful\n",
    "Name: hashtag, dtype: object\n",
    "id\n",
    "7444    #summer\n",
    "Name: hashtag, dtype: object\n",
    "id\n",
    "11121    #art\n",
    "Name: hashtag, dtype: object"
   ]
  },
  {
   "cell_type": "code",
   "execution_count": null,
   "metadata": {},
   "outputs": [],
   "source": []
  }
 ],
 "metadata": {
  "kernelspec": {
   "display_name": "Python 3",
   "language": "python",
   "name": "python3"
  },
  "language_info": {
   "codemirror_mode": {
    "name": "ipython",
    "version": 3
   },
   "file_extension": ".py",
   "mimetype": "text/x-python",
   "name": "python",
   "nbconvert_exporter": "python",
   "pygments_lexer": "ipython3",
   "version": "3.7.1"
  }
 },
 "nbformat": 4,
 "nbformat_minor": 2
}
