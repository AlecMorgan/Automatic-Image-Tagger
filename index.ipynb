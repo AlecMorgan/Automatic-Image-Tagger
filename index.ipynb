{
 "cells": [
  {
   "cell_type": "code",
   "execution_count": 1,
   "metadata": {},
   "outputs": [],
   "source": [
    "%load_ext autoreload\n",
    "%autoreload 2"
   ]
  },
  {
   "cell_type": "code",
   "execution_count": 2,
   "metadata": {},
   "outputs": [],
   "source": [
    "# TensorFlow 2.0.0 is required for this code to work.\n",
    "# Uncomment and run the following line to install the CPU version.\n",
    "# !pip install tensorflow==2.0.0-beta0 --ignore-installed"
   ]
  },
  {
   "cell_type": "markdown",
   "metadata": {},
   "source": [
    "### Import necessary modules:"
   ]
  },
  {
   "cell_type": "code",
   "execution_count": 3,
   "metadata": {},
   "outputs": [],
   "source": [
    "import numpy as np\n",
    "import pandas as pd\n",
    "import matplotlib.pyplot as plt\n",
    "%matplotlib inline\n",
    "from random import shuffle\n",
    "import tensorflow as tf\n",
    "from tensorflow.keras.applications import MobileNetV2\n",
    "from pyspark.sql import SparkSession\n",
    "from pyspark.ml.evaluation import RegressionEvaluator\n",
    "from pyspark.ml.recommendation import ALS, ALSModel\n",
    "from sklearn.model_selection import train_test_split\n",
    "from functools import reduce\n",
    "from functions import prepare_image, extract_features\n",
    "import os\n",
    "import json\n",
    "from PIL import Image"
   ]
  },
  {
   "cell_type": "markdown",
   "metadata": {},
   "source": [
    "### Get a list of all hashtags"
   ]
  },
  {
   "cell_type": "code",
   "execution_count": 4,
   "metadata": {},
   "outputs": [],
   "source": [
    "json_file_names = os.listdir('json_files')\n",
    "# Remove the 5 char .json file ending to isolate hashtag name\n",
    "hashtags = [hashtag[:-5] for hashtag in json_file_names]"
   ]
  },
  {
   "cell_type": "code",
   "execution_count": 5,
   "metadata": {},
   "outputs": [
    {
     "data": {
      "text/plain": [
       "['fitness',\n",
       " 'selfie',\n",
       " 'travel',\n",
       " 'nature',\n",
       " 'babies',\n",
       " 'cars',\n",
       " 'food',\n",
       " 'architecture',\n",
       " 'animals',\n",
       " 'wedding']"
      ]
     },
     "execution_count": 5,
     "metadata": {},
     "output_type": "execute_result"
    }
   ],
   "source": [
    "# remove '.DS_', '.ipynb_checkp'\n",
    "non_hashtags = ['.DS_', '.ipynb_checkp']\n",
    "for non_hashtag in non_hashtags:\n",
    "    try:\n",
    "        hashtags.remove(non_hashtag)\n",
    "    except:\n",
    "        pass # If we can't remove it, it's already gone\n",
    "    \n",
    "hashtags"
   ]
  },
  {
   "cell_type": "code",
   "execution_count": 6,
   "metadata": {},
   "outputs": [],
   "source": [
    "hashtag_dfs = []\n",
    "for hashtag in hashtags: \n",
    "    hashtag_dfs.append(pd.read_json(f'json_files/{hashtag}.json'))\n",
    "df = reduce(lambda x, y: pd.concat([x, y]), hashtag_dfs)"
   ]
  },
  {
   "cell_type": "code",
   "execution_count": 7,
   "metadata": {
    "scrolled": true
   },
   "outputs": [],
   "source": [
    "full_list = pd.DataFrame.reset_index(df, drop=True)"
   ]
  },
  {
   "cell_type": "code",
   "execution_count": 8,
   "metadata": {
    "scrolled": false
   },
   "outputs": [
    {
     "data": {
      "text/html": [
       "<div>\n",
       "<style scoped>\n",
       "    .dataframe tbody tr th:only-of-type {\n",
       "        vertical-align: middle;\n",
       "    }\n",
       "\n",
       "    .dataframe tbody tr th {\n",
       "        vertical-align: top;\n",
       "    }\n",
       "\n",
       "    .dataframe thead th {\n",
       "        text-align: right;\n",
       "    }\n",
       "</style>\n",
       "<table border=\"1\" class=\"dataframe\">\n",
       "  <thead>\n",
       "    <tr style=\"text-align: right;\">\n",
       "      <th></th>\n",
       "      <th>hashtags</th>\n",
       "      <th>image</th>\n",
       "      <th>image_local_name</th>\n",
       "      <th>post_link</th>\n",
       "      <th>search_hashtag</th>\n",
       "    </tr>\n",
       "  </thead>\n",
       "  <tbody>\n",
       "    <tr>\n",
       "      <th>2995</th>\n",
       "      <td>[#Wedding, #ido, #ianandwendytietheknot, #wedd...</td>\n",
       "      <td>https://scontent-sea1-1.cdninstagram.com/vp/29...</td>\n",
       "      <td>905a1d9c-b29d-44c7-ab5c-408c0b5d91ac.jpg</td>\n",
       "      <td>https://www.instagram.com/p/B0dcq0FBPQ3/</td>\n",
       "      <td>wedding</td>\n",
       "    </tr>\n",
       "    <tr>\n",
       "      <th>2996</th>\n",
       "      <td>[#wedding, #mariages, #celebrantecuritiba, #ce...</td>\n",
       "      <td>https://scontent-sea1-1.cdninstagram.com/vp/bb...</td>\n",
       "      <td>6e424f02-d10e-42db-a233-9ce2724fb8a9.jpg</td>\n",
       "      <td>https://www.instagram.com/p/BwXbu7MgCTZ/</td>\n",
       "      <td>wedding</td>\n",
       "    </tr>\n",
       "    <tr>\n",
       "      <th>2997</th>\n",
       "      <td>[#weddingring, #wedding, #shoes, #nancy, #sigm...</td>\n",
       "      <td>https://scontent-sea1-1.cdninstagram.com/vp/25...</td>\n",
       "      <td>ae49d2bb-95f7-4d16-9ee5-1603e97e6dd8.jpg</td>\n",
       "      <td>https://www.instagram.com/p/B0gwuc2icKv/</td>\n",
       "      <td>wedding</td>\n",
       "    </tr>\n",
       "    <tr>\n",
       "      <th>2998</th>\n",
       "      <td>[#wedding, #standesamtgoetheallee, #retroweddi...</td>\n",
       "      <td>https://scontent-sea1-1.cdninstagram.com/vp/21...</td>\n",
       "      <td>9152a6d4-abda-4adf-87a4-7988dc4bb3ac.jpg</td>\n",
       "      <td>https://www.instagram.com/p/B0gwufzImAz/</td>\n",
       "      <td>wedding</td>\n",
       "    </tr>\n",
       "    <tr>\n",
       "      <th>2999</th>\n",
       "      <td>[#kinalik, #gelinlik, #bursad, #wedding, #dama...</td>\n",
       "      <td>https://scontent-sea1-1.cdninstagram.com/vp/15...</td>\n",
       "      <td>09aaa471-2ed6-4ead-84db-e4aa6b0ece8f.jpg</td>\n",
       "      <td>https://www.instagram.com/p/B0gwubDhu6M/</td>\n",
       "      <td>wedding</td>\n",
       "    </tr>\n",
       "  </tbody>\n",
       "</table>\n",
       "</div>"
      ],
      "text/plain": [
       "                                               hashtags  \\\n",
       "2995  [#Wedding, #ido, #ianandwendytietheknot, #wedd...   \n",
       "2996  [#wedding, #mariages, #celebrantecuritiba, #ce...   \n",
       "2997  [#weddingring, #wedding, #shoes, #nancy, #sigm...   \n",
       "2998  [#wedding, #standesamtgoetheallee, #retroweddi...   \n",
       "2999  [#kinalik, #gelinlik, #bursad, #wedding, #dama...   \n",
       "\n",
       "                                                  image  \\\n",
       "2995  https://scontent-sea1-1.cdninstagram.com/vp/29...   \n",
       "2996  https://scontent-sea1-1.cdninstagram.com/vp/bb...   \n",
       "2997  https://scontent-sea1-1.cdninstagram.com/vp/25...   \n",
       "2998  https://scontent-sea1-1.cdninstagram.com/vp/21...   \n",
       "2999  https://scontent-sea1-1.cdninstagram.com/vp/15...   \n",
       "\n",
       "                              image_local_name  \\\n",
       "2995  905a1d9c-b29d-44c7-ab5c-408c0b5d91ac.jpg   \n",
       "2996  6e424f02-d10e-42db-a233-9ce2724fb8a9.jpg   \n",
       "2997  ae49d2bb-95f7-4d16-9ee5-1603e97e6dd8.jpg   \n",
       "2998  9152a6d4-abda-4adf-87a4-7988dc4bb3ac.jpg   \n",
       "2999  09aaa471-2ed6-4ead-84db-e4aa6b0ece8f.jpg   \n",
       "\n",
       "                                     post_link search_hashtag  \n",
       "2995  https://www.instagram.com/p/B0dcq0FBPQ3/        wedding  \n",
       "2996  https://www.instagram.com/p/BwXbu7MgCTZ/        wedding  \n",
       "2997  https://www.instagram.com/p/B0gwuc2icKv/        wedding  \n",
       "2998  https://www.instagram.com/p/B0gwufzImAz/        wedding  \n",
       "2999  https://www.instagram.com/p/B0gwubDhu6M/        wedding  "
      ]
     },
     "execution_count": 8,
     "metadata": {},
     "output_type": "execute_result"
    }
   ],
   "source": [
    "full_list.tail()"
   ]
  },
  {
   "cell_type": "markdown",
   "metadata": {},
   "source": [
    "### Resizing image to be used in tensorflow framework for Deep Feature Extraction"
   ]
  },
  {
   "cell_type": "code",
   "execution_count": 9,
   "metadata": {},
   "outputs": [],
   "source": [
    "pics = []\n",
    "for i, row in full_list.iterrows():\n",
    "    name = row['image_local_name']\n",
    "    hashtag = row['search_hashtag']\n",
    "    img_path = f'data/{hashtag}/{name}'\n",
    "    try:\n",
    "        img = prepare_image(img_path, where='local')\n",
    "        pics.append({'pic': img, 'hashtag': hashtag, 'name': name})\n",
    "    except:\n",
    "        # If a file in the list isn't in \n",
    "        # storage, skip it and continue\n",
    "        pass"
   ]
  },
  {
   "cell_type": "code",
   "execution_count": 10,
   "metadata": {},
   "outputs": [
    {
     "data": {
      "text/plain": [
       "tensorflow.python.framework.ops.EagerTensor"
      ]
     },
     "execution_count": 10,
     "metadata": {},
     "output_type": "execute_result"
    }
   ],
   "source": [
    "type(pics[64]['pic'])"
   ]
  },
  {
   "cell_type": "code",
   "execution_count": 11,
   "metadata": {
    "scrolled": true
   },
   "outputs": [
    {
     "name": "stderr",
     "output_type": "stream",
     "text": [
      "WARNING: Logging before flag parsing goes to stderr.\n",
      "W0829 16:53:37.199170 4554425792 image.py:656] Clipping input data to the valid range for imshow with RGB data ([0..1] for floats or [0..255] for integers).\n"
     ]
    },
    {
     "data": {
      "image/png": "[encoded data removed]",
      "text/plain": [
       "<Figure size 432x288 with 1 Axes>"
      ]
     },
     "metadata": {
      "needs_background": "light"
     },
     "output_type": "display_data"
    }
   ],
   "source": [
    "plt.imshow(pics[64]['pic']);"
   ]
  },
  {
   "cell_type": "code",
   "execution_count": 12,
   "metadata": {},
   "outputs": [],
   "source": [
    "# add extracted deep features information to pics, make it a list of dictionaries\n",
    "\n",
    "deep_features = list(map(extract_features, pics))"
   ]
  },
  {
   "cell_type": "code",
   "execution_count": 13,
   "metadata": {},
   "outputs": [
    {
     "data": {
      "text/plain": [
       "list"
      ]
     },
     "execution_count": 13,
     "metadata": {},
     "output_type": "execute_result"
    }
   ],
   "source": [
    "# confirm that the type of deep_features variable is a list\n",
    "\n",
    "type(deep_features)"
   ]
  },
  {
   "cell_type": "code",
   "execution_count": 14,
   "metadata": {},
   "outputs": [],
   "source": [
    "# train test split deep features: not used in the model, just in case needs to be used in the future\n",
    "\n",
    "shuffle(deep_features)\n",
    "train_size = int(len(deep_features) * .7)\n",
    "train, test = deep_features[:train_size], deep_features[train_size:]"
   ]
  },
  {
   "cell_type": "code",
   "execution_count": 18,
   "metadata": {},
   "outputs": [
    {
     "data": {
      "text/plain": [
       "dict_keys(['pic', 'hashtag', 'name', 'deep_features'])"
      ]
     },
     "execution_count": 18,
     "metadata": {},
     "output_type": "execute_result"
    }
   ],
   "source": [
    "# check the first element of the train set\n",
    "pic = train[0]\n",
    "pic.keys()"
   ]
  },
  {
   "cell_type": "code",
   "execution_count": 28,
   "metadata": {},
   "outputs": [
    {
     "name": "stderr",
     "output_type": "stream",
     "text": [
      "W0829 16:57:54.694450 4554425792 image.py:656] Clipping input data to the valid range for imshow with RGB data ([0..1] for floats or [0..255] for integers).\n"
     ]
    },
    {
     "data": {
      "image/png": "[encoded data removed]",
      "text/plain": [
       "<Figure size 432x288 with 1 Axes>"
      ]
     },
     "metadata": {
      "needs_background": "light"
     },
     "output_type": "display_data"
    }
   ],
   "source": [
    "plt.imshow(pic['pic']);"
   ]
  },
  {
   "cell_type": "code",
   "execution_count": 24,
   "metadata": {},
   "outputs": [
    {
     "data": {
      "text/plain": [
       "('babies', (1280,), TensorShape([160, 160, 3]))"
      ]
     },
     "execution_count": 24,
     "metadata": {},
     "output_type": "execute_result"
    }
   ],
   "source": [
    "pic['hashtag'], pic['deep_features'].shape, pic['pic'].shape"
   ]
  },
  {
   "cell_type": "code",
   "execution_count": 25,
   "metadata": {},
   "outputs": [],
   "source": [
    "df = pd.DataFrame(deep_features)"
   ]
  },
  {
   "cell_type": "code",
   "execution_count": 26,
   "metadata": {},
   "outputs": [
    {
     "data": {
      "text/html": [
       "<div>\n",
       "<style scoped>\n",
       "    .dataframe tbody tr th:only-of-type {\n",
       "        vertical-align: middle;\n",
       "    }\n",
       "\n",
       "    .dataframe tbody tr th {\n",
       "        vertical-align: top;\n",
       "    }\n",
       "\n",
       "    .dataframe thead th {\n",
       "        text-align: right;\n",
       "    }\n",
       "</style>\n",
       "<table border=\"1\" class=\"dataframe\">\n",
       "  <thead>\n",
       "    <tr style=\"text-align: right;\">\n",
       "      <th></th>\n",
       "      <th>deep_features</th>\n",
       "      <th>hashtag</th>\n",
       "      <th>name</th>\n",
       "      <th>pic</th>\n",
       "    </tr>\n",
       "  </thead>\n",
       "  <tbody>\n",
       "    <tr>\n",
       "      <th>0</th>\n",
       "      <td>[0.6533674, 1.4187746, 0.0, 0.06313879, 2.2593...</td>\n",
       "      <td>babies</td>\n",
       "      <td>cafbd18c-edea-4106-8b1d-47155a225e96.jpg</td>\n",
       "      <td>(((tf.Tensor(-0.6960784, shape=(), dtype=float...</td>\n",
       "    </tr>\n",
       "    <tr>\n",
       "      <th>1</th>\n",
       "      <td>[0.00040296555, 0.9536936, 0.0, 0.044731237, 0...</td>\n",
       "      <td>animals</td>\n",
       "      <td>fce4c729-0a47-4647-8708-e9130cea62c5.jpg</td>\n",
       "      <td>(((tf.Tensor(0.6313726, shape=(), dtype=float3...</td>\n",
       "    </tr>\n",
       "    <tr>\n",
       "      <th>2</th>\n",
       "      <td>[0.114939824, 1.1331617, 0.08020685, 0.0, 0.24...</td>\n",
       "      <td>babies</td>\n",
       "      <td>7a456b37-3ec0-4e99-9146-9aba8509a4ab.jpg</td>\n",
       "      <td>(((tf.Tensor(0.49803925, shape=(), dtype=float...</td>\n",
       "    </tr>\n",
       "    <tr>\n",
       "      <th>3</th>\n",
       "      <td>[0.6306964, 0.04989948, 0.53576744, 0.04323692...</td>\n",
       "      <td>animals</td>\n",
       "      <td>5692936c-aaeb-413c-97e0-a8b1621d44a7.jpg</td>\n",
       "      <td>(((tf.Tensor(-0.10196076, shape=(), dtype=floa...</td>\n",
       "    </tr>\n",
       "    <tr>\n",
       "      <th>4</th>\n",
       "      <td>[1.8075038, 0.028879395, 0.0, 0.3726905, 0.754...</td>\n",
       "      <td>food</td>\n",
       "      <td>d81b1b60-f199-4860-a66d-70a0d8ec4d32.jpg</td>\n",
       "      <td>(((tf.Tensor(0.96862745, shape=(), dtype=float...</td>\n",
       "    </tr>\n",
       "  </tbody>\n",
       "</table>\n",
       "</div>"
      ],
      "text/plain": [
       "                                       deep_features  hashtag  \\\n",
       "0  [0.6533674, 1.4187746, 0.0, 0.06313879, 2.2593...   babies   \n",
       "1  [0.00040296555, 0.9536936, 0.0, 0.044731237, 0...  animals   \n",
       "2  [0.114939824, 1.1331617, 0.08020685, 0.0, 0.24...   babies   \n",
       "3  [0.6306964, 0.04989948, 0.53576744, 0.04323692...  animals   \n",
       "4  [1.8075038, 0.028879395, 0.0, 0.3726905, 0.754...     food   \n",
       "\n",
       "                                       name  \\\n",
       "0  cafbd18c-edea-4106-8b1d-47155a225e96.jpg   \n",
       "1  fce4c729-0a47-4647-8708-e9130cea62c5.jpg   \n",
       "2  7a456b37-3ec0-4e99-9146-9aba8509a4ab.jpg   \n",
       "3  5692936c-aaeb-413c-97e0-a8b1621d44a7.jpg   \n",
       "4  d81b1b60-f199-4860-a66d-70a0d8ec4d32.jpg   \n",
       "\n",
       "                                                 pic  \n",
       "0  (((tf.Tensor(-0.6960784, shape=(), dtype=float...  \n",
       "1  (((tf.Tensor(0.6313726, shape=(), dtype=float3...  \n",
       "2  (((tf.Tensor(0.49803925, shape=(), dtype=float...  \n",
       "3  (((tf.Tensor(-0.10196076, shape=(), dtype=floa...  \n",
       "4  (((tf.Tensor(0.96862745, shape=(), dtype=float...  "
      ]
     },
     "execution_count": 26,
     "metadata": {},
     "output_type": "execute_result"
    }
   ],
   "source": [
    "df.head()"
   ]
  },
  {
   "cell_type": "code",
   "execution_count": 27,
   "metadata": {},
   "outputs": [],
   "source": [
    "filepath = \"pkl_files/df_deep_features.pkl\"\n",
    "if os.path.exists(filepath):\n",
    "    df.to_pickle(filepath)"
   ]
  },
  {
   "cell_type": "markdown",
   "metadata": {},
   "source": [
    "## ALS Model"
   ]
  },
  {
   "cell_type": "code",
   "execution_count": 30,
   "metadata": {},
   "outputs": [],
   "source": [
    "spark = SparkSession.builder.master('local').getOrCreate()"
   ]
  },
  {
   "cell_type": "code",
   "execution_count": 35,
   "metadata": {},
   "outputs": [
    {
     "data": {
      "text/plain": [
       "(2400, 600, 3000)"
      ]
     },
     "execution_count": 35,
     "metadata": {},
     "output_type": "execute_result"
    }
   ],
   "source": [
    "# Train test split full_list. Not used in the model. Use code when necessary.\n",
    "train, test = train_test_split(full_list, test_size=0.2)\n",
    "\n",
    "len(train), len(test), len(full_list)"
   ]
  },
  {
   "cell_type": "code",
   "execution_count": 32,
   "metadata": {},
   "outputs": [
    {
     "data": {
      "text/html": [
       "<div>\n",
       "<style scoped>\n",
       "    .dataframe tbody tr th:only-of-type {\n",
       "        vertical-align: middle;\n",
       "    }\n",
       "\n",
       "    .dataframe tbody tr th {\n",
       "        vertical-align: top;\n",
       "    }\n",
       "\n",
       "    .dataframe thead th {\n",
       "        text-align: right;\n",
       "    }\n",
       "</style>\n",
       "<table border=\"1\" class=\"dataframe\">\n",
       "  <thead>\n",
       "    <tr style=\"text-align: right;\">\n",
       "      <th></th>\n",
       "      <th>hashtags</th>\n",
       "      <th>image</th>\n",
       "      <th>image_local_name</th>\n",
       "      <th>post_link</th>\n",
       "      <th>search_hashtag</th>\n",
       "    </tr>\n",
       "  </thead>\n",
       "  <tbody>\n",
       "    <tr>\n",
       "      <th>449</th>\n",
       "      <td>[]</td>\n",
       "      <td>https://scontent-sea1-1.cdninstagram.com/vp/a9...</td>\n",
       "      <td>ef53c407-528c-4c5e-9612-05edf93ec15a.jpg</td>\n",
       "      <td>https://www.instagram.com/p/B0hGkQGgiKU/</td>\n",
       "      <td>selfie</td>\n",
       "    </tr>\n",
       "    <tr>\n",
       "      <th>2976</th>\n",
       "      <td>[#wedding, #etsy, #vintageglam, #vintageforsal...</td>\n",
       "      <td>https://scontent-sea1-1.cdninstagram.com/vp/b5...</td>\n",
       "      <td>37263c6a-5a19-4eb7-8ec7-c570e5dbeee0.jpg</td>\n",
       "      <td>https://www.instagram.com/p/B0gwp4ig5EP/</td>\n",
       "      <td>wedding</td>\n",
       "    </tr>\n",
       "    <tr>\n",
       "      <th>1290</th>\n",
       "      <td>[babies]</td>\n",
       "      <td>NaN</td>\n",
       "      <td>ac2cf585-3a14-4487-b82a-ccfebc79e3e1.jpg</td>\n",
       "      <td>NaN</td>\n",
       "      <td>babies</td>\n",
       "    </tr>\n",
       "    <tr>\n",
       "      <th>1534</th>\n",
       "      <td>[#mercedes, #streetking, #bwm, #supercars, #ra...</td>\n",
       "      <td>https://scontent-sea1-1.cdninstagram.com/vp/ca...</td>\n",
       "      <td>16a042b8-71a6-41d2-a825-c990e0332d1c.jpg</td>\n",
       "      <td>https://www.instagram.com/p/B0hQ4yBBdvJ/</td>\n",
       "      <td>cars</td>\n",
       "    </tr>\n",
       "    <tr>\n",
       "      <th>853</th>\n",
       "      <td>[#instarecuerdos, #travelphotograpy, #moments,...</td>\n",
       "      <td>https://scontent-lga3-1.cdninstagram.com/vp/02...</td>\n",
       "      <td>568dd683-8161-447b-9f04-3d76a7e42a7e.jpg</td>\n",
       "      <td>https://www.instagram.com/p/By3OEmHHqzG/</td>\n",
       "      <td>travel</td>\n",
       "    </tr>\n",
       "  </tbody>\n",
       "</table>\n",
       "</div>"
      ],
      "text/plain": [
       "                                               hashtags  \\\n",
       "449                                                  []   \n",
       "2976  [#wedding, #etsy, #vintageglam, #vintageforsal...   \n",
       "1290                                           [babies]   \n",
       "1534  [#mercedes, #streetking, #bwm, #supercars, #ra...   \n",
       "853   [#instarecuerdos, #travelphotograpy, #moments,...   \n",
       "\n",
       "                                                  image  \\\n",
       "449   https://scontent-sea1-1.cdninstagram.com/vp/a9...   \n",
       "2976  https://scontent-sea1-1.cdninstagram.com/vp/b5...   \n",
       "1290                                                NaN   \n",
       "1534  https://scontent-sea1-1.cdninstagram.com/vp/ca...   \n",
       "853   https://scontent-lga3-1.cdninstagram.com/vp/02...   \n",
       "\n",
       "                              image_local_name  \\\n",
       "449   ef53c407-528c-4c5e-9612-05edf93ec15a.jpg   \n",
       "2976  37263c6a-5a19-4eb7-8ec7-c570e5dbeee0.jpg   \n",
       "1290  ac2cf585-3a14-4487-b82a-ccfebc79e3e1.jpg   \n",
       "1534  16a042b8-71a6-41d2-a825-c990e0332d1c.jpg   \n",
       "853   568dd683-8161-447b-9f04-3d76a7e42a7e.jpg   \n",
       "\n",
       "                                     post_link search_hashtag  \n",
       "449   https://www.instagram.com/p/B0hGkQGgiKU/         selfie  \n",
       "2976  https://www.instagram.com/p/B0gwp4ig5EP/        wedding  \n",
       "1290                                       NaN         babies  \n",
       "1534  https://www.instagram.com/p/B0hQ4yBBdvJ/           cars  \n",
       "853   https://www.instagram.com/p/By3OEmHHqzG/         travel  "
      ]
     },
     "execution_count": 32,
     "metadata": {},
     "output_type": "execute_result"
    }
   ],
   "source": [
    "train.head()"
   ]
  },
  {
   "cell_type": "code",
   "execution_count": 34,
   "metadata": {},
   "outputs": [
    {
     "data": {
      "text/html": [
       "<div>\n",
       "<style scoped>\n",
       "    .dataframe tbody tr th:only-of-type {\n",
       "        vertical-align: middle;\n",
       "    }\n",
       "\n",
       "    .dataframe tbody tr th {\n",
       "        vertical-align: top;\n",
       "    }\n",
       "\n",
       "    .dataframe thead th {\n",
       "        text-align: right;\n",
       "    }\n",
       "</style>\n",
       "<table border=\"1\" class=\"dataframe\">\n",
       "  <thead>\n",
       "    <tr style=\"text-align: right;\">\n",
       "      <th></th>\n",
       "      <th>hashtags</th>\n",
       "      <th>image</th>\n",
       "      <th>image_local_name</th>\n",
       "      <th>post_link</th>\n",
       "      <th>search_hashtag</th>\n",
       "    </tr>\n",
       "  </thead>\n",
       "  <tbody>\n",
       "    <tr>\n",
       "      <th>0</th>\n",
       "      <td>[#herbalifeshake, #kilokontrol, #herbalife, #h...</td>\n",
       "      <td>https://scontent-mad1-1.cdninstagram.com/vp/bd...</td>\n",
       "      <td>ff07fa3f-0482-4757-926e-3e6229f7d0d7.jpg</td>\n",
       "      <td>https://www.instagram.com/p/B02xq0AFpe9/</td>\n",
       "      <td>fitness</td>\n",
       "    </tr>\n",
       "    <tr>\n",
       "      <th>1</th>\n",
       "      <td>[]</td>\n",
       "      <td>https://scontent-mad1-1.cdninstagram.com/vp/b9...</td>\n",
       "      <td>7cff7c70-b983-4c6b-adee-fc5676acddf3.jpg</td>\n",
       "      <td>https://www.instagram.com/p/B02sMkwJnny/</td>\n",
       "      <td>fitness</td>\n",
       "    </tr>\n",
       "    <tr>\n",
       "      <th>2</th>\n",
       "      <td>[#bollywood, #indian, #art, #love, #india, #gi...</td>\n",
       "      <td>https://scontent-mad1-1.cdninstagram.com/vp/2b...</td>\n",
       "      <td>b7de6dac-4294-45d5-aac0-8a749b7e4cc5.jpg</td>\n",
       "      <td>https://www.instagram.com/p/B02zfuaDfP4/</td>\n",
       "      <td>fitness</td>\n",
       "    </tr>\n",
       "    <tr>\n",
       "      <th>3</th>\n",
       "      <td>[#popxodaily, #personalblog, #loveforblack, #l...</td>\n",
       "      <td>https://scontent-mad1-1.cdninstagram.com/vp/34...</td>\n",
       "      <td>f699faef-b071-46f2-bf5c-fd9f1ff7626a.jpg</td>\n",
       "      <td>https://www.instagram.com/p/B02yOH3nfzB/</td>\n",
       "      <td>fitness</td>\n",
       "    </tr>\n",
       "    <tr>\n",
       "      <th>4</th>\n",
       "      <td>[]</td>\n",
       "      <td>https://scontent-mad1-1.cdninstagram.com/vp/31...</td>\n",
       "      <td>7f25fd41-5f1b-4181-8128-4f7464f4c2ad.jpg</td>\n",
       "      <td>https://www.instagram.com/p/B02rDHDF28T/</td>\n",
       "      <td>fitness</td>\n",
       "    </tr>\n",
       "  </tbody>\n",
       "</table>\n",
       "</div>"
      ],
      "text/plain": [
       "                                            hashtags  \\\n",
       "0  [#herbalifeshake, #kilokontrol, #herbalife, #h...   \n",
       "1                                                 []   \n",
       "2  [#bollywood, #indian, #art, #love, #india, #gi...   \n",
       "3  [#popxodaily, #personalblog, #loveforblack, #l...   \n",
       "4                                                 []   \n",
       "\n",
       "                                               image  \\\n",
       "0  https://scontent-mad1-1.cdninstagram.com/vp/bd...   \n",
       "1  https://scontent-mad1-1.cdninstagram.com/vp/b9...   \n",
       "2  https://scontent-mad1-1.cdninstagram.com/vp/2b...   \n",
       "3  https://scontent-mad1-1.cdninstagram.com/vp/34...   \n",
       "4  https://scontent-mad1-1.cdninstagram.com/vp/31...   \n",
       "\n",
       "                           image_local_name  \\\n",
       "0  ff07fa3f-0482-4757-926e-3e6229f7d0d7.jpg   \n",
       "1  7cff7c70-b983-4c6b-adee-fc5676acddf3.jpg   \n",
       "2  b7de6dac-4294-45d5-aac0-8a749b7e4cc5.jpg   \n",
       "3  f699faef-b071-46f2-bf5c-fd9f1ff7626a.jpg   \n",
       "4  7f25fd41-5f1b-4181-8128-4f7464f4c2ad.jpg   \n",
       "\n",
       "                                  post_link search_hashtag  \n",
       "0  https://www.instagram.com/p/B02xq0AFpe9/        fitness  \n",
       "1  https://www.instagram.com/p/B02sMkwJnny/        fitness  \n",
       "2  https://www.instagram.com/p/B02zfuaDfP4/        fitness  \n",
       "3  https://www.instagram.com/p/B02yOH3nfzB/        fitness  \n",
       "4  https://www.instagram.com/p/B02rDHDF28T/        fitness  "
      ]
     },
     "execution_count": 34,
     "metadata": {},
     "output_type": "execute_result"
    }
   ],
   "source": [
    "full_list.head()"
   ]
  },
  {
   "cell_type": "code",
   "execution_count": 36,
   "metadata": {},
   "outputs": [],
   "source": [
    "full_list['clean_hashtags'] = full_list['hashtags'].apply(\n",
    "    lambda hashtag_list: [h for h in hashtag_list if h.startswith('#')])"
   ]
  },
  {
   "cell_type": "code",
   "execution_count": 37,
   "metadata": {
    "scrolled": true
   },
   "outputs": [
    {
     "data": {
      "text/html": [
       "<div>\n",
       "<style scoped>\n",
       "    .dataframe tbody tr th:only-of-type {\n",
       "        vertical-align: middle;\n",
       "    }\n",
       "\n",
       "    .dataframe tbody tr th {\n",
       "        vertical-align: top;\n",
       "    }\n",
       "\n",
       "    .dataframe thead th {\n",
       "        text-align: right;\n",
       "    }\n",
       "</style>\n",
       "<table border=\"1\" class=\"dataframe\">\n",
       "  <thead>\n",
       "    <tr style=\"text-align: right;\">\n",
       "      <th></th>\n",
       "      <th>hashtags</th>\n",
       "      <th>image</th>\n",
       "      <th>image_local_name</th>\n",
       "      <th>post_link</th>\n",
       "      <th>search_hashtag</th>\n",
       "      <th>clean_hashtags</th>\n",
       "    </tr>\n",
       "  </thead>\n",
       "  <tbody>\n",
       "    <tr>\n",
       "      <th>0</th>\n",
       "      <td>[#herbalifeshake, #kilokontrol, #herbalife, #h...</td>\n",
       "      <td>https://scontent-mad1-1.cdninstagram.com/vp/bd...</td>\n",
       "      <td>ff07fa3f-0482-4757-926e-3e6229f7d0d7.jpg</td>\n",
       "      <td>https://www.instagram.com/p/B02xq0AFpe9/</td>\n",
       "      <td>fitness</td>\n",
       "      <td>[#herbalifeshake, #kilokontrol, #herbalife, #h...</td>\n",
       "    </tr>\n",
       "    <tr>\n",
       "      <th>1</th>\n",
       "      <td>[]</td>\n",
       "      <td>https://scontent-mad1-1.cdninstagram.com/vp/b9...</td>\n",
       "      <td>7cff7c70-b983-4c6b-adee-fc5676acddf3.jpg</td>\n",
       "      <td>https://www.instagram.com/p/B02sMkwJnny/</td>\n",
       "      <td>fitness</td>\n",
       "      <td>[]</td>\n",
       "    </tr>\n",
       "    <tr>\n",
       "      <th>2</th>\n",
       "      <td>[#bollywood, #indian, #art, #love, #india, #gi...</td>\n",
       "      <td>https://scontent-mad1-1.cdninstagram.com/vp/2b...</td>\n",
       "      <td>b7de6dac-4294-45d5-aac0-8a749b7e4cc5.jpg</td>\n",
       "      <td>https://www.instagram.com/p/B02zfuaDfP4/</td>\n",
       "      <td>fitness</td>\n",
       "      <td>[#bollywood, #indian, #art, #love, #india, #gi...</td>\n",
       "    </tr>\n",
       "    <tr>\n",
       "      <th>3</th>\n",
       "      <td>[#popxodaily, #personalblog, #loveforblack, #l...</td>\n",
       "      <td>https://scontent-mad1-1.cdninstagram.com/vp/34...</td>\n",
       "      <td>f699faef-b071-46f2-bf5c-fd9f1ff7626a.jpg</td>\n",
       "      <td>https://www.instagram.com/p/B02yOH3nfzB/</td>\n",
       "      <td>fitness</td>\n",
       "      <td>[#popxodaily, #personalblog, #loveforblack, #l...</td>\n",
       "    </tr>\n",
       "    <tr>\n",
       "      <th>4</th>\n",
       "      <td>[]</td>\n",
       "      <td>https://scontent-mad1-1.cdninstagram.com/vp/31...</td>\n",
       "      <td>7f25fd41-5f1b-4181-8128-4f7464f4c2ad.jpg</td>\n",
       "      <td>https://www.instagram.com/p/B02rDHDF28T/</td>\n",
       "      <td>fitness</td>\n",
       "      <td>[]</td>\n",
       "    </tr>\n",
       "  </tbody>\n",
       "</table>\n",
       "</div>"
      ],
      "text/plain": [
       "                                            hashtags  \\\n",
       "0  [#herbalifeshake, #kilokontrol, #herbalife, #h...   \n",
       "1                                                 []   \n",
       "2  [#bollywood, #indian, #art, #love, #india, #gi...   \n",
       "3  [#popxodaily, #personalblog, #loveforblack, #l...   \n",
       "4                                                 []   \n",
       "\n",
       "                                               image  \\\n",
       "0  https://scontent-mad1-1.cdninstagram.com/vp/bd...   \n",
       "1  https://scontent-mad1-1.cdninstagram.com/vp/b9...   \n",
       "2  https://scontent-mad1-1.cdninstagram.com/vp/2b...   \n",
       "3  https://scontent-mad1-1.cdninstagram.com/vp/34...   \n",
       "4  https://scontent-mad1-1.cdninstagram.com/vp/31...   \n",
       "\n",
       "                           image_local_name  \\\n",
       "0  ff07fa3f-0482-4757-926e-3e6229f7d0d7.jpg   \n",
       "1  7cff7c70-b983-4c6b-adee-fc5676acddf3.jpg   \n",
       "2  b7de6dac-4294-45d5-aac0-8a749b7e4cc5.jpg   \n",
       "3  f699faef-b071-46f2-bf5c-fd9f1ff7626a.jpg   \n",
       "4  7f25fd41-5f1b-4181-8128-4f7464f4c2ad.jpg   \n",
       "\n",
       "                                  post_link search_hashtag  \\\n",
       "0  https://www.instagram.com/p/B02xq0AFpe9/        fitness   \n",
       "1  https://www.instagram.com/p/B02sMkwJnny/        fitness   \n",
       "2  https://www.instagram.com/p/B02zfuaDfP4/        fitness   \n",
       "3  https://www.instagram.com/p/B02yOH3nfzB/        fitness   \n",
       "4  https://www.instagram.com/p/B02rDHDF28T/        fitness   \n",
       "\n",
       "                                      clean_hashtags  \n",
       "0  [#herbalifeshake, #kilokontrol, #herbalife, #h...  \n",
       "1                                                 []  \n",
       "2  [#bollywood, #indian, #art, #love, #india, #gi...  \n",
       "3  [#popxodaily, #personalblog, #loveforblack, #l...  \n",
       "4                                                 []  "
      ]
     },
     "execution_count": 37,
     "metadata": {},
     "output_type": "execute_result"
    }
   ],
   "source": [
    "full_list.head()"
   ]
  },
  {
   "cell_type": "code",
   "execution_count": 38,
   "metadata": {},
   "outputs": [],
   "source": [
    "image_lookup = dict(zip(full_list['image_local_name'], full_list.index))"
   ]
  },
  {
   "cell_type": "code",
   "execution_count": 39,
   "metadata": {},
   "outputs": [],
   "source": [
    "all_hashtags = set()\n",
    "for tags in full_list['clean_hashtags']:\n",
    "    all_hashtags.update(tags)\n",
    "hashtag_lookup = {hashtag: i for i, hashtag in enumerate(all_hashtags)}"
   ]
  },
  {
   "cell_type": "code",
   "execution_count": 40,
   "metadata": {},
   "outputs": [],
   "source": [
    "hashtag_data = []\n",
    "for i in full_list.index:\n",
    "    hashtags = full_list.loc[i, 'clean_hashtags']\n",
    "    for hashtag in hashtags:\n",
    "        hashtag_data.append(\n",
    "            {'image_id': i,\n",
    "             'hashtag_id': hashtag_lookup[hashtag],\n",
    "             'rating': 1}\n",
    "        )\n",
    "hashtag_df_long = pd.DataFrame(hashtag_data)"
   ]
  },
  {
   "cell_type": "code",
   "execution_count": 41,
   "metadata": {},
   "outputs": [
    {
     "data": {
      "text/html": [
       "<div>\n",
       "<style scoped>\n",
       "    .dataframe tbody tr th:only-of-type {\n",
       "        vertical-align: middle;\n",
       "    }\n",
       "\n",
       "    .dataframe tbody tr th {\n",
       "        vertical-align: top;\n",
       "    }\n",
       "\n",
       "    .dataframe thead th {\n",
       "        text-align: right;\n",
       "    }\n",
       "</style>\n",
       "<table border=\"1\" class=\"dataframe\">\n",
       "  <thead>\n",
       "    <tr style=\"text-align: right;\">\n",
       "      <th></th>\n",
       "      <th>hashtag_id</th>\n",
       "      <th>image_id</th>\n",
       "      <th>rating</th>\n",
       "    </tr>\n",
       "  </thead>\n",
       "  <tbody>\n",
       "    <tr>\n",
       "      <th>47467</th>\n",
       "      <td>13214</td>\n",
       "      <td>2999</td>\n",
       "      <td>1</td>\n",
       "    </tr>\n",
       "    <tr>\n",
       "      <th>47468</th>\n",
       "      <td>4956</td>\n",
       "      <td>2999</td>\n",
       "      <td>1</td>\n",
       "    </tr>\n",
       "    <tr>\n",
       "      <th>47469</th>\n",
       "      <td>4027</td>\n",
       "      <td>2999</td>\n",
       "      <td>1</td>\n",
       "    </tr>\n",
       "    <tr>\n",
       "      <th>47470</th>\n",
       "      <td>10732</td>\n",
       "      <td>2999</td>\n",
       "      <td>1</td>\n",
       "    </tr>\n",
       "    <tr>\n",
       "      <th>47471</th>\n",
       "      <td>9057</td>\n",
       "      <td>2999</td>\n",
       "      <td>1</td>\n",
       "    </tr>\n",
       "  </tbody>\n",
       "</table>\n",
       "</div>"
      ],
      "text/plain": [
       "       hashtag_id  image_id  rating\n",
       "47467       13214      2999       1\n",
       "47468        4956      2999       1\n",
       "47469        4027      2999       1\n",
       "47470       10732      2999       1\n",
       "47471        9057      2999       1"
      ]
     },
     "execution_count": 41,
     "metadata": {},
     "output_type": "execute_result"
    }
   ],
   "source": [
    "hashtag_df_long.tail()"
   ]
  },
  {
   "cell_type": "code",
   "execution_count": 42,
   "metadata": {
    "scrolled": true
   },
   "outputs": [
    {
     "data": {
      "text/plain": [
       "hashtags            object\n",
       "image               object\n",
       "image_local_name    object\n",
       "post_link           object\n",
       "search_hashtag      object\n",
       "clean_hashtags      object\n",
       "dtype: object"
      ]
     },
     "execution_count": 42,
     "metadata": {},
     "output_type": "execute_result"
    }
   ],
   "source": [
    "full_list.dtypes"
   ]
  },
  {
   "cell_type": "code",
   "execution_count": 43,
   "metadata": {},
   "outputs": [],
   "source": [
    "als = ALS(userCol='image_id',\n",
    "          itemCol='hashtag_id',\n",
    "          implicitPrefs=True,\n",
    "          alpha=40)"
   ]
  },
  {
   "cell_type": "code",
   "execution_count": 44,
   "metadata": {},
   "outputs": [],
   "source": [
    "hashtag_spark_df = spark.createDataFrame(hashtag_df_long)"
   ]
  },
  {
   "cell_type": "code",
   "execution_count": 45,
   "metadata": {},
   "outputs": [],
   "source": [
    "als_model = als.fit(hashtag_spark_df)"
   ]
  },
  {
   "cell_type": "code",
   "execution_count": 46,
   "metadata": {},
   "outputs": [],
   "source": [
    "als_model.write().overwrite().save('als')"
   ]
  },
  {
   "cell_type": "code",
   "execution_count": 47,
   "metadata": {},
   "outputs": [],
   "source": [
    "#load the model\n",
    "#ALSModel model = ALSModel.load(“/path/to/read/the/model/from”)"
   ]
  },
  {
   "cell_type": "code",
   "execution_count": 51,
   "metadata": {},
   "outputs": [
    {
     "data": {
      "text/plain": [
       "2261"
      ]
     },
     "execution_count": 51,
     "metadata": {},
     "output_type": "execute_result"
    }
   ],
   "source": [
    "recs = als_model.recommendForAllUsers(numItems=10).toPandas()\n",
    "len(recs)"
   ]
  },
  {
   "cell_type": "code",
   "execution_count": 50,
   "metadata": {},
   "outputs": [],
   "source": [
    "hashtag_index = list(all_hashtags)"
   ]
  },
  {
   "cell_type": "code",
   "execution_count": null,
   "metadata": {},
   "outputs": [],
   "source": [
    "def lookup_hashtag(hashtag_id):\n",
    "    return hashtag_index[hashtag_id]"
   ]
  },
  {
   "cell_type": "code",
   "execution_count": null,
   "metadata": {},
   "outputs": [],
   "source": [
    "def lookup_hashtag_recs(rec_scores):\n",
    "    return [lookup_hashtag(rec) for (rec, score) in rec_scores]"
   ]
  },
  {
   "cell_type": "code",
   "execution_count": null,
   "metadata": {},
   "outputs": [],
   "source": [
    "recs['recommended_hashtags'] = recs['recommendations'].apply(lookup_hashtag_recs)"
   ]
  },
  {
   "cell_type": "code",
   "execution_count": null,
   "metadata": {},
   "outputs": [],
   "source": [
    "recs.index = recs['image_id']"
   ]
  },
  {
   "cell_type": "code",
   "execution_count": null,
   "metadata": {},
   "outputs": [],
   "source": [
    "compare_recs = recs.join(full_list, how='left')[['recommendations',\n",
    "                                                 'recommended_hashtags',\n",
    "                                                 'hashtags',\n",
    "                                                 'image_local_name',\n",
    "                                                 'search_hashtag']]"
   ]
  },
  {
   "cell_type": "code",
   "execution_count": null,
   "metadata": {},
   "outputs": [],
   "source": [
    "compare_recs.loc[0, 'image_local_name']"
   ]
  },
  {
   "cell_type": "code",
   "execution_count": null,
   "metadata": {},
   "outputs": [],
   "source": [
    "compare_recs.to_pickle('pkl_files/recs.pkl')\n",
    "compare_recs.drop('recommendations', axis=1)\n",
    "image_factors = als_model.userFactors.toPandas()\n",
    "image_factors.index = image_factors['id']\n",
    "compare_recs.join(image_factors);"
   ]
  },
  {
   "cell_type": "markdown",
   "metadata": {},
   "source": [
    "### Pickle hashtag data"
   ]
  },
  {
   "cell_type": "code",
   "execution_count": null,
   "metadata": {},
   "outputs": [],
   "source": [
    "len(hashtag_lookup), type(hashtag_lookup)"
   ]
  },
  {
   "cell_type": "code",
   "execution_count": null,
   "metadata": {},
   "outputs": [],
   "source": [
    "hashtags_df = pd.DataFrame.from_dict(hashtag_lookup, orient='index')\n",
    "hashtags_df.head()"
   ]
  },
  {
   "cell_type": "code",
   "execution_count": null,
   "metadata": {},
   "outputs": [],
   "source": [
    "hashtags_df = hashtags_df.reset_index()\n",
    "hashtags_df.columns = ['hashtag', 'id']"
   ]
  },
  {
   "cell_type": "code",
   "execution_count": null,
   "metadata": {},
   "outputs": [],
   "source": [
    "hashtags_df.index = hashtags_df['id']"
   ]
  },
  {
   "cell_type": "code",
   "execution_count": null,
   "metadata": {},
   "outputs": [],
   "source": [
    "hashtags_df = hashtags_df.drop('id', axis=1)"
   ]
  },
  {
   "cell_type": "code",
   "execution_count": null,
   "metadata": {},
   "outputs": [],
   "source": [
    "hashtags_df.head()"
   ]
  },
  {
   "cell_type": "code",
   "execution_count": null,
   "metadata": {},
   "outputs": [],
   "source": [
    "hashtags_df.to_pickle(\"pkl_files/hashtags_df.pkl\")"
   ]
  },
  {
   "cell_type": "code",
   "execution_count": null,
   "metadata": {},
   "outputs": [],
   "source": []
  }
 ],
 "metadata": {
  "kernelspec": {
   "display_name": "Python 3",
   "language": "python",
   "name": "python3"
  },
  "language_info": {
   "codemirror_mode": {
    "name": "ipython",
    "version": 3
   },
   "file_extension": ".py",
   "mimetype": "text/x-python",
   "name": "python",
   "nbconvert_exporter": "python",
   "pygments_lexer": "ipython3",
   "version": "3.7.1"
  }
 },
 "nbformat": 4,
 "nbformat_minor": 2
}
