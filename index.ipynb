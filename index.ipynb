{
 "cells": [
  {
   "cell_type": "code",
   "execution_count": 1,
   "metadata": {},
   "outputs": [],
   "source": [
    "%load_ext autoreload\n",
    "%autoreload 2"
   ]
  },
  {
   "cell_type": "code",
   "execution_count": 2,
   "metadata": {},
   "outputs": [],
   "source": [
    "# TensorFlow 2.0.0 is required for this code to work.\n",
    "# Uncomment and run the following line to install the CPU version.\n",
    "# !pip install tensorflow==2.0.0-beta0 --ignore-installed"
   ]
  },
  {
   "cell_type": "markdown",
   "metadata": {},
   "source": [
    "### Import necessary modules:"
   ]
  },
  {
   "cell_type": "code",
   "execution_count": 3,
   "metadata": {},
   "outputs": [],
   "source": [
    "import numpy as np\n",
    "import pandas as pd\n",
    "import matplotlib.pyplot as plt\n",
    "%matplotlib inline\n",
    "from random import shuffle\n",
    "import tensorflow as tf\n",
    "from tensorflow.keras.applications import MobileNetV2\n",
    "from functools import reduce\n",
    "from functions import prepare_image, extract_features\n",
    "import os\n",
    "import json\n",
    "from PIL import Image"
   ]
  },
  {
   "cell_type": "markdown",
   "metadata": {},
   "source": [
    "### Get a list of all hashtags"
   ]
  },
  {
   "cell_type": "code",
   "execution_count": 4,
   "metadata": {},
   "outputs": [],
   "source": [
    "json_file_names = os.listdir('json_files')\n",
    "# Remove the 5 char .json file ending to isolate hashtag name\n",
    "hashtags = [hashtag[:-5] for hashtag in json_file_names]"
   ]
  },
  {
   "cell_type": "code",
   "execution_count": 5,
   "metadata": {},
   "outputs": [
    {
     "data": {
      "text/plain": [
       "['fitness',\n",
       " 'selfie',\n",
       " 'travel',\n",
       " 'nature',\n",
       " 'babies',\n",
       " 'cars',\n",
       " 'food',\n",
       " 'architecture',\n",
       " 'animals',\n",
       " 'wedding']"
      ]
     },
     "execution_count": 5,
     "metadata": {},
     "output_type": "execute_result"
    }
   ],
   "source": [
    "# remove '.DS_', '.ipynb_checkp'\n",
    "non_hashtags = ['.DS_', '.ipynb_checkp']\n",
    "for non_hashtag in non_hashtags:\n",
    "    try:\n",
    "        hashtags.remove(non_hashtag)\n",
    "    except:\n",
    "        pass # If we can't remove it, it's already gone\n",
    "    \n",
    "hashtags"
   ]
  },
  {
   "cell_type": "code",
   "execution_count": 6,
   "metadata": {},
   "outputs": [],
   "source": [
    "hashtag_dfs = []\n",
    "for hashtag in hashtags: \n",
    "    hashtag_dfs.append(pd.read_json(f'json_files/{hashtag}.json'))\n",
    "df = reduce(lambda x, y: pd.concat([x, y]), hashtag_dfs)"
   ]
  },
  {
   "cell_type": "code",
   "execution_count": 7,
   "metadata": {
    "scrolled": true
   },
   "outputs": [],
   "source": [
    "full_list = pd.DataFrame.reset_index(df, drop=True)"
   ]
  },
  {
   "cell_type": "code",
   "execution_count": 8,
   "metadata": {
    "scrolled": false
   },
   "outputs": [
    {
     "data": {
      "text/html": [
       "<div>\n",
       "<style scoped>\n",
       "    .dataframe tbody tr th:only-of-type {\n",
       "        vertical-align: middle;\n",
       "    }\n",
       "\n",
       "    .dataframe tbody tr th {\n",
       "        vertical-align: top;\n",
       "    }\n",
       "\n",
       "    .dataframe thead th {\n",
       "        text-align: right;\n",
       "    }\n",
       "</style>\n",
       "<table border=\"1\" class=\"dataframe\">\n",
       "  <thead>\n",
       "    <tr style=\"text-align: right;\">\n",
       "      <th></th>\n",
       "      <th>hashtags</th>\n",
       "      <th>image</th>\n",
       "      <th>image_local_name</th>\n",
       "      <th>post_link</th>\n",
       "      <th>search_hashtag</th>\n",
       "    </tr>\n",
       "  </thead>\n",
       "  <tbody>\n",
       "    <tr>\n",
       "      <th>2995</th>\n",
       "      <td>[#Wedding, #ido, #ianandwendytietheknot, #wedd...</td>\n",
       "      <td>https://scontent-sea1-1.cdninstagram.com/vp/29...</td>\n",
       "      <td>905a1d9c-b29d-44c7-ab5c-408c0b5d91ac.jpg</td>\n",
       "      <td>https://www.instagram.com/p/B0dcq0FBPQ3/</td>\n",
       "      <td>wedding</td>\n",
       "    </tr>\n",
       "    <tr>\n",
       "      <th>2996</th>\n",
       "      <td>[#wedding, #mariages, #celebrantecuritiba, #ce...</td>\n",
       "      <td>https://scontent-sea1-1.cdninstagram.com/vp/bb...</td>\n",
       "      <td>6e424f02-d10e-42db-a233-9ce2724fb8a9.jpg</td>\n",
       "      <td>https://www.instagram.com/p/BwXbu7MgCTZ/</td>\n",
       "      <td>wedding</td>\n",
       "    </tr>\n",
       "    <tr>\n",
       "      <th>2997</th>\n",
       "      <td>[#weddingring, #wedding, #shoes, #nancy, #sigm...</td>\n",
       "      <td>https://scontent-sea1-1.cdninstagram.com/vp/25...</td>\n",
       "      <td>ae49d2bb-95f7-4d16-9ee5-1603e97e6dd8.jpg</td>\n",
       "      <td>https://www.instagram.com/p/B0gwuc2icKv/</td>\n",
       "      <td>wedding</td>\n",
       "    </tr>\n",
       "    <tr>\n",
       "      <th>2998</th>\n",
       "      <td>[#wedding, #standesamtgoetheallee, #retroweddi...</td>\n",
       "      <td>https://scontent-sea1-1.cdninstagram.com/vp/21...</td>\n",
       "      <td>9152a6d4-abda-4adf-87a4-7988dc4bb3ac.jpg</td>\n",
       "      <td>https://www.instagram.com/p/B0gwufzImAz/</td>\n",
       "      <td>wedding</td>\n",
       "    </tr>\n",
       "    <tr>\n",
       "      <th>2999</th>\n",
       "      <td>[#kinalik, #gelinlik, #bursad, #wedding, #dama...</td>\n",
       "      <td>https://scontent-sea1-1.cdninstagram.com/vp/15...</td>\n",
       "      <td>09aaa471-2ed6-4ead-84db-e4aa6b0ece8f.jpg</td>\n",
       "      <td>https://www.instagram.com/p/B0gwubDhu6M/</td>\n",
       "      <td>wedding</td>\n",
       "    </tr>\n",
       "  </tbody>\n",
       "</table>\n",
       "</div>"
      ],
      "text/plain": [
       "                                               hashtags  \\\n",
       "2995  [#Wedding, #ido, #ianandwendytietheknot, #wedd...   \n",
       "2996  [#wedding, #mariages, #celebrantecuritiba, #ce...   \n",
       "2997  [#weddingring, #wedding, #shoes, #nancy, #sigm...   \n",
       "2998  [#wedding, #standesamtgoetheallee, #retroweddi...   \n",
       "2999  [#kinalik, #gelinlik, #bursad, #wedding, #dama...   \n",
       "\n",
       "                                                  image  \\\n",
       "2995  https://scontent-sea1-1.cdninstagram.com/vp/29...   \n",
       "2996  https://scontent-sea1-1.cdninstagram.com/vp/bb...   \n",
       "2997  https://scontent-sea1-1.cdninstagram.com/vp/25...   \n",
       "2998  https://scontent-sea1-1.cdninstagram.com/vp/21...   \n",
       "2999  https://scontent-sea1-1.cdninstagram.com/vp/15...   \n",
       "\n",
       "                              image_local_name  \\\n",
       "2995  905a1d9c-b29d-44c7-ab5c-408c0b5d91ac.jpg   \n",
       "2996  6e424f02-d10e-42db-a233-9ce2724fb8a9.jpg   \n",
       "2997  ae49d2bb-95f7-4d16-9ee5-1603e97e6dd8.jpg   \n",
       "2998  9152a6d4-abda-4adf-87a4-7988dc4bb3ac.jpg   \n",
       "2999  09aaa471-2ed6-4ead-84db-e4aa6b0ece8f.jpg   \n",
       "\n",
       "                                     post_link search_hashtag  \n",
       "2995  https://www.instagram.com/p/B0dcq0FBPQ3/        wedding  \n",
       "2996  https://www.instagram.com/p/BwXbu7MgCTZ/        wedding  \n",
       "2997  https://www.instagram.com/p/B0gwuc2icKv/        wedding  \n",
       "2998  https://www.instagram.com/p/B0gwufzImAz/        wedding  \n",
       "2999  https://www.instagram.com/p/B0gwubDhu6M/        wedding  "
      ]
     },
     "execution_count": 8,
     "metadata": {},
     "output_type": "execute_result"
    }
   ],
   "source": [
    "full_list.tail()"
   ]
  },
  {
   "cell_type": "markdown",
   "metadata": {},
   "source": [
    "### Resizing image to be used in tensorflow framework for Deep Feature Extraction"
   ]
  },
  {
   "cell_type": "code",
   "execution_count": 9,
   "metadata": {},
   "outputs": [],
   "source": [
    "pics = []\n",
    "for i, row in full_list.iterrows():\n",
    "    name = row['image_local_name']\n",
    "    hashtag = row['search_hashtag']\n",
    "    img_path = f'data/{hashtag}/{name}'\n",
    "    try:\n",
    "        img = prepare_image(img_path, where='local')\n",
    "        pics.append({'pic': img, 'hashtag': hashtag, 'name': name})\n",
    "    except:\n",
    "        # If a file in the list isn't in \n",
    "        # storage, skip it and continue\n",
    "        pass"
   ]
  },
  {
   "cell_type": "code",
   "execution_count": 10,
   "metadata": {},
   "outputs": [
    {
     "data": {
      "text/plain": [
       "tensorflow.python.framework.ops.EagerTensor"
      ]
     },
     "execution_count": 10,
     "metadata": {},
     "output_type": "execute_result"
    }
   ],
   "source": [
    "type(pics[64]['pic'])"
   ]
  },
  {
   "cell_type": "code",
   "execution_count": 11,
   "metadata": {
    "scrolled": true
   },
   "outputs": [
    {
     "name": "stderr",
     "output_type": "stream",
     "text": [
      "WARNING: Logging before flag parsing goes to stderr.\n",
      "W0829 16:42:13.443768 4639438272 image.py:656] Clipping input data to the valid range for imshow with RGB data ([0..1] for floats or [0..255] for integers).\n"
     ]
    },
    {
     "data": {
      "image/png": "[encoded data removed]",
      "text/plain": [
       "<Figure size 432x288 with 1 Axes>"
      ]
     },
     "metadata": {
      "needs_background": "light"
     },
     "output_type": "display_data"
    }
   ],
   "source": [
    "plt.imshow(pics[64]['pic']);"
   ]
  },
  {
   "cell_type": "code",
   "execution_count": 12,
   "metadata": {},
   "outputs": [],
   "source": [
    "# add extracted deep features information to pics, make it a list of dictionaries\n",
    "\n",
    "deep_features = list(map(extract_features, pics))"
   ]
  },
  {
   "cell_type": "code",
   "execution_count": 13,
   "metadata": {},
   "outputs": [
    {
     "data": {
      "text/plain": [
       "list"
      ]
     },
     "execution_count": 13,
     "metadata": {},
     "output_type": "execute_result"
    }
   ],
   "source": [
    "# confirm that the type of deep_features variable is a list\n",
    "\n",
    "type(deep_features)"
   ]
  },
  {
   "cell_type": "code",
   "execution_count": 14,
   "metadata": {},
   "outputs": [],
   "source": [
    "# train test split deep features: not used in the model, just in case needs to be used in the future\n",
    "\n",
    "shuffle(deep_features)\n",
    "train_size = int(len(deep_features) * .7)\n",
    "train, test = deep_features[:train_size], deep_features[train_size:]"
   ]
  },
  {
   "cell_type": "code",
   "execution_count": 15,
   "metadata": {},
   "outputs": [
    {
     "data": {
      "text/plain": [
       "{'pic': <tf.Tensor: id=35715, shape=(160, 160, 3), dtype=float32, numpy=\n",
       " array([[[ 0.42352945,  0.36078435,  0.23921573],\n",
       "         [ 0.4294118 ,  0.34705886,  0.23333338],\n",
       "         [ 0.42352945,  0.3411765 ,  0.21176475],\n",
       "         ...,\n",
       "         [ 0.4176471 ,  0.3666667 ,  0.25882357],\n",
       "         [ 0.40196082,  0.354902  ,  0.24509808],\n",
       "         [ 0.42549023,  0.3784314 ,  0.2686275 ]],\n",
       " \n",
       "        [[ 0.38823533,  0.35294122,  0.22352946],\n",
       "         [ 0.40980396,  0.38431376,  0.25098044],\n",
       "         [ 0.45882356,  0.43921572,  0.31372553],\n",
       "         ...,\n",
       "         [ 0.5137255 ,  0.47450984,  0.3803922 ],\n",
       "         [ 0.43529415,  0.3921569 ,  0.29803926],\n",
       "         [ 0.40980396,  0.36274514,  0.2686275 ]],\n",
       " \n",
       "        [[ 0.38431376,  0.3686275 ,  0.21960789],\n",
       "         [ 0.454902  ,  0.454902  ,  0.32156867],\n",
       "         [ 0.63529414,  0.64705884,  0.5352942 ],\n",
       "         ...,\n",
       "         [ 0.7490196 ,  0.7372549 ,  0.6431373 ],\n",
       "         [ 0.49803925,  0.454902  ,  0.37254906],\n",
       "         [ 0.42549023,  0.3666667 ,  0.29019612]],\n",
       " \n",
       "        ...,\n",
       " \n",
       "        [[ 0.10980397, -0.0490196 , -0.22941175],\n",
       "         [ 0.19215688,  0.13529414,  0.00196081],\n",
       "         [ 0.5627451 ,  0.58431375,  0.48431376],\n",
       "         ...,\n",
       "         [ 0.37450984,  0.31960788,  0.1941177 ],\n",
       "         [ 0.45098042,  0.39607847,  0.27058828],\n",
       "         [ 0.47058827,  0.4156863 ,  0.29019612]],\n",
       " \n",
       "        [[ 0.09215692, -0.05098039, -0.2235294 ],\n",
       "         [ 0.07450986, -0.03137253, -0.15882352],\n",
       "         [ 0.14509806,  0.08627453, -0.03529409],\n",
       "         ...,\n",
       "         [ 0.43529415,  0.3803922 ,  0.254902  ],\n",
       "         [ 0.44705886,  0.3921569 ,  0.2666667 ],\n",
       "         [ 0.47450984,  0.41960788,  0.2941177 ]],\n",
       " \n",
       "        [[ 0.05294123, -0.02745098, -0.24705881],\n",
       "         [ 0.04901966, -0.06274509, -0.22941175],\n",
       "         [ 0.07058829, -0.05490196, -0.21568626],\n",
       "         ...,\n",
       "         [ 0.46274513,  0.40784317,  0.28235298],\n",
       "         [ 0.45882356,  0.4039216 ,  0.27843142],\n",
       "         [ 0.46274513,  0.40784317,  0.28235298]]], dtype=float32)>,\n",
       " 'hashtag': 'architecture',\n",
       " 'name': 'c9ac3a4a-312c-41e9-9f57-3792ecd572bd.jpg',\n",
       " 'deep_features': array([0.9293431 , 0.1402303 , 0.07235985, ..., 0.39189517, 0.        ,\n",
       "        0.0319681 ], dtype=float32)}"
      ]
     },
     "execution_count": 15,
     "metadata": {},
     "output_type": "execute_result"
    }
   ],
   "source": [
    "# check the first element of the train set\n",
    "\n",
    "train[0]"
   ]
  },
  {
   "cell_type": "code",
   "execution_count": 16,
   "metadata": {},
   "outputs": [
    {
     "data": {
      "text/plain": [
       "dict_keys(['pic', 'hashtag', 'name', 'deep_features'])"
      ]
     },
     "execution_count": 16,
     "metadata": {},
     "output_type": "execute_result"
    }
   ],
   "source": [
    "# look at the dictionary keys of the first element \n",
    "\n",
    "train[0].keys()"
   ]
  },
  {
   "cell_type": "code",
   "execution_count": 17,
   "metadata": {},
   "outputs": [],
   "source": [
    "pic = train[0]"
   ]
  },
  {
   "cell_type": "code",
   "execution_count": 18,
   "metadata": {},
   "outputs": [
    {
     "name": "stderr",
     "output_type": "stream",
     "text": [
      "W0829 16:43:28.201241 4639438272 image.py:656] Clipping input data to the valid range for imshow with RGB data ([0..1] for floats or [0..255] for integers).\n"
     ]
    },
    {
     "data": {
      "image/png": "[encoded data removed]",
      "text/plain": [
       "<Figure size 432x288 with 1 Axes>"
      ]
     },
     "metadata": {
      "needs_background": "light"
     },
     "output_type": "display_data"
    }
   ],
   "source": [
    "plt.imshow(pic['pic']);"
   ]
  },
  {
   "cell_type": "code",
   "execution_count": 19,
   "metadata": {},
   "outputs": [
    {
     "data": {
      "text/plain": [
       "'architecture'"
      ]
     },
     "execution_count": 19,
     "metadata": {},
     "output_type": "execute_result"
    }
   ],
   "source": [
    "pic['hashtag']"
   ]
  },
  {
   "cell_type": "code",
   "execution_count": 20,
   "metadata": {},
   "outputs": [
    {
     "data": {
      "text/plain": [
       "(1280,)"
      ]
     },
     "execution_count": 20,
     "metadata": {},
     "output_type": "execute_result"
    }
   ],
   "source": [
    "pic['deep_features'].shape"
   ]
  },
  {
   "cell_type": "code",
   "execution_count": 21,
   "metadata": {},
   "outputs": [
    {
     "data": {
      "text/plain": [
       "TensorShape([160, 160, 3])"
      ]
     },
     "execution_count": 21,
     "metadata": {},
     "output_type": "execute_result"
    }
   ],
   "source": [
    "pic['pic'].shape"
   ]
  },
  {
   "cell_type": "code",
   "execution_count": 22,
   "metadata": {},
   "outputs": [],
   "source": [
    "df = pd.DataFrame(deep_features)"
   ]
  },
  {
   "cell_type": "code",
   "execution_count": 42,
   "metadata": {},
   "outputs": [
    {
     "data": {
      "text/html": [
       "<div>\n",
       "<style scoped>\n",
       "    .dataframe tbody tr th:only-of-type {\n",
       "        vertical-align: middle;\n",
       "    }\n",
       "\n",
       "    .dataframe tbody tr th {\n",
       "        vertical-align: top;\n",
       "    }\n",
       "\n",
       "    .dataframe thead th {\n",
       "        text-align: right;\n",
       "    }\n",
       "</style>\n",
       "<table border=\"1\" class=\"dataframe\">\n",
       "  <thead>\n",
       "    <tr style=\"text-align: right;\">\n",
       "      <th></th>\n",
       "      <th>deep_features</th>\n",
       "      <th>hashtag</th>\n",
       "      <th>name</th>\n",
       "      <th>pic</th>\n",
       "    </tr>\n",
       "  </thead>\n",
       "  <tbody>\n",
       "    <tr>\n",
       "      <th>0</th>\n",
       "      <td>[0.9293431, 0.1402303, 0.072359845, 0.0, 0.055...</td>\n",
       "      <td>architecture</td>\n",
       "      <td>c9ac3a4a-312c-41e9-9f57-3792ecd572bd.jpg</td>\n",
       "      <td>(((tf.Tensor(0.42352945, shape=(), dtype=float...</td>\n",
       "    </tr>\n",
       "    <tr>\n",
       "      <th>1</th>\n",
       "      <td>[0.03928654, 0.0, 0.0, 0.0, 0.004006176, 0.014...</td>\n",
       "      <td>babies</td>\n",
       "      <td>b3c53d46-1c6f-4a59-aa23-1227058757cf.jpg</td>\n",
       "      <td>(((tf.Tensor(-0.17058823, shape=(), dtype=floa...</td>\n",
       "    </tr>\n",
       "    <tr>\n",
       "      <th>2</th>\n",
       "      <td>[0.0, 0.34763816, 0.03274338, 0.041628875, 2.3...</td>\n",
       "      <td>architecture</td>\n",
       "      <td>4792c02b-97cf-44a9-a039-e544f45fabbc.jpg</td>\n",
       "      <td>(((tf.Tensor(-1.0, shape=(), dtype=float32), t...</td>\n",
       "    </tr>\n",
       "    <tr>\n",
       "      <th>3</th>\n",
       "      <td>[1.0387872, 0.0, 0.32377335, 1.1046413, 0.0282...</td>\n",
       "      <td>babies</td>\n",
       "      <td>e36ad2c2-5d2b-49d3-beb9-0dbac4bab00c.jpg</td>\n",
       "      <td>(((tf.Tensor(0.49803925, shape=(), dtype=float...</td>\n",
       "    </tr>\n",
       "    <tr>\n",
       "      <th>4</th>\n",
       "      <td>[0.0, 0.0, 0.0, 0.41445747, 0.116170846, 0.234...</td>\n",
       "      <td>food</td>\n",
       "      <td>cdc75bd4-46f9-4a37-ab9b-1a0a6333e68c.jpg</td>\n",
       "      <td>(((tf.Tensor(-0.20588234, shape=(), dtype=floa...</td>\n",
       "    </tr>\n",
       "  </tbody>\n",
       "</table>\n",
       "</div>"
      ],
      "text/plain": [
       "                                       deep_features       hashtag  \\\n",
       "0  [0.9293431, 0.1402303, 0.072359845, 0.0, 0.055...  architecture   \n",
       "1  [0.03928654, 0.0, 0.0, 0.0, 0.004006176, 0.014...        babies   \n",
       "2  [0.0, 0.34763816, 0.03274338, 0.041628875, 2.3...  architecture   \n",
       "3  [1.0387872, 0.0, 0.32377335, 1.1046413, 0.0282...        babies   \n",
       "4  [0.0, 0.0, 0.0, 0.41445747, 0.116170846, 0.234...          food   \n",
       "\n",
       "                                       name  \\\n",
       "0  c9ac3a4a-312c-41e9-9f57-3792ecd572bd.jpg   \n",
       "1  b3c53d46-1c6f-4a59-aa23-1227058757cf.jpg   \n",
       "2  4792c02b-97cf-44a9-a039-e544f45fabbc.jpg   \n",
       "3  e36ad2c2-5d2b-49d3-beb9-0dbac4bab00c.jpg   \n",
       "4  cdc75bd4-46f9-4a37-ab9b-1a0a6333e68c.jpg   \n",
       "\n",
       "                                                 pic  \n",
       "0  (((tf.Tensor(0.42352945, shape=(), dtype=float...  \n",
       "1  (((tf.Tensor(-0.17058823, shape=(), dtype=floa...  \n",
       "2  (((tf.Tensor(-1.0, shape=(), dtype=float32), t...  \n",
       "3  (((tf.Tensor(0.49803925, shape=(), dtype=float...  \n",
       "4  (((tf.Tensor(-0.20588234, shape=(), dtype=floa...  "
      ]
     },
     "execution_count": 42,
     "metadata": {},
     "output_type": "execute_result"
    }
   ],
   "source": [
    "df.head()"
   ]
  },
  {
   "cell_type": "code",
   "execution_count": 43,
   "metadata": {},
   "outputs": [],
   "source": [
    "filepath = \"pkl_files/df_deep_features.pkl\"\n",
    "if os.path.exists(filepath):\n",
    "    df.to_pickle(filepath)"
   ]
  },
  {
   "cell_type": "markdown",
   "metadata": {},
   "source": [
    "## ALS Model"
   ]
  },
  {
   "cell_type": "code",
   "execution_count": 25,
   "metadata": {},
   "outputs": [],
   "source": [
    "from pyspark.sql import SparkSession\n",
    "from pyspark.ml.evaluation import RegressionEvaluator\n",
    "from pyspark.ml.recommendation import ALS, ALSModel"
   ]
  },
  {
   "cell_type": "code",
   "execution_count": 26,
   "metadata": {},
   "outputs": [],
   "source": [
    "spark = SparkSession.builder.master('local').getOrCreate()"
   ]
  },
  {
   "cell_type": "code",
   "execution_count": 27,
   "metadata": {},
   "outputs": [],
   "source": [
    "# Train test split full_list. Not used in the model. Use code when necessary.\n",
    "from sklearn.model_selection import train_test_split\n",
    "\n",
    "train, test = train_test_split(full_list, test_size=0.2)"
   ]
  },
  {
   "cell_type": "code",
   "execution_count": 28,
   "metadata": {},
   "outputs": [
    {
     "data": {
      "text/html": [
       "<div>\n",
       "<style scoped>\n",
       "    .dataframe tbody tr th:only-of-type {\n",
       "        vertical-align: middle;\n",
       "    }\n",
       "\n",
       "    .dataframe tbody tr th {\n",
       "        vertical-align: top;\n",
       "    }\n",
       "\n",
       "    .dataframe thead th {\n",
       "        text-align: right;\n",
       "    }\n",
       "</style>\n",
       "<table border=\"1\" class=\"dataframe\">\n",
       "  <thead>\n",
       "    <tr style=\"text-align: right;\">\n",
       "      <th></th>\n",
       "      <th>hashtags</th>\n",
       "      <th>image</th>\n",
       "      <th>image_local_name</th>\n",
       "      <th>post_link</th>\n",
       "      <th>search_hashtag</th>\n",
       "    </tr>\n",
       "  </thead>\n",
       "  <tbody>\n",
       "    <tr>\n",
       "      <th>676</th>\n",
       "      <td>[#children, #travel, #danish, #copenhagen, #bo...</td>\n",
       "      <td>https://scontent-lga3-1.cdninstagram.com/vp/e4...</td>\n",
       "      <td>618476ae-3170-46ca-a5f3-6fe4995bec73.jpg</td>\n",
       "      <td>https://www.instagram.com/p/BwxR1fqAWq0/</td>\n",
       "      <td>travel</td>\n",
       "    </tr>\n",
       "    <tr>\n",
       "      <th>414</th>\n",
       "      <td>[#korean, #followforfollowback, #likeforlikes,...</td>\n",
       "      <td>https://scontent-sea1-1.cdninstagram.com/vp/b5...</td>\n",
       "      <td>82fbd090-7b47-496b-9aac-1a4313f4617e.jpg</td>\n",
       "      <td>https://www.instagram.com/p/B0hJdeKig9K/</td>\n",
       "      <td>selfie</td>\n",
       "    </tr>\n",
       "    <tr>\n",
       "      <th>1202</th>\n",
       "      <td>[babies]</td>\n",
       "      <td>NaN</td>\n",
       "      <td>8ece2ace-e7b5-426a-b38a-03a420d5a1f2.jpg</td>\n",
       "      <td>NaN</td>\n",
       "      <td>babies</td>\n",
       "    </tr>\n",
       "    <tr>\n",
       "      <th>868</th>\n",
       "      <td>[#photooftheday, #traveladdict, #naturephotogr...</td>\n",
       "      <td>https://scontent-lga3-1.cdninstagram.com/vp/d5...</td>\n",
       "      <td>d85d3376-3480-420a-8bc6-552b6dc136d1.jpg</td>\n",
       "      <td>https://www.instagram.com/p/By3OD-VHAml/</td>\n",
       "      <td>travel</td>\n",
       "    </tr>\n",
       "    <tr>\n",
       "      <th>1447</th>\n",
       "      <td>[babies]</td>\n",
       "      <td>NaN</td>\n",
       "      <td>91b02603-8267-47fa-acd8-af383f865ee9.jpg</td>\n",
       "      <td>NaN</td>\n",
       "      <td>babies</td>\n",
       "    </tr>\n",
       "  </tbody>\n",
       "</table>\n",
       "</div>"
      ],
      "text/plain": [
       "                                               hashtags  \\\n",
       "676   [#children, #travel, #danish, #copenhagen, #bo...   \n",
       "414   [#korean, #followforfollowback, #likeforlikes,...   \n",
       "1202                                           [babies]   \n",
       "868   [#photooftheday, #traveladdict, #naturephotogr...   \n",
       "1447                                           [babies]   \n",
       "\n",
       "                                                  image  \\\n",
       "676   https://scontent-lga3-1.cdninstagram.com/vp/e4...   \n",
       "414   https://scontent-sea1-1.cdninstagram.com/vp/b5...   \n",
       "1202                                                NaN   \n",
       "868   https://scontent-lga3-1.cdninstagram.com/vp/d5...   \n",
       "1447                                                NaN   \n",
       "\n",
       "                              image_local_name  \\\n",
       "676   618476ae-3170-46ca-a5f3-6fe4995bec73.jpg   \n",
       "414   82fbd090-7b47-496b-9aac-1a4313f4617e.jpg   \n",
       "1202  8ece2ace-e7b5-426a-b38a-03a420d5a1f2.jpg   \n",
       "868   d85d3376-3480-420a-8bc6-552b6dc136d1.jpg   \n",
       "1447  91b02603-8267-47fa-acd8-af383f865ee9.jpg   \n",
       "\n",
       "                                     post_link search_hashtag  \n",
       "676   https://www.instagram.com/p/BwxR1fqAWq0/         travel  \n",
       "414   https://www.instagram.com/p/B0hJdeKig9K/         selfie  \n",
       "1202                                       NaN         babies  \n",
       "868   https://www.instagram.com/p/By3OD-VHAml/         travel  \n",
       "1447                                       NaN         babies  "
      ]
     },
     "execution_count": 28,
     "metadata": {},
     "output_type": "execute_result"
    }
   ],
   "source": [
    "train.head()"
   ]
  },
  {
   "cell_type": "code",
   "execution_count": 29,
   "metadata": {},
   "outputs": [
    {
     "data": {
      "text/plain": [
       "2400"
      ]
     },
     "execution_count": 29,
     "metadata": {},
     "output_type": "execute_result"
    }
   ],
   "source": [
    "len(train)"
   ]
  },
  {
   "cell_type": "code",
   "execution_count": 30,
   "metadata": {},
   "outputs": [
    {
     "data": {
      "text/html": [
       "<div>\n",
       "<style scoped>\n",
       "    .dataframe tbody tr th:only-of-type {\n",
       "        vertical-align: middle;\n",
       "    }\n",
       "\n",
       "    .dataframe tbody tr th {\n",
       "        vertical-align: top;\n",
       "    }\n",
       "\n",
       "    .dataframe thead th {\n",
       "        text-align: right;\n",
       "    }\n",
       "</style>\n",
       "<table border=\"1\" class=\"dataframe\">\n",
       "  <thead>\n",
       "    <tr style=\"text-align: right;\">\n",
       "      <th></th>\n",
       "      <th>hashtags</th>\n",
       "      <th>image</th>\n",
       "      <th>image_local_name</th>\n",
       "      <th>post_link</th>\n",
       "      <th>search_hashtag</th>\n",
       "    </tr>\n",
       "  </thead>\n",
       "  <tbody>\n",
       "    <tr>\n",
       "      <th>0</th>\n",
       "      <td>[#herbalifeshake, #kilokontrol, #herbalife, #h...</td>\n",
       "      <td>https://scontent-mad1-1.cdninstagram.com/vp/bd...</td>\n",
       "      <td>ff07fa3f-0482-4757-926e-3e6229f7d0d7.jpg</td>\n",
       "      <td>https://www.instagram.com/p/B02xq0AFpe9/</td>\n",
       "      <td>fitness</td>\n",
       "    </tr>\n",
       "    <tr>\n",
       "      <th>1</th>\n",
       "      <td>[]</td>\n",
       "      <td>https://scontent-mad1-1.cdninstagram.com/vp/b9...</td>\n",
       "      <td>7cff7c70-b983-4c6b-adee-fc5676acddf3.jpg</td>\n",
       "      <td>https://www.instagram.com/p/B02sMkwJnny/</td>\n",
       "      <td>fitness</td>\n",
       "    </tr>\n",
       "    <tr>\n",
       "      <th>2</th>\n",
       "      <td>[#bollywood, #indian, #art, #love, #india, #gi...</td>\n",
       "      <td>https://scontent-mad1-1.cdninstagram.com/vp/2b...</td>\n",
       "      <td>b7de6dac-4294-45d5-aac0-8a749b7e4cc5.jpg</td>\n",
       "      <td>https://www.instagram.com/p/B02zfuaDfP4/</td>\n",
       "      <td>fitness</td>\n",
       "    </tr>\n",
       "    <tr>\n",
       "      <th>3</th>\n",
       "      <td>[#popxodaily, #personalblog, #loveforblack, #l...</td>\n",
       "      <td>https://scontent-mad1-1.cdninstagram.com/vp/34...</td>\n",
       "      <td>f699faef-b071-46f2-bf5c-fd9f1ff7626a.jpg</td>\n",
       "      <td>https://www.instagram.com/p/B02yOH3nfzB/</td>\n",
       "      <td>fitness</td>\n",
       "    </tr>\n",
       "    <tr>\n",
       "      <th>4</th>\n",
       "      <td>[]</td>\n",
       "      <td>https://scontent-mad1-1.cdninstagram.com/vp/31...</td>\n",
       "      <td>7f25fd41-5f1b-4181-8128-4f7464f4c2ad.jpg</td>\n",
       "      <td>https://www.instagram.com/p/B02rDHDF28T/</td>\n",
       "      <td>fitness</td>\n",
       "    </tr>\n",
       "  </tbody>\n",
       "</table>\n",
       "</div>"
      ],
      "text/plain": [
       "                                            hashtags  \\\n",
       "0  [#herbalifeshake, #kilokontrol, #herbalife, #h...   \n",
       "1                                                 []   \n",
       "2  [#bollywood, #indian, #art, #love, #india, #gi...   \n",
       "3  [#popxodaily, #personalblog, #loveforblack, #l...   \n",
       "4                                                 []   \n",
       "\n",
       "                                               image  \\\n",
       "0  https://scontent-mad1-1.cdninstagram.com/vp/bd...   \n",
       "1  https://scontent-mad1-1.cdninstagram.com/vp/b9...   \n",
       "2  https://scontent-mad1-1.cdninstagram.com/vp/2b...   \n",
       "3  https://scontent-mad1-1.cdninstagram.com/vp/34...   \n",
       "4  https://scontent-mad1-1.cdninstagram.com/vp/31...   \n",
       "\n",
       "                           image_local_name  \\\n",
       "0  ff07fa3f-0482-4757-926e-3e6229f7d0d7.jpg   \n",
       "1  7cff7c70-b983-4c6b-adee-fc5676acddf3.jpg   \n",
       "2  b7de6dac-4294-45d5-aac0-8a749b7e4cc5.jpg   \n",
       "3  f699faef-b071-46f2-bf5c-fd9f1ff7626a.jpg   \n",
       "4  7f25fd41-5f1b-4181-8128-4f7464f4c2ad.jpg   \n",
       "\n",
       "                                  post_link search_hashtag  \n",
       "0  https://www.instagram.com/p/B02xq0AFpe9/        fitness  \n",
       "1  https://www.instagram.com/p/B02sMkwJnny/        fitness  \n",
       "2  https://www.instagram.com/p/B02zfuaDfP4/        fitness  \n",
       "3  https://www.instagram.com/p/B02yOH3nfzB/        fitness  \n",
       "4  https://www.instagram.com/p/B02rDHDF28T/        fitness  "
      ]
     },
     "execution_count": 30,
     "metadata": {},
     "output_type": "execute_result"
    }
   ],
   "source": [
    "full_list.head()"
   ]
  },
  {
   "cell_type": "code",
   "execution_count": 31,
   "metadata": {},
   "outputs": [],
   "source": [
    "\n",
    "full_list['clean_hashtags'] = full_list['hashtags'].apply(\n",
    "    lambda hashtag_list: [h for h in hashtag_list if h.startswith('#')])"
   ]
  },
  {
   "cell_type": "code",
   "execution_count": 32,
   "metadata": {
    "scrolled": true
   },
   "outputs": [
    {
     "data": {
      "text/html": [
       "<div>\n",
       "<style scoped>\n",
       "    .dataframe tbody tr th:only-of-type {\n",
       "        vertical-align: middle;\n",
       "    }\n",
       "\n",
       "    .dataframe tbody tr th {\n",
       "        vertical-align: top;\n",
       "    }\n",
       "\n",
       "    .dataframe thead th {\n",
       "        text-align: right;\n",
       "    }\n",
       "</style>\n",
       "<table border=\"1\" class=\"dataframe\">\n",
       "  <thead>\n",
       "    <tr style=\"text-align: right;\">\n",
       "      <th></th>\n",
       "      <th>hashtags</th>\n",
       "      <th>image</th>\n",
       "      <th>image_local_name</th>\n",
       "      <th>post_link</th>\n",
       "      <th>search_hashtag</th>\n",
       "      <th>clean_hashtags</th>\n",
       "    </tr>\n",
       "  </thead>\n",
       "  <tbody>\n",
       "    <tr>\n",
       "      <th>0</th>\n",
       "      <td>[#herbalifeshake, #kilokontrol, #herbalife, #h...</td>\n",
       "      <td>https://scontent-mad1-1.cdninstagram.com/vp/bd...</td>\n",
       "      <td>ff07fa3f-0482-4757-926e-3e6229f7d0d7.jpg</td>\n",
       "      <td>https://www.instagram.com/p/B02xq0AFpe9/</td>\n",
       "      <td>fitness</td>\n",
       "      <td>[#herbalifeshake, #kilokontrol, #herbalife, #h...</td>\n",
       "    </tr>\n",
       "    <tr>\n",
       "      <th>1</th>\n",
       "      <td>[]</td>\n",
       "      <td>https://scontent-mad1-1.cdninstagram.com/vp/b9...</td>\n",
       "      <td>7cff7c70-b983-4c6b-adee-fc5676acddf3.jpg</td>\n",
       "      <td>https://www.instagram.com/p/B02sMkwJnny/</td>\n",
       "      <td>fitness</td>\n",
       "      <td>[]</td>\n",
       "    </tr>\n",
       "    <tr>\n",
       "      <th>2</th>\n",
       "      <td>[#bollywood, #indian, #art, #love, #india, #gi...</td>\n",
       "      <td>https://scontent-mad1-1.cdninstagram.com/vp/2b...</td>\n",
       "      <td>b7de6dac-4294-45d5-aac0-8a749b7e4cc5.jpg</td>\n",
       "      <td>https://www.instagram.com/p/B02zfuaDfP4/</td>\n",
       "      <td>fitness</td>\n",
       "      <td>[#bollywood, #indian, #art, #love, #india, #gi...</td>\n",
       "    </tr>\n",
       "    <tr>\n",
       "      <th>3</th>\n",
       "      <td>[#popxodaily, #personalblog, #loveforblack, #l...</td>\n",
       "      <td>https://scontent-mad1-1.cdninstagram.com/vp/34...</td>\n",
       "      <td>f699faef-b071-46f2-bf5c-fd9f1ff7626a.jpg</td>\n",
       "      <td>https://www.instagram.com/p/B02yOH3nfzB/</td>\n",
       "      <td>fitness</td>\n",
       "      <td>[#popxodaily, #personalblog, #loveforblack, #l...</td>\n",
       "    </tr>\n",
       "    <tr>\n",
       "      <th>4</th>\n",
       "      <td>[]</td>\n",
       "      <td>https://scontent-mad1-1.cdninstagram.com/vp/31...</td>\n",
       "      <td>7f25fd41-5f1b-4181-8128-4f7464f4c2ad.jpg</td>\n",
       "      <td>https://www.instagram.com/p/B02rDHDF28T/</td>\n",
       "      <td>fitness</td>\n",
       "      <td>[]</td>\n",
       "    </tr>\n",
       "  </tbody>\n",
       "</table>\n",
       "</div>"
      ],
      "text/plain": [
       "                                            hashtags  \\\n",
       "0  [#herbalifeshake, #kilokontrol, #herbalife, #h...   \n",
       "1                                                 []   \n",
       "2  [#bollywood, #indian, #art, #love, #india, #gi...   \n",
       "3  [#popxodaily, #personalblog, #loveforblack, #l...   \n",
       "4                                                 []   \n",
       "\n",
       "                                               image  \\\n",
       "0  https://scontent-mad1-1.cdninstagram.com/vp/bd...   \n",
       "1  https://scontent-mad1-1.cdninstagram.com/vp/b9...   \n",
       "2  https://scontent-mad1-1.cdninstagram.com/vp/2b...   \n",
       "3  https://scontent-mad1-1.cdninstagram.com/vp/34...   \n",
       "4  https://scontent-mad1-1.cdninstagram.com/vp/31...   \n",
       "\n",
       "                           image_local_name  \\\n",
       "0  ff07fa3f-0482-4757-926e-3e6229f7d0d7.jpg   \n",
       "1  7cff7c70-b983-4c6b-adee-fc5676acddf3.jpg   \n",
       "2  b7de6dac-4294-45d5-aac0-8a749b7e4cc5.jpg   \n",
       "3  f699faef-b071-46f2-bf5c-fd9f1ff7626a.jpg   \n",
       "4  7f25fd41-5f1b-4181-8128-4f7464f4c2ad.jpg   \n",
       "\n",
       "                                  post_link search_hashtag  \\\n",
       "0  https://www.instagram.com/p/B02xq0AFpe9/        fitness   \n",
       "1  https://www.instagram.com/p/B02sMkwJnny/        fitness   \n",
       "2  https://www.instagram.com/p/B02zfuaDfP4/        fitness   \n",
       "3  https://www.instagram.com/p/B02yOH3nfzB/        fitness   \n",
       "4  https://www.instagram.com/p/B02rDHDF28T/        fitness   \n",
       "\n",
       "                                      clean_hashtags  \n",
       "0  [#herbalifeshake, #kilokontrol, #herbalife, #h...  \n",
       "1                                                 []  \n",
       "2  [#bollywood, #indian, #art, #love, #india, #gi...  \n",
       "3  [#popxodaily, #personalblog, #loveforblack, #l...  \n",
       "4                                                 []  "
      ]
     },
     "execution_count": 32,
     "metadata": {},
     "output_type": "execute_result"
    }
   ],
   "source": [
    "full_list.head()"
   ]
  },
  {
   "cell_type": "code",
   "execution_count": 33,
   "metadata": {},
   "outputs": [],
   "source": [
    "image_lookup = dict(zip(full_list['image_local_name'], full_list.index))"
   ]
  },
  {
   "cell_type": "code",
   "execution_count": 34,
   "metadata": {},
   "outputs": [],
   "source": [
    "all_hashtags = set()\n",
    "for tags in full_list['clean_hashtags']:\n",
    "    all_hashtags.update(tags)\n",
    "hashtag_lookup = {hashtag: i for i, hashtag in enumerate(all_hashtags)}"
   ]
  },
  {
   "cell_type": "code",
   "execution_count": 35,
   "metadata": {},
   "outputs": [],
   "source": [
    "hashtag_data = []\n",
    "for i in full_list.index:\n",
    "    hashtags = full_list.loc[i, 'clean_hashtags']\n",
    "    for hashtag in hashtags:\n",
    "        hashtag_data.append(\n",
    "            {'image_id': i,\n",
    "             'hashtag_id': hashtag_lookup[hashtag],\n",
    "             'rating': 1}\n",
    "        )\n",
    "hashtag_df_long = pd.DataFrame(hashtag_data)"
   ]
  },
  {
   "cell_type": "code",
   "execution_count": 36,
   "metadata": {},
   "outputs": [
    {
     "data": {
      "text/html": [
       "<div>\n",
       "<style scoped>\n",
       "    .dataframe tbody tr th:only-of-type {\n",
       "        vertical-align: middle;\n",
       "    }\n",
       "\n",
       "    .dataframe tbody tr th {\n",
       "        vertical-align: top;\n",
       "    }\n",
       "\n",
       "    .dataframe thead th {\n",
       "        text-align: right;\n",
       "    }\n",
       "</style>\n",
       "<table border=\"1\" class=\"dataframe\">\n",
       "  <thead>\n",
       "    <tr style=\"text-align: right;\">\n",
       "      <th></th>\n",
       "      <th>hashtag_id</th>\n",
       "      <th>image_id</th>\n",
       "      <th>rating</th>\n",
       "    </tr>\n",
       "  </thead>\n",
       "  <tbody>\n",
       "    <tr>\n",
       "      <th>47467</th>\n",
       "      <td>2667</td>\n",
       "      <td>2999</td>\n",
       "      <td>1</td>\n",
       "    </tr>\n",
       "    <tr>\n",
       "      <th>47468</th>\n",
       "      <td>13616</td>\n",
       "      <td>2999</td>\n",
       "      <td>1</td>\n",
       "    </tr>\n",
       "    <tr>\n",
       "      <th>47469</th>\n",
       "      <td>5776</td>\n",
       "      <td>2999</td>\n",
       "      <td>1</td>\n",
       "    </tr>\n",
       "    <tr>\n",
       "      <th>47470</th>\n",
       "      <td>999</td>\n",
       "      <td>2999</td>\n",
       "      <td>1</td>\n",
       "    </tr>\n",
       "    <tr>\n",
       "      <th>47471</th>\n",
       "      <td>8766</td>\n",
       "      <td>2999</td>\n",
       "      <td>1</td>\n",
       "    </tr>\n",
       "  </tbody>\n",
       "</table>\n",
       "</div>"
      ],
      "text/plain": [
       "       hashtag_id  image_id  rating\n",
       "47467        2667      2999       1\n",
       "47468       13616      2999       1\n",
       "47469        5776      2999       1\n",
       "47470         999      2999       1\n",
       "47471        8766      2999       1"
      ]
     },
     "execution_count": 36,
     "metadata": {},
     "output_type": "execute_result"
    }
   ],
   "source": [
    "hashtag_df_long.tail()"
   ]
  },
  {
   "cell_type": "code",
   "execution_count": 37,
   "metadata": {
    "scrolled": true
   },
   "outputs": [
    {
     "data": {
      "text/plain": [
       "hashtags            object\n",
       "image               object\n",
       "image_local_name    object\n",
       "post_link           object\n",
       "search_hashtag      object\n",
       "clean_hashtags      object\n",
       "dtype: object"
      ]
     },
     "execution_count": 37,
     "metadata": {},
     "output_type": "execute_result"
    }
   ],
   "source": [
    "full_list.dtypes"
   ]
  },
  {
   "cell_type": "code",
   "execution_count": 38,
   "metadata": {},
   "outputs": [],
   "source": [
    "als = ALS(userCol='image_id',\n",
    "          itemCol='hashtag_id',\n",
    "          implicitPrefs=True,\n",
    "          alpha=40)"
   ]
  },
  {
   "cell_type": "code",
   "execution_count": 39,
   "metadata": {},
   "outputs": [],
   "source": [
    "hashtag_spark_df = spark.createDataFrame(hashtag_df_long)"
   ]
  },
  {
   "cell_type": "code",
   "execution_count": 40,
   "metadata": {},
   "outputs": [],
   "source": [
    "als_model = als.fit(hashtag_spark_df)"
   ]
  },
  {
   "cell_type": "code",
   "execution_count": 44,
   "metadata": {},
   "outputs": [],
   "source": [
    "als_model.write().overwrite().save('als')"
   ]
  },
  {
   "cell_type": "code",
   "execution_count": null,
   "metadata": {},
   "outputs": [],
   "source": [
    "#load the model\n",
    "#ALSModel model = ALSModel.load(“/path/to/read/the/model/from”)"
   ]
  },
  {
   "cell_type": "code",
   "execution_count": null,
   "metadata": {},
   "outputs": [],
   "source": [
    "recs = als_model.recommendForAllUsers(numItems=10).toPandas()"
   ]
  },
  {
   "cell_type": "code",
   "execution_count": null,
   "metadata": {},
   "outputs": [],
   "source": [
    "len(recs)"
   ]
  },
  {
   "cell_type": "code",
   "execution_count": null,
   "metadata": {},
   "outputs": [],
   "source": [
    "hashtag_index = list(all_hashtags)"
   ]
  },
  {
   "cell_type": "code",
   "execution_count": null,
   "metadata": {},
   "outputs": [],
   "source": [
    "def lookup_hashtag(hashtag_id):\n",
    "    return hashtag_index[hashtag_id]"
   ]
  },
  {
   "cell_type": "code",
   "execution_count": null,
   "metadata": {},
   "outputs": [],
   "source": [
    "def lookup_hashtag_recs(rec_scores):\n",
    "    return [lookup_hashtag(rec) for (rec, score) in rec_scores]"
   ]
  },
  {
   "cell_type": "code",
   "execution_count": null,
   "metadata": {},
   "outputs": [],
   "source": [
    "recs['recommended_hashtags'] = recs['recommendations'].apply(lookup_hashtag_recs)"
   ]
  },
  {
   "cell_type": "code",
   "execution_count": null,
   "metadata": {},
   "outputs": [],
   "source": [
    "recs.index = recs['image_id']"
   ]
  },
  {
   "cell_type": "code",
   "execution_count": null,
   "metadata": {},
   "outputs": [],
   "source": [
    "compare_recs = recs.join(full_list, how='left')[['recommendations',\n",
    "                                                 'recommended_hashtags',\n",
    "                                                 'hashtags',\n",
    "                                                 'image_local_name',\n",
    "                                                 'search_hashtag']]"
   ]
  },
  {
   "cell_type": "code",
   "execution_count": null,
   "metadata": {},
   "outputs": [],
   "source": [
    "compare_recs.loc[0, 'image_local_name']"
   ]
  },
  {
   "cell_type": "code",
   "execution_count": null,
   "metadata": {},
   "outputs": [],
   "source": [
    "compare_recs.to_pickle('pkl_files/recs.pkl')"
   ]
  },
  {
   "cell_type": "code",
   "execution_count": null,
   "metadata": {},
   "outputs": [],
   "source": [
    "compare_recs.drop('recommendations', axis=1)"
   ]
  },
  {
   "cell_type": "code",
   "execution_count": null,
   "metadata": {},
   "outputs": [],
   "source": [
    "image_factors = als_model.userFactors.toPandas()"
   ]
  },
  {
   "cell_type": "code",
   "execution_count": null,
   "metadata": {},
   "outputs": [],
   "source": [
    "image_factors.index = image_factors['id']"
   ]
  },
  {
   "cell_type": "code",
   "execution_count": null,
   "metadata": {},
   "outputs": [],
   "source": [
    "compare_recs.join(image_factors)"
   ]
  },
  {
   "cell_type": "markdown",
   "metadata": {},
   "source": [
    "### Pickle hashtag data"
   ]
  },
  {
   "cell_type": "code",
   "execution_count": null,
   "metadata": {},
   "outputs": [],
   "source": [
    "hashtag_lookup"
   ]
  },
  {
   "cell_type": "code",
   "execution_count": null,
   "metadata": {},
   "outputs": [],
   "source": [
    "hashtags_df = pd.DataFrame.from_dict(hashtag_lookup, orient='index')\n",
    "hashtags_df.head()"
   ]
  },
  {
   "cell_type": "code",
   "execution_count": null,
   "metadata": {},
   "outputs": [],
   "source": [
    "hashtags_df = hashtags_df.reset_index()\n",
    "hashtags_df.columns = ['hashtag', 'id']"
   ]
  },
  {
   "cell_type": "code",
   "execution_count": null,
   "metadata": {},
   "outputs": [],
   "source": [
    "hashtags_df.index = hashtags_df['id']"
   ]
  },
  {
   "cell_type": "code",
   "execution_count": null,
   "metadata": {},
   "outputs": [],
   "source": [
    "hashtags_df = hashtags_df.drop('id', axis=1)"
   ]
  },
  {
   "cell_type": "code",
   "execution_count": null,
   "metadata": {},
   "outputs": [],
   "source": [
    "hashtags_df.head()"
   ]
  },
  {
   "cell_type": "code",
   "execution_count": null,
   "metadata": {},
   "outputs": [],
   "source": [
    "hashtags_df.to_pickle(\"pkl_files/hashtags_df.pkl\")"
   ]
  }
 ],
 "metadata": {
  "kernelspec": {
   "display_name": "Python 3",
   "language": "python",
   "name": "python3"
  },
  "language_info": {
   "codemirror_mode": {
    "name": "ipython",
    "version": 3
   },
   "file_extension": ".py",
   "mimetype": "text/x-python",
   "name": "python",
   "nbconvert_exporter": "python",
   "pygments_lexer": "ipython3",
   "version": "3.7.1"
  }
 },
 "nbformat": 4,
 "nbformat_minor": 2
}
