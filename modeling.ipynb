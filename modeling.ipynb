{
 "cells": [
  {
   "cell_type": "markdown",
   "metadata": {},
   "source": [
    "# Building our models: ALS recommender + Deep Neural Network\n",
    "\n",
    "### In this notebook we build and test our models: an ALS recommendation system for generating additional hashtags, and a deep neural network for classifying new images to solve the cold start problem. \n",
    "\n",
    "### If you wish to reproduce the training steps taken here, you will of course need the dataset. Sadly the 3,000 pictures we used exceed Git's file storage allowances, so you will need to scrape your own images (and of course their associated hashtags). Please refer to scraping.ipynb which features a fully automated pipeline for doing this. "
   ]
  },
  {
   "cell_type": "code",
   "execution_count": 1,
   "metadata": {},
   "outputs": [],
   "source": [
    "# TensorFlow 2.0.0 is required for this code to work.\n",
    "# Uncomment and run the following line to install the CPU version.\n",
    "# !pip install tensorflow==2.0.0-beta0 --ignore-installed"
   ]
  },
  {
   "cell_type": "code",
   "execution_count": 2,
   "metadata": {},
   "outputs": [],
   "source": [
    "%load_ext autoreload\n",
    "%autoreload 2"
   ]
  },
  {
   "cell_type": "markdown",
   "metadata": {},
   "source": [
    "### Import necessary modules:"
   ]
  },
  {
   "cell_type": "code",
   "execution_count": 3,
   "metadata": {},
   "outputs": [],
   "source": [
    "import numpy as np\n",
    "import pandas as pd\n",
    "import matplotlib.pyplot as plt\n",
    "%matplotlib inline\n",
    "import tensorflow as tf\n",
    "from tensorflow.keras.applications import MobileNetV2\n",
    "from pyspark.sql import SparkSession\n",
    "from pyspark.ml.evaluation import RegressionEvaluator\n",
    "from pyspark.ml.recommendation import ALS, ALSModel\n",
    "from sklearn.model_selection import train_test_split\n",
    "from functools import reduce\n",
    "from functions import prepare_image, extract_features, extract_features_for_one_image\n",
    "import os\n",
    "from tqdm import tqdm\n",
    "# from PIL import Image\n",
    "from scipy.spatial.distance import cosine\n",
    "np.random.seed(0)"
   ]
  },
  {
   "cell_type": "markdown",
   "metadata": {},
   "source": [
    "### Get a list of all hashtags"
   ]
  },
  {
   "cell_type": "code",
   "execution_count": 4,
   "metadata": {},
   "outputs": [
    {
     "data": {
      "text/plain": [
       "['fitness',\n",
       " 'selfie',\n",
       " 'travel',\n",
       " 'nature',\n",
       " 'babies',\n",
       " 'cars',\n",
       " 'food',\n",
       " 'architecture',\n",
       " 'animals',\n",
       " 'wedding']"
      ]
     },
     "execution_count": 4,
     "metadata": {},
     "output_type": "execute_result"
    }
   ],
   "source": [
    "json_file_names = os.listdir('metadata')\n",
    "# Remove the 5 char .json file ending to isolate hashtag name\n",
    "hashtags = [hashtag[:-5] for hashtag in json_file_names]\n",
    "\n",
    "# remove '.DS_', '.ipynb_checkp'\n",
    "non_hashtags = ['.DS_', '.ipynb_checkp']\n",
    "for non_hashtag in non_hashtags:\n",
    "    try:\n",
    "        hashtags.remove(non_hashtag)\n",
    "    except:\n",
    "        pass # If we can't remove it, it's already gone\n",
    "    \n",
    "hashtags"
   ]
  },
  {
   "cell_type": "code",
   "execution_count": 5,
   "metadata": {},
   "outputs": [
    {
     "data": {
      "text/html": [
       "<div>\n",
       "<style scoped>\n",
       "    .dataframe tbody tr th:only-of-type {\n",
       "        vertical-align: middle;\n",
       "    }\n",
       "\n",
       "    .dataframe tbody tr th {\n",
       "        vertical-align: top;\n",
       "    }\n",
       "\n",
       "    .dataframe thead th {\n",
       "        text-align: right;\n",
       "    }\n",
       "</style>\n",
       "<table border=\"1\" class=\"dataframe\">\n",
       "  <thead>\n",
       "    <tr style=\"text-align: right;\">\n",
       "      <th></th>\n",
       "      <th>hashtags</th>\n",
       "      <th>image</th>\n",
       "      <th>image_local_name</th>\n",
       "      <th>post_link</th>\n",
       "      <th>search_hashtag</th>\n",
       "    </tr>\n",
       "  </thead>\n",
       "  <tbody>\n",
       "    <tr>\n",
       "      <th>2995</th>\n",
       "      <td>[#Wedding, #ido, #ianandwendytietheknot, #wedd...</td>\n",
       "      <td>https://scontent-sea1-1.cdninstagram.com/vp/29...</td>\n",
       "      <td>905a1d9c-b29d-44c7-ab5c-408c0b5d91ac.jpg</td>\n",
       "      <td>https://www.instagram.com/p/B0dcq0FBPQ3/</td>\n",
       "      <td>wedding</td>\n",
       "    </tr>\n",
       "    <tr>\n",
       "      <th>2996</th>\n",
       "      <td>[#wedding, #mariages, #celebrantecuritiba, #ce...</td>\n",
       "      <td>https://scontent-sea1-1.cdninstagram.com/vp/bb...</td>\n",
       "      <td>6e424f02-d10e-42db-a233-9ce2724fb8a9.jpg</td>\n",
       "      <td>https://www.instagram.com/p/BwXbu7MgCTZ/</td>\n",
       "      <td>wedding</td>\n",
       "    </tr>\n",
       "    <tr>\n",
       "      <th>2997</th>\n",
       "      <td>[#weddingring, #wedding, #shoes, #nancy, #sigm...</td>\n",
       "      <td>https://scontent-sea1-1.cdninstagram.com/vp/25...</td>\n",
       "      <td>ae49d2bb-95f7-4d16-9ee5-1603e97e6dd8.jpg</td>\n",
       "      <td>https://www.instagram.com/p/B0gwuc2icKv/</td>\n",
       "      <td>wedding</td>\n",
       "    </tr>\n",
       "    <tr>\n",
       "      <th>2998</th>\n",
       "      <td>[#wedding, #standesamtgoetheallee, #retroweddi...</td>\n",
       "      <td>https://scontent-sea1-1.cdninstagram.com/vp/21...</td>\n",
       "      <td>9152a6d4-abda-4adf-87a4-7988dc4bb3ac.jpg</td>\n",
       "      <td>https://www.instagram.com/p/B0gwufzImAz/</td>\n",
       "      <td>wedding</td>\n",
       "    </tr>\n",
       "    <tr>\n",
       "      <th>2999</th>\n",
       "      <td>[#kinalik, #gelinlik, #bursad, #wedding, #dama...</td>\n",
       "      <td>https://scontent-sea1-1.cdninstagram.com/vp/15...</td>\n",
       "      <td>09aaa471-2ed6-4ead-84db-e4aa6b0ece8f.jpg</td>\n",
       "      <td>https://www.instagram.com/p/B0gwubDhu6M/</td>\n",
       "      <td>wedding</td>\n",
       "    </tr>\n",
       "  </tbody>\n",
       "</table>\n",
       "</div>"
      ],
      "text/plain": [
       "                                               hashtags  \\\n",
       "2995  [#Wedding, #ido, #ianandwendytietheknot, #wedd...   \n",
       "2996  [#wedding, #mariages, #celebrantecuritiba, #ce...   \n",
       "2997  [#weddingring, #wedding, #shoes, #nancy, #sigm...   \n",
       "2998  [#wedding, #standesamtgoetheallee, #retroweddi...   \n",
       "2999  [#kinalik, #gelinlik, #bursad, #wedding, #dama...   \n",
       "\n",
       "                                                  image  \\\n",
       "2995  https://scontent-sea1-1.cdninstagram.com/vp/29...   \n",
       "2996  https://scontent-sea1-1.cdninstagram.com/vp/bb...   \n",
       "2997  https://scontent-sea1-1.cdninstagram.com/vp/25...   \n",
       "2998  https://scontent-sea1-1.cdninstagram.com/vp/21...   \n",
       "2999  https://scontent-sea1-1.cdninstagram.com/vp/15...   \n",
       "\n",
       "                              image_local_name  \\\n",
       "2995  905a1d9c-b29d-44c7-ab5c-408c0b5d91ac.jpg   \n",
       "2996  6e424f02-d10e-42db-a233-9ce2724fb8a9.jpg   \n",
       "2997  ae49d2bb-95f7-4d16-9ee5-1603e97e6dd8.jpg   \n",
       "2998  9152a6d4-abda-4adf-87a4-7988dc4bb3ac.jpg   \n",
       "2999  09aaa471-2ed6-4ead-84db-e4aa6b0ece8f.jpg   \n",
       "\n",
       "                                     post_link search_hashtag  \n",
       "2995  https://www.instagram.com/p/B0dcq0FBPQ3/        wedding  \n",
       "2996  https://www.instagram.com/p/BwXbu7MgCTZ/        wedding  \n",
       "2997  https://www.instagram.com/p/B0gwuc2icKv/        wedding  \n",
       "2998  https://www.instagram.com/p/B0gwufzImAz/        wedding  \n",
       "2999  https://www.instagram.com/p/B0gwubDhu6M/        wedding  "
      ]
     },
     "execution_count": 5,
     "metadata": {},
     "output_type": "execute_result"
    }
   ],
   "source": [
    "# Build a dataframe of hashtag metadata\n",
    "hashtag_metadata = []\n",
    "for hashtag in hashtags: \n",
    "    hashtag_metadata.append(pd.read_json(f'metadata/{hashtag}.json'))\n",
    "hashtag_metadata = reduce(lambda x, y: pd.concat([x, y]), hashtag_metadata)\n",
    "pd.DataFrame.reset_index(hashtag_metadata, drop=True, inplace=True)\n",
    "hashtag\n",
    "hashtag_metadata.tail()"
   ]
  },
  {
   "cell_type": "code",
   "execution_count": 6,
   "metadata": {},
   "outputs": [],
   "source": [
    "# Remove non-hashtags from hashtag list. \n",
    "hashtag_metadata['hashtags'] = hashtag_metadata['hashtags'].apply(\n",
    "    lambda hashtag_list: [h for h in hashtag_list if h.startswith('#')])\n",
    "\n",
    "# Create a flattened list of all hashtags\n",
    "all_hashtags = [hashtag for hashtags in hashtag_metadata['hashtags'] for hashtag in hashtags]\n",
    "\n",
    "# Coerce to a set to remove duplicate entries\n",
    "# Sort to ensure reproducibility of results\n",
    "all_hashtags = sorted(list(set(all_hashtags)))\n",
    "\n",
    "# Build lookup for finding hashtag number based on hashtag name\n",
    "hashtag_lookup = {hashtag: i for i, hashtag in enumerate(all_hashtags)}"
   ]
  },
  {
   "cell_type": "code",
   "execution_count": 7,
   "metadata": {},
   "outputs": [
    {
     "data": {
      "text/html": [
       "<div>\n",
       "<style scoped>\n",
       "    .dataframe tbody tr th:only-of-type {\n",
       "        vertical-align: middle;\n",
       "    }\n",
       "\n",
       "    .dataframe tbody tr th {\n",
       "        vertical-align: top;\n",
       "    }\n",
       "\n",
       "    .dataframe thead th {\n",
       "        text-align: right;\n",
       "    }\n",
       "</style>\n",
       "<table border=\"1\" class=\"dataframe\">\n",
       "  <thead>\n",
       "    <tr style=\"text-align: right;\">\n",
       "      <th></th>\n",
       "      <th>hashtag_id</th>\n",
       "      <th>image_id</th>\n",
       "      <th>rating</th>\n",
       "    </tr>\n",
       "  </thead>\n",
       "  <tbody>\n",
       "    <tr>\n",
       "      <th>47467</th>\n",
       "      <td>3531</td>\n",
       "      <td>2999</td>\n",
       "      <td>1</td>\n",
       "    </tr>\n",
       "    <tr>\n",
       "      <th>47468</th>\n",
       "      <td>2321</td>\n",
       "      <td>2999</td>\n",
       "      <td>1</td>\n",
       "    </tr>\n",
       "    <tr>\n",
       "      <th>47469</th>\n",
       "      <td>8883</td>\n",
       "      <td>2999</td>\n",
       "      <td>1</td>\n",
       "    </tr>\n",
       "    <tr>\n",
       "      <th>47470</th>\n",
       "      <td>15048</td>\n",
       "      <td>2999</td>\n",
       "      <td>1</td>\n",
       "    </tr>\n",
       "    <tr>\n",
       "      <th>47471</th>\n",
       "      <td>1313</td>\n",
       "      <td>2999</td>\n",
       "      <td>1</td>\n",
       "    </tr>\n",
       "  </tbody>\n",
       "</table>\n",
       "</div>"
      ],
      "text/plain": [
       "       hashtag_id  image_id  rating\n",
       "47467        3531      2999       1\n",
       "47468        2321      2999       1\n",
       "47469        8883      2999       1\n",
       "47470       15048      2999       1\n",
       "47471        1313      2999       1"
      ]
     },
     "execution_count": 7,
     "metadata": {},
     "output_type": "execute_result"
    }
   ],
   "source": [
    "hashtag_rec_data = []\n",
    "for i in hashtag_metadata.index:\n",
    "    hashtag_list = hashtag_metadata.loc[i, 'hashtags']\n",
    "    for hashtag in hashtag_list:\n",
    "        hashtag_rec_data.append(\n",
    "            {'image_id': i,\n",
    "             'hashtag_id': hashtag_lookup[hashtag],\n",
    "             'rating': 1}\n",
    "        )\n",
    "hashtag_rec_data = pd.DataFrame(hashtag_rec_data)\n",
    "hashtag_rec_data.tail()"
   ]
  },
  {
   "cell_type": "markdown",
   "metadata": {},
   "source": [
    "# Creating our Neural Network"
   ]
  },
  {
   "cell_type": "code",
   "execution_count": 8,
   "metadata": {},
   "outputs": [],
   "source": [
    "img_shape = (160, 160, 3)\n",
    "\n",
    "# Create the base model from the pre-trained model MobileNet V2\n",
    "base_model = MobileNetV2(input_shape=img_shape, include_top=False, weights='imagenet')\n",
    "\n",
    "global_average_layer = tf.keras.layers.GlobalAveragePooling2D()\n",
    "\n",
    "neural_network = tf.keras.Sequential([\n",
    "  base_model,\n",
    "  global_average_layer,\n",
    "])"
   ]
  },
  {
   "cell_type": "markdown",
   "metadata": {},
   "source": [
    "## Data preparation\n",
    "\n",
    "### Neural networks require very specifically and consistently formatted image data. In the code cell below we build a list of dictionaries each describing one picture: the file name, the (main) hashtag, and of course the image data itself (represented using a TensorFlow \"EagerTensor\" type). "
   ]
  },
  {
   "cell_type": "code",
   "execution_count": 9,
   "metadata": {},
   "outputs": [
    {
     "name": "stderr",
     "output_type": "stream",
     "text": [
      "3000it [03:39, 13.67it/s]\n"
     ]
    }
   ],
   "source": [
    "pics = []\n",
    "for i, row in tqdm(hashtag_metadata.iterrows()):\n",
    "    name = row['image_local_name']\n",
    "    hashtag = row['search_hashtag']\n",
    "    img_path = f'data/{hashtag}/{name}'\n",
    "    try:\n",
    "        img = prepare_image(img_path, where='local')\n",
    "        deep_features = extract_features_for_one_image(img, neural_network)\n",
    "        pics.append({'pic': img, \n",
    "                     'hashtag': hashtag, \n",
    "                     'name': name,\n",
    "                     'deep_features': deep_features})\n",
    "    except Exception as e:\n",
    "        error_type = type(e).__name__\n",
    "        if error_type == \"NotFoundError\":\n",
    "            # If a file in the list isn't in \n",
    "            # storage, skip it and continue\n",
    "            pass\n",
    "        else:\n",
    "            print(e)"
   ]
  },
  {
   "cell_type": "code",
   "execution_count": 10,
   "metadata": {},
   "outputs": [
    {
     "data": {
      "text/html": [
       "<div>\n",
       "<style scoped>\n",
       "    .dataframe tbody tr th:only-of-type {\n",
       "        vertical-align: middle;\n",
       "    }\n",
       "\n",
       "    .dataframe tbody tr th {\n",
       "        vertical-align: top;\n",
       "    }\n",
       "\n",
       "    .dataframe thead th {\n",
       "        text-align: right;\n",
       "    }\n",
       "</style>\n",
       "<table border=\"1\" class=\"dataframe\">\n",
       "  <thead>\n",
       "    <tr style=\"text-align: right;\">\n",
       "      <th></th>\n",
       "      <th>deep_features</th>\n",
       "      <th>hashtag</th>\n",
       "      <th>name</th>\n",
       "      <th>pic</th>\n",
       "    </tr>\n",
       "  </thead>\n",
       "  <tbody>\n",
       "    <tr>\n",
       "      <th>0</th>\n",
       "      <td>[0.0, 0.0, 0.04703789, 0.80316925, 0.0, 0.0, 0...</td>\n",
       "      <td>fitness</td>\n",
       "      <td>ff07fa3f-0482-4757-926e-3e6229f7d0d7.jpg</td>\n",
       "      <td>(((tf.Tensor(0.99215686, shape=(), dtype=float...</td>\n",
       "    </tr>\n",
       "    <tr>\n",
       "      <th>1</th>\n",
       "      <td>[0.28235418, 0.73190904, 0.4228987, 1.8675488,...</td>\n",
       "      <td>fitness</td>\n",
       "      <td>7cff7c70-b983-4c6b-adee-fc5676acddf3.jpg</td>\n",
       "      <td>(((tf.Tensor(0.23921573, shape=(), dtype=float...</td>\n",
       "    </tr>\n",
       "    <tr>\n",
       "      <th>2</th>\n",
       "      <td>[0.0, 0.0, 0.01095562, 0.034995824, 0.0, 0.109...</td>\n",
       "      <td>fitness</td>\n",
       "      <td>b7de6dac-4294-45d5-aac0-8a749b7e4cc5.jpg</td>\n",
       "      <td>(((tf.Tensor(-0.73921573, shape=(), dtype=floa...</td>\n",
       "    </tr>\n",
       "    <tr>\n",
       "      <th>3</th>\n",
       "      <td>[0.045899887, 0.0, 0.18059976, 0.0, 0.08909201...</td>\n",
       "      <td>fitness</td>\n",
       "      <td>f699faef-b071-46f2-bf5c-fd9f1ff7626a.jpg</td>\n",
       "      <td>(((tf.Tensor(0.6784314, shape=(), dtype=float3...</td>\n",
       "    </tr>\n",
       "    <tr>\n",
       "      <th>4</th>\n",
       "      <td>[3.3825152, 0.109845184, 0.0, 0.8362177, 0.857...</td>\n",
       "      <td>fitness</td>\n",
       "      <td>7f25fd41-5f1b-4181-8128-4f7464f4c2ad.jpg</td>\n",
       "      <td>(((tf.Tensor(0.654902, shape=(), dtype=float32...</td>\n",
       "    </tr>\n",
       "  </tbody>\n",
       "</table>\n",
       "</div>"
      ],
      "text/plain": [
       "                                       deep_features  hashtag  \\\n",
       "0  [0.0, 0.0, 0.04703789, 0.80316925, 0.0, 0.0, 0...  fitness   \n",
       "1  [0.28235418, 0.73190904, 0.4228987, 1.8675488,...  fitness   \n",
       "2  [0.0, 0.0, 0.01095562, 0.034995824, 0.0, 0.109...  fitness   \n",
       "3  [0.045899887, 0.0, 0.18059976, 0.0, 0.08909201...  fitness   \n",
       "4  [3.3825152, 0.109845184, 0.0, 0.8362177, 0.857...  fitness   \n",
       "\n",
       "                                       name  \\\n",
       "0  ff07fa3f-0482-4757-926e-3e6229f7d0d7.jpg   \n",
       "1  7cff7c70-b983-4c6b-adee-fc5676acddf3.jpg   \n",
       "2  b7de6dac-4294-45d5-aac0-8a749b7e4cc5.jpg   \n",
       "3  f699faef-b071-46f2-bf5c-fd9f1ff7626a.jpg   \n",
       "4  7f25fd41-5f1b-4181-8128-4f7464f4c2ad.jpg   \n",
       "\n",
       "                                                 pic  \n",
       "0  (((tf.Tensor(0.99215686, shape=(), dtype=float...  \n",
       "1  (((tf.Tensor(0.23921573, shape=(), dtype=float...  \n",
       "2  (((tf.Tensor(-0.73921573, shape=(), dtype=floa...  \n",
       "3  (((tf.Tensor(0.6784314, shape=(), dtype=float3...  \n",
       "4  (((tf.Tensor(0.654902, shape=(), dtype=float32...  "
      ]
     },
     "execution_count": 10,
     "metadata": {},
     "output_type": "execute_result"
    }
   ],
   "source": [
    "pics = pd.DataFrame(pics)\n",
    "pics.head()"
   ]
  },
  {
   "cell_type": "code",
   "execution_count": 11,
   "metadata": {},
   "outputs": [
    {
     "data": {
      "text/plain": [
       "tensorflow.python.framework.ops.EagerTensor"
      ]
     },
     "execution_count": 11,
     "metadata": {},
     "output_type": "execute_result"
    }
   ],
   "source": [
    "# Check the first element of the train set\n",
    "pic = pics.loc[0] \n",
    "type(pic['pic'])"
   ]
  },
  {
   "cell_type": "code",
   "execution_count": 12,
   "metadata": {},
   "outputs": [
    {
     "name": "stderr",
     "output_type": "stream",
     "text": [
      "WARNING: Logging before flag parsing goes to stderr.\n",
      "W1005 14:08:24.033562 4527359424 image.py:656] Clipping input data to the valid range for imshow with RGB data ([0..1] for floats or [0..255] for integers).\n"
     ]
    },
    {
     "data": {
      "image/png": "[encoded data removed]",
      "text/plain": [
       "<Figure size 432x288 with 1 Axes>"
      ]
     },
     "metadata": {
      "needs_background": "light"
     },
     "output_type": "display_data"
    }
   ],
   "source": [
    "plt.imshow(pic['pic']);"
   ]
  },
  {
   "cell_type": "code",
   "execution_count": 13,
   "metadata": {},
   "outputs": [
    {
     "data": {
      "text/plain": [
       "('fitness', (1280,), TensorShape([160, 160, 3]))"
      ]
     },
     "execution_count": 13,
     "metadata": {},
     "output_type": "execute_result"
    }
   ],
   "source": [
    "pic['hashtag'], pic['deep_features'].shape, pic['pic'].shape"
   ]
  },
  {
   "cell_type": "markdown",
   "metadata": {},
   "source": [
    "# Building our ALS Model\n",
    "\n",
    "### In order to appreciably populate a fresh post with new hashtags, we need more than just the singular hashtag that a categorization approach such as our neural network can provide. ALS provides a solution through collaborative filtering: essentially the idea is that if a set of posts all have the same few hashtags in common and a bunch of other unique hashtags, the hashtags that are unique to those posts can probably be applied to all of them. In practice this works uncannily well and is the basis of many modern recommendation systems--remember seeing \"People who bought this also bought...\"? \n",
    "\n",
    "### In addition to supplementing our cold start solution, ALS can add new hashtags to images that already have them in much the same way that it can sell new products to users that have already bought things. So if any image has no hashtags at all or just doesn't have as many as we want it to have yet, we can add more to it either way. "
   ]
  },
  {
   "cell_type": "code",
   "execution_count": 14,
   "metadata": {},
   "outputs": [],
   "source": [
    "spark = SparkSession.builder.master('local').getOrCreate()"
   ]
  },
  {
   "cell_type": "code",
   "execution_count": 15,
   "metadata": {},
   "outputs": [],
   "source": [
    "als = ALS(userCol='image_id',\n",
    "          itemCol='hashtag_id',\n",
    "          implicitPrefs=True,\n",
    "          alpha=40)\n",
    "\n",
    "als.setSeed(0)\n",
    "\n",
    "hashtag_spark_df = spark.createDataFrame(hashtag_rec_data)\n",
    "als_model = als.fit(hashtag_spark_df)\n",
    "# als_model.write().overwrite().save('als')"
   ]
  },
  {
   "cell_type": "code",
   "execution_count": 16,
   "metadata": {},
   "outputs": [
    {
     "data": {
      "text/plain": [
       "2261"
      ]
     },
     "execution_count": 16,
     "metadata": {},
     "output_type": "execute_result"
    }
   ],
   "source": [
    "recs = als_model.recommendForAllUsers(numItems=10).toPandas()\n",
    "len(recs)"
   ]
  },
  {
   "cell_type": "code",
   "execution_count": 17,
   "metadata": {},
   "outputs": [],
   "source": [
    "hashtag_index = list(all_hashtags)"
   ]
  },
  {
   "cell_type": "code",
   "execution_count": 18,
   "metadata": {},
   "outputs": [],
   "source": [
    "def lookup_hashtag(hashtag_id):\n",
    "    return hashtag_index[hashtag_id]\n",
    "\n",
    "def lookup_hashtag_recs(rec_scores):\n",
    "    return [lookup_hashtag(rec) for (rec, score) in rec_scores]"
   ]
  },
  {
   "cell_type": "code",
   "execution_count": 19,
   "metadata": {},
   "outputs": [],
   "source": [
    "recs['recommended_hashtags'] = recs['recommendations'].apply(lookup_hashtag_recs)"
   ]
  },
  {
   "cell_type": "code",
   "execution_count": 20,
   "metadata": {},
   "outputs": [],
   "source": [
    "recs.index = recs['image_id']"
   ]
  },
  {
   "cell_type": "code",
   "execution_count": 21,
   "metadata": {},
   "outputs": [],
   "source": [
    "recs = recs.join(hashtag_metadata, how='left')[['recommendations',\n",
    "                                                 'recommended_hashtags',\n",
    "                                                 'hashtags',\n",
    "                                                 'image_local_name',\n",
    "                                                 'search_hashtag']]"
   ]
  },
  {
   "cell_type": "code",
   "execution_count": 22,
   "metadata": {},
   "outputs": [
    {
     "data": {
      "text/plain": [
       "'ff07fa3f-0482-4757-926e-3e6229f7d0d7.jpg'"
      ]
     },
     "execution_count": 22,
     "metadata": {},
     "output_type": "execute_result"
    }
   ],
   "source": [
    "recs.loc[0, 'image_local_name']"
   ]
  },
  {
   "cell_type": "code",
   "execution_count": 23,
   "metadata": {},
   "outputs": [],
   "source": [
    "recs.drop('recommendations', axis=1, inplace=True)\n",
    "image_factors = als_model.userFactors.toPandas()\n",
    "image_factors.index = image_factors['id']\n",
    "recs.join(image_factors);"
   ]
  },
  {
   "cell_type": "code",
   "execution_count": 24,
   "metadata": {},
   "outputs": [
    {
     "data": {
      "text/plain": [
       "(15248, dict)"
      ]
     },
     "execution_count": 24,
     "metadata": {},
     "output_type": "execute_result"
    }
   ],
   "source": [
    "len(hashtag_lookup), type(hashtag_lookup)"
   ]
  },
  {
   "cell_type": "code",
   "execution_count": 25,
   "metadata": {},
   "outputs": [
    {
     "data": {
      "text/html": [
       "<div>\n",
       "<style scoped>\n",
       "    .dataframe tbody tr th:only-of-type {\n",
       "        vertical-align: middle;\n",
       "    }\n",
       "\n",
       "    .dataframe tbody tr th {\n",
       "        vertical-align: top;\n",
       "    }\n",
       "\n",
       "    .dataframe thead th {\n",
       "        text-align: right;\n",
       "    }\n",
       "</style>\n",
       "<table border=\"1\" class=\"dataframe\">\n",
       "  <thead>\n",
       "    <tr style=\"text-align: right;\">\n",
       "      <th></th>\n",
       "      <th>0</th>\n",
       "    </tr>\n",
       "  </thead>\n",
       "  <tbody>\n",
       "    <tr>\n",
       "      <th>#A</th>\n",
       "      <td>0</td>\n",
       "    </tr>\n",
       "    <tr>\n",
       "      <th>#ADN</th>\n",
       "      <td>1</td>\n",
       "    </tr>\n",
       "    <tr>\n",
       "      <th>#AFV</th>\n",
       "      <td>2</td>\n",
       "    </tr>\n",
       "    <tr>\n",
       "      <th>#AMG</th>\n",
       "      <td>3</td>\n",
       "    </tr>\n",
       "    <tr>\n",
       "      <th>#ANGELCORONA</th>\n",
       "      <td>4</td>\n",
       "    </tr>\n",
       "  </tbody>\n",
       "</table>\n",
       "</div>"
      ],
      "text/plain": [
       "              0\n",
       "#A            0\n",
       "#ADN          1\n",
       "#AFV          2\n",
       "#AMG          3\n",
       "#ANGELCORONA  4"
      ]
     },
     "execution_count": 25,
     "metadata": {},
     "output_type": "execute_result"
    }
   ],
   "source": [
    "hashtags_df = pd.DataFrame.from_dict(hashtag_lookup, orient='index')\n",
    "hashtags_df.head()"
   ]
  },
  {
   "cell_type": "code",
   "execution_count": 26,
   "metadata": {},
   "outputs": [
    {
     "data": {
      "text/html": [
       "<div>\n",
       "<style scoped>\n",
       "    .dataframe tbody tr th:only-of-type {\n",
       "        vertical-align: middle;\n",
       "    }\n",
       "\n",
       "    .dataframe tbody tr th {\n",
       "        vertical-align: top;\n",
       "    }\n",
       "\n",
       "    .dataframe thead th {\n",
       "        text-align: right;\n",
       "    }\n",
       "</style>\n",
       "<table border=\"1\" class=\"dataframe\">\n",
       "  <thead>\n",
       "    <tr style=\"text-align: right;\">\n",
       "      <th></th>\n",
       "      <th>0</th>\n",
       "    </tr>\n",
       "  </thead>\n",
       "  <tbody>\n",
       "    <tr>\n",
       "      <th>#A</th>\n",
       "      <td>0</td>\n",
       "    </tr>\n",
       "    <tr>\n",
       "      <th>#ADN</th>\n",
       "      <td>1</td>\n",
       "    </tr>\n",
       "    <tr>\n",
       "      <th>#AFV</th>\n",
       "      <td>2</td>\n",
       "    </tr>\n",
       "    <tr>\n",
       "      <th>#AMG</th>\n",
       "      <td>3</td>\n",
       "    </tr>\n",
       "    <tr>\n",
       "      <th>#ANGELCORONA</th>\n",
       "      <td>4</td>\n",
       "    </tr>\n",
       "  </tbody>\n",
       "</table>\n",
       "</div>"
      ],
      "text/plain": [
       "              0\n",
       "#A            0\n",
       "#ADN          1\n",
       "#AFV          2\n",
       "#AMG          3\n",
       "#ANGELCORONA  4"
      ]
     },
     "execution_count": 26,
     "metadata": {},
     "output_type": "execute_result"
    }
   ],
   "source": [
    "hashtags_df = pd.DataFrame.from_dict(hashtag_lookup, orient='index')\n",
    "hashtags_df.head()"
   ]
  },
  {
   "cell_type": "code",
   "execution_count": 27,
   "metadata": {},
   "outputs": [
    {
     "data": {
      "text/html": [
       "<div>\n",
       "<style scoped>\n",
       "    .dataframe tbody tr th:only-of-type {\n",
       "        vertical-align: middle;\n",
       "    }\n",
       "\n",
       "    .dataframe tbody tr th {\n",
       "        vertical-align: top;\n",
       "    }\n",
       "\n",
       "    .dataframe thead th {\n",
       "        text-align: right;\n",
       "    }\n",
       "</style>\n",
       "<table border=\"1\" class=\"dataframe\">\n",
       "  <thead>\n",
       "    <tr style=\"text-align: right;\">\n",
       "      <th></th>\n",
       "      <th>hashtag</th>\n",
       "    </tr>\n",
       "    <tr>\n",
       "      <th>id</th>\n",
       "      <th></th>\n",
       "    </tr>\n",
       "  </thead>\n",
       "  <tbody>\n",
       "    <tr>\n",
       "      <th>0</th>\n",
       "      <td>#A</td>\n",
       "    </tr>\n",
       "    <tr>\n",
       "      <th>1</th>\n",
       "      <td>#ADN</td>\n",
       "    </tr>\n",
       "    <tr>\n",
       "      <th>2</th>\n",
       "      <td>#AFV</td>\n",
       "    </tr>\n",
       "    <tr>\n",
       "      <th>3</th>\n",
       "      <td>#AMG</td>\n",
       "    </tr>\n",
       "    <tr>\n",
       "      <th>4</th>\n",
       "      <td>#ANGELCORONA</td>\n",
       "    </tr>\n",
       "  </tbody>\n",
       "</table>\n",
       "</div>"
      ],
      "text/plain": [
       "         hashtag\n",
       "id              \n",
       "0             #A\n",
       "1           #ADN\n",
       "2           #AFV\n",
       "3           #AMG\n",
       "4   #ANGELCORONA"
      ]
     },
     "execution_count": 27,
     "metadata": {},
     "output_type": "execute_result"
    }
   ],
   "source": [
    "hashtags_df = hashtags_df.reset_index()\n",
    "hashtags_df.columns = ['hashtag', 'id']\n",
    "hashtags_df.index = hashtags_df['id']\n",
    "hashtags_df.drop('id', axis=1, inplace=True)\n",
    "hashtags_df.head()"
   ]
  },
  {
   "cell_type": "code",
   "execution_count": 28,
   "metadata": {},
   "outputs": [],
   "source": [
    "img_features = als_model.userFactors.toPandas()\n",
    "hashtag_features = als_model.itemFactors.toPandas()"
   ]
  },
  {
   "cell_type": "code",
   "execution_count": 29,
   "metadata": {},
   "outputs": [
    {
     "data": {
      "text/html": [
       "<div>\n",
       "<style scoped>\n",
       "    .dataframe tbody tr th:only-of-type {\n",
       "        vertical-align: middle;\n",
       "    }\n",
       "\n",
       "    .dataframe tbody tr th {\n",
       "        vertical-align: top;\n",
       "    }\n",
       "\n",
       "    .dataframe thead th {\n",
       "        text-align: right;\n",
       "    }\n",
       "</style>\n",
       "<table border=\"1\" class=\"dataframe\">\n",
       "  <thead>\n",
       "    <tr style=\"text-align: right;\">\n",
       "      <th></th>\n",
       "      <th>deep_features</th>\n",
       "      <th>hashtag</th>\n",
       "      <th>name</th>\n",
       "      <th>pic</th>\n",
       "    </tr>\n",
       "    <tr>\n",
       "      <th>name</th>\n",
       "      <th></th>\n",
       "      <th></th>\n",
       "      <th></th>\n",
       "      <th></th>\n",
       "    </tr>\n",
       "  </thead>\n",
       "  <tbody>\n",
       "    <tr>\n",
       "      <th>ff07fa3f-0482-4757-926e-3e6229f7d0d7.jpg</th>\n",
       "      <td>[0.0, 0.0, 0.04703789, 0.80316925, 0.0, 0.0, 0...</td>\n",
       "      <td>fitness</td>\n",
       "      <td>ff07fa3f-0482-4757-926e-3e6229f7d0d7.jpg</td>\n",
       "      <td>(((tf.Tensor(0.99215686, shape=(), dtype=float...</td>\n",
       "    </tr>\n",
       "    <tr>\n",
       "      <th>7cff7c70-b983-4c6b-adee-fc5676acddf3.jpg</th>\n",
       "      <td>[0.28235418, 0.73190904, 0.4228987, 1.8675488,...</td>\n",
       "      <td>fitness</td>\n",
       "      <td>7cff7c70-b983-4c6b-adee-fc5676acddf3.jpg</td>\n",
       "      <td>(((tf.Tensor(0.23921573, shape=(), dtype=float...</td>\n",
       "    </tr>\n",
       "    <tr>\n",
       "      <th>b7de6dac-4294-45d5-aac0-8a749b7e4cc5.jpg</th>\n",
       "      <td>[0.0, 0.0, 0.01095562, 0.034995824, 0.0, 0.109...</td>\n",
       "      <td>fitness</td>\n",
       "      <td>b7de6dac-4294-45d5-aac0-8a749b7e4cc5.jpg</td>\n",
       "      <td>(((tf.Tensor(-0.73921573, shape=(), dtype=floa...</td>\n",
       "    </tr>\n",
       "    <tr>\n",
       "      <th>f699faef-b071-46f2-bf5c-fd9f1ff7626a.jpg</th>\n",
       "      <td>[0.045899887, 0.0, 0.18059976, 0.0, 0.08909201...</td>\n",
       "      <td>fitness</td>\n",
       "      <td>f699faef-b071-46f2-bf5c-fd9f1ff7626a.jpg</td>\n",
       "      <td>(((tf.Tensor(0.6784314, shape=(), dtype=float3...</td>\n",
       "    </tr>\n",
       "    <tr>\n",
       "      <th>7f25fd41-5f1b-4181-8128-4f7464f4c2ad.jpg</th>\n",
       "      <td>[3.3825152, 0.109845184, 0.0, 0.8362177, 0.857...</td>\n",
       "      <td>fitness</td>\n",
       "      <td>7f25fd41-5f1b-4181-8128-4f7464f4c2ad.jpg</td>\n",
       "      <td>(((tf.Tensor(0.654902, shape=(), dtype=float32...</td>\n",
       "    </tr>\n",
       "  </tbody>\n",
       "</table>\n",
       "</div>"
      ],
      "text/plain": [
       "                                                                              deep_features  \\\n",
       "name                                                                                          \n",
       "ff07fa3f-0482-4757-926e-3e6229f7d0d7.jpg  [0.0, 0.0, 0.04703789, 0.80316925, 0.0, 0.0, 0...   \n",
       "7cff7c70-b983-4c6b-adee-fc5676acddf3.jpg  [0.28235418, 0.73190904, 0.4228987, 1.8675488,...   \n",
       "b7de6dac-4294-45d5-aac0-8a749b7e4cc5.jpg  [0.0, 0.0, 0.01095562, 0.034995824, 0.0, 0.109...   \n",
       "f699faef-b071-46f2-bf5c-fd9f1ff7626a.jpg  [0.045899887, 0.0, 0.18059976, 0.0, 0.08909201...   \n",
       "7f25fd41-5f1b-4181-8128-4f7464f4c2ad.jpg  [3.3825152, 0.109845184, 0.0, 0.8362177, 0.857...   \n",
       "\n",
       "                                          hashtag  \\\n",
       "name                                                \n",
       "ff07fa3f-0482-4757-926e-3e6229f7d0d7.jpg  fitness   \n",
       "7cff7c70-b983-4c6b-adee-fc5676acddf3.jpg  fitness   \n",
       "b7de6dac-4294-45d5-aac0-8a749b7e4cc5.jpg  fitness   \n",
       "f699faef-b071-46f2-bf5c-fd9f1ff7626a.jpg  fitness   \n",
       "7f25fd41-5f1b-4181-8128-4f7464f4c2ad.jpg  fitness   \n",
       "\n",
       "                                                                              name  \\\n",
       "name                                                                                 \n",
       "ff07fa3f-0482-4757-926e-3e6229f7d0d7.jpg  ff07fa3f-0482-4757-926e-3e6229f7d0d7.jpg   \n",
       "7cff7c70-b983-4c6b-adee-fc5676acddf3.jpg  7cff7c70-b983-4c6b-adee-fc5676acddf3.jpg   \n",
       "b7de6dac-4294-45d5-aac0-8a749b7e4cc5.jpg  b7de6dac-4294-45d5-aac0-8a749b7e4cc5.jpg   \n",
       "f699faef-b071-46f2-bf5c-fd9f1ff7626a.jpg  f699faef-b071-46f2-bf5c-fd9f1ff7626a.jpg   \n",
       "7f25fd41-5f1b-4181-8128-4f7464f4c2ad.jpg  7f25fd41-5f1b-4181-8128-4f7464f4c2ad.jpg   \n",
       "\n",
       "                                                                                        pic  \n",
       "name                                                                                         \n",
       "ff07fa3f-0482-4757-926e-3e6229f7d0d7.jpg  (((tf.Tensor(0.99215686, shape=(), dtype=float...  \n",
       "7cff7c70-b983-4c6b-adee-fc5676acddf3.jpg  (((tf.Tensor(0.23921573, shape=(), dtype=float...  \n",
       "b7de6dac-4294-45d5-aac0-8a749b7e4cc5.jpg  (((tf.Tensor(-0.73921573, shape=(), dtype=floa...  \n",
       "f699faef-b071-46f2-bf5c-fd9f1ff7626a.jpg  (((tf.Tensor(0.6784314, shape=(), dtype=float3...  \n",
       "7f25fd41-5f1b-4181-8128-4f7464f4c2ad.jpg  (((tf.Tensor(0.654902, shape=(), dtype=float32...  "
      ]
     },
     "execution_count": 29,
     "metadata": {},
     "output_type": "execute_result"
    }
   ],
   "source": [
    "pics.index = pics['name']\n",
    "pics.head()"
   ]
  },
  {
   "cell_type": "code",
   "execution_count": 30,
   "metadata": {},
   "outputs": [
    {
     "data": {
      "text/html": [
       "<div>\n",
       "<style scoped>\n",
       "    .dataframe tbody tr th:only-of-type {\n",
       "        vertical-align: middle;\n",
       "    }\n",
       "\n",
       "    .dataframe tbody tr th {\n",
       "        vertical-align: top;\n",
       "    }\n",
       "\n",
       "    .dataframe thead th {\n",
       "        text-align: right;\n",
       "    }\n",
       "</style>\n",
       "<table border=\"1\" class=\"dataframe\">\n",
       "  <thead>\n",
       "    <tr style=\"text-align: right;\">\n",
       "      <th></th>\n",
       "      <th>recommended_hashtags</th>\n",
       "      <th>hashtags</th>\n",
       "      <th>image_local_name</th>\n",
       "      <th>search_hashtag</th>\n",
       "    </tr>\n",
       "    <tr>\n",
       "      <th>image_id</th>\n",
       "      <th></th>\n",
       "      <th></th>\n",
       "      <th></th>\n",
       "      <th></th>\n",
       "    </tr>\n",
       "  </thead>\n",
       "  <tbody>\n",
       "    <tr>\n",
       "      <th>1580</th>\n",
       "      <td>[#luxury, #cars, #car, #race, #love, #lifestyl...</td>\n",
       "      <td>[#checkeredflag, #atv, #flagmanracing, #dirtbi...</td>\n",
       "      <td>88039d35-d189-4db3-926e-a120d88a3efc.jpg</td>\n",
       "      <td>cars</td>\n",
       "    </tr>\n",
       "    <tr>\n",
       "      <th>471</th>\n",
       "      <td>[#beauty, #beautiful, #style, #followme, #smil...</td>\n",
       "      <td>[#followme, #fashiondaily, #summer, #food, #ma...</td>\n",
       "      <td>fdc6c8d4-5a13-4330-9098-07e09e4858d2.jpg</td>\n",
       "      <td>selfie</td>\n",
       "    </tr>\n",
       "    <tr>\n",
       "      <th>1591</th>\n",
       "      <td>[#cars, #car, #trucks, #street, #a, #mustang, ...</td>\n",
       "      <td>[#bidlemanchevrolet, #suvs, #cars, #cardeals, ...</td>\n",
       "      <td>1b7a8fbc-1797-4418-b8b2-c65500e2bc6f.jpg</td>\n",
       "      <td>cars</td>\n",
       "    </tr>\n",
       "    <tr>\n",
       "      <th>463</th>\n",
       "      <td>[#selfie, #fashion, #style, #ootd, #me, #music...</td>\n",
       "      <td>[#followme, #hotguy, #instaboy, #gay, #instaga...</td>\n",
       "      <td>a78d0e30-6afa-436a-a953-633ef3f64325.jpg</td>\n",
       "      <td>selfie</td>\n",
       "    </tr>\n",
       "    <tr>\n",
       "      <th>833</th>\n",
       "      <td>[#wedding, #nature, #art, #photography, #archi...</td>\n",
       "      <td>[#arte, #interiordesign, #archilovers, #argent...</td>\n",
       "      <td>535bc893-ebbe-46aa-9ae9-d2cd5f4dd426.jpg</td>\n",
       "      <td>travel</td>\n",
       "    </tr>\n",
       "  </tbody>\n",
       "</table>\n",
       "</div>"
      ],
      "text/plain": [
       "                                       recommended_hashtags  \\\n",
       "image_id                                                      \n",
       "1580      [#luxury, #cars, #car, #race, #love, #lifestyl...   \n",
       "471       [#beauty, #beautiful, #style, #followme, #smil...   \n",
       "1591      [#cars, #car, #trucks, #street, #a, #mustang, ...   \n",
       "463       [#selfie, #fashion, #style, #ootd, #me, #music...   \n",
       "833       [#wedding, #nature, #art, #photography, #archi...   \n",
       "\n",
       "                                                   hashtags  \\\n",
       "image_id                                                      \n",
       "1580      [#checkeredflag, #atv, #flagmanracing, #dirtbi...   \n",
       "471       [#followme, #fashiondaily, #summer, #food, #ma...   \n",
       "1591      [#bidlemanchevrolet, #suvs, #cars, #cardeals, ...   \n",
       "463       [#followme, #hotguy, #instaboy, #gay, #instaga...   \n",
       "833       [#arte, #interiordesign, #archilovers, #argent...   \n",
       "\n",
       "                                  image_local_name search_hashtag  \n",
       "image_id                                                           \n",
       "1580      88039d35-d189-4db3-926e-a120d88a3efc.jpg           cars  \n",
       "471       fdc6c8d4-5a13-4330-9098-07e09e4858d2.jpg         selfie  \n",
       "1591      1b7a8fbc-1797-4418-b8b2-c65500e2bc6f.jpg           cars  \n",
       "463       a78d0e30-6afa-436a-a953-633ef3f64325.jpg         selfie  \n",
       "833       535bc893-ebbe-46aa-9ae9-d2cd5f4dd426.jpg         travel  "
      ]
     },
     "execution_count": 30,
     "metadata": {},
     "output_type": "execute_result"
    }
   ],
   "source": [
    "recs.head()"
   ]
  },
  {
   "cell_type": "code",
   "execution_count": 31,
   "metadata": {},
   "outputs": [
    {
     "data": {
      "text/html": [
       "<div>\n",
       "<style scoped>\n",
       "    .dataframe tbody tr th:only-of-type {\n",
       "        vertical-align: middle;\n",
       "    }\n",
       "\n",
       "    .dataframe tbody tr th {\n",
       "        vertical-align: top;\n",
       "    }\n",
       "\n",
       "    .dataframe thead th {\n",
       "        text-align: right;\n",
       "    }\n",
       "</style>\n",
       "<table border=\"1\" class=\"dataframe\">\n",
       "  <thead>\n",
       "    <tr style=\"text-align: right;\">\n",
       "      <th></th>\n",
       "      <th>recommended_hashtags</th>\n",
       "      <th>hashtags</th>\n",
       "      <th>image_local_name</th>\n",
       "      <th>search_hashtag</th>\n",
       "      <th>deep_features</th>\n",
       "      <th>hashtag</th>\n",
       "      <th>name</th>\n",
       "      <th>pic</th>\n",
       "    </tr>\n",
       "    <tr>\n",
       "      <th>image_id</th>\n",
       "      <th></th>\n",
       "      <th></th>\n",
       "      <th></th>\n",
       "      <th></th>\n",
       "      <th></th>\n",
       "      <th></th>\n",
       "      <th></th>\n",
       "      <th></th>\n",
       "    </tr>\n",
       "  </thead>\n",
       "  <tbody>\n",
       "    <tr>\n",
       "      <th>1580</th>\n",
       "      <td>[#luxury, #cars, #car, #race, #love, #lifestyl...</td>\n",
       "      <td>[#checkeredflag, #atv, #flagmanracing, #dirtbi...</td>\n",
       "      <td>88039d35-d189-4db3-926e-a120d88a3efc.jpg</td>\n",
       "      <td>cars</td>\n",
       "      <td>[0.05277507, 0.008059845, 0.37157044, 1.259721...</td>\n",
       "      <td>cars</td>\n",
       "      <td>88039d35-d189-4db3-926e-a120d88a3efc.jpg</td>\n",
       "      <td>(((tf.Tensor(0.845098, shape=(), dtype=float32...</td>\n",
       "    </tr>\n",
       "    <tr>\n",
       "      <th>471</th>\n",
       "      <td>[#beauty, #beautiful, #style, #followme, #smil...</td>\n",
       "      <td>[#followme, #fashiondaily, #summer, #food, #ma...</td>\n",
       "      <td>fdc6c8d4-5a13-4330-9098-07e09e4858d2.jpg</td>\n",
       "      <td>selfie</td>\n",
       "      <td>[0.8612797, 0.0, 0.0, 0.0, 0.47858256, 0.28118...</td>\n",
       "      <td>selfie</td>\n",
       "      <td>fdc6c8d4-5a13-4330-9098-07e09e4858d2.jpg</td>\n",
       "      <td>(((tf.Tensor(0.69411767, shape=(), dtype=float...</td>\n",
       "    </tr>\n",
       "    <tr>\n",
       "      <th>1591</th>\n",
       "      <td>[#cars, #car, #trucks, #street, #a, #mustang, ...</td>\n",
       "      <td>[#bidlemanchevrolet, #suvs, #cars, #cardeals, ...</td>\n",
       "      <td>1b7a8fbc-1797-4418-b8b2-c65500e2bc6f.jpg</td>\n",
       "      <td>cars</td>\n",
       "      <td>[0.0, 0.0, 0.0, 2.6671624, 0.11534053, 0.01738...</td>\n",
       "      <td>cars</td>\n",
       "      <td>1b7a8fbc-1797-4418-b8b2-c65500e2bc6f.jpg</td>\n",
       "      <td>(((tf.Tensor(0.92941177, shape=(), dtype=float...</td>\n",
       "    </tr>\n",
       "    <tr>\n",
       "      <th>463</th>\n",
       "      <td>[#selfie, #fashion, #style, #ootd, #me, #music...</td>\n",
       "      <td>[#followme, #hotguy, #instaboy, #gay, #instaga...</td>\n",
       "      <td>a78d0e30-6afa-436a-a953-633ef3f64325.jpg</td>\n",
       "      <td>selfie</td>\n",
       "      <td>[0.11383952, 0.0, 1.6760653, 0.46152505, 0.062...</td>\n",
       "      <td>selfie</td>\n",
       "      <td>a78d0e30-6afa-436a-a953-633ef3f64325.jpg</td>\n",
       "      <td>(((tf.Tensor(-0.7254902, shape=(), dtype=float...</td>\n",
       "    </tr>\n",
       "    <tr>\n",
       "      <th>833</th>\n",
       "      <td>[#wedding, #nature, #art, #photography, #archi...</td>\n",
       "      <td>[#arte, #interiordesign, #archilovers, #argent...</td>\n",
       "      <td>535bc893-ebbe-46aa-9ae9-d2cd5f4dd426.jpg</td>\n",
       "      <td>travel</td>\n",
       "      <td>[0.40182838, 0.0, 0.028864231, 0.0, 0.13101286...</td>\n",
       "      <td>travel</td>\n",
       "      <td>535bc893-ebbe-46aa-9ae9-d2cd5f4dd426.jpg</td>\n",
       "      <td>(((tf.Tensor(0.99215686, shape=(), dtype=float...</td>\n",
       "    </tr>\n",
       "  </tbody>\n",
       "</table>\n",
       "</div>"
      ],
      "text/plain": [
       "                                       recommended_hashtags  \\\n",
       "image_id                                                      \n",
       "1580      [#luxury, #cars, #car, #race, #love, #lifestyl...   \n",
       "471       [#beauty, #beautiful, #style, #followme, #smil...   \n",
       "1591      [#cars, #car, #trucks, #street, #a, #mustang, ...   \n",
       "463       [#selfie, #fashion, #style, #ootd, #me, #music...   \n",
       "833       [#wedding, #nature, #art, #photography, #archi...   \n",
       "\n",
       "                                                   hashtags  \\\n",
       "image_id                                                      \n",
       "1580      [#checkeredflag, #atv, #flagmanracing, #dirtbi...   \n",
       "471       [#followme, #fashiondaily, #summer, #food, #ma...   \n",
       "1591      [#bidlemanchevrolet, #suvs, #cars, #cardeals, ...   \n",
       "463       [#followme, #hotguy, #instaboy, #gay, #instaga...   \n",
       "833       [#arte, #interiordesign, #archilovers, #argent...   \n",
       "\n",
       "                                  image_local_name search_hashtag  \\\n",
       "image_id                                                            \n",
       "1580      88039d35-d189-4db3-926e-a120d88a3efc.jpg           cars   \n",
       "471       fdc6c8d4-5a13-4330-9098-07e09e4858d2.jpg         selfie   \n",
       "1591      1b7a8fbc-1797-4418-b8b2-c65500e2bc6f.jpg           cars   \n",
       "463       a78d0e30-6afa-436a-a953-633ef3f64325.jpg         selfie   \n",
       "833       535bc893-ebbe-46aa-9ae9-d2cd5f4dd426.jpg         travel   \n",
       "\n",
       "                                              deep_features hashtag  \\\n",
       "image_id                                                              \n",
       "1580      [0.05277507, 0.008059845, 0.37157044, 1.259721...    cars   \n",
       "471       [0.8612797, 0.0, 0.0, 0.0, 0.47858256, 0.28118...  selfie   \n",
       "1591      [0.0, 0.0, 0.0, 2.6671624, 0.11534053, 0.01738...    cars   \n",
       "463       [0.11383952, 0.0, 1.6760653, 0.46152505, 0.062...  selfie   \n",
       "833       [0.40182838, 0.0, 0.028864231, 0.0, 0.13101286...  travel   \n",
       "\n",
       "                                              name  \\\n",
       "image_id                                             \n",
       "1580      88039d35-d189-4db3-926e-a120d88a3efc.jpg   \n",
       "471       fdc6c8d4-5a13-4330-9098-07e09e4858d2.jpg   \n",
       "1591      1b7a8fbc-1797-4418-b8b2-c65500e2bc6f.jpg   \n",
       "463       a78d0e30-6afa-436a-a953-633ef3f64325.jpg   \n",
       "833       535bc893-ebbe-46aa-9ae9-d2cd5f4dd426.jpg   \n",
       "\n",
       "                                                        pic  \n",
       "image_id                                                     \n",
       "1580      (((tf.Tensor(0.845098, shape=(), dtype=float32...  \n",
       "471       (((tf.Tensor(0.69411767, shape=(), dtype=float...  \n",
       "1591      (((tf.Tensor(0.92941177, shape=(), dtype=float...  \n",
       "463       (((tf.Tensor(-0.7254902, shape=(), dtype=float...  \n",
       "833       (((tf.Tensor(0.99215686, shape=(), dtype=float...  "
      ]
     },
     "execution_count": 31,
     "metadata": {},
     "output_type": "execute_result"
    }
   ],
   "source": [
    "# Add deep features information to recs dataframe\n",
    "recs_deep = recs.join(pics, on='image_local_name', how='inner')\n",
    "recs_deep.head()"
   ]
  },
  {
   "cell_type": "code",
   "execution_count": 32,
   "metadata": {},
   "outputs": [
    {
     "data": {
      "text/html": [
       "<div>\n",
       "<style scoped>\n",
       "    .dataframe tbody tr th:only-of-type {\n",
       "        vertical-align: middle;\n",
       "    }\n",
       "\n",
       "    .dataframe tbody tr th {\n",
       "        vertical-align: top;\n",
       "    }\n",
       "\n",
       "    .dataframe thead th {\n",
       "        text-align: right;\n",
       "    }\n",
       "</style>\n",
       "<table border=\"1\" class=\"dataframe\">\n",
       "  <thead>\n",
       "    <tr style=\"text-align: right;\">\n",
       "      <th></th>\n",
       "      <th>image_local_name</th>\n",
       "      <th>hashtags</th>\n",
       "      <th>deep_features</th>\n",
       "      <th>id</th>\n",
       "      <th>features</th>\n",
       "    </tr>\n",
       "  </thead>\n",
       "  <tbody>\n",
       "    <tr>\n",
       "      <th>1580</th>\n",
       "      <td>88039d35-d189-4db3-926e-a120d88a3efc.jpg</td>\n",
       "      <td>[#checkeredflag, #atv, #flagmanracing, #dirtbi...</td>\n",
       "      <td>[0.05277507, 0.008059845, 0.37157044, 1.259721...</td>\n",
       "      <td>1580</td>\n",
       "      <td>[-0.7663350105285645, -0.1312631368637085, -0....</td>\n",
       "    </tr>\n",
       "    <tr>\n",
       "      <th>471</th>\n",
       "      <td>fdc6c8d4-5a13-4330-9098-07e09e4858d2.jpg</td>\n",
       "      <td>[#followme, #fashiondaily, #summer, #food, #ma...</td>\n",
       "      <td>[0.8612797, 0.0, 0.0, 0.0, 0.47858256, 0.28118...</td>\n",
       "      <td>471</td>\n",
       "      <td>[0.2623550593852997, -0.2806769907474518, -1.0...</td>\n",
       "    </tr>\n",
       "    <tr>\n",
       "      <th>1591</th>\n",
       "      <td>1b7a8fbc-1797-4418-b8b2-c65500e2bc6f.jpg</td>\n",
       "      <td>[#bidlemanchevrolet, #suvs, #cars, #cardeals, ...</td>\n",
       "      <td>[0.0, 0.0, 0.0, 2.6671624, 0.11534053, 0.01738...</td>\n",
       "      <td>1591</td>\n",
       "      <td>[-0.17759329080581665, -0.05472369119524956, 0...</td>\n",
       "    </tr>\n",
       "    <tr>\n",
       "      <th>463</th>\n",
       "      <td>a78d0e30-6afa-436a-a953-633ef3f64325.jpg</td>\n",
       "      <td>[#followme, #hotguy, #instaboy, #gay, #instaga...</td>\n",
       "      <td>[0.11383952, 0.0, 1.6760653, 0.46152505, 0.062...</td>\n",
       "      <td>463</td>\n",
       "      <td>[0.19329072535037994, -0.48493003845214844, -0...</td>\n",
       "    </tr>\n",
       "    <tr>\n",
       "      <th>833</th>\n",
       "      <td>535bc893-ebbe-46aa-9ae9-d2cd5f4dd426.jpg</td>\n",
       "      <td>[#arte, #interiordesign, #archilovers, #argent...</td>\n",
       "      <td>[0.40182838, 0.0, 0.028864231, 0.0, 0.13101286...</td>\n",
       "      <td>833</td>\n",
       "      <td>[0.034018490463495255, 0.5612558722496033, -0....</td>\n",
       "    </tr>\n",
       "  </tbody>\n",
       "</table>\n",
       "</div>"
      ],
      "text/plain": [
       "                              image_local_name  \\\n",
       "1580  88039d35-d189-4db3-926e-a120d88a3efc.jpg   \n",
       "471   fdc6c8d4-5a13-4330-9098-07e09e4858d2.jpg   \n",
       "1591  1b7a8fbc-1797-4418-b8b2-c65500e2bc6f.jpg   \n",
       "463   a78d0e30-6afa-436a-a953-633ef3f64325.jpg   \n",
       "833   535bc893-ebbe-46aa-9ae9-d2cd5f4dd426.jpg   \n",
       "\n",
       "                                               hashtags  \\\n",
       "1580  [#checkeredflag, #atv, #flagmanracing, #dirtbi...   \n",
       "471   [#followme, #fashiondaily, #summer, #food, #ma...   \n",
       "1591  [#bidlemanchevrolet, #suvs, #cars, #cardeals, ...   \n",
       "463   [#followme, #hotguy, #instaboy, #gay, #instaga...   \n",
       "833   [#arte, #interiordesign, #archilovers, #argent...   \n",
       "\n",
       "                                          deep_features    id  \\\n",
       "1580  [0.05277507, 0.008059845, 0.37157044, 1.259721...  1580   \n",
       "471   [0.8612797, 0.0, 0.0, 0.0, 0.47858256, 0.28118...   471   \n",
       "1591  [0.0, 0.0, 0.0, 2.6671624, 0.11534053, 0.01738...  1591   \n",
       "463   [0.11383952, 0.0, 1.6760653, 0.46152505, 0.062...   463   \n",
       "833   [0.40182838, 0.0, 0.028864231, 0.0, 0.13101286...   833   \n",
       "\n",
       "                                               features  \n",
       "1580  [-0.7663350105285645, -0.1312631368637085, -0....  \n",
       "471   [0.2623550593852997, -0.2806769907474518, -1.0...  \n",
       "1591  [-0.17759329080581665, -0.05472369119524956, 0...  \n",
       "463   [0.19329072535037994, -0.48493003845214844, -0...  \n",
       "833   [0.034018490463495255, 0.5612558722496033, -0....  "
      ]
     },
     "execution_count": 32,
     "metadata": {},
     "output_type": "execute_result"
    }
   ],
   "source": [
    "# Only use certain columns\n",
    "recs_deep_clean = recs_deep[['image_local_name', 'hashtags', 'deep_features']]\n",
    "\n",
    "img_features.index = img_features['id']\n",
    "img_features.drop(['id'], axis=1)\n",
    "\n",
    "# Add image feature into dataframe\n",
    "recommender_df = recs_deep_clean.join(img_features, how='inner')\n",
    "recommender_df.head()"
   ]
  },
  {
   "cell_type": "code",
   "execution_count": 33,
   "metadata": {},
   "outputs": [],
   "source": [
    "# Function that finds k nearest neighbors by cosine similarity\n",
    "def find_neighbor_vectors(image_path, k=5, recommender_df=recommender_df):\n",
    "    \"\"\"Find image features (user vectors) for similar images.\"\"\"\n",
    "    prep_image = prepare_image(image_path, where='local')\n",
    "    pics = extract_features_for_one_image(prep_image, neural_network)\n",
    "    rdf = recommender_df.copy()\n",
    "    rdf['dist'] = rdf['deep_features'].apply(lambda x: cosine(x, pics))\n",
    "    rdf = rdf.sort_values(by='dist')\n",
    "    # return rdf.head(k)['features']\n",
    "    return rdf.head(k)"
   ]
  },
  {
   "cell_type": "code",
   "execution_count": 34,
   "metadata": {},
   "outputs": [
    {
     "data": {
      "text/html": [
       "<div>\n",
       "<style scoped>\n",
       "    .dataframe tbody tr th:only-of-type {\n",
       "        vertical-align: middle;\n",
       "    }\n",
       "\n",
       "    .dataframe tbody tr th {\n",
       "        vertical-align: top;\n",
       "    }\n",
       "\n",
       "    .dataframe thead th {\n",
       "        text-align: right;\n",
       "    }\n",
       "</style>\n",
       "<table border=\"1\" class=\"dataframe\">\n",
       "  <thead>\n",
       "    <tr style=\"text-align: right;\">\n",
       "      <th></th>\n",
       "      <th>image_local_name</th>\n",
       "      <th>hashtags</th>\n",
       "      <th>deep_features</th>\n",
       "      <th>id</th>\n",
       "      <th>features</th>\n",
       "      <th>dist</th>\n",
       "    </tr>\n",
       "  </thead>\n",
       "  <tbody>\n",
       "    <tr>\n",
       "      <th>279</th>\n",
       "      <td>4098cbe2-7a78-42e2-b91a-56e136309235.jpg</td>\n",
       "      <td>[#ootd, #cute, #cuteoutfits, #fashionblogger, ...</td>\n",
       "      <td>[0.59663874, 2.8411949, 0.0, 1.0908401, 3.6305...</td>\n",
       "      <td>279</td>\n",
       "      <td>[-0.4379356801509857, -0.2562393248081207, -0....</td>\n",
       "      <td>0.394075</td>\n",
       "    </tr>\n",
       "    <tr>\n",
       "      <th>2968</th>\n",
       "      <td>c001507f-02e6-4fb4-aa49-27a139018cd4.jpg</td>\n",
       "      <td>[#wedding, #gythio, #greece, #MarriedInMani, #...</td>\n",
       "      <td>[0.1577508, 1.9940056, 0.6179217, 0.0, 3.20988...</td>\n",
       "      <td>2968</td>\n",
       "      <td>[0.06409487128257751, 0.17010177671909332, 0.0...</td>\n",
       "      <td>0.416801</td>\n",
       "    </tr>\n",
       "    <tr>\n",
       "      <th>2827</th>\n",
       "      <td>7a8c4976-7026-4fc1-acb8-e142e68bc954.jpg</td>\n",
       "      <td>[#wedding, #instacool, #likelike, #like, #like...</td>\n",
       "      <td>[1.4847815, 0.20136786, 0.0, 0.0, 3.6014907, 0...</td>\n",
       "      <td>2827</td>\n",
       "      <td>[-0.08119690418243408, -0.37123215198516846, -...</td>\n",
       "      <td>0.417307</td>\n",
       "    </tr>\n",
       "    <tr>\n",
       "      <th>763</th>\n",
       "      <td>edf9daee-f603-46b5-bf4a-ae9974bb89ad.jpg</td>\n",
       "      <td>[#wanderlust, #toddlers, #woods, #forest, #nc,...</td>\n",
       "      <td>[0.74691504, 1.2644943, 0.0, 0.23730093, 2.684...</td>\n",
       "      <td>763</td>\n",
       "      <td>[-0.04946551471948624, 0.4574536383152008, -0....</td>\n",
       "      <td>0.420474</td>\n",
       "    </tr>\n",
       "    <tr>\n",
       "      <th>223</th>\n",
       "      <td>d5c1c965-47e1-492e-842b-118ea059ba32.jpg</td>\n",
       "      <td>[#instagram, #nehakakkar, #trending, #beauty, ...</td>\n",
       "      <td>[0.0, 0.0, 0.0, 0.95545685, 2.4236383, 0.06909...</td>\n",
       "      <td>223</td>\n",
       "      <td>[-0.2672896981239319, -0.3606613576412201, -0....</td>\n",
       "      <td>0.421033</td>\n",
       "    </tr>\n",
       "  </tbody>\n",
       "</table>\n",
       "</div>"
      ],
      "text/plain": [
       "                              image_local_name  \\\n",
       "279   4098cbe2-7a78-42e2-b91a-56e136309235.jpg   \n",
       "2968  c001507f-02e6-4fb4-aa49-27a139018cd4.jpg   \n",
       "2827  7a8c4976-7026-4fc1-acb8-e142e68bc954.jpg   \n",
       "763   edf9daee-f603-46b5-bf4a-ae9974bb89ad.jpg   \n",
       "223   d5c1c965-47e1-492e-842b-118ea059ba32.jpg   \n",
       "\n",
       "                                               hashtags  \\\n",
       "279   [#ootd, #cute, #cuteoutfits, #fashionblogger, ...   \n",
       "2968  [#wedding, #gythio, #greece, #MarriedInMani, #...   \n",
       "2827  [#wedding, #instacool, #likelike, #like, #like...   \n",
       "763   [#wanderlust, #toddlers, #woods, #forest, #nc,...   \n",
       "223   [#instagram, #nehakakkar, #trending, #beauty, ...   \n",
       "\n",
       "                                          deep_features    id  \\\n",
       "279   [0.59663874, 2.8411949, 0.0, 1.0908401, 3.6305...   279   \n",
       "2968  [0.1577508, 1.9940056, 0.6179217, 0.0, 3.20988...  2968   \n",
       "2827  [1.4847815, 0.20136786, 0.0, 0.0, 3.6014907, 0...  2827   \n",
       "763   [0.74691504, 1.2644943, 0.0, 0.23730093, 2.684...   763   \n",
       "223   [0.0, 0.0, 0.0, 0.95545685, 2.4236383, 0.06909...   223   \n",
       "\n",
       "                                               features      dist  \n",
       "279   [-0.4379356801509857, -0.2562393248081207, -0....  0.394075  \n",
       "2968  [0.06409487128257751, 0.17010177671909332, 0.0...  0.416801  \n",
       "2827  [-0.08119690418243408, -0.37123215198516846, -...  0.417307  \n",
       "763   [-0.04946551471948624, 0.4574536383152008, -0....  0.420474  \n",
       "223   [-0.2672896981239319, -0.3606613576412201, -0....  0.421033  "
      ]
     },
     "execution_count": 34,
     "metadata": {},
     "output_type": "execute_result"
    }
   ],
   "source": [
    "# Test the function on a local image\n",
    "fnv = find_neighbor_vectors('test_wedding.jpg', \n",
    "                k=5, recommender_df=recommender_df)\n",
    "\n",
    "fnv"
   ]
  },
  {
   "cell_type": "markdown",
   "metadata": {},
   "source": [
    "### Next step to do: after identifying 5 nearest neighbors, look at ALS's image features (user features), get the average for 5. Then compute dot product with every hashtag features vector (item features). Take hashtags woth the highest reasult as recommendations."
   ]
  },
  {
   "cell_type": "code",
   "execution_count": 35,
   "metadata": {},
   "outputs": [
    {
     "data": {
      "text/plain": [
       "10"
      ]
     },
     "execution_count": 35,
     "metadata": {},
     "output_type": "execute_result"
    }
   ],
   "source": [
    "# Check length of the user features\n",
    "len(fnv.iloc[3, 4])"
   ]
  },
  {
   "cell_type": "markdown",
   "metadata": {},
   "source": [
    "## Find the average of the 5 user features found based on cosine similarity."
   ]
  },
  {
   "cell_type": "code",
   "execution_count": 36,
   "metadata": {},
   "outputs": [],
   "source": [
    "# Extract features from dataframe\n",
    "features = []\n",
    "for item in fnv.features.values:\n",
    "    features.append(item)"
   ]
  },
  {
   "cell_type": "code",
   "execution_count": 37,
   "metadata": {},
   "outputs": [],
   "source": [
    "avg_features = np.mean(np.asarray(features), axis=0)"
   ]
  },
  {
   "cell_type": "markdown",
   "metadata": {},
   "source": [
    "## Find the dot product with each hashtag features"
   ]
  },
  {
   "cell_type": "code",
   "execution_count": 38,
   "metadata": {},
   "outputs": [
    {
     "data": {
      "text/html": [
       "<div>\n",
       "<style scoped>\n",
       "    .dataframe tbody tr th:only-of-type {\n",
       "        vertical-align: middle;\n",
       "    }\n",
       "\n",
       "    .dataframe tbody tr th {\n",
       "        vertical-align: top;\n",
       "    }\n",
       "\n",
       "    .dataframe thead th {\n",
       "        text-align: right;\n",
       "    }\n",
       "</style>\n",
       "<table border=\"1\" class=\"dataframe\">\n",
       "  <thead>\n",
       "    <tr style=\"text-align: right;\">\n",
       "      <th></th>\n",
       "      <th>id</th>\n",
       "      <th>features</th>\n",
       "    </tr>\n",
       "  </thead>\n",
       "  <tbody>\n",
       "    <tr>\n",
       "      <th>0</th>\n",
       "      <td>0</td>\n",
       "      <td>[0.013514621183276176, 0.0060710902325809, -0....</td>\n",
       "    </tr>\n",
       "    <tr>\n",
       "      <th>1</th>\n",
       "      <td>10</td>\n",
       "      <td>[-0.022118818014860153, 0.022967413067817688, ...</td>\n",
       "    </tr>\n",
       "    <tr>\n",
       "      <th>2</th>\n",
       "      <td>20</td>\n",
       "      <td>[-0.023419266566634178, -0.03771517798304558, ...</td>\n",
       "    </tr>\n",
       "    <tr>\n",
       "      <th>3</th>\n",
       "      <td>30</td>\n",
       "      <td>[-0.06050879508256912, 0.0056569818407297134, ...</td>\n",
       "    </tr>\n",
       "    <tr>\n",
       "      <th>4</th>\n",
       "      <td>40</td>\n",
       "      <td>[0.005097324959933758, -0.0011513691861182451,...</td>\n",
       "    </tr>\n",
       "  </tbody>\n",
       "</table>\n",
       "</div>"
      ],
      "text/plain": [
       "   id                                           features\n",
       "0   0  [0.013514621183276176, 0.0060710902325809, -0....\n",
       "1  10  [-0.022118818014860153, 0.022967413067817688, ...\n",
       "2  20  [-0.023419266566634178, -0.03771517798304558, ...\n",
       "3  30  [-0.06050879508256912, 0.0056569818407297134, ...\n",
       "4  40  [0.005097324959933758, -0.0011513691861182451,..."
      ]
     },
     "execution_count": 38,
     "metadata": {},
     "output_type": "execute_result"
    }
   ],
   "source": [
    "# Take a look at the hashtag features extracted from ALS model\n",
    "hashtag_features.head()"
   ]
  },
  {
   "cell_type": "code",
   "execution_count": 39,
   "metadata": {},
   "outputs": [],
   "source": [
    "# Add new column to the hashtag features which will be the dot product with the average image(user) features\n",
    "hashtag_features['dot_product'] = hashtag_features['features'].apply(lambda x: np.asarray(x).dot(avg_features))\n",
    "\n",
    "# Get 10 ids with the highest dot product\n",
    "df_ten_highest = hashtag_features.sort_values(by='dot_product', ascending=False).head(10)\n",
    "rec_hashtag_ids = df_ten_highest.id.values"
   ]
  },
  {
   "cell_type": "markdown",
   "metadata": {},
   "source": [
    "## Find hashtags that correspond to the ids"
   ]
  },
  {
   "cell_type": "code",
   "execution_count": 40,
   "metadata": {},
   "outputs": [
    {
     "data": {
      "text/html": [
       "<div>\n",
       "<style scoped>\n",
       "    .dataframe tbody tr th:only-of-type {\n",
       "        vertical-align: middle;\n",
       "    }\n",
       "\n",
       "    .dataframe tbody tr th {\n",
       "        vertical-align: top;\n",
       "    }\n",
       "\n",
       "    .dataframe thead th {\n",
       "        text-align: right;\n",
       "    }\n",
       "</style>\n",
       "<table border=\"1\" class=\"dataframe\">\n",
       "  <thead>\n",
       "    <tr style=\"text-align: right;\">\n",
       "      <th></th>\n",
       "      <th>hashtag</th>\n",
       "    </tr>\n",
       "    <tr>\n",
       "      <th>id</th>\n",
       "      <th></th>\n",
       "    </tr>\n",
       "  </thead>\n",
       "  <tbody>\n",
       "    <tr>\n",
       "      <th>0</th>\n",
       "      <td>#A</td>\n",
       "    </tr>\n",
       "    <tr>\n",
       "      <th>1</th>\n",
       "      <td>#ADN</td>\n",
       "    </tr>\n",
       "    <tr>\n",
       "      <th>2</th>\n",
       "      <td>#AFV</td>\n",
       "    </tr>\n",
       "    <tr>\n",
       "      <th>3</th>\n",
       "      <td>#AMG</td>\n",
       "    </tr>\n",
       "    <tr>\n",
       "      <th>4</th>\n",
       "      <td>#ANGELCORONA</td>\n",
       "    </tr>\n",
       "  </tbody>\n",
       "</table>\n",
       "</div>"
      ],
      "text/plain": [
       "         hashtag\n",
       "id              \n",
       "0             #A\n",
       "1           #ADN\n",
       "2           #AFV\n",
       "3           #AMG\n",
       "4   #ANGELCORONA"
      ]
     },
     "execution_count": 40,
     "metadata": {},
     "output_type": "execute_result"
    }
   ],
   "source": [
    "hashtags_df.head()"
   ]
  },
  {
   "cell_type": "code",
   "execution_count": 41,
   "metadata": {},
   "outputs": [
    {
     "name": "stdout",
     "output_type": "stream",
     "text": [
      "id\n",
      "8673    #love\n",
      "Name: hashtag, dtype: object\n",
      "id\n",
      "5204    #fashion\n",
      "Name: hashtag, dtype: object\n",
      "id\n",
      "7441    #instagood\n",
      "Name: hashtag, dtype: object\n",
      "id\n",
      "12910    #summer\n",
      "Name: hashtag, dtype: object\n",
      "id\n",
      "10772    #photography\n",
      "Name: hashtag, dtype: object\n",
      "id\n",
      "13649    #travel\n",
      "Name: hashtag, dtype: object\n",
      "id\n",
      "6655    #happy\n",
      "Name: hashtag, dtype: object\n",
      "id\n",
      "1639    #art\n",
      "Name: hashtag, dtype: object\n",
      "id\n",
      "8442    #like\n",
      "Name: hashtag, dtype: object\n",
      "id\n",
      "10838    #picoftheday\n",
      "Name: hashtag, dtype: object\n"
     ]
    }
   ],
   "source": [
    "for i in rec_hashtag_ids:\n",
    "    print(hashtags_df.loc[hashtags_df.index==i]['hashtag'])"
   ]
  },
  {
   "cell_type": "code",
   "execution_count": null,
   "metadata": {},
   "outputs": [],
   "source": []
  }
 ],
 "metadata": {
  "kernelspec": {
   "display_name": "Python 3",
   "language": "python",
   "name": "python3"
  },
  "language_info": {
   "codemirror_mode": {
    "name": "ipython",
    "version": 3
   },
   "file_extension": ".py",
   "mimetype": "text/x-python",
   "name": "python",
   "nbconvert_exporter": "python",
   "pygments_lexer": "ipython3",
   "version": "3.7.1"
  }
 },
 "nbformat": 4,
 "nbformat_minor": 2
}
